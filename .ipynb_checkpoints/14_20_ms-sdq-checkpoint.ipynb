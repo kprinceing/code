{
 "cells": [
  {
   "cell_type": "code",
   "execution_count": 1,
   "metadata": {},
   "outputs": [],
   "source": [
    "import numpy as np\n",
    "import pandas as pd\n",
    "import json\n",
    "import re\n",
    "import jieba\n",
    "from gensim.models import Word2Vec\n",
    "import gensim\n",
    "import multiprocessing\n",
    "from gensim.corpora.dictionary import Dictionary\n",
    "from sklearn.model_selection import train_test_split\n",
    "from tensorflow.keras.preprocessing.text import one_hot,Tokenizer\n",
    "from tensorflow.keras.preprocessing.sequence import pad_sequences\n",
    "from tensorflow.keras.layers import Bidirectional,LSTM,Dense,Embedding,Dropout,Activation,Softmax,Flatten,Conv1D, SimpleRNN\n",
    "from tensorflow.keras.utils import to_categorical\n",
    "from tensorflow.keras import Sequential\n",
    "\n",
    "import matplotlib.pyplot as plt\n",
    "from wordcloud import WordCloud\n",
    "\n",
    "import econtools.metrics as mt\n"
   ]
  },
  {
   "cell_type": "markdown",
   "metadata": {},
   "source": [
    "## 处理申请数据"
   ]
  },
  {
   "cell_type": "markdown",
   "metadata": {},
   "source": [
    "## 2014"
   ]
  },
  {
   "cell_type": "code",
   "execution_count": 2,
   "metadata": {},
   "outputs": [],
   "source": [
    "# 申请数据\n",
    "apps = pd.read_excel(\"/Users/yansong/Nutstore Files/基金研究/data/2013--2022面青/2014.xlsx\",sheet_name = \"申请\")\n",
    "apps.drop(columns=['Unnamed: 0','Unnamed: 2','Unnamed: 5', 'Unnamed: 6','Unnamed: 7', 'Unnamed: 8','项目名称2','姓名','申请单位'],inplace=True)\n",
    "apps_comments = apps[\"反馈评议意见\"].str.split(\"<\", expand = True)\n",
    "df_app = pd.merge(apps, apps_comments, left_index=True, right_index=True)\n",
    "df_app.drop(columns=0,inplace=True)\n",
    "df_app.rename(columns={1: \"意见1\",2: \"意见2\",3: \"意见3\",4: \"意见4\",5: \"意见5\",6: \"意见6\"},inplace=True)\n",
    "df_app.drop(columns=\"反馈评议意见\",inplace=True)\n",
    "\n",
    "# 立项数据\n",
    "grants = pd.read_excel(\"/Users/yansong/Nutstore Files/基金研究/data/2013--2022面青/2014.xlsx\",sheet_name = \"立项\")\n",
    "grants_comments = grants[\"反馈评议意见\"].str.split(\"<\", expand = True)\n",
    "grants_comments.drop(columns=0,inplace=True)\n",
    "grants_comments.rename(columns={1: \"意见1\",2: \"意见2\",3: \"意见3\",4: \"意见4\",5: \"意见5\"},inplace=True)\n",
    "df_grants = pd.merge(grants, grants_comments, left_index=True, right_index=True)\n",
    "df_grants.drop(columns=\"反馈评议意见\",inplace=True)\n",
    "\n",
    "# 计算是否立项\n",
    "def check_grant(a):\n",
    "    return df_grants[\"项目名称\"].isin([a]).sum()\n",
    "df_app[\"立项\"] = df_app[\"项目名称\"].apply(check_grant)\n",
    "\n",
    "df_app.head()\n",
    "df_app = df_app[df_app['资助类别']=='面上项目']"
   ]
  },
  {
   "cell_type": "code",
   "execution_count": 3,
   "metadata": {},
   "outputs": [
    {
     "data": {
      "text/plain": [
       "资助类别\n",
       "面上项目    0.314815\n",
       "Name: 立项, dtype: float64"
      ]
     },
     "execution_count": 3,
     "metadata": {},
     "output_type": "execute_result"
    }
   ],
   "source": [
    "df_app.groupby(['资助类别'])[\"立项\"].mean()"
   ]
  },
  {
   "cell_type": "code",
   "execution_count": 4,
   "metadata": {},
   "outputs": [],
   "source": [
    "df_14 = df_app"
   ]
  },
  {
   "cell_type": "markdown",
   "metadata": {},
   "source": [
    "### 2015"
   ]
  },
  {
   "cell_type": "code",
   "execution_count": 5,
   "metadata": {},
   "outputs": [
    {
     "data": {
      "text/plain": [
       "资助类别\n",
       "面上项目    0.243176\n",
       "Name: 立项, dtype: float64"
      ]
     },
     "execution_count": 5,
     "metadata": {},
     "output_type": "execute_result"
    }
   ],
   "source": [
    "# 申请数据\n",
    "apps = pd.read_excel(\"/Users/yansong/Nutstore Files/基金研究/data/2013--2022面青/2015.xlsx\",sheet_name = \"申请\")\n",
    "apps.drop(columns=['Unnamed: 0','Unnamed: 2','Unnamed: 5', 'Unnamed: 6','Unnamed: 7', 'Unnamed: 8','项目名称2','姓名','申请单位'],inplace=True)\n",
    "apps_comments = apps[\"反馈评议意见\"].str.split(\"<\", expand = True)\n",
    "df_app = pd.merge(apps, apps_comments, left_index=True, right_index=True)\n",
    "df_app.drop(columns=0,inplace=True)\n",
    "df_app.rename(columns={1: \"意见1\",2: \"意见2\",3: \"意见3\",4: \"意见4\",5: \"意见5\",6: \"意见6\"},inplace=True)\n",
    "df_app.drop(columns=\"反馈评议意见\",inplace=True)\n",
    "\n",
    "# 立项数据\n",
    "grants = pd.read_excel(\"/Users/yansong/Nutstore Files/基金研究/data/2013--2022面青/2015.xlsx\",sheet_name = \"立项\")\n",
    "grants_comments = grants[\"反馈评议意见\"].str.split(\"<\", expand = True)\n",
    "grants_comments.drop(columns=0,inplace=True)\n",
    "grants_comments.rename(columns={1: \"意见1\",2: \"意见2\",3: \"意见3\",4: \"意见4\",5: \"意见5\"},inplace=True)\n",
    "df_grants = pd.merge(grants, grants_comments, left_index=True, right_index=True)\n",
    "df_grants.drop(columns=\"反馈评议意见\",inplace=True)\n",
    "\n",
    "# 计算是否立项\n",
    "def check_grant(a):\n",
    "    return df_grants[\"项目名称\"].isin([a]).sum()\n",
    "df_app[\"立项\"] = df_app[\"项目名称\"].apply(check_grant)\n",
    "\n",
    "df_app.head()\n",
    "df_app = df_app[df_app['资助类别']=='面上项目']\n",
    "df_app.groupby(['资助类别'])[\"立项\"].mean()\n"
   ]
  },
  {
   "cell_type": "code",
   "execution_count": 6,
   "metadata": {},
   "outputs": [],
   "source": [
    "df_15 = df_app"
   ]
  },
  {
   "cell_type": "markdown",
   "metadata": {},
   "source": [
    "### 2016"
   ]
  },
  {
   "cell_type": "code",
   "execution_count": 7,
   "metadata": {},
   "outputs": [
    {
     "data": {
      "text/plain": [
       "资助类别\n",
       "面上项目    0.218182\n",
       "Name: 立项, dtype: float64"
      ]
     },
     "execution_count": 7,
     "metadata": {},
     "output_type": "execute_result"
    }
   ],
   "source": [
    "# 申请数据\n",
    "apps = pd.read_excel(\"/Users/yansong/Nutstore Files/基金研究/data/2013--2022面青/2016.xlsx\",sheet_name = \"申请\")\n",
    "apps.drop(columns=['Unnamed: 0','Unnamed: 2','Unnamed: 5','Unnamed: 7','姓名','申请单位'],inplace=True)\n",
    "apps_comments = apps[\"反馈评议意见\"].str.split(\"<\", expand = True)\n",
    "df_app = pd.merge(apps, apps_comments, left_index=True, right_index=True)\n",
    "df_app.drop(columns=0,inplace=True)\n",
    "df_app.rename(columns={1: \"意见1\",2: \"意见2\",3: \"意见3\",4: \"意见4\",5: \"意见5\",6: \"意见6\"},inplace=True)\n",
    "df_app.drop(columns=\"反馈评议意见\",inplace=True)\n",
    "\n",
    "# 立项数据\n",
    "grants = pd.read_excel(\"/Users/yansong/Nutstore Files/基金研究/data/2013--2022面青/2016.xlsx\",sheet_name = \"立项\")\n",
    "grants_comments = grants[\"反馈评议意见\"].str.split(\"<\", expand = True)\n",
    "grants_comments.drop(columns=0,inplace=True)\n",
    "grants_comments.rename(columns={1: \"意见1\",2: \"意见2\",3: \"意见3\",4: \"意见4\",5: \"意见5\"},inplace=True)\n",
    "df_grants = pd.merge(grants, grants_comments, left_index=True, right_index=True)\n",
    "df_grants.drop(columns=\"反馈评议意见\",inplace=True)\n",
    "\n",
    "# 计算是否立项\n",
    "def check_grant(a):\n",
    "    return df_grants[\"项目名称\"].isin([a]).sum()\n",
    "df_app[\"立项\"] = df_app[\"项目名称\"].apply(check_grant)\n",
    "\n",
    "df_app.head()\n",
    "df_app = df_app[df_app['资助类别']=='面上项目']\n",
    "df_app.groupby(['资助类别'])[\"立项\"].mean()"
   ]
  },
  {
   "cell_type": "code",
   "execution_count": 8,
   "metadata": {},
   "outputs": [],
   "source": [
    "df_16 = df_app"
   ]
  },
  {
   "cell_type": "markdown",
   "metadata": {},
   "source": [
    "### 2017"
   ]
  },
  {
   "cell_type": "code",
   "execution_count": 9,
   "metadata": {},
   "outputs": [
    {
     "data": {
      "text/plain": [
       "资助类别\n",
       "面上项目    0.280702\n",
       "Name: 立项, dtype: float64"
      ]
     },
     "execution_count": 9,
     "metadata": {},
     "output_type": "execute_result"
    }
   ],
   "source": [
    "# 申请数据\n",
    "apps = pd.read_excel(\"/Users/yansong/Nutstore Files/基金研究/data/2013--2022面青/2017.xlsx\",sheet_name = \"申请\")\n",
    "apps.drop(columns=['Unnamed: 0','Unnamed: 2','Unnamed: 5', 'Unnamed: 6','Unnamed: 7', 'Unnamed: 8','项目名称2','姓名','申请单位'],inplace=True)\n",
    "apps_comments = apps[\"反馈评议意见\"].str.split(\"<\", expand = True)\n",
    "df_app = pd.merge(apps, apps_comments, left_index=True, right_index=True)\n",
    "df_app.drop(columns=0,inplace=True)\n",
    "df_app.rename(columns={1: \"意见1\",2: \"意见2\",3: \"意见3\",4: \"意见4\",5: \"意见5\",6: \"意见6\"},inplace=True)\n",
    "df_app.drop(columns=\"反馈评议意见\",inplace=True)\n",
    "\n",
    "# 立项数据\n",
    "grants = pd.read_excel(\"/Users/yansong/Nutstore Files/基金研究/data/2013--2022面青/2017.xlsx\",sheet_name = \"立项\")\n",
    "grants_comments = grants[\"反馈评议意见\"].str.split(\"<\", expand = True)\n",
    "grants_comments.drop(columns=0,inplace=True)\n",
    "grants_comments.rename(columns={1: \"意见1\",2: \"意见2\",3: \"意见3\",4: \"意见4\",5: \"意见5\"},inplace=True)\n",
    "df_grants = pd.merge(grants, grants_comments, left_index=True, right_index=True)\n",
    "df_grants.drop(columns=\"反馈评议意见\",inplace=True)\n",
    "\n",
    "# 计算是否立项\n",
    "def check_grant(a):\n",
    "    return df_grants[\"项目名称\"].isin([a]).sum()\n",
    "df_app[\"立项\"] = df_app[\"项目名称\"].apply(check_grant)\n",
    "\n",
    "df_app.head()\n",
    "df_app = df_app[df_app['资助类别']=='面上项目']\n",
    "df_app.groupby(['资助类别'])[\"立项\"].mean()\n"
   ]
  },
  {
   "cell_type": "code",
   "execution_count": 10,
   "metadata": {},
   "outputs": [],
   "source": [
    "df_17 = df_app"
   ]
  },
  {
   "cell_type": "markdown",
   "metadata": {},
   "source": [
    "### 2018"
   ]
  },
  {
   "cell_type": "code",
   "execution_count": 11,
   "metadata": {},
   "outputs": [],
   "source": [
    "# 申请数据\n",
    "apps = pd.read_excel(\"/Users/yansong/Nutstore Files/基金研究/data/2013--2022面青/2018.xlsx\",sheet_name = \"申请\")\n",
    "apps.drop(columns=['Unnamed: 0','Unnamed: 2','Unnamed: 5', 'Unnamed: 6','Unnamed: 7', 'Unnamed: 8','项目名称2','姓名','申请单位'],inplace=True)\n",
    "apps_comments = apps[\"反馈评议意见\"].str.split(\"<\", expand = True)\n",
    "df_app = pd.merge(apps, apps_comments, left_index=True, right_index=True)\n",
    "df_app.drop(columns=0,inplace=True)\n",
    "df_app.rename(columns={1: \"意见1\",2: \"意见2\",3: \"意见3\",4: \"意见4\",5: \"意见5\",6: \"意见6\"},inplace=True)\n",
    "df_app.drop(columns=\"反馈评议意见\",inplace=True)\n",
    "\n",
    "# 立项数据\n",
    "grants = pd.read_excel(\"/Users/yansong/Nutstore Files/基金研究/data/2013--2022面青/2018.xlsx\",sheet_name = \"立项\")\n",
    "grants_comments = grants[\"反馈评议意见\"].str.split(\"<\", expand = True)\n",
    "grants_comments.drop(columns=0,inplace=True)\n",
    "grants_comments.rename(columns={1: \"意见1\",2: \"意见2\",3: \"意见3\",4: \"意见4\",5: \"意见5\"},inplace=True)\n",
    "df_grants = pd.merge(grants, grants_comments, left_index=True, right_index=True)\n",
    "df_grants.drop(columns=\"反馈评议意见\",inplace=True)\n",
    "\n",
    "# 计算是否立项\n",
    "def check_grant(a):\n",
    "    return df_grants[\"项目名称\"].isin([a]).sum()\n",
    "df_app[\"立项\"] = df_app[\"项目名称\"].apply(check_grant)\n",
    "\n",
    "df_app.head()\n",
    "df_app = df_app[df_app['资助类别']=='面上项目']"
   ]
  },
  {
   "cell_type": "code",
   "execution_count": 12,
   "metadata": {},
   "outputs": [],
   "source": [
    "df_18 = df_app"
   ]
  },
  {
   "cell_type": "markdown",
   "metadata": {},
   "source": [
    "### 2019"
   ]
  },
  {
   "cell_type": "code",
   "execution_count": 13,
   "metadata": {},
   "outputs": [
    {
     "data": {
      "text/plain": [
       "资助类别\n",
       "面上项目    0.272727\n",
       "Name: 立项, dtype: float64"
      ]
     },
     "execution_count": 13,
     "metadata": {},
     "output_type": "execute_result"
    }
   ],
   "source": [
    "# 申请数据\n",
    "apps = pd.read_excel(\"/Users/yansong/Nutstore Files/基金研究/data/2013--2022面青/2019.xlsx\",sheet_name = \"申请\")\n",
    "apps.drop(columns=['Unnamed: 0','Unnamed: 2','Unnamed: 5', 'Unnamed: 6','Unnamed: 7', 'Unnamed: 8','项目名称2','姓名','申请单位'],inplace=True)\n",
    "apps_comments = apps[\"反馈评议意见\"].str.split(\"<\", expand = True)\n",
    "df_app = pd.merge(apps, apps_comments, left_index=True, right_index=True)\n",
    "df_app.drop(columns=0,inplace=True)\n",
    "df_app.rename(columns={1: \"意见1\",2: \"意见2\",3: \"意见3\",4: \"意见4\",5: \"意见5\",6: \"意见6\"},inplace=True)\n",
    "df_app.drop(columns=\"反馈评议意见\",inplace=True)\n",
    "\n",
    "# 立项数据\n",
    "grants = pd.read_excel(\"/Users/yansong/Nutstore Files/基金研究/data/2013--2022面青/2019.xlsx\",sheet_name = \"立项\")\n",
    "grants_comments = grants[\"反馈评议意见\"].str.split(\"<\", expand = True)\n",
    "grants_comments.drop(columns=0,inplace=True)\n",
    "grants_comments.rename(columns={1: \"意见1\",2: \"意见2\",3: \"意见3\",4: \"意见4\",5: \"意见5\"},inplace=True)\n",
    "df_grants = pd.merge(grants, grants_comments, left_index=True, right_index=True)\n",
    "df_grants.drop(columns=\"反馈评议意见\",inplace=True)\n",
    "\n",
    "# 计算是否立项\n",
    "def check_grant(a):\n",
    "    return df_grants[\"项目名称\"].isin([a]).sum()\n",
    "df_app[\"立项\"] = df_app[\"项目名称\"].apply(check_grant)\n",
    "\n",
    "df_app.head()\n",
    "df_app = df_app[df_app['资助类别']=='面上项目']\n",
    "df_app.groupby(['资助类别'])[\"立项\"].mean()\n"
   ]
  },
  {
   "cell_type": "code",
   "execution_count": 14,
   "metadata": {},
   "outputs": [],
   "source": [
    "df_19 = df_app"
   ]
  },
  {
   "cell_type": "markdown",
   "metadata": {},
   "source": [
    "### 2020"
   ]
  },
  {
   "cell_type": "code",
   "execution_count": 15,
   "metadata": {},
   "outputs": [
    {
     "data": {
      "text/plain": [
       "资助类别\n",
       "面上项目    0.229133\n",
       "Name: 立项, dtype: float64"
      ]
     },
     "execution_count": 15,
     "metadata": {},
     "output_type": "execute_result"
    }
   ],
   "source": [
    "# 申请数据\n",
    "apps = pd.read_excel(\"/Users/yansong/Nutstore Files/基金研究/data/2013--2022面青/2020.xlsx\",sheet_name = \"申请\")\n",
    "apps.drop(columns=['Unnamed: 0','Unnamed: 2','Unnamed: 5', 'Unnamed: 6','Unnamed: 7', 'Unnamed: 8','项目名称2','姓名','申请单位'],inplace=True)\n",
    "apps_comments = apps[\"反馈评议意见\"].str.split(\"<\", expand = True)\n",
    "df_app = pd.merge(apps, apps_comments, left_index=True, right_index=True)\n",
    "df_app.drop(columns=0,inplace=True)\n",
    "df_app.rename(columns={1: \"意见1\",2: \"意见2\",3: \"意见3\",4: \"意见4\",5: \"意见5\",6: \"意见6\"},inplace=True)\n",
    "df_app.drop(columns=\"反馈评议意见\",inplace=True)\n",
    "\n",
    "# 立项数据\n",
    "grants = pd.read_excel(\"/Users/yansong/Nutstore Files/基金研究/data/2013--2022面青/2020.xlsx\",sheet_name = \"立项\")\n",
    "grants_comments = grants[\"反馈评议意见\"].str.split(\"<\", expand = True)\n",
    "grants_comments.drop(columns=0,inplace=True)\n",
    "grants_comments.rename(columns={1: \"意见1\",2: \"意见2\",3: \"意见3\",4: \"意见4\",5: \"意见5\"},inplace=True)\n",
    "df_grants = pd.merge(grants, grants_comments, left_index=True, right_index=True)\n",
    "df_grants.drop(columns=\"反馈评议意见\",inplace=True)\n",
    "\n",
    "# 计算是否立项\n",
    "def check_grant(a):\n",
    "    return df_grants[\"项目名称\"].isin([a]).sum()\n",
    "df_app[\"立项\"] = df_app[\"项目名称\"].apply(check_grant)\n",
    "\n",
    "df_app.head()\n",
    "df_app = df_app[df_app['资助类别']=='面上项目']\n",
    "df_app.groupby(['资助类别'])[\"立项\"].mean()\n"
   ]
  },
  {
   "cell_type": "code",
   "execution_count": 16,
   "metadata": {},
   "outputs": [],
   "source": [
    "df_20 = df_app"
   ]
  },
  {
   "cell_type": "code",
   "execution_count": 17,
   "metadata": {},
   "outputs": [
    {
     "name": "stderr",
     "output_type": "stream",
     "text": [
      "/opt/anaconda3/lib/python3.7/site-packages/ipykernel_launcher.py:2: SettingWithCopyWarning: \n",
      "A value is trying to be set on a copy of a slice from a DataFrame.\n",
      "Try using .loc[row_indexer,col_indexer] = value instead\n",
      "\n",
      "See the caveats in the documentation: https://pandas.pydata.org/pandas-docs/stable/user_guide/indexing.html#returning-a-view-versus-a-copy\n",
      "  \n",
      "/opt/anaconda3/lib/python3.7/site-packages/ipykernel_launcher.py:5: SettingWithCopyWarning: \n",
      "A value is trying to be set on a copy of a slice from a DataFrame.\n",
      "Try using .loc[row_indexer,col_indexer] = value instead\n",
      "\n",
      "See the caveats in the documentation: https://pandas.pydata.org/pandas-docs/stable/user_guide/indexing.html#returning-a-view-versus-a-copy\n",
      "  \"\"\"\n",
      "/opt/anaconda3/lib/python3.7/site-packages/ipykernel_launcher.py:8: SettingWithCopyWarning: \n",
      "A value is trying to be set on a copy of a slice from a DataFrame.\n",
      "Try using .loc[row_indexer,col_indexer] = value instead\n",
      "\n",
      "See the caveats in the documentation: https://pandas.pydata.org/pandas-docs/stable/user_guide/indexing.html#returning-a-view-versus-a-copy\n",
      "  \n",
      "/opt/anaconda3/lib/python3.7/site-packages/ipykernel_launcher.py:11: SettingWithCopyWarning: \n",
      "A value is trying to be set on a copy of a slice from a DataFrame.\n",
      "Try using .loc[row_indexer,col_indexer] = value instead\n",
      "\n",
      "See the caveats in the documentation: https://pandas.pydata.org/pandas-docs/stable/user_guide/indexing.html#returning-a-view-versus-a-copy\n",
      "  # This is added back by InteractiveShellApp.init_path()\n",
      "/opt/anaconda3/lib/python3.7/site-packages/ipykernel_launcher.py:14: SettingWithCopyWarning: \n",
      "A value is trying to be set on a copy of a slice from a DataFrame.\n",
      "Try using .loc[row_indexer,col_indexer] = value instead\n",
      "\n",
      "See the caveats in the documentation: https://pandas.pydata.org/pandas-docs/stable/user_guide/indexing.html#returning-a-view-versus-a-copy\n",
      "  \n",
      "/opt/anaconda3/lib/python3.7/site-packages/ipykernel_launcher.py:17: SettingWithCopyWarning: \n",
      "A value is trying to be set on a copy of a slice from a DataFrame.\n",
      "Try using .loc[row_indexer,col_indexer] = value instead\n",
      "\n",
      "See the caveats in the documentation: https://pandas.pydata.org/pandas-docs/stable/user_guide/indexing.html#returning-a-view-versus-a-copy\n",
      "/opt/anaconda3/lib/python3.7/site-packages/ipykernel_launcher.py:20: SettingWithCopyWarning: \n",
      "A value is trying to be set on a copy of a slice from a DataFrame.\n",
      "Try using .loc[row_indexer,col_indexer] = value instead\n",
      "\n",
      "See the caveats in the documentation: https://pandas.pydata.org/pandas-docs/stable/user_guide/indexing.html#returning-a-view-versus-a-copy\n"
     ]
    }
   ],
   "source": [
    "df_full_14 = df_14[[\"项目名称\",\"申请人\",\"意见1\",\"意见2\",\"意见3\",\"意见4\",\"意见5\",\"立项\"]]\n",
    "df_full_14['年份'] = 2014\n",
    "\n",
    "df_full_15 = df_15[[\"项目名称\",\"申请人\",\"意见1\",\"意见2\",\"意见3\",\"意见4\",\"意见5\",\"立项\"]]\n",
    "df_full_15['年份'] = 2015\n",
    "\n",
    "df_full_16 = df_16[[\"项目名称\",\"申请人\",\"意见1\",\"意见2\",\"意见3\",\"意见4\",\"意见5\",\"立项\"]]\n",
    "df_full_16['年份'] = 2016\n",
    "\n",
    "df_full_17 = df_17[[\"项目名称\",\"申请人\",\"意见1\",\"意见2\",\"意见3\",\"意见4\",\"意见5\",\"立项\"]]\n",
    "df_full_17['年份'] = 2017\n",
    "\n",
    "df_full_18 = df_18[[\"项目名称\",\"申请人\",\"意见1\",\"意见2\",\"意见3\",\"意见4\",\"意见5\",\"立项\"]]\n",
    "df_full_18['年份'] = 2018\n",
    "\n",
    "df_full_19 = df_19[[\"项目名称\",\"申请人\",\"意见1\",\"意见2\",\"意见3\",\"意见4\",\"意见5\",\"立项\"]]\n",
    "df_full_19['年份'] = 2019\n",
    "\n",
    "df_full_20 = df_20[[\"项目名称\",\"申请人\",\"意见1\",\"意见2\",\"意见3\",\"意见4\",\"意见5\",\"立项\"]]\n",
    "df_full_20['年份'] = 2020\n",
    "\n",
    "df_json_full = pd.concat([df_full_14,df_full_15,df_full_16,df_full_17,df_full_18,df_full_19,df_full_20], ignore_index=True)\n"
   ]
  },
  {
   "cell_type": "code",
   "execution_count": 18,
   "metadata": {},
   "outputs": [
    {
     "data": {
      "text/plain": [
       "2020    611\n",
       "2019    550\n",
       "2018    445\n",
       "2015    403\n",
       "2017    399\n",
       "2016    385\n",
       "2014    324\n",
       "Name: 年份, dtype: int64"
      ]
     },
     "execution_count": 18,
     "metadata": {},
     "output_type": "execute_result"
    }
   ],
   "source": [
    "df_json_full['年份'].value_counts()"
   ]
  },
  {
   "cell_type": "markdown",
   "metadata": {},
   "source": [
    "## 意见处理\n",
    "{\n",
    "\t\"1\": {\n",
    "\t\t\"id\": \"1\",\n",
    "\t\t\"records\": {\n",
    "\t\t\t\"情感\": [\n",
    "\t\t\t\t\"正\"\n",
    "\t\t\t]\n",
    "\t\t},\n",
    "\t\t\"content\": \"这本书不错啊\"\n",
    "\t},\n",
    "\t\"2\": {\n",
    "\t\t\"id\": \"2\",\n",
    "\t\t\"records\": {\n",
    "\t\t\t\"情感\": [\n",
    "\t\t\t\t\"负\"\n",
    "\t\t\t]\n",
    "\t\t},\n",
    "\t\t\"content\": \"这个东西评价不行\"\n",
    "\t}\n",
    "}"
   ]
  },
  {
   "cell_type": "code",
   "execution_count": 19,
   "metadata": {},
   "outputs": [
    {
     "data": {
      "text/html": [
       "<div>\n",
       "<style scoped>\n",
       "    .dataframe tbody tr th:only-of-type {\n",
       "        vertical-align: middle;\n",
       "    }\n",
       "\n",
       "    .dataframe tbody tr th {\n",
       "        vertical-align: top;\n",
       "    }\n",
       "\n",
       "    .dataframe thead th {\n",
       "        text-align: right;\n",
       "    }\n",
       "</style>\n",
       "<table border=\"1\" class=\"dataframe\">\n",
       "  <thead>\n",
       "    <tr style=\"text-align: right;\">\n",
       "      <th></th>\n",
       "      <th>id</th>\n",
       "      <th>records</th>\n",
       "      <th>content</th>\n",
       "    </tr>\n",
       "  </thead>\n",
       "  <tbody>\n",
       "    <tr>\n",
       "      <th>0</th>\n",
       "      <td>0</td>\n",
       "      <td>负</td>\n",
       "      <td>1&gt;申请人近年来在非线性泛函分析及其对偏微分方程的应用中开展了许多工作，多方面获得了进展，如...</td>\n",
       "    </tr>\n",
       "    <tr>\n",
       "      <th>1</th>\n",
       "      <td>1</td>\n",
       "      <td>正</td>\n",
       "      <td>1&gt; Trace公式无论是判断系统的稳定性还是在算子代数的研究中都是个重要问题，该项目主要研...</td>\n",
       "    </tr>\n",
       "    <tr>\n",
       "      <th>2</th>\n",
       "      <td>2</td>\n",
       "      <td>正</td>\n",
       "      <td>1&gt;该项目拟研究全局修正的三维随机时滞NS方程的随机指数吸引子的存在性与上半连续性等问题，这...</td>\n",
       "    </tr>\n",
       "    <tr>\n",
       "      <th>3</th>\n",
       "      <td>3</td>\n",
       "      <td>负</td>\n",
       "      <td>1&gt;申请者拟从核裂变的过程中提出分布参数系统控制问题，并具体开展如下几个问题的研究：1）有效...</td>\n",
       "    </tr>\n",
       "    <tr>\n",
       "      <th>4</th>\n",
       "      <td>4</td>\n",
       "      <td>正</td>\n",
       "      <td>1&gt;该项目拟对奇异J-对称哈密顿系统的亏指数类型、J-自伴扩张、相应算子增生条件与扇形条件以...</td>\n",
       "    </tr>\n",
       "  </tbody>\n",
       "</table>\n",
       "</div>"
      ],
      "text/plain": [
       "   id records                                            content\n",
       "0   0       负  1>申请人近年来在非线性泛函分析及其对偏微分方程的应用中开展了许多工作，多方面获得了进展，如...\n",
       "1   1       正  1> Trace公式无论是判断系统的稳定性还是在算子代数的研究中都是个重要问题，该项目主要研...\n",
       "2   2       正  1>该项目拟研究全局修正的三维随机时滞NS方程的随机指数吸引子的存在性与上半连续性等问题，这...\n",
       "3   3       负  1>申请者拟从核裂变的过程中提出分布参数系统控制问题，并具体开展如下几个问题的研究：1）有效...\n",
       "4   4       正  1>该项目拟对奇异J-对称哈密顿系统的亏指数类型、J-自伴扩张、相应算子增生条件与扇形条件以..."
      ]
     },
     "execution_count": 19,
     "metadata": {},
     "output_type": "execute_result"
    }
   ],
   "source": [
    "#df_json_full = df_app[[\"申请人\",\"意见1\",\"意见2\",\"意见3\",\"意见4\",\"意见5\",\"立项\"]]\n",
    "df_json_full['id'] = df_json_full.index\n",
    "df_json = df_json_full[['id',\"意见1\",\"意见2\",\"意见3\",\"意见4\",\"意见5\",\"立项\"]]\n",
    "\n",
    "df_json_long = pd.wide_to_long(df_json, stubnames='意见', i=['id'], j='评审')\n",
    "df_json_long.reset_index(inplace=True)\n",
    "df_json_long.rename(columns={\"立项\":\"records\",\"意见\":\"content\"},inplace=True)\n",
    "df_json_long.dropna(inplace=True)\n",
    "df_json_long.sort_values(['id'])\n",
    "df_json_long[\"records\"].replace(to_replace=0, value=\"负\",inplace=True)\n",
    "df_json_long[\"records\"].replace(to_replace=1, value=\"正\",inplace=True)\n",
    "df_json_long = df_json_long[[\"id\",\"records\",\"content\"]]\n",
    "\n",
    "sample_size = df_json_long.shape[0]\n",
    "\n",
    "df_json_sample = df_json_long.iloc[0:sample_size,:]\n",
    "result = df_json_sample.to_json(orient=\"index\",force_ascii=False)\n",
    "\n",
    "with open('data.json', 'w') as f:\n",
    "    json.dump(result,f,ensure_ascii=False)\n",
    "    \n",
    "df_json_sample.head()\n"
   ]
  },
  {
   "cell_type": "markdown",
   "metadata": {},
   "source": [
    "## 处理步骤\n",
    "1. 去除重复词语\n",
    "2. 去除stop words\n",
    "3. 分词\n",
    "4. 生成embedding"
   ]
  },
  {
   "cell_type": "markdown",
   "metadata": {},
   "source": [
    "## 重复词语"
   ]
  },
  {
   "cell_type": "code",
   "execution_count": 20,
   "metadata": {},
   "outputs": [],
   "source": [
    "def clean_pat(line):\n",
    "    pat = ['一、该申请项目所关注的科学问题是否源于多学科领域交叉的共性问题，具有明确的学科交叉特征？请详细阐述判断理由并评价预期成果的科学价值。',\n",
    "          '二、请针对学科交叉特点评述申请项目研究方案或技术路线的创新性和可行性。',\n",
    "          '三、请评述申请人的多学科背景、研究专长和创新潜力。',\n",
    "          '四、其他建议',\n",
    "          '1>',\n",
    "          '（1）',\n",
    "          '（2）',\n",
    "          '（3）',\n",
    "          '（4）',\n",
    "          '（5）',\n",
    "           '具体评价意见：',\n",
    "          '一、该申请项目的研究思想或方案是否具有新颖性和独特性？请详细阐述判断理由。',\n",
    "          '二、请评述申请项目所关注问题的科学价值以及对相关前沿领域的潜在贡献。',\n",
    "          '三、请评述申请人的创新潜力与研究方案的可行性',\n",
    "          '一、该申请项目是否面向国家需求并试图解决技术瓶颈背后的基础问题？请结合应用需求详细阐述判断理由。',\n",
    "          '二、请评述申请项目所提出的科学问题与预期成果的科学价值。',\n",
    "          '三、请评述申请人的创新潜力及研究方案的创新性和可行性。',\n",
    "          '。',\n",
    "          '，',\n",
    "          '、',\n",
    "          '的',\n",
    "          '研究',\n",
    "          '三请',\n",
    "          '申请人',\n",
    "          '拟']\n",
    "\n",
    "    line = re.sub(\"\\n\", \"\", line)\n",
    "    for x in pat:\n",
    "        line = re.sub(x, \"\", line)\n",
    "    \n",
    "    # stopwords\n",
    "    stopwords=pd.read_csv('stopwords.txt', header=None)[0].tolist() \n",
    "    for x in stopwords:\n",
    "        line = re.sub(x, \"\", line)\n",
    "    return line"
   ]
  },
  {
   "cell_type": "code",
   "execution_count": 21,
   "metadata": {},
   "outputs": [
    {
     "name": "stderr",
     "output_type": "stream",
     "text": [
      "/opt/anaconda3/lib/python3.7/site-packages/ipykernel_launcher.py:1: SettingWithCopyWarning: \n",
      "A value is trying to be set on a copy of a slice from a DataFrame.\n",
      "Try using .loc[row_indexer,col_indexer] = value instead\n",
      "\n",
      "See the caveats in the documentation: https://pandas.pydata.org/pandas-docs/stable/user_guide/indexing.html#returning-a-view-versus-a-copy\n",
      "  \"\"\"Entry point for launching an IPython kernel.\n"
     ]
    }
   ],
   "source": [
    "df_json_sample[\"content_clean\"] = df_json_sample[\"content\"].apply(clean_pat)"
   ]
  },
  {
   "cell_type": "code",
   "execution_count": 22,
   "metadata": {},
   "outputs": [
    {
     "data": {
      "text/plain": [
       "'近年非线性泛函分析偏微分方程中许工作获进展：非线性算子理 (偏)微分方程浮游植物生长模型计划综合利变分法拓扑方法不动点理1抽象空间中非线性算子干不动点定理；2非线性脉奇异微分方程值；3浮游植物生长模型非局部扩散方程正解解性质；4扩散variable-territory 捕食-捕食模型退化环境非退化环境中正解近年获初步奠定基础申请提计划定行性预期定程度上定目标意资助'"
      ]
     },
     "execution_count": 22,
     "metadata": {},
     "output_type": "execute_result"
    }
   ],
   "source": [
    "df_json_sample[\"content_clean\"][0]"
   ]
  },
  {
   "cell_type": "markdown",
   "metadata": {},
   "source": [
    "## 使用机器学习模型预测评审意见的正负"
   ]
  },
  {
   "cell_type": "code",
   "execution_count": 23,
   "metadata": {},
   "outputs": [
    {
     "name": "stderr",
     "output_type": "stream",
     "text": [
      "Building prefix dict from the default dictionary ...\n",
      "Loading model from cache /var/folders/cr/36rsw_vj0vsd47x1006y27fh0000gn/T/jieba.cache\n",
      "Loading model cost 0.735 seconds.\n",
      "Prefix dict has been built successfully.\n"
     ]
    },
    {
     "name": "stdout",
     "output_type": "stream",
     "text": [
      "近年 非线性 泛函 分析 偏 微分方程 中许 工作 获 进展 ： 非线性 算子 理   ( 偏 ) 微分方程 浮游植物 生长 模型 计划 综合 利 变分法 拓扑 方法 不动点 理 1 抽象 空间 中 非线性 算子 干 不动点 定理 ； 2 非线性 脉 奇异 微分方程 值 ； 3 浮游植物 生长 模型 非 局部 扩散 方程 正 解解 性质 ； 4 扩散 variable - territory   捕食 - 捕食 模型 退化 环境 非 退化 环境 中正 解 近年 获 初步 奠定 基础 申请 提 计划 定行性 预期 定 程度 上定 目标 意 资助\n"
     ]
    }
   ],
   "source": [
    "#我们定义一个文档集合存储于List，每个文档为list的一个元素，每个文档都对应一个标签,存储于labels\n",
    "seg_lists = list()\n",
    "lines = list(df_json_sample['content_clean'])\n",
    "for line in lines:\n",
    "    #print(line)\n",
    "    #seg_list = list(seg_list)\n",
    "    seg_lists.append(jieba.cut(line))\n",
    "    #print(len(seg_list))\n",
    "sentences = []\n",
    "for i in seg_lists:      \n",
    "    sentences.append(' '.join(i))    \n",
    "print(sentences[0])"
   ]
  },
  {
   "cell_type": "code",
   "execution_count": 24,
   "metadata": {},
   "outputs": [
    {
     "name": "stderr",
     "output_type": "stream",
     "text": [
      "/opt/anaconda3/lib/python3.7/site-packages/pandas/core/generic.py:6619: SettingWithCopyWarning: \n",
      "A value is trying to be set on a copy of a slice from a DataFrame\n",
      "\n",
      "See the caveats in the documentation: https://pandas.pydata.org/pandas-docs/stable/user_guide/indexing.html#returning-a-view-versus-a-copy\n",
      "  return self._update_inplace(result)\n"
     ]
    }
   ],
   "source": [
    "labels = df_json_sample[\"records\"]\n",
    "labels.replace(\"负\",0,inplace=True)\n",
    "labels.replace(\"正\",1,inplace=True)\n",
    "labels = list(labels)"
   ]
  },
  {
   "cell_type": "code",
   "execution_count": 25,
   "metadata": {},
   "outputs": [],
   "source": [
    "texts = ''.join(map(str, sentences))\n",
    "# = re.sub(\"\\n\", \"\", line)\n"
   ]
  },
  {
   "cell_type": "code",
   "execution_count": 26,
   "metadata": {},
   "outputs": [
    {
     "data": {
      "text/plain": [
       "(-0.5, 799.5, 399.5, -0.5)"
      ]
     },
     "execution_count": 26,
     "metadata": {},
     "output_type": "execute_result"
    },
    {
     "data": {
      "image/png": "[encoded data removed]",
      "text/plain": [
       "<Figure size 432x288 with 1 Axes>"
      ]
     },
     "metadata": {
      "needs_background": "light"
     },
     "output_type": "display_data"
    }
   ],
   "source": [
    "wordcloud = WordCloud(font_path = '/System/Library/Fonts/STHeiti Light.ttc',\n",
    "            background_color=\"white\",# 设置背景颜色\n",
    "           max_words=80, # 词云显示的最大词数\n",
    "           height=400, # 图片高度\n",
    "           width=800, # 图片宽度\n",
    "           max_font_size=50).generate(texts)\n",
    "plt.imshow(wordcloud, interpolation='bilinear')\n",
    "plt.axis(\"off\")\n",
    "# The pil way (if you don't have matplotlib)\n",
    "# image = wordcloud.to_image()\n",
    "# image.show()"
   ]
  },
  {
   "cell_type": "code",
   "execution_count": 27,
   "metadata": {},
   "outputs": [],
   "source": [
    "vocab_size = 20000 #估计的词汇表大小，设置时要比真实的词汇量大，不然会产生不同单词分配了相同的索引。\n",
    "\n",
    "# #通过索引对上面句子进行编码，one_hot编码映射到[1,vocab_size]，不包括0\n",
    "# encoded_docs = [one_hot(s, vocab_size) for s in sentences]\n",
    "# # 文本编码成数字格式并padding到相同长度，这里长度设置为4，在后面补0，这也是为什么前面one-hot不会映射到0的原因。\n",
    "\n",
    "tokenizer = Tokenizer(num_words=vocab_size)\n",
    "tokenizer.fit_on_texts(sentences)\n",
    "encoded_docs = tokenizer.texts_to_sequences(sentences)\n",
    "max_length = 200\n",
    "padded_docs = pad_sequences(encoded_docs, maxlen=max_length, padding='post')"
   ]
  },
  {
   "cell_type": "code",
   "execution_count": 28,
   "metadata": {},
   "outputs": [],
   "source": [
    "#X_train, X_val, y_train, y_val = train_test_split(padded_docs,labels, test_size=0.2)\n",
    "train_size = 1000\n",
    "X_train  = padded_docs[0:train_size,:]\n",
    "X_val  = padded_docs[train_size:,:]\n",
    "y_train  = labels[0:train_size]\n",
    "y_val    = labels[train_size:]\n",
    "\n",
    "y_train = np.array(y_train)\n",
    "y_val = np.array(y_val)"
   ]
  },
  {
   "cell_type": "code",
   "execution_count": 29,
   "metadata": {},
   "outputs": [
    {
     "name": "stdout",
     "output_type": "stream",
     "text": [
      "Model: \"sequential\"\n",
      "_________________________________________________________________\n",
      "Layer (type)                 Output Shape              Param #   \n",
      "=================================================================\n",
      "embedding (Embedding)        (None, 200, 20)           400000    \n",
      "_________________________________________________________________\n",
      "bidirectional (Bidirectional (None, 30)                4320      \n",
      "_________________________________________________________________\n",
      "flatten (Flatten)            (None, 30)                0         \n",
      "_________________________________________________________________\n",
      "dense (Dense)                (None, 1)                 31        \n",
      "=================================================================\n",
      "Total params: 404,351\n",
      "Trainable params: 404,351\n",
      "Non-trainable params: 0\n",
      "_________________________________________________________________\n",
      "None\n"
     ]
    }
   ],
   "source": [
    "# define the model\n",
    "model = Sequential()\n",
    "model.add(Embedding(vocab_size, 20, input_length=max_length))  # Embedding layer\n",
    "model.add(Bidirectional(LSTM(15)))\n",
    "model.add(Flatten())\n",
    "model.add(Dense(1, activation='sigmoid',kernel_regularizer='l2'))\n",
    "model.compile(loss='binary_crossentropy',\n",
    "                     optimizer='adam', \n",
    "                     metrics=['accuracy'])\n",
    "print(model.summary())"
   ]
  },
  {
   "cell_type": "markdown",
   "metadata": {},
   "source": [
    "### Test"
   ]
  },
  {
   "cell_type": "code",
   "execution_count": 30,
   "metadata": {},
   "outputs": [
    {
     "name": "stdout",
     "output_type": "stream",
     "text": [
      "Epoch 1/10\n",
      "163/163 [==============================] - 21s 108ms/step - loss: 0.6224 - accuracy: 0.7370 - val_loss: 0.5648 - val_accuracy: 0.7420\n",
      "Epoch 2/10\n",
      "163/163 [==============================] - 18s 109ms/step - loss: 0.5100 - accuracy: 0.7431 - val_loss: 0.4969 - val_accuracy: 0.7850\n",
      "Epoch 3/10\n",
      "163/163 [==============================] - 19s 118ms/step - loss: 0.3153 - accuracy: 0.9045 - val_loss: 0.4401 - val_accuracy: 0.8112\n",
      "Epoch 4/10\n",
      "163/163 [==============================] - 19s 116ms/step - loss: 0.2022 - accuracy: 0.9463 - val_loss: 0.4518 - val_accuracy: 0.8238\n",
      "Epoch 5/10\n",
      "163/163 [==============================] - 18s 111ms/step - loss: 0.1454 - accuracy: 0.9662 - val_loss: 0.4886 - val_accuracy: 0.8262\n",
      "Epoch 6/10\n",
      "163/163 [==============================] - 19s 115ms/step - loss: 0.1047 - accuracy: 0.9825 - val_loss: 0.5065 - val_accuracy: 0.8281\n",
      "Epoch 7/10\n",
      "163/163 [==============================] - 18s 111ms/step - loss: 0.0776 - accuracy: 0.9909 - val_loss: 0.5107 - val_accuracy: 0.8308\n",
      "Epoch 8/10\n",
      "163/163 [==============================] - 17s 105ms/step - loss: 0.0708 - accuracy: 0.9918 - val_loss: 0.5200 - val_accuracy: 0.8192\n",
      "Epoch 9/10\n",
      "163/163 [==============================] - 17s 106ms/step - loss: 0.0646 - accuracy: 0.9941 - val_loss: 0.5950 - val_accuracy: 0.8267\n",
      "Epoch 10/10\n",
      "163/163 [==============================] - 18s 111ms/step - loss: 0.0601 - accuracy: 0.9946 - val_loss: 0.5362 - val_accuracy: 0.8148\n"
     ]
    },
    {
     "data": {
      "image/png": "[encoded data removed]",
      "text/plain": [
       "<Figure size 432x288 with 1 Axes>"
      ]
     },
     "metadata": {
      "needs_background": "light"
     },
     "output_type": "display_data"
    }
   ],
   "source": [
    "history = model.fit(padded_docs, np.array(labels),validation_split = 0.6, epochs=10)\n",
    "plt.plot(history.history['accuracy'])\n",
    "plt.plot(history.history['val_accuracy'])\n",
    "plt.title('model accuracy')\n",
    "plt.ylabel('accuracy')\n",
    "plt.xlabel('epoch')\n",
    "plt.legend(['train', 'val'], loc='upper left')\n",
    "plt.show()"
   ]
  },
  {
   "cell_type": "markdown",
   "metadata": {},
   "source": [
    "## 之前的代码"
   ]
  },
  {
   "cell_type": "code",
   "execution_count": 31,
   "metadata": {},
   "outputs": [],
   "source": [
    "#history = model.fit(X_train, y_train, epochs=10)"
   ]
  },
  {
   "cell_type": "code",
   "execution_count": 32,
   "metadata": {},
   "outputs": [],
   "source": [
    "#score = model.evaluate(X_val, y_val, verbose=1)"
   ]
  },
  {
   "cell_type": "code",
   "execution_count": null,
   "metadata": {},
   "outputs": [],
   "source": []
  },
  {
   "cell_type": "code",
   "execution_count": 33,
   "metadata": {},
   "outputs": [
    {
     "data": {
      "text/html": [
       "<div>\n",
       "<style scoped>\n",
       "    .dataframe tbody tr th:only-of-type {\n",
       "        vertical-align: middle;\n",
       "    }\n",
       "\n",
       "    .dataframe tbody tr th {\n",
       "        vertical-align: top;\n",
       "    }\n",
       "\n",
       "    .dataframe thead th {\n",
       "        text-align: right;\n",
       "    }\n",
       "</style>\n",
       "<table border=\"1\" class=\"dataframe\">\n",
       "  <thead>\n",
       "    <tr style=\"text-align: right;\">\n",
       "      <th></th>\n",
       "      <th>Senti</th>\n",
       "    </tr>\n",
       "    <tr>\n",
       "      <th>Y</th>\n",
       "      <th></th>\n",
       "    </tr>\n",
       "  </thead>\n",
       "  <tbody>\n",
       "    <tr>\n",
       "      <th>0</th>\n",
       "      <td>0.020133</td>\n",
       "    </tr>\n",
       "    <tr>\n",
       "      <th>1</th>\n",
       "      <td>0.917591</td>\n",
       "    </tr>\n",
       "  </tbody>\n",
       "</table>\n",
       "</div>"
      ],
      "text/plain": [
       "      Senti\n",
       "Y          \n",
       "0  0.020133\n",
       "1  0.917591"
      ]
     },
     "execution_count": 33,
     "metadata": {},
     "output_type": "execute_result"
    }
   ],
   "source": [
    "senti_train = []\n",
    "for i in X_train:\n",
    "    input = np.expand_dims(i,axis=0)\n",
    "    senti_train.append(model.predict(input))\n",
    "\n",
    "senti_train_num = []\n",
    "for i in range(len(senti_train)):\n",
    "    senti_train_num.append(senti_train[i][0][0])\n",
    "\n",
    "senti_train = pd.DataFrame(list(zip(senti_train_num, y_train)), columns =['Senti', 'Y'])\n",
    "senti_train.groupby('Y').mean()"
   ]
  },
  {
   "cell_type": "code",
   "execution_count": 34,
   "metadata": {},
   "outputs": [
    {
     "data": {
      "text/plain": [
       "<matplotlib.axes._subplots.AxesSubplot at 0x1a7de3d250>"
      ]
     },
     "execution_count": 34,
     "metadata": {},
     "output_type": "execute_result"
    },
    {
     "data": {
      "image/png": "[encoded data removed]",
      "text/plain": [
       "<Figure size 432x288 with 1 Axes>"
      ]
     },
     "metadata": {
      "needs_background": "light"
     },
     "output_type": "display_data"
    }
   ],
   "source": [
    "senti_train.loc[senti_train['Y']==0,'Senti'].plot.density()\n",
    "senti_train.loc[senti_train['Y']==1,'Senti'].plot.density()"
   ]
  },
  {
   "cell_type": "code",
   "execution_count": 35,
   "metadata": {},
   "outputs": [
    {
     "data": {
      "text/html": [
       "<div>\n",
       "<style scoped>\n",
       "    .dataframe tbody tr th:only-of-type {\n",
       "        vertical-align: middle;\n",
       "    }\n",
       "\n",
       "    .dataframe tbody tr th {\n",
       "        vertical-align: top;\n",
       "    }\n",
       "\n",
       "    .dataframe thead th {\n",
       "        text-align: right;\n",
       "    }\n",
       "</style>\n",
       "<table border=\"1\" class=\"dataframe\">\n",
       "  <thead>\n",
       "    <tr style=\"text-align: right;\">\n",
       "      <th></th>\n",
       "      <th>Senti</th>\n",
       "    </tr>\n",
       "    <tr>\n",
       "      <th>Y</th>\n",
       "      <th></th>\n",
       "    </tr>\n",
       "  </thead>\n",
       "  <tbody>\n",
       "    <tr>\n",
       "      <th>0</th>\n",
       "      <td>0.087092</td>\n",
       "    </tr>\n",
       "    <tr>\n",
       "      <th>1</th>\n",
       "      <td>0.693578</td>\n",
       "    </tr>\n",
       "  </tbody>\n",
       "</table>\n",
       "</div>"
      ],
      "text/plain": [
       "      Senti\n",
       "Y          \n",
       "0  0.087092\n",
       "1  0.693578"
      ]
     },
     "execution_count": 35,
     "metadata": {},
     "output_type": "execute_result"
    }
   ],
   "source": [
    "senti_val = []\n",
    "for i in X_val:\n",
    "    input = np.expand_dims(i,axis=0)\n",
    "    senti_val.append(model.predict(input))\n",
    "    \n",
    "senti_val_num = []\n",
    "for i in range(len(senti_val)):\n",
    "    senti_val_num.append(senti_val[i][0][0])\n",
    "\n",
    "senti_val = pd.DataFrame(list(zip(senti_val_num, y_val)), columns =['Senti', 'Y'])\n",
    "senti_val.groupby('Y').mean()"
   ]
  },
  {
   "cell_type": "code",
   "execution_count": 36,
   "metadata": {},
   "outputs": [
    {
     "data": {
      "text/plain": [
       "<matplotlib.axes._subplots.AxesSubplot at 0x1a7e330f10>"
      ]
     },
     "execution_count": 36,
     "metadata": {},
     "output_type": "execute_result"
    },
    {
     "data": {
      "image/png": "[encoded data removed]",
      "text/plain": [
       "<Figure size 432x288 with 1 Axes>"
      ]
     },
     "metadata": {
      "needs_background": "light"
     },
     "output_type": "display_data"
    }
   ],
   "source": [
    "senti_val.loc[senti_val['Y']==0,'Senti'].plot.density()\n",
    "senti_val.loc[senti_val['Y']==1,'Senti'].plot.density()"
   ]
  },
  {
   "cell_type": "markdown",
   "metadata": {},
   "source": [
    "## Merging the sentiment back to original data"
   ]
  },
  {
   "cell_type": "code",
   "execution_count": 37,
   "metadata": {},
   "outputs": [
    {
     "data": {
      "text/plain": [
       "(13015, 2)"
      ]
     },
     "execution_count": 37,
     "metadata": {},
     "output_type": "execute_result"
    }
   ],
   "source": [
    "senti = senti_train.append(senti_val)\n",
    "senti.shape"
   ]
  },
  {
   "cell_type": "code",
   "execution_count": 38,
   "metadata": {},
   "outputs": [],
   "source": [
    "senti = senti.reset_index().drop(['index'],axis=1)\n",
    "df_json_sample = df_json_sample.reset_index().drop(['index'],axis=1)"
   ]
  },
  {
   "cell_type": "code",
   "execution_count": 39,
   "metadata": {},
   "outputs": [],
   "source": [
    "senti_id = df_json_sample.join(senti)[['id','Senti']]"
   ]
  },
  {
   "cell_type": "code",
   "execution_count": 40,
   "metadata": {},
   "outputs": [
    {
     "data": {
      "text/html": [
       "<div>\n",
       "<style scoped>\n",
       "    .dataframe tbody tr th:only-of-type {\n",
       "        vertical-align: middle;\n",
       "    }\n",
       "\n",
       "    .dataframe tbody tr th {\n",
       "        vertical-align: top;\n",
       "    }\n",
       "\n",
       "    .dataframe thead th {\n",
       "        text-align: right;\n",
       "    }\n",
       "</style>\n",
       "<table border=\"1\" class=\"dataframe\">\n",
       "  <thead>\n",
       "    <tr style=\"text-align: right;\">\n",
       "      <th></th>\n",
       "      <th>id</th>\n",
       "      <th>Senti</th>\n",
       "    </tr>\n",
       "  </thead>\n",
       "  <tbody>\n",
       "    <tr>\n",
       "      <th>0</th>\n",
       "      <td>0</td>\n",
       "      <td>0.014404</td>\n",
       "    </tr>\n",
       "    <tr>\n",
       "      <th>1</th>\n",
       "      <td>1</td>\n",
       "      <td>0.958812</td>\n",
       "    </tr>\n",
       "    <tr>\n",
       "      <th>2</th>\n",
       "      <td>2</td>\n",
       "      <td>0.962284</td>\n",
       "    </tr>\n",
       "    <tr>\n",
       "      <th>3</th>\n",
       "      <td>3</td>\n",
       "      <td>0.009294</td>\n",
       "    </tr>\n",
       "    <tr>\n",
       "      <th>4</th>\n",
       "      <td>4</td>\n",
       "      <td>0.969220</td>\n",
       "    </tr>\n",
       "  </tbody>\n",
       "</table>\n",
       "</div>"
      ],
      "text/plain": [
       "   id     Senti\n",
       "0   0  0.014404\n",
       "1   1  0.958812\n",
       "2   2  0.962284\n",
       "3   3  0.009294\n",
       "4   4  0.969220"
      ]
     },
     "execution_count": 40,
     "metadata": {},
     "output_type": "execute_result"
    }
   ],
   "source": [
    "senti_id.head()"
   ]
  },
  {
   "cell_type": "code",
   "execution_count": 41,
   "metadata": {},
   "outputs": [],
   "source": [
    "senti_id_avg = senti_id.groupby('id')['Senti'].agg('mean')"
   ]
  },
  {
   "cell_type": "code",
   "execution_count": 42,
   "metadata": {},
   "outputs": [],
   "source": [
    "df_final = df_json_full.merge(senti_id_avg, how='inner', on='id')"
   ]
  },
  {
   "cell_type": "code",
   "execution_count": 43,
   "metadata": {},
   "outputs": [
    {
     "data": {
      "text/html": [
       "<div>\n",
       "<style scoped>\n",
       "    .dataframe tbody tr th:only-of-type {\n",
       "        vertical-align: middle;\n",
       "    }\n",
       "\n",
       "    .dataframe tbody tr th {\n",
       "        vertical-align: top;\n",
       "    }\n",
       "\n",
       "    .dataframe thead th {\n",
       "        text-align: right;\n",
       "    }\n",
       "</style>\n",
       "<table border=\"1\" class=\"dataframe\">\n",
       "  <thead>\n",
       "    <tr style=\"text-align: right;\">\n",
       "      <th></th>\n",
       "      <th>申请人</th>\n",
       "      <th>意见1</th>\n",
       "      <th>意见2</th>\n",
       "      <th>意见3</th>\n",
       "      <th>意见4</th>\n",
       "      <th>意见5</th>\n",
       "      <th>立项</th>\n",
       "      <th>年份</th>\n",
       "      <th>id</th>\n",
       "      <th>Senti</th>\n",
       "    </tr>\n",
       "  </thead>\n",
       "  <tbody>\n",
       "    <tr>\n",
       "      <th>0</th>\n",
       "      <td>张晓燕</td>\n",
       "      <td>1&gt;申请人近年来在非线性泛函分析及其对偏微分方程的应用中开展了许多工作，多方面获得了进展，如...</td>\n",
       "      <td>2&gt; 该项目拟主要研究非线性泛函分析理论与方法及对微分方程和生物数学模型的应用。主要有: 通...</td>\n",
       "      <td>3&gt; 该项目主要研究非线性泛函分析理论与方法及对微分方程和生物数学模型的应用，具体内容是：1...</td>\n",
       "      <td>4&gt;该项目研究非线性泛函分析及其在微分方程中的应用，主要研究内容为：1.抽象空间中非线性算子...</td>\n",
       "      <td>5&gt;　　　本项目主要研究非线性泛函分析理论与方法及对微分方程和生物数学模型的应用。研究 Ba...</td>\n",
       "      <td>0</td>\n",
       "      <td>2014</td>\n",
       "      <td>0</td>\n",
       "      <td>0.192923</td>\n",
       "    </tr>\n",
       "    <tr>\n",
       "      <th>1</th>\n",
       "      <td>王鹏辉</td>\n",
       "      <td>1&gt; Trace公式无论是判断系统的稳定性还是在算子代数的研究中都是个重要问题，该项目主要研...</td>\n",
       "      <td>2&gt;　　本项目旨在研究算子的迹公式及其应用。试图利用泛函分析的方法研究Hamilton系统L...</td>\n",
       "      <td>3&gt;迹公式有其很长的历史和背景，微分算子（特别是Hamilton系统）的迹公式研究是迹公式中...</td>\n",
       "      <td>4&gt;申请人在本项目中主要计划探究Hamilton系统的Hill-型公式以及trace公式。其...</td>\n",
       "      <td>5&gt;该项目将利用泛函分析方法研究Hamilton系统Lagrange型边值问题的迹(trac...</td>\n",
       "      <td>1</td>\n",
       "      <td>2014</td>\n",
       "      <td>1</td>\n",
       "      <td>0.928457</td>\n",
       "    </tr>\n",
       "    <tr>\n",
       "      <th>2</th>\n",
       "      <td>陈章</td>\n",
       "      <td>1&gt;该项目拟研究全局修正的三维随机时滞NS方程的随机指数吸引子的存在性与上半连续性等问题，这...</td>\n",
       "      <td>2&gt;该项目研究无穷维随机系统的性态。立意新颖，有较重要的科学意义与应用前景。研究内容和总体研...</td>\n",
       "      <td>3&gt;该项目主要研究了：随机时滞Navier-Stokes 方程的各种性质，包括随机指数吸引子...</td>\n",
       "      <td>4&gt;本课题研究具时滞效应和随机扰动的偏微分方程的长时间动力学行为。主要研究全局修正的三维非自...</td>\n",
       "      <td>5&gt;该项目申请书拟研究全局修正的非自治三维随机时滞Navier-Stokes方程的指数吸引子...</td>\n",
       "      <td>1</td>\n",
       "      <td>2014</td>\n",
       "      <td>2</td>\n",
       "      <td>0.907954</td>\n",
       "    </tr>\n",
       "    <tr>\n",
       "      <th>3</th>\n",
       "      <td>刘树堂</td>\n",
       "      <td>1&gt;申请者拟从核裂变的过程中提出分布参数系统控制问题，并具体开展如下几个问题的研究：1）有效...</td>\n",
       "      <td>2&gt;本项目提出研究非线性控制系统的核裂变问题，项目选题是前沿的，研究思路是可行的的，申请人也...</td>\n",
       "      <td>3&gt; 核裂变又称核分裂，是指一个原子核分裂成几个原子核的变化，是核物理研究的重要领域，在国防...</td>\n",
       "      <td>4&gt;该申请项目拟研究核裂变模型的分支和混沌及其控制，具有一定的科学研究价值。申请人的研究工作...</td>\n",
       "      <td>None</td>\n",
       "      <td>0</td>\n",
       "      <td>2014</td>\n",
       "      <td>3</td>\n",
       "      <td>0.012054</td>\n",
       "    </tr>\n",
       "    <tr>\n",
       "      <th>4</th>\n",
       "      <td>孙华清</td>\n",
       "      <td>1&gt;该项目拟对奇异J-对称哈密顿系统的亏指数类型、J-自伴扩张、相应算子增生条件与扇形条件以...</td>\n",
       "      <td>2&gt;本项目将对奇异J-对称哈密顿系统的亏指数类型、J-自伴扩张、相应算子增生条件与扇形条件以...</td>\n",
       "      <td>3&gt;本项目考虑奇异J-对称哈密顿微分算子的有关问题，主要研究下列几个问题。 1一类哈密顿微分...</td>\n",
       "      <td>4&gt;申请人研究Hamiltonian微分算子的有关谱问题。该领域是一经典的数学分支，申请人及...</td>\n",
       "      <td>5&gt; 哈密顿系统的谱问题是当今国际数学领域中广为关注的热门研究课题之一，在数学、物理和量子力...</td>\n",
       "      <td>1</td>\n",
       "      <td>2014</td>\n",
       "      <td>4</td>\n",
       "      <td>0.873139</td>\n",
       "    </tr>\n",
       "    <tr>\n",
       "      <th>...</th>\n",
       "      <td>...</td>\n",
       "      <td>...</td>\n",
       "      <td>...</td>\n",
       "      <td>...</td>\n",
       "      <td>...</td>\n",
       "      <td>...</td>\n",
       "      <td>...</td>\n",
       "      <td>...</td>\n",
       "      <td>...</td>\n",
       "      <td>...</td>\n",
       "    </tr>\n",
       "    <tr>\n",
       "      <th>3075</th>\n",
       "      <td>孙丰荣</td>\n",
       "      <td>1&gt;具体评价意见：\\n一、该申请项目所关注的科学问题是否源于多学科领域交叉的共性问题，具有明...</td>\n",
       "      <td>2&gt;具体评价意见：\\n一、该申请项目所关注的科学问题是否源于多学科领域交叉的共性问题，具有明...</td>\n",
       "      <td>3&gt;具体评价意见：\\n一、该申请项目所关注的科学问题是否源于多学科领域交叉的共性问题，具有明...</td>\n",
       "      <td>4&gt;具体评价意见：\\n一、该申请项目所关注的科学问题是否源于多学科领域交叉的共性问题，具有明...</td>\n",
       "      <td>5&gt;具体评价意见：\\n一、该申请项目所关注的科学问题是否源于多学科领域交叉的共性问题，具有明...</td>\n",
       "      <td>0</td>\n",
       "      <td>2020</td>\n",
       "      <td>3112</td>\n",
       "      <td>0.013050</td>\n",
       "    </tr>\n",
       "    <tr>\n",
       "      <th>3076</th>\n",
       "      <td>何涛</td>\n",
       "      <td>1&gt;具体评价意见：\\n一、该申请项目的研究思想或方案是否具有新颖性和独特性？请详细阐述判断理...</td>\n",
       "      <td>2&gt;具体评价意见：\\n一、该申请项目的研究思想或方案是否具有新颖性和独特性？请详细阐述判断理...</td>\n",
       "      <td>3&gt;具体评价意见：\\n一、该申请项目的研究思想或方案是否具有新颖性和独特性？请详细阐述判断理...</td>\n",
       "      <td>4&gt;具体评价意见：\\n一、该申请项目的研究思想或方案是否具有新颖性和独特性？请详细阐述判断理...</td>\n",
       "      <td>5&gt;具体评价意见：\\n一、该申请项目的研究思想或方案是否具有新颖性和独特性？请详细阐述判断理...</td>\n",
       "      <td>1</td>\n",
       "      <td>2020</td>\n",
       "      <td>3113</td>\n",
       "      <td>0.846060</td>\n",
       "    </tr>\n",
       "    <tr>\n",
       "      <th>3077</th>\n",
       "      <td>王明强</td>\n",
       "      <td>1&gt;具体评价意见：\\n一、该申请项目所关注的科学问题是否源于多学科领域交叉的共性问题，具有明...</td>\n",
       "      <td>2&gt;具体评价意见：\\n一、该申请项目所关注的科学问题是否源于多学科领域交叉的共性问题，具有明...</td>\n",
       "      <td>3&gt;具体评价意见：\\n一、该申请项目所关注的科学问题是否源于多学科领域交叉的共性问题，具有明...</td>\n",
       "      <td>4&gt;具体评价意见：\\n一、该申请项目所关注的科学问题是否源于多学科领域交叉的共性问题，具有明...</td>\n",
       "      <td>5&gt;具体评价意见：\\n一、该申请项目所关注的科学问题是否源于多学科领域交叉的共性问题，具有明...</td>\n",
       "      <td>0</td>\n",
       "      <td>2020</td>\n",
       "      <td>3114</td>\n",
       "      <td>0.192814</td>\n",
       "    </tr>\n",
       "    <tr>\n",
       "      <th>3078</th>\n",
       "      <td>魏普文</td>\n",
       "      <td>1&gt;具体评价意见：\\n一、该申请项目的研究思想或方案是否具有新颖性和独特性？请详细阐述判断理...</td>\n",
       "      <td>2&gt;具体评价意见：\\n一、该申请项目的研究思想或方案是否具有新颖性和独特性？请详细阐述判断理...</td>\n",
       "      <td>3&gt;具体评价意见：\\n一、该申请项目的研究思想或方案是否具有新颖性和独特性？请详细阐述判断理...</td>\n",
       "      <td>4&gt;具体评价意见：\\n一、该申请项目的研究思想或方案是否具有新颖性和独特性？请详细阐述判断理...</td>\n",
       "      <td>None</td>\n",
       "      <td>0</td>\n",
       "      <td>2020</td>\n",
       "      <td>3115</td>\n",
       "      <td>0.056000</td>\n",
       "    </tr>\n",
       "    <tr>\n",
       "      <th>3079</th>\n",
       "      <td>王箐</td>\n",
       "      <td>1&gt;具体评价意见：\\n一、该申请项目是否面向国家需求并试图解决技术瓶颈背后的基础问题？请结合...</td>\n",
       "      <td>2&gt;具体评价意见：\\n一、该申请项目是否面向国家需求并试图解决技术瓶颈背后的基础问题？请结合...</td>\n",
       "      <td>3&gt;具体评价意见：\\n一、该申请项目是否面向国家需求并试图解决技术瓶颈背后的基础问题？请结合...</td>\n",
       "      <td>4&gt;具体评价意见：\\n一、该申请项目是否面向国家需求并试图解决技术瓶颈背后的基础问题？请结合...</td>\n",
       "      <td>5&gt;具体评价意见：\\n一、该申请项目是否面向国家需求并试图解决技术瓶颈背后的基础问题？请结合...</td>\n",
       "      <td>0</td>\n",
       "      <td>2020</td>\n",
       "      <td>3116</td>\n",
       "      <td>0.023149</td>\n",
       "    </tr>\n",
       "  </tbody>\n",
       "</table>\n",
       "<p>3080 rows × 10 columns</p>\n",
       "</div>"
      ],
      "text/plain": [
       "      申请人                                                意见1  \\\n",
       "0     张晓燕  1>申请人近年来在非线性泛函分析及其对偏微分方程的应用中开展了许多工作，多方面获得了进展，如...   \n",
       "1     王鹏辉  1> Trace公式无论是判断系统的稳定性还是在算子代数的研究中都是个重要问题，该项目主要研...   \n",
       "2      陈章  1>该项目拟研究全局修正的三维随机时滞NS方程的随机指数吸引子的存在性与上半连续性等问题，这...   \n",
       "3     刘树堂  1>申请者拟从核裂变的过程中提出分布参数系统控制问题，并具体开展如下几个问题的研究：1）有效...   \n",
       "4     孙华清  1>该项目拟对奇异J-对称哈密顿系统的亏指数类型、J-自伴扩张、相应算子增生条件与扇形条件以...   \n",
       "...   ...                                                ...   \n",
       "3075  孙丰荣  1>具体评价意见：\\n一、该申请项目所关注的科学问题是否源于多学科领域交叉的共性问题，具有明...   \n",
       "3076   何涛  1>具体评价意见：\\n一、该申请项目的研究思想或方案是否具有新颖性和独特性？请详细阐述判断理...   \n",
       "3077  王明强  1>具体评价意见：\\n一、该申请项目所关注的科学问题是否源于多学科领域交叉的共性问题，具有明...   \n",
       "3078  魏普文  1>具体评价意见：\\n一、该申请项目的研究思想或方案是否具有新颖性和独特性？请详细阐述判断理...   \n",
       "3079   王箐  1>具体评价意见：\\n一、该申请项目是否面向国家需求并试图解决技术瓶颈背后的基础问题？请结合...   \n",
       "\n",
       "                                                    意见2  \\\n",
       "0     2> 该项目拟主要研究非线性泛函分析理论与方法及对微分方程和生物数学模型的应用。主要有: 通...   \n",
       "1     2>　　本项目旨在研究算子的迹公式及其应用。试图利用泛函分析的方法研究Hamilton系统L...   \n",
       "2     2>该项目研究无穷维随机系统的性态。立意新颖，有较重要的科学意义与应用前景。研究内容和总体研...   \n",
       "3     2>本项目提出研究非线性控制系统的核裂变问题，项目选题是前沿的，研究思路是可行的的，申请人也...   \n",
       "4     2>本项目将对奇异J-对称哈密顿系统的亏指数类型、J-自伴扩张、相应算子增生条件与扇形条件以...   \n",
       "...                                                 ...   \n",
       "3075  2>具体评价意见：\\n一、该申请项目所关注的科学问题是否源于多学科领域交叉的共性问题，具有明...   \n",
       "3076  2>具体评价意见：\\n一、该申请项目的研究思想或方案是否具有新颖性和独特性？请详细阐述判断理...   \n",
       "3077  2>具体评价意见：\\n一、该申请项目所关注的科学问题是否源于多学科领域交叉的共性问题，具有明...   \n",
       "3078  2>具体评价意见：\\n一、该申请项目的研究思想或方案是否具有新颖性和独特性？请详细阐述判断理...   \n",
       "3079  2>具体评价意见：\\n一、该申请项目是否面向国家需求并试图解决技术瓶颈背后的基础问题？请结合...   \n",
       "\n",
       "                                                    意见3  \\\n",
       "0     3> 该项目主要研究非线性泛函分析理论与方法及对微分方程和生物数学模型的应用，具体内容是：1...   \n",
       "1     3>迹公式有其很长的历史和背景，微分算子（特别是Hamilton系统）的迹公式研究是迹公式中...   \n",
       "2     3>该项目主要研究了：随机时滞Navier-Stokes 方程的各种性质，包括随机指数吸引子...   \n",
       "3     3> 核裂变又称核分裂，是指一个原子核分裂成几个原子核的变化，是核物理研究的重要领域，在国防...   \n",
       "4     3>本项目考虑奇异J-对称哈密顿微分算子的有关问题，主要研究下列几个问题。 1一类哈密顿微分...   \n",
       "...                                                 ...   \n",
       "3075  3>具体评价意见：\\n一、该申请项目所关注的科学问题是否源于多学科领域交叉的共性问题，具有明...   \n",
       "3076  3>具体评价意见：\\n一、该申请项目的研究思想或方案是否具有新颖性和独特性？请详细阐述判断理...   \n",
       "3077  3>具体评价意见：\\n一、该申请项目所关注的科学问题是否源于多学科领域交叉的共性问题，具有明...   \n",
       "3078  3>具体评价意见：\\n一、该申请项目的研究思想或方案是否具有新颖性和独特性？请详细阐述判断理...   \n",
       "3079  3>具体评价意见：\\n一、该申请项目是否面向国家需求并试图解决技术瓶颈背后的基础问题？请结合...   \n",
       "\n",
       "                                                    意见4  \\\n",
       "0     4>该项目研究非线性泛函分析及其在微分方程中的应用，主要研究内容为：1.抽象空间中非线性算子...   \n",
       "1     4>申请人在本项目中主要计划探究Hamilton系统的Hill-型公式以及trace公式。其...   \n",
       "2     4>本课题研究具时滞效应和随机扰动的偏微分方程的长时间动力学行为。主要研究全局修正的三维非自...   \n",
       "3     4>该申请项目拟研究核裂变模型的分支和混沌及其控制，具有一定的科学研究价值。申请人的研究工作...   \n",
       "4     4>申请人研究Hamiltonian微分算子的有关谱问题。该领域是一经典的数学分支，申请人及...   \n",
       "...                                                 ...   \n",
       "3075  4>具体评价意见：\\n一、该申请项目所关注的科学问题是否源于多学科领域交叉的共性问题，具有明...   \n",
       "3076  4>具体评价意见：\\n一、该申请项目的研究思想或方案是否具有新颖性和独特性？请详细阐述判断理...   \n",
       "3077  4>具体评价意见：\\n一、该申请项目所关注的科学问题是否源于多学科领域交叉的共性问题，具有明...   \n",
       "3078  4>具体评价意见：\\n一、该申请项目的研究思想或方案是否具有新颖性和独特性？请详细阐述判断理...   \n",
       "3079  4>具体评价意见：\\n一、该申请项目是否面向国家需求并试图解决技术瓶颈背后的基础问题？请结合...   \n",
       "\n",
       "                                                    意见5  立项    年份    id  \\\n",
       "0     5>　　　本项目主要研究非线性泛函分析理论与方法及对微分方程和生物数学模型的应用。研究 Ba...   0  2014     0   \n",
       "1     5>该项目将利用泛函分析方法研究Hamilton系统Lagrange型边值问题的迹(trac...   1  2014     1   \n",
       "2     5>该项目申请书拟研究全局修正的非自治三维随机时滞Navier-Stokes方程的指数吸引子...   1  2014     2   \n",
       "3                                                  None   0  2014     3   \n",
       "4     5> 哈密顿系统的谱问题是当今国际数学领域中广为关注的热门研究课题之一，在数学、物理和量子力...   1  2014     4   \n",
       "...                                                 ...  ..   ...   ...   \n",
       "3075  5>具体评价意见：\\n一、该申请项目所关注的科学问题是否源于多学科领域交叉的共性问题，具有明...   0  2020  3112   \n",
       "3076  5>具体评价意见：\\n一、该申请项目的研究思想或方案是否具有新颖性和独特性？请详细阐述判断理...   1  2020  3113   \n",
       "3077  5>具体评价意见：\\n一、该申请项目所关注的科学问题是否源于多学科领域交叉的共性问题，具有明...   0  2020  3114   \n",
       "3078                                               None   0  2020  3115   \n",
       "3079  5>具体评价意见：\\n一、该申请项目是否面向国家需求并试图解决技术瓶颈背后的基础问题？请结合...   0  2020  3116   \n",
       "\n",
       "         Senti  \n",
       "0     0.192923  \n",
       "1     0.928457  \n",
       "2     0.907954  \n",
       "3     0.012054  \n",
       "4     0.873139  \n",
       "...        ...  \n",
       "3075  0.013050  \n",
       "3076  0.846060  \n",
       "3077  0.192814  \n",
       "3078  0.056000  \n",
       "3079  0.023149  \n",
       "\n",
       "[3080 rows x 10 columns]"
      ]
     },
     "execution_count": 43,
     "metadata": {},
     "output_type": "execute_result"
    }
   ],
   "source": [
    "df_final.sort_values(['id'])"
   ]
  },
  {
   "cell_type": "code",
   "execution_count": 44,
   "metadata": {},
   "outputs": [
    {
     "data": {
      "text/plain": [
       "立项\n",
       "0    0.078641\n",
       "1    0.717822\n",
       "Name: Senti, dtype: float32"
      ]
     },
     "execution_count": 44,
     "metadata": {},
     "output_type": "execute_result"
    }
   ],
   "source": [
    "df_final.groupby('立项')['Senti'].agg('mean')"
   ]
  },
  {
   "cell_type": "code",
   "execution_count": 45,
   "metadata": {},
   "outputs": [
    {
     "data": {
      "image/png": "[encoded data removed]",
      "text/plain": [
       "<Figure size 432x288 with 1 Axes>"
      ]
     },
     "metadata": {
      "needs_background": "light"
     },
     "output_type": "display_data"
    }
   ],
   "source": [
    "fig, ax = plt.subplots()\n",
    "df_final.loc[df_final['立项']==0,'Senti'].plot.density(label='No grants')\n",
    "df_final.loc[df_final['立项']==1,'Senti'].plot.density(label='Grants')\n",
    "leg = ax.legend();"
   ]
  },
  {
   "cell_type": "code",
   "execution_count": 46,
   "metadata": {},
   "outputs": [],
   "source": [
    "rd_negative = (df_final['立项']==0) & (df_final['Senti']>=0.4) & (df_final['Senti']<=0.6)\n",
    "df_rd_neg = df_final[rd_negative]\n",
    "rd_positive = (df_final['立项']==1) & (df_final['Senti']>=0.4) & (df_final['Senti']<=0.6)\n",
    "df_rd_positive = df_final[rd_positive]"
   ]
  },
  {
   "cell_type": "code",
   "execution_count": 47,
   "metadata": {},
   "outputs": [
    {
     "data": {
      "text/plain": [
       "(54, 10)"
      ]
     },
     "execution_count": 47,
     "metadata": {},
     "output_type": "execute_result"
    }
   ],
   "source": [
    "df_rd_neg.shape"
   ]
  },
  {
   "cell_type": "code",
   "execution_count": 48,
   "metadata": {},
   "outputs": [
    {
     "data": {
      "text/plain": [
       "(139, 10)"
      ]
     },
     "execution_count": 48,
     "metadata": {},
     "output_type": "execute_result"
    }
   ],
   "source": [
    "df_rd_positive.shape"
   ]
  },
  {
   "cell_type": "code",
   "execution_count": 49,
   "metadata": {},
   "outputs": [],
   "source": [
    "df_final_output = df_final[['项目名称','申请人','年份','立项','Senti']]\n",
    "df_final_output.to_csv(\"/Users/yansong/Nutstore Files/基金研究/data/2013--2022面青/ms_senti_name.csv\",\n",
    "                             encoding='utf_8_sig')"
   ]
  },
  {
   "cell_type": "code",
   "execution_count": 50,
   "metadata": {},
   "outputs": [],
   "source": [
    "X1 = np.array(df_final['Senti'])\n",
    "X2 = np.square(X1)\n",
    "X3 = X1<0.5\n",
    "X3 = X3.astype(int)\n",
    "X4 = X1*X2\n",
    "X = pd.DataFrame([X1,X2,X3,X4])\n",
    "X = X.T\n",
    "y = np.array(df_final['立项'])\n",
    "DF = X\n",
    "DF.rename(columns={0: 'Senti', 1:'Senti Squared',2:'Below_cutoff',3:'Senti Cubic'},inplace=True)"
   ]
  },
  {
   "cell_type": "code",
   "execution_count": 51,
   "metadata": {},
   "outputs": [],
   "source": [
    "DF['Grants'] = y"
   ]
  },
  {
   "cell_type": "code",
   "execution_count": 52,
   "metadata": {},
   "outputs": [
    {
     "data": {
      "text/html": [
       "<div>\n",
       "<style scoped>\n",
       "    .dataframe tbody tr th:only-of-type {\n",
       "        vertical-align: middle;\n",
       "    }\n",
       "\n",
       "    .dataframe tbody tr th {\n",
       "        vertical-align: top;\n",
       "    }\n",
       "\n",
       "    .dataframe thead th {\n",
       "        text-align: right;\n",
       "    }\n",
       "</style>\n",
       "<table border=\"1\" class=\"dataframe\">\n",
       "  <thead>\n",
       "    <tr style=\"text-align: right;\">\n",
       "      <th></th>\n",
       "      <th>Senti</th>\n",
       "      <th>Senti Squared</th>\n",
       "      <th>Below_cutoff</th>\n",
       "      <th>Senti Cubic</th>\n",
       "      <th>Grants</th>\n",
       "    </tr>\n",
       "  </thead>\n",
       "  <tbody>\n",
       "    <tr>\n",
       "      <th>0</th>\n",
       "      <td>0.192923</td>\n",
       "      <td>0.037219</td>\n",
       "      <td>1.0</td>\n",
       "      <td>0.007180</td>\n",
       "      <td>0</td>\n",
       "    </tr>\n",
       "    <tr>\n",
       "      <th>1</th>\n",
       "      <td>0.928457</td>\n",
       "      <td>0.862032</td>\n",
       "      <td>0.0</td>\n",
       "      <td>0.800359</td>\n",
       "      <td>1</td>\n",
       "    </tr>\n",
       "    <tr>\n",
       "      <th>2</th>\n",
       "      <td>0.907954</td>\n",
       "      <td>0.824381</td>\n",
       "      <td>0.0</td>\n",
       "      <td>0.748500</td>\n",
       "      <td>1</td>\n",
       "    </tr>\n",
       "    <tr>\n",
       "      <th>3</th>\n",
       "      <td>0.012054</td>\n",
       "      <td>0.000145</td>\n",
       "      <td>1.0</td>\n",
       "      <td>0.000002</td>\n",
       "      <td>0</td>\n",
       "    </tr>\n",
       "    <tr>\n",
       "      <th>4</th>\n",
       "      <td>0.873139</td>\n",
       "      <td>0.762371</td>\n",
       "      <td>0.0</td>\n",
       "      <td>0.665656</td>\n",
       "      <td>1</td>\n",
       "    </tr>\n",
       "    <tr>\n",
       "      <th>...</th>\n",
       "      <td>...</td>\n",
       "      <td>...</td>\n",
       "      <td>...</td>\n",
       "      <td>...</td>\n",
       "      <td>...</td>\n",
       "    </tr>\n",
       "    <tr>\n",
       "      <th>3075</th>\n",
       "      <td>0.013050</td>\n",
       "      <td>0.000170</td>\n",
       "      <td>1.0</td>\n",
       "      <td>0.000002</td>\n",
       "      <td>0</td>\n",
       "    </tr>\n",
       "    <tr>\n",
       "      <th>3076</th>\n",
       "      <td>0.846060</td>\n",
       "      <td>0.715818</td>\n",
       "      <td>0.0</td>\n",
       "      <td>0.605625</td>\n",
       "      <td>1</td>\n",
       "    </tr>\n",
       "    <tr>\n",
       "      <th>3077</th>\n",
       "      <td>0.192814</td>\n",
       "      <td>0.037177</td>\n",
       "      <td>1.0</td>\n",
       "      <td>0.007168</td>\n",
       "      <td>0</td>\n",
       "    </tr>\n",
       "    <tr>\n",
       "      <th>3078</th>\n",
       "      <td>0.056000</td>\n",
       "      <td>0.003136</td>\n",
       "      <td>1.0</td>\n",
       "      <td>0.000176</td>\n",
       "      <td>0</td>\n",
       "    </tr>\n",
       "    <tr>\n",
       "      <th>3079</th>\n",
       "      <td>0.023149</td>\n",
       "      <td>0.000536</td>\n",
       "      <td>1.0</td>\n",
       "      <td>0.000012</td>\n",
       "      <td>0</td>\n",
       "    </tr>\n",
       "  </tbody>\n",
       "</table>\n",
       "<p>3080 rows × 5 columns</p>\n",
       "</div>"
      ],
      "text/plain": [
       "         Senti  Senti Squared  Below_cutoff  Senti Cubic  Grants\n",
       "0     0.192923       0.037219           1.0     0.007180       0\n",
       "1     0.928457       0.862032           0.0     0.800359       1\n",
       "2     0.907954       0.824381           0.0     0.748500       1\n",
       "3     0.012054       0.000145           1.0     0.000002       0\n",
       "4     0.873139       0.762371           0.0     0.665656       1\n",
       "...        ...            ...           ...          ...     ...\n",
       "3075  0.013050       0.000170           1.0     0.000002       0\n",
       "3076  0.846060       0.715818           0.0     0.605625       1\n",
       "3077  0.192814       0.037177           1.0     0.007168       0\n",
       "3078  0.056000       0.003136           1.0     0.000176       0\n",
       "3079  0.023149       0.000536           1.0     0.000012       0\n",
       "\n",
       "[3080 rows x 5 columns]"
      ]
     },
     "execution_count": 52,
     "metadata": {},
     "output_type": "execute_result"
    }
   ],
   "source": [
    "DF"
   ]
  },
  {
   "cell_type": "markdown",
   "metadata": {},
   "source": [
    "### IV 1st stage: linear spec"
   ]
  },
  {
   "cell_type": "code",
   "execution_count": 53,
   "metadata": {},
   "outputs": [
    {
     "data": {
      "text/plain": [
       "=======================================================\n",
       "Dependent variable:\tGrants\n",
       "N:\t\t\t3080\n",
       "R-squared:\t\t0.8085\n",
       "Estimation method:\tOLS\n",
       "VCE method:\t\tStandard (Homosk.)\n",
       "=======================================================\n",
       "              coeff    se       t   p>t CI_low CI_high\n",
       "Senti         1.207 0.009 136.043 0.000  1.189   1.224\n",
       "Below_cutoff -0.058 0.004 -14.463 0.000 -0.066  -0.050\n",
       "======================================================="
      ]
     },
     "execution_count": 53,
     "metadata": {},
     "output_type": "execute_result"
    }
   ],
   "source": [
    "y_var = 'Grants'\n",
    "X_vars = ['Senti','Below_cutoff']\n",
    "\n",
    "results = mt.reg(\n",
    "    DF,                     # DataFrame\n",
    "    y_var,                      # Dependent var (string)\n",
    "    X_vars,                      # Independent var(s) (string or list of strings)\n",
    "#    addcons=True\n",
    ")\n",
    "results"
   ]
  },
  {
   "cell_type": "markdown",
   "metadata": {},
   "source": [
    "### IV 1st stage: quadratic"
   ]
  },
  {
   "cell_type": "code",
   "execution_count": 54,
   "metadata": {},
   "outputs": [
    {
     "data": {
      "text/plain": [
       "=======================================================\n",
       "Dependent variable:\tGrants\n",
       "N:\t\t\t3080\n",
       "R-squared:\t\t0.8094\n",
       "Estimation method:\tOLS\n",
       "VCE method:\t\tStandard (Homosk.)\n",
       "=======================================================\n",
       "               coeff    se       t   p>t CI_low CI_high\n",
       "Senti          1.355 0.041  32.673 0.000  1.274   1.437\n",
       "Senti Squared -0.190 0.052  -3.667 0.000 -0.291  -0.088\n",
       "Below_cutoff  -0.067 0.005 -14.329 0.000 -0.076  -0.058\n",
       "======================================================="
      ]
     },
     "execution_count": 54,
     "metadata": {},
     "output_type": "execute_result"
    }
   ],
   "source": [
    "y_var = 'Grants'\n",
    "X_vars = ['Senti', 'Senti Squared','Below_cutoff']\n",
    "\n",
    "results = mt.reg(\n",
    "    DF,                     # DataFrame\n",
    "    y_var,                      # Dependent var (string)\n",
    "    X_vars,                      # Independent var(s) (string or list of strings)\n",
    "#    addcons=True\n",
    ")\n",
    "results"
   ]
  },
  {
   "cell_type": "code",
   "execution_count": 55,
   "metadata": {},
   "outputs": [
    {
     "name": "stdout",
     "output_type": "stream",
     "text": [
      "6245.120684329276\n",
      "1.1102230246251565e-16\n"
     ]
    }
   ],
   "source": [
    "F1, pF1 = results.Ftest(['Senti', 'Senti Squared','Below_cutoff'])\n",
    "print(F1)\n",
    "print(pF1)"
   ]
  },
  {
   "cell_type": "code",
   "execution_count": 56,
   "metadata": {},
   "outputs": [
    {
     "data": {
      "text/html": [
       "<div>\n",
       "<style scoped>\n",
       "    .dataframe tbody tr th:only-of-type {\n",
       "        vertical-align: middle;\n",
       "    }\n",
       "\n",
       "    .dataframe tbody tr th {\n",
       "        vertical-align: top;\n",
       "    }\n",
       "\n",
       "    .dataframe thead th {\n",
       "        text-align: right;\n",
       "    }\n",
       "</style>\n",
       "<table border=\"1\" class=\"dataframe\">\n",
       "  <thead>\n",
       "    <tr style=\"text-align: right;\">\n",
       "      <th></th>\n",
       "      <th>binned</th>\n",
       "      <th>Grants</th>\n",
       "      <th>bins</th>\n",
       "    </tr>\n",
       "  </thead>\n",
       "  <tbody>\n",
       "    <tr>\n",
       "      <th>0</th>\n",
       "      <td>(0.0, 0.1]</td>\n",
       "      <td>0.000591</td>\n",
       "      <td>0.0</td>\n",
       "    </tr>\n",
       "    <tr>\n",
       "      <th>1</th>\n",
       "      <td>(0.1, 0.2]</td>\n",
       "      <td>0.021277</td>\n",
       "      <td>0.1</td>\n",
       "    </tr>\n",
       "    <tr>\n",
       "      <th>2</th>\n",
       "      <td>(0.2, 0.3]</td>\n",
       "      <td>0.096591</td>\n",
       "      <td>0.2</td>\n",
       "    </tr>\n",
       "    <tr>\n",
       "      <th>3</th>\n",
       "      <td>(0.3, 0.4]</td>\n",
       "      <td>0.296296</td>\n",
       "      <td>0.3</td>\n",
       "    </tr>\n",
       "    <tr>\n",
       "      <th>4</th>\n",
       "      <td>(0.4, 0.5]</td>\n",
       "      <td>0.575000</td>\n",
       "      <td>0.4</td>\n",
       "    </tr>\n",
       "    <tr>\n",
       "      <th>5</th>\n",
       "      <td>(0.5, 0.6]</td>\n",
       "      <td>0.823009</td>\n",
       "      <td>0.5</td>\n",
       "    </tr>\n",
       "    <tr>\n",
       "      <th>6</th>\n",
       "      <td>(0.6, 0.7]</td>\n",
       "      <td>0.971631</td>\n",
       "      <td>0.6</td>\n",
       "    </tr>\n",
       "    <tr>\n",
       "      <th>7</th>\n",
       "      <td>(0.7, 0.8]</td>\n",
       "      <td>0.993421</td>\n",
       "      <td>0.7</td>\n",
       "    </tr>\n",
       "    <tr>\n",
       "      <th>8</th>\n",
       "      <td>(0.8, 0.9]</td>\n",
       "      <td>1.000000</td>\n",
       "      <td>0.8</td>\n",
       "    </tr>\n",
       "    <tr>\n",
       "      <th>9</th>\n",
       "      <td>(0.9, 1.0]</td>\n",
       "      <td>1.000000</td>\n",
       "      <td>0.9</td>\n",
       "    </tr>\n",
       "  </tbody>\n",
       "</table>\n",
       "</div>"
      ],
      "text/plain": [
       "       binned    Grants  bins\n",
       "0  (0.0, 0.1]  0.000591   0.0\n",
       "1  (0.1, 0.2]  0.021277   0.1\n",
       "2  (0.2, 0.3]  0.096591   0.2\n",
       "3  (0.3, 0.4]  0.296296   0.3\n",
       "4  (0.4, 0.5]  0.575000   0.4\n",
       "5  (0.5, 0.6]  0.823009   0.5\n",
       "6  (0.6, 0.7]  0.971631   0.6\n",
       "7  (0.7, 0.8]  0.993421   0.7\n",
       "8  (0.8, 0.9]  1.000000   0.8\n",
       "9  (0.9, 1.0]  1.000000   0.9"
      ]
     },
     "execution_count": 56,
     "metadata": {},
     "output_type": "execute_result"
    }
   ],
   "source": [
    "DF['binned']=pd.cut(x=DF['Senti'], bins=[0,0.1,0.2,0.3,0.4,0.5,0.6,0.7,0.8,0.9,1])\n",
    "df_mean = DF.groupby('binned')['Grants'].mean()\n",
    "df_binned = pd.DataFrame(df_mean).reset_index()\n",
    "df_binned['bins'] = df_binned.index/10\n",
    "df_binned"
   ]
  },
  {
   "cell_type": "code",
   "execution_count": 57,
   "metadata": {},
   "outputs": [
    {
     "data": {
      "image/png": "[encoded data removed]",
      "text/plain": [
       "<Figure size 432x288 with 1 Axes>"
      ]
     },
     "metadata": {
      "needs_background": "light"
     },
     "output_type": "display_data"
    }
   ],
   "source": [
    "plt.scatter(df_binned['bins'], df_binned['Grants'], color=\"black\")\n",
    "plt.show()"
   ]
  },
  {
   "cell_type": "markdown",
   "metadata": {},
   "source": [
    "### Learning or fatigue?"
   ]
  },
  {
   "cell_type": "code",
   "execution_count": 58,
   "metadata": {},
   "outputs": [
    {
     "data": {
      "text/plain": [
       "申请次数\n",
       "1     0.306036\n",
       "2     0.260807\n",
       "3     0.254820\n",
       "4     0.173146\n",
       "5     0.141055\n",
       "6     0.057191\n",
       "10    0.202556\n",
       "11    0.133637\n",
       "Name: Senti, dtype: float32"
      ]
     },
     "execution_count": 58,
     "metadata": {},
     "output_type": "execute_result"
    }
   ],
   "source": [
    "df_final = df_final.sort_values(['申请人','年份'])\n",
    "df_final['申请次数'] = df_final.groupby(['申请人']).年份.transform('count')\n",
    "df_final.groupby(['申请次数']).Senti.mean()"
   ]
  },
  {
   "cell_type": "code",
   "execution_count": 60,
   "metadata": {},
   "outputs": [
    {
     "data": {
      "text/plain": [
       "2     908\n",
       "3     789\n",
       "1     625\n",
       "4     580\n",
       "5     145\n",
       "6      12\n",
       "11     11\n",
       "10     10\n",
       "Name: 申请次数, dtype: int64"
      ]
     },
     "execution_count": 60,
     "metadata": {},
     "output_type": "execute_result"
    }
   ],
   "source": [
    "df_final['申请次数'].value_counts()"
   ]
  },
  {
   "cell_type": "code",
   "execution_count": null,
   "metadata": {},
   "outputs": [],
   "source": []
  }
 ],
 "metadata": {
  "kernelspec": {
   "display_name": "Python 3",
   "language": "python",
   "name": "python3"
  },
  "language_info": {
   "codemirror_mode": {
    "name": "ipython",
    "version": 3
   },
   "file_extension": ".py",
   "mimetype": "text/x-python",
   "name": "python",
   "nbconvert_exporter": "python",
   "pygments_lexer": "ipython3",
   "version": "3.7.4"
  }
 },
 "nbformat": 4,
 "nbformat_minor": 2
}
