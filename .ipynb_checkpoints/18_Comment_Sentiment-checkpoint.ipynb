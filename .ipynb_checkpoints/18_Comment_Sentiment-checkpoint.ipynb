{
 "cells": [
  {
   "cell_type": "code",
   "execution_count": 1,
   "metadata": {},
   "outputs": [],
   "source": [
    "import numpy as np\n",
    "import pandas as pd\n",
    "import json\n",
    "import re\n",
    "import jieba\n",
    "from gensim.models import Word2Vec\n",
    "import gensim\n",
    "import multiprocessing\n",
    "from gensim.corpora.dictionary import Dictionary\n",
    "from sklearn.model_selection import train_test_split\n",
    "from tensorflow.keras.preprocessing.text import one_hot,Tokenizer\n",
    "from tensorflow.keras.preprocessing.sequence import pad_sequences\n",
    "from tensorflow.keras.layers import Bidirectional,LSTM,Dense,Embedding,Dropout,Activation,Softmax,Flatten,Conv1D, SimpleRNN\n",
    "from tensorflow.keras.utils import to_categorical\n",
    "from tensorflow.keras import Sequential\n",
    "\n",
    "import matplotlib.pyplot as plt\n",
    "from wordcloud import WordCloud\n"
   ]
  },
  {
   "cell_type": "markdown",
   "metadata": {},
   "source": [
    "## 处理申请数据"
   ]
  },
  {
   "cell_type": "code",
   "execution_count": 2,
   "metadata": {},
   "outputs": [],
   "source": [
    "# 申请数据\n",
    "apps = pd.read_excel(\"/Users/yansong/Nutstore Files/基金研究/data/2013--2022面青/2018.xlsx\",sheet_name = \"申请\")\n",
    "apps.drop(columns=['Unnamed: 0','Unnamed: 2','Unnamed: 5', 'Unnamed: 6','Unnamed: 7', 'Unnamed: 8','项目名称2','姓名','申请单位'],inplace=True)\n",
    "apps_comments = apps[\"反馈评议意见\"].str.split(\"<\", expand = True)\n",
    "df_app = pd.merge(apps, apps_comments, left_index=True, right_index=True)\n",
    "df_app.drop(columns=0,inplace=True)\n",
    "df_app.rename(columns={1: \"意见1\",2: \"意见2\",3: \"意见3\",4: \"意见4\",5: \"意见5\",6: \"意见6\"},inplace=True)\n",
    "df_app.drop(columns=\"反馈评议意见\",inplace=True)\n",
    "\n",
    "# 立项数据\n",
    "grants = pd.read_excel(\"/Users/yansong/Nutstore Files/基金研究/data/2013--2022面青/2018.xlsx\",sheet_name = \"立项\")\n",
    "grants_comments = grants[\"反馈评议意见\"].str.split(\"<\", expand = True)\n",
    "grants_comments.drop(columns=0,inplace=True)\n",
    "grants_comments.rename(columns={1: \"意见1\",2: \"意见2\",3: \"意见3\",4: \"意见4\",5: \"意见5\"},inplace=True)\n",
    "df_grants = pd.merge(grants, grants_comments, left_index=True, right_index=True)\n",
    "df_grants.drop(columns=\"反馈评议意见\",inplace=True)\n",
    "\n",
    "# 计算是否立项\n",
    "def check_grant(a):\n",
    "    return df_grants[\"项目名称\"].isin([a]).sum()\n",
    "df_app[\"立项\"] = df_app[\"项目名称\"].apply(check_grant)\n",
    "\n",
    "df_app.head()\n",
    "df_app = df_app[df_app['资助类别']=='面上项目']"
   ]
  },
  {
   "cell_type": "code",
   "execution_count": 3,
   "metadata": {},
   "outputs": [
    {
     "data": {
      "text/plain": [
       "资助类别\n",
       "面上项目    0.260674\n",
       "Name: 立项, dtype: float64"
      ]
     },
     "execution_count": 3,
     "metadata": {},
     "output_type": "execute_result"
    }
   ],
   "source": [
    "df_app.groupby(['资助类别'])[\"立项\"].mean()"
   ]
  },
  {
   "cell_type": "markdown",
   "metadata": {},
   "source": [
    "## 意见处理\n",
    "{\n",
    "\t\"1\": {\n",
    "\t\t\"id\": \"1\",\n",
    "\t\t\"records\": {\n",
    "\t\t\t\"情感\": [\n",
    "\t\t\t\t\"正\"\n",
    "\t\t\t]\n",
    "\t\t},\n",
    "\t\t\"content\": \"这本书不错啊\"\n",
    "\t},\n",
    "\t\"2\": {\n",
    "\t\t\"id\": \"2\",\n",
    "\t\t\"records\": {\n",
    "\t\t\t\"情感\": [\n",
    "\t\t\t\t\"负\"\n",
    "\t\t\t]\n",
    "\t\t},\n",
    "\t\t\"content\": \"这个东西评价不行\"\n",
    "\t}\n",
    "}"
   ]
  },
  {
   "cell_type": "code",
   "execution_count": 4,
   "metadata": {},
   "outputs": [
    {
     "data": {
      "text/html": [
       "<div>\n",
       "<style scoped>\n",
       "    .dataframe tbody tr th:only-of-type {\n",
       "        vertical-align: middle;\n",
       "    }\n",
       "\n",
       "    .dataframe tbody tr th {\n",
       "        vertical-align: top;\n",
       "    }\n",
       "\n",
       "    .dataframe thead th {\n",
       "        text-align: right;\n",
       "    }\n",
       "</style>\n",
       "<table border=\"1\" class=\"dataframe\">\n",
       "  <thead>\n",
       "    <tr style=\"text-align: right;\">\n",
       "      <th></th>\n",
       "      <th>项目名称</th>\n",
       "      <th>申请人</th>\n",
       "      <th>申请部门</th>\n",
       "      <th>资助类别</th>\n",
       "      <th>意见1</th>\n",
       "      <th>意见2</th>\n",
       "      <th>意见3</th>\n",
       "      <th>意见4</th>\n",
       "      <th>意见5</th>\n",
       "      <th>立项</th>\n",
       "    </tr>\n",
       "  </thead>\n",
       "  <tbody>\n",
       "    <tr>\n",
       "      <td>23</td>\n",
       "      <td>平均场随机控制及微分对策</td>\n",
       "      <td>李娟</td>\n",
       "      <td>数学与统计学院</td>\n",
       "      <td>面上项目</td>\n",
       "      <td>1&gt;\\n\\n项目研究一般情形下平均场正到向随机微分方程，及在随机控制、随机微分对策、偏微分方...</td>\n",
       "      <td>2&gt;\\n\\n本项目研究的是平均场(正)倒向随机微分方程及在金融，偏微分方程，随机控制等方面的...</td>\n",
       "      <td>3&gt;\\n\\n这个研究项目旨在利用（正）倒向随机微分方程的理论深入研究一般情形下(正)倒向随机...</td>\n",
       "      <td>4&gt;\\n\\n项目申请人计划研究平均场倒向随机微分方程well-posedness 以及在随机...</td>\n",
       "      <td>5&gt;\\n\\n本项目主要是以随机分析中的(正)倒向随机微分方程理论为基础，深入研究一般情形下的...</td>\n",
       "      <td>1</td>\n",
       "    </tr>\n",
       "    <tr>\n",
       "      <td>24</td>\n",
       "      <td>正倒向随机微分方程及相关的优化问题</td>\n",
       "      <td>于志勇</td>\n",
       "      <td>数学学院</td>\n",
       "      <td>面上项目</td>\n",
       "      <td>1&gt;\\n\\n项目研究正倒向随机微分方程及相关的优化问题，有重要科学意义\\n\\n\\n项目有创新...</td>\n",
       "      <td>2&gt;\\n\\n本项目计划研究正倒向随机微分方程的Lp可解性理论， 概率可解性， 它们的Stac...</td>\n",
       "      <td>3&gt;\\n\\n该项目创新性强，研究内容具有重要的科学意义。\\n\\n\\n该项目创新性强，研究内容...</td>\n",
       "      <td>4&gt;\\n\\n本项目拟研究耦合正倒向随机微分方程解的性质，及对应系统的最优控制、\\n微分博弈等...</td>\n",
       "      <td>5&gt;\\n\\n本项目拟研究正倒向随机微分方程的L_p理论及其在数学金融和对策论等方面的应用，有...</td>\n",
       "      <td>1</td>\n",
       "    </tr>\n",
       "    <tr>\n",
       "      <td>25</td>\n",
       "      <td>随机偏微分方程最优控制问题的基于分层张量表示的自适应有限元方法</td>\n",
       "      <td>孙同军</td>\n",
       "      <td>数学学院</td>\n",
       "      <td>面上项目</td>\n",
       "      <td>1&gt;\\n\\n申请人拟开展随机偏微分方程不确定性量化的研究，特别对随机空间进行基于分层张量表示...</td>\n",
       "      <td>2&gt;\\n\\n该项目研究最优控制问题的自适应有限元方法，该问题在环境科学，材料科学以及生命科学...</td>\n",
       "      <td>3&gt;\\n\\n本项目主要研究三类带有随机场系数的随机PDE最优控制问题的自适应有限元方法。随机...</td>\n",
       "      <td>4&gt;\\n\\n该项目研究三类具有随机场系数的随机偏微分方程最优控制问题的基于分层张量表示的自适...</td>\n",
       "      <td>5&gt;\\n\\n随机偏微分方程最优控制问题是随机算法中一类重要的研究问题，其应用范围较广，极具现...</td>\n",
       "      <td>1</td>\n",
       "    </tr>\n",
       "    <tr>\n",
       "      <td>26</td>\n",
       "      <td>自守L-函数、平移卷积和及相关数论问题</td>\n",
       "      <td>孙庆峰</td>\n",
       "      <td>威海校区</td>\n",
       "      <td>面上项目</td>\n",
       "      <td>1&gt;\\n\\n自守L-函数理论和平移卷积和都是数论中的重要研究课题。\\n\\n\\n本项目有一定的...</td>\n",
       "      <td>2&gt;\\n\\n数论中许多中问题和都和自守L-函数和平移卷积和密切相关，并且自守L-函数和平移卷...</td>\n",
       "      <td>3&gt;\\n\\n项目涉及的自守形式理论是当代数论研究中的重要问题，在此领域的任何进展都将促进数论...</td>\n",
       "      <td>4&gt;\\n\\n申请者将研究自守形式理论中自守L函数的相关问题，这是数论中的重要研究对象，与著名...</td>\n",
       "      <td>5&gt;\\n\\n自守形式是当代数论的重要研究领域，其中研究Fourier系数的性质、估计自守L函...</td>\n",
       "      <td>1</td>\n",
       "    </tr>\n",
       "    <tr>\n",
       "      <td>27</td>\n",
       "      <td>自守L-函数的亚凸性阶研究</td>\n",
       "      <td>纪广华</td>\n",
       "      <td>数学学院</td>\n",
       "      <td>面上项目</td>\n",
       "      <td>1&gt;\\n\\n自守L-函数是数论中的重要研究领域，关于自守L-函数亚凸性界的估计是重要的研究课...</td>\n",
       "      <td>2&gt;\\n\\n自守L-函数是当代数论的重要研究领域，同时也是研究经典数论问题的重要工具。该项目...</td>\n",
       "      <td>3&gt;\\n\\n项目涉及的自守L-函数是解析数论中的重要研究内容，具有重要的研究价值\\n\\n\\n...</td>\n",
       "      <td>4&gt;\\n\\n申请者将研究自守形式理论中自守L函数的相关问题，这是数论中的重要研究对象，与著名...</td>\n",
       "      <td>5&gt;\\n\\n自守形式是当代数论的重要研究领域，其中估计自守L函数 的上界是该领域的一个中心问...</td>\n",
       "      <td>0</td>\n",
       "    </tr>\n",
       "  </tbody>\n",
       "</table>\n",
       "</div>"
      ],
      "text/plain": [
       "                               项目名称  申请人     申请部门  资助类别  \\\n",
       "23                     平均场随机控制及微分对策   李娟  数学与统计学院  面上项目   \n",
       "24                正倒向随机微分方程及相关的优化问题  于志勇     数学学院  面上项目   \n",
       "25  随机偏微分方程最优控制问题的基于分层张量表示的自适应有限元方法  孙同军     数学学院  面上项目   \n",
       "26              自守L-函数、平移卷积和及相关数论问题  孙庆峰     威海校区  面上项目   \n",
       "27                    自守L-函数的亚凸性阶研究  纪广华     数学学院  面上项目   \n",
       "\n",
       "                                                  意见1  \\\n",
       "23  1>\\n\\n项目研究一般情形下平均场正到向随机微分方程，及在随机控制、随机微分对策、偏微分方...   \n",
       "24  1>\\n\\n项目研究正倒向随机微分方程及相关的优化问题，有重要科学意义\\n\\n\\n项目有创新...   \n",
       "25  1>\\n\\n申请人拟开展随机偏微分方程不确定性量化的研究，特别对随机空间进行基于分层张量表示...   \n",
       "26  1>\\n\\n自守L-函数理论和平移卷积和都是数论中的重要研究课题。\\n\\n\\n本项目有一定的...   \n",
       "27  1>\\n\\n自守L-函数是数论中的重要研究领域，关于自守L-函数亚凸性界的估计是重要的研究课...   \n",
       "\n",
       "                                                  意见2  \\\n",
       "23  2>\\n\\n本项目研究的是平均场(正)倒向随机微分方程及在金融，偏微分方程，随机控制等方面的...   \n",
       "24  2>\\n\\n本项目计划研究正倒向随机微分方程的Lp可解性理论， 概率可解性， 它们的Stac...   \n",
       "25  2>\\n\\n该项目研究最优控制问题的自适应有限元方法，该问题在环境科学，材料科学以及生命科学...   \n",
       "26  2>\\n\\n数论中许多中问题和都和自守L-函数和平移卷积和密切相关，并且自守L-函数和平移卷...   \n",
       "27  2>\\n\\n自守L-函数是当代数论的重要研究领域，同时也是研究经典数论问题的重要工具。该项目...   \n",
       "\n",
       "                                                  意见3  \\\n",
       "23  3>\\n\\n这个研究项目旨在利用（正）倒向随机微分方程的理论深入研究一般情形下(正)倒向随机...   \n",
       "24  3>\\n\\n该项目创新性强，研究内容具有重要的科学意义。\\n\\n\\n该项目创新性强，研究内容...   \n",
       "25  3>\\n\\n本项目主要研究三类带有随机场系数的随机PDE最优控制问题的自适应有限元方法。随机...   \n",
       "26  3>\\n\\n项目涉及的自守形式理论是当代数论研究中的重要问题，在此领域的任何进展都将促进数论...   \n",
       "27  3>\\n\\n项目涉及的自守L-函数是解析数论中的重要研究内容，具有重要的研究价值\\n\\n\\n...   \n",
       "\n",
       "                                                  意见4  \\\n",
       "23  4>\\n\\n项目申请人计划研究平均场倒向随机微分方程well-posedness 以及在随机...   \n",
       "24  4>\\n\\n本项目拟研究耦合正倒向随机微分方程解的性质，及对应系统的最优控制、\\n微分博弈等...   \n",
       "25  4>\\n\\n该项目研究三类具有随机场系数的随机偏微分方程最优控制问题的基于分层张量表示的自适...   \n",
       "26  4>\\n\\n申请者将研究自守形式理论中自守L函数的相关问题，这是数论中的重要研究对象，与著名...   \n",
       "27  4>\\n\\n申请者将研究自守形式理论中自守L函数的相关问题，这是数论中的重要研究对象，与著名...   \n",
       "\n",
       "                                                  意见5  立项  \n",
       "23  5>\\n\\n本项目主要是以随机分析中的(正)倒向随机微分方程理论为基础，深入研究一般情形下的...   1  \n",
       "24  5>\\n\\n本项目拟研究正倒向随机微分方程的L_p理论及其在数学金融和对策论等方面的应用，有...   1  \n",
       "25  5>\\n\\n随机偏微分方程最优控制问题是随机算法中一类重要的研究问题，其应用范围较广，极具现...   1  \n",
       "26  5>\\n\\n自守形式是当代数论的重要研究领域，其中研究Fourier系数的性质、估计自守L函...   1  \n",
       "27  5>\\n\\n自守形式是当代数论的重要研究领域，其中估计自守L函数 的上界是该领域的一个中心问...   0  "
      ]
     },
     "execution_count": 4,
     "metadata": {},
     "output_type": "execute_result"
    }
   ],
   "source": [
    "df_app.head()"
   ]
  },
  {
   "cell_type": "code",
   "execution_count": 5,
   "metadata": {},
   "outputs": [
    {
     "name": "stderr",
     "output_type": "stream",
     "text": [
      "/opt/anaconda3/lib/python3.7/site-packages/ipykernel_launcher.py:2: SettingWithCopyWarning: \n",
      "A value is trying to be set on a copy of a slice from a DataFrame.\n",
      "Try using .loc[row_indexer,col_indexer] = value instead\n",
      "\n",
      "See the caveats in the documentation: http://pandas.pydata.org/pandas-docs/stable/user_guide/indexing.html#returning-a-view-versus-a-copy\n",
      "  \n"
     ]
    },
    {
     "data": {
      "text/html": [
       "<div>\n",
       "<style scoped>\n",
       "    .dataframe tbody tr th:only-of-type {\n",
       "        vertical-align: middle;\n",
       "    }\n",
       "\n",
       "    .dataframe tbody tr th {\n",
       "        vertical-align: top;\n",
       "    }\n",
       "\n",
       "    .dataframe thead th {\n",
       "        text-align: right;\n",
       "    }\n",
       "</style>\n",
       "<table border=\"1\" class=\"dataframe\">\n",
       "  <thead>\n",
       "    <tr style=\"text-align: right;\">\n",
       "      <th></th>\n",
       "      <th>id</th>\n",
       "      <th>records</th>\n",
       "      <th>content</th>\n",
       "    </tr>\n",
       "  </thead>\n",
       "  <tbody>\n",
       "    <tr>\n",
       "      <td>0</td>\n",
       "      <td>23</td>\n",
       "      <td>正</td>\n",
       "      <td>1&gt;\\n\\n项目研究一般情形下平均场正到向随机微分方程，及在随机控制、随机微分对策、偏微分方...</td>\n",
       "    </tr>\n",
       "    <tr>\n",
       "      <td>1</td>\n",
       "      <td>24</td>\n",
       "      <td>正</td>\n",
       "      <td>1&gt;\\n\\n项目研究正倒向随机微分方程及相关的优化问题，有重要科学意义\\n\\n\\n项目有创新...</td>\n",
       "    </tr>\n",
       "    <tr>\n",
       "      <td>2</td>\n",
       "      <td>25</td>\n",
       "      <td>正</td>\n",
       "      <td>1&gt;\\n\\n申请人拟开展随机偏微分方程不确定性量化的研究，特别对随机空间进行基于分层张量表示...</td>\n",
       "    </tr>\n",
       "    <tr>\n",
       "      <td>3</td>\n",
       "      <td>26</td>\n",
       "      <td>正</td>\n",
       "      <td>1&gt;\\n\\n自守L-函数理论和平移卷积和都是数论中的重要研究课题。\\n\\n\\n本项目有一定的...</td>\n",
       "    </tr>\n",
       "    <tr>\n",
       "      <td>4</td>\n",
       "      <td>27</td>\n",
       "      <td>负</td>\n",
       "      <td>1&gt;\\n\\n自守L-函数是数论中的重要研究领域，关于自守L-函数亚凸性界的估计是重要的研究课...</td>\n",
       "    </tr>\n",
       "  </tbody>\n",
       "</table>\n",
       "</div>"
      ],
      "text/plain": [
       "   id records                                            content\n",
       "0  23       正  1>\\n\\n项目研究一般情形下平均场正到向随机微分方程，及在随机控制、随机微分对策、偏微分方...\n",
       "1  24       正  1>\\n\\n项目研究正倒向随机微分方程及相关的优化问题，有重要科学意义\\n\\n\\n项目有创新...\n",
       "2  25       正  1>\\n\\n申请人拟开展随机偏微分方程不确定性量化的研究，特别对随机空间进行基于分层张量表示...\n",
       "3  26       正  1>\\n\\n自守L-函数理论和平移卷积和都是数论中的重要研究课题。\\n\\n\\n本项目有一定的...\n",
       "4  27       负  1>\\n\\n自守L-函数是数论中的重要研究领域，关于自守L-函数亚凸性界的估计是重要的研究课..."
      ]
     },
     "execution_count": 5,
     "metadata": {},
     "output_type": "execute_result"
    }
   ],
   "source": [
    "df_json_full = df_app[[\"申请人\",\"意见1\",\"意见2\",\"意见3\",\"意见4\",\"意见5\",\"立项\"]]\n",
    "df_json_full['id'] = df_json_full.index\n",
    "df_json = df_json_full[['id',\"意见1\",\"意见2\",\"意见3\",\"意见4\",\"意见5\",\"立项\"]]\n",
    "\n",
    "df_json_long = pd.wide_to_long(df_json, stubnames='意见', i=['id'], j='评审')\n",
    "df_json_long.reset_index(inplace=True)\n",
    "df_json_long.rename(columns={\"立项\":\"records\",\"意见\":\"content\"},inplace=True)\n",
    "df_json_long.dropna(inplace=True)\n",
    "df_json_long.sort_values(['id'])\n",
    "df_json_long[\"records\"].replace(to_replace=0, value=\"负\",inplace=True)\n",
    "df_json_long[\"records\"].replace(to_replace=1, value=\"正\",inplace=True)\n",
    "df_json_long = df_json_long[[\"id\",\"records\",\"content\"]]\n",
    "\n",
    "\n",
    "#sample_size = 5000\n",
    "sample_size = df_json_long.shape[0]\n",
    "\n",
    "df_json_sample = df_json_long.iloc[0:sample_size,:]\n",
    "result = df_json_sample.to_json(orient=\"index\",force_ascii=False)\n",
    "\n",
    "with open('data.json', 'w') as f:\n",
    "    json.dump(result,f,ensure_ascii=False)\n",
    "    \n",
    "df_json_sample.head()\n"
   ]
  },
  {
   "cell_type": "markdown",
   "metadata": {},
   "source": [
    "## 处理步骤\n",
    "1. 去除重复词语\n",
    "2. 去除stop words\n",
    "3. 分词\n",
    "4. 生成embedding"
   ]
  },
  {
   "cell_type": "markdown",
   "metadata": {},
   "source": [
    "## 重复词语"
   ]
  },
  {
   "cell_type": "code",
   "execution_count": 6,
   "metadata": {},
   "outputs": [],
   "source": [
    "def clean_pat(line):\n",
    "    pat = ['一、该申请项目所关注的科学问题是否源于多学科领域交叉的共性问题，具有明确的学科交叉特征？请详细阐述判断理由并评价预期成果的科学价值。',\n",
    "          '二、请针对学科交叉特点评述申请项目研究方案或技术路线的创新性和可行性。',\n",
    "          '三、请评述申请人的多学科背景、研究专长和创新潜力。',\n",
    "          '四、其他建议',\n",
    "          '1>',\n",
    "          '（1）',\n",
    "          '（2）',\n",
    "          '（3）',\n",
    "          '（4）',\n",
    "          '（5）',\n",
    "           '具体评价意见：',\n",
    "          '一、该申请项目的研究思想或方案是否具有新颖性和独特性？请详细阐述判断理由。',\n",
    "          '二、请评述申请项目所关注问题的科学价值以及对相关前沿领域的潜在贡献。',\n",
    "          '三、请评述申请人的创新潜力与研究方案的可行性',\n",
    "          '一、该申请项目是否面向国家需求并试图解决技术瓶颈背后的基础问题？请结合应用需求详细阐述判断理由。',\n",
    "          '二、请评述申请项目所提出的科学问题与预期成果的科学价值。',\n",
    "          '三、请评述申请人的创新潜力及研究方案的创新性和可行性。',\n",
    "          '。',\n",
    "          '，',\n",
    "          '、',\n",
    "          '的',\n",
    "          '研究',\n",
    "          '三请',\n",
    "          '申请人',\n",
    "          '拟']\n",
    "\n",
    "    line = re.sub(\"\\n\", \"\", line)\n",
    "    for x in pat:\n",
    "        line = re.sub(x, \"\", line)\n",
    "    \n",
    "    # stopwords\n",
    "    stopwords=pd.read_csv('stopwords.txt', header=None)[0].tolist() \n",
    "    for x in stopwords:\n",
    "        line = re.sub(x, \"\", line)\n",
    "    return line"
   ]
  },
  {
   "cell_type": "code",
   "execution_count": 7,
   "metadata": {},
   "outputs": [
    {
     "name": "stderr",
     "output_type": "stream",
     "text": [
      "/opt/anaconda3/lib/python3.7/site-packages/ipykernel_launcher.py:1: SettingWithCopyWarning: \n",
      "A value is trying to be set on a copy of a slice from a DataFrame.\n",
      "Try using .loc[row_indexer,col_indexer] = value instead\n",
      "\n",
      "See the caveats in the documentation: http://pandas.pydata.org/pandas-docs/stable/user_guide/indexing.html#returning-a-view-versus-a-copy\n",
      "  \"\"\"Entry point for launching an IPython kernel.\n"
     ]
    }
   ],
   "source": [
    "df_json_sample[\"content_clean\"] = df_json_sample[\"content\"].apply(clean_pat)"
   ]
  },
  {
   "cell_type": "code",
   "execution_count": 8,
   "metadata": {},
   "outputs": [
    {
     "data": {
      "text/plain": [
       "'项目般情形下平均场正机微分方程机控制机微分策偏微分方程金融领域 然十年历史机分析机程发展需类方程新进展 很好方. 重价值.l利正倒项机微分方程HJB方程年粘性解已知方法 平均场模型种非Lipschitz条件下解存性定理极限定理 项目创新处.项目目标内容详实方案技术路线行.审请人国内概机程领域优秀青年学众很好工作. 团队力量雄厚.项目预算.'"
      ]
     },
     "execution_count": 8,
     "metadata": {},
     "output_type": "execute_result"
    }
   ],
   "source": [
    "df_json_sample[\"content_clean\"][0]"
   ]
  },
  {
   "cell_type": "markdown",
   "metadata": {},
   "source": [
    "## 使用机器学习模型预测评审意见的正负"
   ]
  },
  {
   "cell_type": "code",
   "execution_count": 9,
   "metadata": {},
   "outputs": [
    {
     "name": "stderr",
     "output_type": "stream",
     "text": [
      "Building prefix dict from the default dictionary ...\n",
      "Loading model from cache /var/folders/cr/36rsw_vj0vsd47x1006y27fh0000gn/T/jieba.cache\n",
      "Loading model cost 0.655 seconds.\n",
      "Prefix dict has been built successfully.\n"
     ]
    },
    {
     "name": "stdout",
     "output_type": "stream",
     "text": [
      "项目 般 情形 下 平均 场正机 微分方程 机 控制机 微分 策偏 微分方程 金融 领域   然 十年 历史 机 分析 机程 发展 需类 方程 新进展   很 好方 .   重 价值 . l 利正 倒 项机 微分方程 HJB 方程 年 粘性 解 已知 方法   平均 场 模型 种非 Lipschitz 条件 下 解存 性 定理 极限 定理   项目 创新 处 . 项目 目标 内容 详实 方案 技术 路线 行 . 审请 人 国内 概机程 领域 优秀青年 学众 很 好 工作 .   团队 力量雄厚 . 项目 预算 .\n"
     ]
    }
   ],
   "source": [
    "#我们定义一个文档集合存储于List，每个文档为list的一个元素，每个文档都对应一个标签,存储于labels\n",
    "seg_lists = list()\n",
    "lines = list(df_json_sample['content_clean'])\n",
    "for line in lines:\n",
    "    #print(line)\n",
    "    #seg_list = list(seg_list)\n",
    "    seg_lists.append(jieba.cut(line))\n",
    "    #print(len(seg_list))\n",
    "sentences = []\n",
    "for i in seg_lists:      \n",
    "    sentences.append(' '.join(i))    \n",
    "print(sentences[0])"
   ]
  },
  {
   "cell_type": "code",
   "execution_count": 10,
   "metadata": {},
   "outputs": [
    {
     "name": "stderr",
     "output_type": "stream",
     "text": [
      "/opt/anaconda3/lib/python3.7/site-packages/pandas/core/generic.py:6786: SettingWithCopyWarning: \n",
      "A value is trying to be set on a copy of a slice from a DataFrame\n",
      "\n",
      "See the caveats in the documentation: http://pandas.pydata.org/pandas-docs/stable/user_guide/indexing.html#returning-a-view-versus-a-copy\n",
      "  self._update_inplace(new_data)\n"
     ]
    }
   ],
   "source": [
    "labels = df_json_sample[\"records\"]\n",
    "labels.replace(\"负\",0,inplace=True)\n",
    "labels.replace(\"正\",1,inplace=True)\n",
    "labels = list(labels)"
   ]
  },
  {
   "cell_type": "code",
   "execution_count": 11,
   "metadata": {},
   "outputs": [],
   "source": [
    "texts = ''.join(map(str, sentences))\n",
    "# = re.sub(\"\\n\", \"\", line)\n"
   ]
  },
  {
   "cell_type": "code",
   "execution_count": 12,
   "metadata": {},
   "outputs": [
    {
     "data": {
      "text/plain": [
       "(-0.5, 799.5, 399.5, -0.5)"
      ]
     },
     "execution_count": 12,
     "metadata": {},
     "output_type": "execute_result"
    },
    {
     "data": {
      "image/png": "[encoded data removed]",
      "text/plain": [
       "<Figure size 432x288 with 1 Axes>"
      ]
     },
     "metadata": {
      "needs_background": "light"
     },
     "output_type": "display_data"
    }
   ],
   "source": [
    "wordcloud = WordCloud(font_path = '/System/Library/Fonts/STHeiti Light.ttc',\n",
    "            background_color=\"white\",# 设置背景颜色\n",
    "           max_words=80, # 词云显示的最大词数\n",
    "           height=400, # 图片高度\n",
    "           width=800, # 图片宽度\n",
    "           max_font_size=50).generate(texts)\n",
    "plt.imshow(wordcloud, interpolation='bilinear')\n",
    "plt.axis(\"off\")\n",
    "# The pil way (if you don't have matplotlib)\n",
    "# image = wordcloud.to_image()\n",
    "# image.show()"
   ]
  },
  {
   "cell_type": "code",
   "execution_count": 13,
   "metadata": {},
   "outputs": [],
   "source": [
    "vocab_size = 14000 #估计的词汇表大小，设置时要比真实的词汇量大，不然会产生不同单词分配了相同的索引。\n",
    "\n",
    "# #通过索引对上面句子进行编码，one_hot编码映射到[1,vocab_size]，不包括0\n",
    "# encoded_docs = [one_hot(s, vocab_size) for s in sentences]\n",
    "# # 文本编码成数字格式并padding到相同长度，这里长度设置为4，在后面补0，这也是为什么前面one-hot不会映射到0的原因。\n",
    "\n",
    "tokenizer = Tokenizer(num_words=vocab_size)\n",
    "tokenizer.fit_on_texts(sentences)\n",
    "encoded_docs = tokenizer.texts_to_sequences(sentences)\n",
    "max_length = 200\n",
    "padded_docs = pad_sequences(encoded_docs, maxlen=max_length, padding='post')"
   ]
  },
  {
   "cell_type": "code",
   "execution_count": 14,
   "metadata": {},
   "outputs": [],
   "source": [
    "#X_train, X_val, y_train, y_val = train_test_split(padded_docs,labels, test_size=0.2)\n",
    "train_size = 1000\n",
    "X_train  = padded_docs[0:train_size,:]\n",
    "X_val  = padded_docs[train_size:,:]\n",
    "y_train  = labels[0:train_size]\n",
    "y_val    = labels[train_size:]\n",
    "\n",
    "y_train = np.array(y_train)\n",
    "y_val = np.array(y_val)"
   ]
  },
  {
   "cell_type": "code",
   "execution_count": 15,
   "metadata": {},
   "outputs": [
    {
     "name": "stdout",
     "output_type": "stream",
     "text": [
      "Model: \"sequential\"\n",
      "_________________________________________________________________\n",
      "Layer (type)                 Output Shape              Param #   \n",
      "=================================================================\n",
      "embedding (Embedding)        (None, 200, 20)           280000    \n",
      "_________________________________________________________________\n",
      "bidirectional (Bidirectional (None, 30)                4320      \n",
      "_________________________________________________________________\n",
      "flatten (Flatten)            (None, 30)                0         \n",
      "_________________________________________________________________\n",
      "dense (Dense)                (None, 1)                 31        \n",
      "=================================================================\n",
      "Total params: 284,351\n",
      "Trainable params: 284,351\n",
      "Non-trainable params: 0\n",
      "_________________________________________________________________\n",
      "None\n"
     ]
    }
   ],
   "source": [
    "# define the model\n",
    "model = Sequential()\n",
    "model.add(Embedding(vocab_size, 20, input_length=max_length))  # Embedding layer\n",
    "model.add(Bidirectional(LSTM(15)))\n",
    "model.add(Flatten())\n",
    "model.add(Dense(1, activation='sigmoid',kernel_regularizer='l2'))\n",
    "model.compile(loss='binary_crossentropy',\n",
    "                     optimizer='adam', \n",
    "                     metrics=['accuracy'])\n",
    "print(model.summary())"
   ]
  },
  {
   "cell_type": "code",
   "execution_count": 16,
   "metadata": {},
   "outputs": [
    {
     "name": "stdout",
     "output_type": "stream",
     "text": [
      "Epoch 1/10\n",
      "55/55 [==============================] - 5s 51ms/step - loss: 0.6735 - accuracy: 0.7020\n",
      "Epoch 2/10\n",
      "55/55 [==============================] - 3s 54ms/step - loss: 0.5476 - accuracy: 0.7420\n",
      "Epoch 3/10\n",
      "55/55 [==============================] - 3s 54ms/step - loss: 0.3855 - accuracy: 0.8179\n",
      "Epoch 4/10\n",
      "55/55 [==============================] - 3s 55ms/step - loss: 0.2294 - accuracy: 0.9751\n",
      "Epoch 5/10\n",
      "55/55 [==============================] - 3s 56ms/step - loss: 0.1292 - accuracy: 0.9937\n",
      "Epoch 6/10\n",
      "55/55 [==============================] - 3s 59ms/step - loss: 0.0843 - accuracy: 0.9950\n",
      "Epoch 7/10\n",
      "55/55 [==============================] - 3s 58ms/step - loss: 0.0603 - accuracy: 0.9995\n",
      "Epoch 8/10\n",
      "55/55 [==============================] - 3s 60ms/step - loss: 0.0556 - accuracy: 1.0000\n",
      "Epoch 9/10\n",
      "55/55 [==============================] - 3s 59ms/step - loss: 0.0526 - accuracy: 0.9988\n",
      "Epoch 10/10\n",
      "55/55 [==============================] - 3s 58ms/step - loss: 0.0660 - accuracy: 0.9988\n"
     ]
    }
   ],
   "source": [
    "history = model.fit(X_train, y_train, epochs=10)"
   ]
  },
  {
   "cell_type": "code",
   "execution_count": 17,
   "metadata": {},
   "outputs": [
    {
     "name": "stdout",
     "output_type": "stream",
     "text": [
      "\r"
     ]
    },
    {
     "name": "stderr",
     "output_type": "stream",
     "text": [
      "/opt/anaconda3/lib/python3.7/site-packages/tensorflow/python/keras/utils/generic_utils.py:583: RuntimeWarning: divide by zero encountered in log10\n",
      "  numdigits = int(np.log10(self.target)) + 1\n"
     ]
    },
    {
     "ename": "OverflowError",
     "evalue": "cannot convert float infinity to integer",
     "output_type": "error",
     "traceback": [
      "\u001b[0;31m---------------------------------------------------------------------------\u001b[0m",
      "\u001b[0;31mOverflowError\u001b[0m                             Traceback (most recent call last)",
      "\u001b[0;32m<ipython-input-17-9dca9adf4e38>\u001b[0m in \u001b[0;36m<module>\u001b[0;34m\u001b[0m\n\u001b[0;32m----> 1\u001b[0;31m \u001b[0mscore\u001b[0m \u001b[0;34m=\u001b[0m \u001b[0mmodel\u001b[0m\u001b[0;34m.\u001b[0m\u001b[0mevaluate\u001b[0m\u001b[0;34m(\u001b[0m\u001b[0mX_val\u001b[0m\u001b[0;34m,\u001b[0m \u001b[0my_val\u001b[0m\u001b[0;34m,\u001b[0m \u001b[0mverbose\u001b[0m\u001b[0;34m=\u001b[0m\u001b[0;36m1\u001b[0m\u001b[0;34m)\u001b[0m\u001b[0;34m\u001b[0m\u001b[0;34m\u001b[0m\u001b[0m\n\u001b[0m",
      "\u001b[0;32m/opt/anaconda3/lib/python3.7/site-packages/tensorflow/python/keras/engine/training.py\u001b[0m in \u001b[0;36mevaluate\u001b[0;34m(self, x, y, batch_size, verbose, sample_weight, steps, callbacks, max_queue_size, workers, use_multiprocessing, return_dict)\u001b[0m\n\u001b[1;32m   1394\u001b[0m               \u001b[0mcallbacks\u001b[0m\u001b[0;34m.\u001b[0m\u001b[0mon_test_batch_end\u001b[0m\u001b[0;34m(\u001b[0m\u001b[0mend_step\u001b[0m\u001b[0;34m,\u001b[0m \u001b[0mlogs\u001b[0m\u001b[0;34m)\u001b[0m\u001b[0;34m\u001b[0m\u001b[0;34m\u001b[0m\u001b[0m\n\u001b[1;32m   1395\u001b[0m       \u001b[0mlogs\u001b[0m \u001b[0;34m=\u001b[0m \u001b[0mtf_utils\u001b[0m\u001b[0;34m.\u001b[0m\u001b[0mto_numpy_or_python_type\u001b[0m\u001b[0;34m(\u001b[0m\u001b[0mlogs\u001b[0m\u001b[0;34m)\u001b[0m\u001b[0;34m\u001b[0m\u001b[0;34m\u001b[0m\u001b[0m\n\u001b[0;32m-> 1396\u001b[0;31m       \u001b[0mcallbacks\u001b[0m\u001b[0;34m.\u001b[0m\u001b[0mon_test_end\u001b[0m\u001b[0;34m(\u001b[0m\u001b[0mlogs\u001b[0m\u001b[0;34m=\u001b[0m\u001b[0mlogs\u001b[0m\u001b[0;34m)\u001b[0m\u001b[0;34m\u001b[0m\u001b[0;34m\u001b[0m\u001b[0m\n\u001b[0m\u001b[1;32m   1397\u001b[0m \u001b[0;34m\u001b[0m\u001b[0m\n\u001b[1;32m   1398\u001b[0m       \u001b[0;32mif\u001b[0m \u001b[0mreturn_dict\u001b[0m\u001b[0;34m:\u001b[0m\u001b[0;34m\u001b[0m\u001b[0;34m\u001b[0m\u001b[0m\n",
      "\u001b[0;32m/opt/anaconda3/lib/python3.7/site-packages/tensorflow/python/keras/callbacks.py\u001b[0m in \u001b[0;36mon_test_end\u001b[0;34m(self, logs)\u001b[0m\n\u001b[1;32m    560\u001b[0m     \u001b[0;32mfor\u001b[0m \u001b[0mcallback\u001b[0m \u001b[0;32min\u001b[0m \u001b[0mself\u001b[0m\u001b[0;34m.\u001b[0m\u001b[0mcallbacks\u001b[0m\u001b[0;34m:\u001b[0m\u001b[0;34m\u001b[0m\u001b[0;34m\u001b[0m\u001b[0m\n\u001b[1;32m    561\u001b[0m       \u001b[0;32mif\u001b[0m \u001b[0mgetattr\u001b[0m\u001b[0;34m(\u001b[0m\u001b[0mcallback\u001b[0m\u001b[0;34m,\u001b[0m \u001b[0;34m'_supports_tf_logs'\u001b[0m\u001b[0;34m,\u001b[0m \u001b[0;32mFalse\u001b[0m\u001b[0;34m)\u001b[0m\u001b[0;34m:\u001b[0m\u001b[0;34m\u001b[0m\u001b[0;34m\u001b[0m\u001b[0m\n\u001b[0;32m--> 562\u001b[0;31m         \u001b[0mcallback\u001b[0m\u001b[0;34m.\u001b[0m\u001b[0mon_test_end\u001b[0m\u001b[0;34m(\u001b[0m\u001b[0mlogs\u001b[0m\u001b[0;34m)\u001b[0m\u001b[0;34m\u001b[0m\u001b[0;34m\u001b[0m\u001b[0m\n\u001b[0m\u001b[1;32m    563\u001b[0m       \u001b[0;32melse\u001b[0m\u001b[0;34m:\u001b[0m\u001b[0;34m\u001b[0m\u001b[0;34m\u001b[0m\u001b[0m\n\u001b[1;32m    564\u001b[0m         \u001b[0;32mif\u001b[0m \u001b[0mnumpy_logs\u001b[0m \u001b[0;32mis\u001b[0m \u001b[0;32mNone\u001b[0m\u001b[0;34m:\u001b[0m  \u001b[0;31m# Only convert once.\u001b[0m\u001b[0;34m\u001b[0m\u001b[0;34m\u001b[0m\u001b[0m\n",
      "\u001b[0;32m/opt/anaconda3/lib/python3.7/site-packages/tensorflow/python/keras/callbacks.py\u001b[0m in \u001b[0;36mon_test_end\u001b[0;34m(self, logs)\u001b[0m\n\u001b[1;32m   1033\u001b[0m   \u001b[0;32mdef\u001b[0m \u001b[0mon_test_end\u001b[0m\u001b[0;34m(\u001b[0m\u001b[0mself\u001b[0m\u001b[0;34m,\u001b[0m \u001b[0mlogs\u001b[0m\u001b[0;34m=\u001b[0m\u001b[0;32mNone\u001b[0m\u001b[0;34m)\u001b[0m\u001b[0;34m:\u001b[0m\u001b[0;34m\u001b[0m\u001b[0;34m\u001b[0m\u001b[0m\n\u001b[1;32m   1034\u001b[0m     \u001b[0;32mif\u001b[0m \u001b[0;32mnot\u001b[0m \u001b[0mself\u001b[0m\u001b[0;34m.\u001b[0m\u001b[0m_called_in_fit\u001b[0m\u001b[0;34m:\u001b[0m\u001b[0;34m\u001b[0m\u001b[0;34m\u001b[0m\u001b[0m\n\u001b[0;32m-> 1035\u001b[0;31m       \u001b[0mself\u001b[0m\u001b[0;34m.\u001b[0m\u001b[0m_finalize_progbar\u001b[0m\u001b[0;34m(\u001b[0m\u001b[0mlogs\u001b[0m\u001b[0;34m,\u001b[0m \u001b[0mself\u001b[0m\u001b[0;34m.\u001b[0m\u001b[0m_test_step\u001b[0m\u001b[0;34m)\u001b[0m\u001b[0;34m\u001b[0m\u001b[0;34m\u001b[0m\u001b[0m\n\u001b[0m\u001b[1;32m   1036\u001b[0m \u001b[0;34m\u001b[0m\u001b[0m\n\u001b[1;32m   1037\u001b[0m   \u001b[0;32mdef\u001b[0m \u001b[0mon_predict_end\u001b[0m\u001b[0;34m(\u001b[0m\u001b[0mself\u001b[0m\u001b[0;34m,\u001b[0m \u001b[0mlogs\u001b[0m\u001b[0;34m=\u001b[0m\u001b[0;32mNone\u001b[0m\u001b[0;34m)\u001b[0m\u001b[0;34m:\u001b[0m\u001b[0;34m\u001b[0m\u001b[0;34m\u001b[0m\u001b[0m\n",
      "\u001b[0;32m/opt/anaconda3/lib/python3.7/site-packages/tensorflow/python/keras/callbacks.py\u001b[0m in \u001b[0;36m_finalize_progbar\u001b[0;34m(self, logs, counter)\u001b[0m\n\u001b[1;32m   1094\u001b[0m       \u001b[0mself\u001b[0m\u001b[0;34m.\u001b[0m\u001b[0mtarget\u001b[0m \u001b[0;34m=\u001b[0m \u001b[0mcounter\u001b[0m \u001b[0;32mor\u001b[0m \u001b[0mself\u001b[0m\u001b[0;34m.\u001b[0m\u001b[0mseen\u001b[0m\u001b[0;34m\u001b[0m\u001b[0;34m\u001b[0m\u001b[0m\n\u001b[1;32m   1095\u001b[0m       \u001b[0mself\u001b[0m\u001b[0;34m.\u001b[0m\u001b[0mprogbar\u001b[0m\u001b[0;34m.\u001b[0m\u001b[0mtarget\u001b[0m \u001b[0;34m=\u001b[0m \u001b[0mself\u001b[0m\u001b[0;34m.\u001b[0m\u001b[0mtarget\u001b[0m\u001b[0;34m\u001b[0m\u001b[0;34m\u001b[0m\u001b[0m\n\u001b[0;32m-> 1096\u001b[0;31m     \u001b[0mself\u001b[0m\u001b[0;34m.\u001b[0m\u001b[0mprogbar\u001b[0m\u001b[0;34m.\u001b[0m\u001b[0mupdate\u001b[0m\u001b[0;34m(\u001b[0m\u001b[0mself\u001b[0m\u001b[0;34m.\u001b[0m\u001b[0mtarget\u001b[0m\u001b[0;34m,\u001b[0m \u001b[0mlist\u001b[0m\u001b[0;34m(\u001b[0m\u001b[0mlogs\u001b[0m\u001b[0;34m.\u001b[0m\u001b[0mitems\u001b[0m\u001b[0;34m(\u001b[0m\u001b[0;34m)\u001b[0m\u001b[0;34m)\u001b[0m\u001b[0;34m,\u001b[0m \u001b[0mfinalize\u001b[0m\u001b[0;34m=\u001b[0m\u001b[0;32mTrue\u001b[0m\u001b[0;34m)\u001b[0m\u001b[0;34m\u001b[0m\u001b[0;34m\u001b[0m\u001b[0m\n\u001b[0m\u001b[1;32m   1097\u001b[0m \u001b[0;34m\u001b[0m\u001b[0m\n\u001b[1;32m   1098\u001b[0m \u001b[0;34m\u001b[0m\u001b[0m\n",
      "\u001b[0;32m/opt/anaconda3/lib/python3.7/site-packages/tensorflow/python/keras/utils/generic_utils.py\u001b[0m in \u001b[0;36mupdate\u001b[0;34m(self, current, values, finalize)\u001b[0m\n\u001b[1;32m    581\u001b[0m \u001b[0;34m\u001b[0m\u001b[0m\n\u001b[1;32m    582\u001b[0m       \u001b[0;32mif\u001b[0m \u001b[0mself\u001b[0m\u001b[0;34m.\u001b[0m\u001b[0mtarget\u001b[0m \u001b[0;32mis\u001b[0m \u001b[0;32mnot\u001b[0m \u001b[0;32mNone\u001b[0m\u001b[0;34m:\u001b[0m\u001b[0;34m\u001b[0m\u001b[0;34m\u001b[0m\u001b[0m\n\u001b[0;32m--> 583\u001b[0;31m         \u001b[0mnumdigits\u001b[0m \u001b[0;34m=\u001b[0m \u001b[0mint\u001b[0m\u001b[0;34m(\u001b[0m\u001b[0mnp\u001b[0m\u001b[0;34m.\u001b[0m\u001b[0mlog10\u001b[0m\u001b[0;34m(\u001b[0m\u001b[0mself\u001b[0m\u001b[0;34m.\u001b[0m\u001b[0mtarget\u001b[0m\u001b[0;34m)\u001b[0m\u001b[0;34m)\u001b[0m \u001b[0;34m+\u001b[0m \u001b[0;36m1\u001b[0m\u001b[0;34m\u001b[0m\u001b[0;34m\u001b[0m\u001b[0m\n\u001b[0m\u001b[1;32m    584\u001b[0m         \u001b[0mbar\u001b[0m \u001b[0;34m=\u001b[0m \u001b[0;34m(\u001b[0m\u001b[0;34m'%'\u001b[0m \u001b[0;34m+\u001b[0m \u001b[0mstr\u001b[0m\u001b[0;34m(\u001b[0m\u001b[0mnumdigits\u001b[0m\u001b[0;34m)\u001b[0m \u001b[0;34m+\u001b[0m \u001b[0;34m'd/%d ['\u001b[0m\u001b[0;34m)\u001b[0m \u001b[0;34m%\u001b[0m \u001b[0;34m(\u001b[0m\u001b[0mcurrent\u001b[0m\u001b[0;34m,\u001b[0m \u001b[0mself\u001b[0m\u001b[0;34m.\u001b[0m\u001b[0mtarget\u001b[0m\u001b[0;34m)\u001b[0m\u001b[0;34m\u001b[0m\u001b[0;34m\u001b[0m\u001b[0m\n\u001b[1;32m    585\u001b[0m         \u001b[0mprog\u001b[0m \u001b[0;34m=\u001b[0m \u001b[0mfloat\u001b[0m\u001b[0;34m(\u001b[0m\u001b[0mcurrent\u001b[0m\u001b[0;34m)\u001b[0m \u001b[0;34m/\u001b[0m \u001b[0mself\u001b[0m\u001b[0;34m.\u001b[0m\u001b[0mtarget\u001b[0m\u001b[0;34m\u001b[0m\u001b[0;34m\u001b[0m\u001b[0m\n",
      "\u001b[0;31mOverflowError\u001b[0m: cannot convert float infinity to integer"
     ]
    }
   ],
   "source": [
    "score = model.evaluate(X_val, y_val, verbose=1)"
   ]
  },
  {
   "cell_type": "code",
   "execution_count": null,
   "metadata": {},
   "outputs": [],
   "source": [
    "senti_train = []\n",
    "for i in X_train:\n",
    "    input = np.expand_dims(i,axis=0)\n",
    "    senti_train.append(model.predict(input))\n",
    "\n",
    "senti_train_num = []\n",
    "for i in range(len(senti_train)):\n",
    "    senti_train_num.append(senti_train[i][0][0])\n",
    "\n",
    "senti_train = pd.DataFrame(list(zip(senti_train_num, y_train)), columns =['Senti', 'Y'])\n",
    "senti_train.groupby('Y').mean()"
   ]
  },
  {
   "cell_type": "code",
   "execution_count": null,
   "metadata": {},
   "outputs": [],
   "source": [
    "senti_train.loc[senti_train['Y']==0,'Senti'].plot.density()\n",
    "senti_train.loc[senti_train['Y']==1,'Senti'].plot.density()"
   ]
  },
  {
   "cell_type": "code",
   "execution_count": null,
   "metadata": {},
   "outputs": [],
   "source": [
    "senti_val = []\n",
    "for i in X_val:\n",
    "    input = np.expand_dims(i,axis=0)\n",
    "    senti_val.append(model.predict(input))\n",
    "    \n",
    "senti_val_num = []\n",
    "for i in range(len(senti_val)):\n",
    "    senti_val_num.append(senti_val[i][0][0])\n",
    "\n",
    "senti_val = pd.DataFrame(list(zip(senti_val_num, y_val)), columns =['Senti', 'Y'])\n",
    "senti_val.groupby('Y').mean()"
   ]
  },
  {
   "cell_type": "code",
   "execution_count": null,
   "metadata": {},
   "outputs": [],
   "source": [
    "senti_val.loc[senti_val['Y']==0,'Senti'].plot.density()\n",
    "senti_val.loc[senti_val['Y']==1,'Senti'].plot.density()"
   ]
  },
  {
   "cell_type": "code",
   "execution_count": null,
   "metadata": {},
   "outputs": [],
   "source": [
    "# 绘制训练 & 验证的损失值\n",
    "plt.plot(history.history['accuracy'])\n",
    "plt.title('Accuracy')\n",
    "plt.ylabel('Accuracy')\n",
    "plt.xlabel('Epoch')\n",
    "plt.legend(['Train', 'Test'], loc='upper left')\n",
    "plt.show()"
   ]
  },
  {
   "cell_type": "markdown",
   "metadata": {},
   "source": [
    "## Merging the sentiment back to original data"
   ]
  },
  {
   "cell_type": "code",
   "execution_count": null,
   "metadata": {},
   "outputs": [],
   "source": [
    "senti = senti_train.append(senti_val)"
   ]
  },
  {
   "cell_type": "code",
   "execution_count": null,
   "metadata": {},
   "outputs": [],
   "source": [
    "senti.head()"
   ]
  },
  {
   "cell_type": "code",
   "execution_count": null,
   "metadata": {},
   "outputs": [],
   "source": [
    "senti_id = df_json_sample.join(senti)[['id','Senti']]"
   ]
  },
  {
   "cell_type": "code",
   "execution_count": null,
   "metadata": {},
   "outputs": [],
   "source": [
    "senti_id.dropna(inplace=True)"
   ]
  },
  {
   "cell_type": "code",
   "execution_count": null,
   "metadata": {},
   "outputs": [],
   "source": [
    "senti_id.head(1)"
   ]
  },
  {
   "cell_type": "code",
   "execution_count": null,
   "metadata": {},
   "outputs": [],
   "source": [
    "senti_id_avg = senti_id.groupby('id')['Senti'].agg('mean')"
   ]
  },
  {
   "cell_type": "code",
   "execution_count": null,
   "metadata": {},
   "outputs": [],
   "source": [
    "df_json_full.shape"
   ]
  },
  {
   "cell_type": "code",
   "execution_count": null,
   "metadata": {},
   "outputs": [],
   "source": [
    "df_final = df_json_full.merge(senti_id_avg, how='inner', on='id')"
   ]
  },
  {
   "cell_type": "code",
   "execution_count": null,
   "metadata": {},
   "outputs": [],
   "source": [
    "df_final.head(1)"
   ]
  },
  {
   "cell_type": "code",
   "execution_count": null,
   "metadata": {},
   "outputs": [],
   "source": [
    "df_final.groupby('立项')['Senti'].agg('mean')"
   ]
  },
  {
   "cell_type": "code",
   "execution_count": null,
   "metadata": {},
   "outputs": [],
   "source": [
    "df_final.loc[df_final['立项']==0,'Senti'].plot.density()\n",
    "df_final.loc[df_final['立项']==1,'Senti'].plot.density()"
   ]
  },
  {
   "cell_type": "code",
   "execution_count": null,
   "metadata": {},
   "outputs": [],
   "source": [
    "rd_negative = (df_final['立项']==0) & (df_final['Senti']>=0.4) & (df_final['Senti']<=0.6)\n",
    "df_rd_neg = df_final[rd_negative]\n",
    "rd_positive = (df_final['立项']==1) & (df_final['Senti']>=0.4) & (df_final['Senti']<=0.6)\n",
    "df_rd_positive = df_final[rd_positive]"
   ]
  },
  {
   "cell_type": "code",
   "execution_count": null,
   "metadata": {},
   "outputs": [],
   "source": [
    "df_rd_neg.shape"
   ]
  },
  {
   "cell_type": "code",
   "execution_count": null,
   "metadata": {},
   "outputs": [],
   "source": [
    "df_rd_positive.shape"
   ]
  }
 ],
 "metadata": {
  "kernelspec": {
   "display_name": "Python 3",
   "language": "python",
   "name": "python3"
  },
  "language_info": {
   "codemirror_mode": {
    "name": "ipython",
    "version": 3
   },
   "file_extension": ".py",
   "mimetype": "text/x-python",
   "name": "python",
   "nbconvert_exporter": "python",
   "pygments_lexer": "ipython3",
   "version": "3.7.4"
  }
 },
 "nbformat": 4,
 "nbformat_minor": 2
}
