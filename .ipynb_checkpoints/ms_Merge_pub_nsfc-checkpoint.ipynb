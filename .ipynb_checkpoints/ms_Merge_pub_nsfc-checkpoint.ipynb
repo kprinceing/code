{
 "cells": [
  {
   "cell_type": "code",
   "execution_count": 1,
   "metadata": {},
   "outputs": [],
   "source": [
    "import numpy as np\n",
    "import pandas as pd\n",
    "import os\n",
    "from pypinyin import pinyin, lazy_pinyin, Style\n",
    "import matplotlib.pyplot as plt\n",
    "#from sklearn.linear_model import LinearRegression\n",
    "\n",
    "#import janitor\n",
    "import econtools.metrics as mt\n"
   ]
  },
  {
   "cell_type": "markdown",
   "metadata": {},
   "source": [
    "### NSFC data"
   ]
  },
  {
   "cell_type": "code",
   "execution_count": 2,
   "metadata": {},
   "outputs": [],
   "source": [
    "qn_all = pd.read_csv(\"/Users/yansong/Nutstore Files/基金研究/data/2013--2022面青/ms_all.csv\")"
   ]
  },
  {
   "cell_type": "code",
   "execution_count": 3,
   "metadata": {},
   "outputs": [
    {
     "data": {
      "text/plain": [
       "(4758, 12)"
      ]
     },
     "execution_count": 3,
     "metadata": {},
     "output_type": "execute_result"
    }
   ],
   "source": [
    "qn_all.shape"
   ]
  },
  {
   "cell_type": "code",
   "execution_count": 4,
   "metadata": {},
   "outputs": [],
   "source": [
    "qn_all['立项年份'] = qn_all['年份']*qn_all['立项']"
   ]
  },
  {
   "cell_type": "code",
   "execution_count": 5,
   "metadata": {},
   "outputs": [],
   "source": [
    "qn_all = pd.DataFrame(qn_all.groupby(['申请人']).立项年份.max()).reset_index()"
   ]
  },
  {
   "cell_type": "code",
   "execution_count": 6,
   "metadata": {},
   "outputs": [
    {
     "data": {
      "text/html": [
       "<div>\n",
       "<style scoped>\n",
       "    .dataframe tbody tr th:only-of-type {\n",
       "        vertical-align: middle;\n",
       "    }\n",
       "\n",
       "    .dataframe tbody tr th {\n",
       "        vertical-align: top;\n",
       "    }\n",
       "\n",
       "    .dataframe thead th {\n",
       "        text-align: right;\n",
       "    }\n",
       "</style>\n",
       "<table border=\"1\" class=\"dataframe\">\n",
       "  <thead>\n",
       "    <tr style=\"text-align: right;\">\n",
       "      <th></th>\n",
       "      <th>申请人</th>\n",
       "      <th>立项年份</th>\n",
       "    </tr>\n",
       "  </thead>\n",
       "  <tbody>\n",
       "    <tr>\n",
       "      <th>0</th>\n",
       "      <td>ALEXANDER DEGELING</td>\n",
       "      <td>2017</td>\n",
       "    </tr>\n",
       "    <tr>\n",
       "      <th>1</th>\n",
       "      <td>Abdelwahid MELLOUKI</td>\n",
       "      <td>2019</td>\n",
       "    </tr>\n",
       "    <tr>\n",
       "      <th>2</th>\n",
       "      <td>Balan Nanan</td>\n",
       "      <td>0</td>\n",
       "    </tr>\n",
       "    <tr>\n",
       "      <th>3</th>\n",
       "      <td>DONG MING WANG</td>\n",
       "      <td>0</td>\n",
       "    </tr>\n",
       "    <tr>\n",
       "      <th>4</th>\n",
       "      <td>Hartmut Günter Dr. Herrmann</td>\n",
       "      <td>2019</td>\n",
       "    </tr>\n",
       "    <tr>\n",
       "      <th>5</th>\n",
       "      <td>Hiroshi Rikimaru</td>\n",
       "      <td>0</td>\n",
       "    </tr>\n",
       "    <tr>\n",
       "      <th>6</th>\n",
       "      <td>Jeongwoo Lee</td>\n",
       "      <td>2019</td>\n",
       "    </tr>\n",
       "    <tr>\n",
       "      <th>7</th>\n",
       "      <td>Jong-Sun Park</td>\n",
       "      <td>0</td>\n",
       "    </tr>\n",
       "    <tr>\n",
       "      <th>8</th>\n",
       "      <td>Kaufmann</td>\n",
       "      <td>0</td>\n",
       "    </tr>\n",
       "    <tr>\n",
       "      <th>9</th>\n",
       "      <td>Motoharu Nowada</td>\n",
       "      <td>0</td>\n",
       "    </tr>\n",
       "  </tbody>\n",
       "</table>\n",
       "</div>"
      ],
      "text/plain": [
       "                           申请人  立项年份\n",
       "0           ALEXANDER DEGELING  2017\n",
       "1          Abdelwahid MELLOUKI  2019\n",
       "2                  Balan Nanan     0\n",
       "3               DONG MING WANG     0\n",
       "4  Hartmut Günter Dr. Herrmann  2019\n",
       "5             Hiroshi Rikimaru     0\n",
       "6                 Jeongwoo Lee  2019\n",
       "7                Jong-Sun Park     0\n",
       "8                     Kaufmann     0\n",
       "9              Motoharu Nowada     0"
      ]
     },
     "execution_count": 6,
     "metadata": {},
     "output_type": "execute_result"
    }
   ],
   "source": [
    "qn_all.head(10)"
   ]
  },
  {
   "cell_type": "code",
   "execution_count": 7,
   "metadata": {},
   "outputs": [
    {
     "data": {
      "text/plain": [
       "0       1073\n",
       "2021     164\n",
       "2022     156\n",
       "2020     136\n",
       "2019     128\n",
       "2018      81\n",
       "2017      61\n",
       "2015      40\n",
       "2014      39\n",
       "2013      36\n",
       "2016      33\n",
       "Name: 立项年份, dtype: int64"
      ]
     },
     "execution_count": 7,
     "metadata": {},
     "output_type": "execute_result"
    }
   ],
   "source": [
    "qn_all.立项年份.value_counts()"
   ]
  },
  {
   "cell_type": "code",
   "execution_count": 8,
   "metadata": {},
   "outputs": [],
   "source": [
    "def pinyin(name):\n",
    "    i = lazy_pinyin(name)\n",
    "    if len(i) == 3:\n",
    "        capitalized = [str.capitalize(i[0]),str.capitalize(i[1]+i[2])]\n",
    "    elif len(i) == 2:\n",
    "        capitalized = [str.capitalize(i[0]),str.capitalize(i[1])]\n",
    "    else:\n",
    "        print(i)\n",
    "        capitalized = i\n",
    "    return capitalized"
   ]
  },
  {
   "cell_type": "code",
   "execution_count": 9,
   "metadata": {},
   "outputs": [
    {
     "name": "stdout",
     "output_type": "stream",
     "text": [
      "['ALEXANDER DEGELING']\n",
      "['Abdelwahid MELLOUKI']\n",
      "['Balan Nanan']\n",
      "['DONG MING WANG']\n",
      "['Hartmut Günter Dr. Herrmann']\n",
      "['Hiroshi Rikimaru']\n",
      "['Jeongwoo Lee']\n",
      "['Jong-Sun Park']\n",
      "['Kaufmann']\n",
      "['Motoharu Nowada']\n",
      "['Rolf Mueller']\n",
      "['Rolf Müller']\n",
      "['Timo Pitknen']\n",
      "['Tsona Tchinda Narcisse']\n",
      "['XU GUANGWU']\n",
      "['du', 'yang', 'hong', 'yue']\n"
     ]
    }
   ],
   "source": [
    "qn_all['pinyin']= qn_all['申请人'].apply(pinyin)"
   ]
  },
  {
   "cell_type": "code",
   "execution_count": 10,
   "metadata": {},
   "outputs": [],
   "source": [
    "def surname(name):\n",
    "    i = lazy_pinyin(name)\n",
    "    if len(i) == 3:\n",
    "        capitalized = str.capitalize(i[0])\n",
    "    elif len(i) == 2:\n",
    "        capitalized = str.capitalize(i[0])\n",
    "    else:\n",
    "        print(i)\n",
    "        capitalized = i[0]\n",
    "    return capitalized\n",
    "\n",
    "def givenname(name):\n",
    "    i = lazy_pinyin(name)\n",
    "    if len(i) == 3:\n",
    "        capitalized = str.capitalize(i[1]+i[2])\n",
    "    elif len(i) == 2:\n",
    "        capitalized = str.capitalize(i[1])\n",
    "    else:\n",
    "        print(i)\n",
    "        capitalized = i[0]\n",
    "    return capitalized"
   ]
  },
  {
   "cell_type": "code",
   "execution_count": 11,
   "metadata": {},
   "outputs": [
    {
     "name": "stdout",
     "output_type": "stream",
     "text": [
      "['ALEXANDER DEGELING']\n",
      "['Abdelwahid MELLOUKI']\n",
      "['Balan Nanan']\n",
      "['DONG MING WANG']\n",
      "['Hartmut Günter Dr. Herrmann']\n",
      "['Hiroshi Rikimaru']\n",
      "['Jeongwoo Lee']\n",
      "['Jong-Sun Park']\n",
      "['Kaufmann']\n",
      "['Motoharu Nowada']\n",
      "['Rolf Mueller']\n",
      "['Rolf Müller']\n",
      "['Timo Pitknen']\n",
      "['Tsona Tchinda Narcisse']\n",
      "['XU GUANGWU']\n",
      "['du', 'yang', 'hong', 'yue']\n"
     ]
    }
   ],
   "source": [
    "qn_all['surname'] = qn_all['申请人'].apply(surname)"
   ]
  },
  {
   "cell_type": "code",
   "execution_count": 12,
   "metadata": {},
   "outputs": [
    {
     "name": "stdout",
     "output_type": "stream",
     "text": [
      "['ALEXANDER DEGELING']\n",
      "['Abdelwahid MELLOUKI']\n",
      "['Balan Nanan']\n",
      "['DONG MING WANG']\n",
      "['Hartmut Günter Dr. Herrmann']\n",
      "['Hiroshi Rikimaru']\n",
      "['Jeongwoo Lee']\n",
      "['Jong-Sun Park']\n",
      "['Kaufmann']\n",
      "['Motoharu Nowada']\n",
      "['Rolf Mueller']\n",
      "['Rolf Müller']\n",
      "['Timo Pitknen']\n",
      "['Tsona Tchinda Narcisse']\n",
      "['XU GUANGWU']\n",
      "['du', 'yang', 'hong', 'yue']\n"
     ]
    }
   ],
   "source": [
    "qn_all['givenname'] = qn_all['申请人'].apply(givenname)"
   ]
  },
  {
   "cell_type": "code",
   "execution_count": 13,
   "metadata": {},
   "outputs": [
    {
     "data": {
      "text/plain": [
       "str"
      ]
     },
     "execution_count": 13,
     "metadata": {},
     "output_type": "execute_result"
    }
   ],
   "source": [
    "type(qn_all.givenname[0])"
   ]
  },
  {
   "cell_type": "code",
   "execution_count": 14,
   "metadata": {},
   "outputs": [
    {
     "data": {
      "text/plain": [
       "str"
      ]
     },
     "execution_count": 14,
     "metadata": {},
     "output_type": "execute_result"
    }
   ],
   "source": [
    "type(qn_all.surname[0])"
   ]
  },
  {
   "cell_type": "code",
   "execution_count": 15,
   "metadata": {},
   "outputs": [],
   "source": [
    "qn_all['author_name'] = qn_all['surname']+' '+qn_all['givenname']"
   ]
  },
  {
   "cell_type": "code",
   "execution_count": 16,
   "metadata": {},
   "outputs": [
    {
     "data": {
      "text/html": [
       "<div>\n",
       "<style scoped>\n",
       "    .dataframe tbody tr th:only-of-type {\n",
       "        vertical-align: middle;\n",
       "    }\n",
       "\n",
       "    .dataframe tbody tr th {\n",
       "        vertical-align: top;\n",
       "    }\n",
       "\n",
       "    .dataframe thead th {\n",
       "        text-align: right;\n",
       "    }\n",
       "</style>\n",
       "<table border=\"1\" class=\"dataframe\">\n",
       "  <thead>\n",
       "    <tr style=\"text-align: right;\">\n",
       "      <th></th>\n",
       "      <th>申请人</th>\n",
       "      <th>立项年份</th>\n",
       "      <th>pinyin</th>\n",
       "      <th>surname</th>\n",
       "      <th>givenname</th>\n",
       "      <th>author_name</th>\n",
       "    </tr>\n",
       "  </thead>\n",
       "  <tbody>\n",
       "    <tr>\n",
       "      <th>0</th>\n",
       "      <td>ALEXANDER DEGELING</td>\n",
       "      <td>2017</td>\n",
       "      <td>[ALEXANDER DEGELING]</td>\n",
       "      <td>ALEXANDER DEGELING</td>\n",
       "      <td>ALEXANDER DEGELING</td>\n",
       "      <td>ALEXANDER DEGELING ALEXANDER DEGELING</td>\n",
       "    </tr>\n",
       "    <tr>\n",
       "      <th>1</th>\n",
       "      <td>Abdelwahid MELLOUKI</td>\n",
       "      <td>2019</td>\n",
       "      <td>[Abdelwahid MELLOUKI]</td>\n",
       "      <td>Abdelwahid MELLOUKI</td>\n",
       "      <td>Abdelwahid MELLOUKI</td>\n",
       "      <td>Abdelwahid MELLOUKI Abdelwahid MELLOUKI</td>\n",
       "    </tr>\n",
       "    <tr>\n",
       "      <th>2</th>\n",
       "      <td>Balan Nanan</td>\n",
       "      <td>0</td>\n",
       "      <td>[Balan Nanan]</td>\n",
       "      <td>Balan Nanan</td>\n",
       "      <td>Balan Nanan</td>\n",
       "      <td>Balan Nanan Balan Nanan</td>\n",
       "    </tr>\n",
       "    <tr>\n",
       "      <th>3</th>\n",
       "      <td>DONG MING WANG</td>\n",
       "      <td>0</td>\n",
       "      <td>[DONG MING WANG]</td>\n",
       "      <td>DONG MING WANG</td>\n",
       "      <td>DONG MING WANG</td>\n",
       "      <td>DONG MING WANG DONG MING WANG</td>\n",
       "    </tr>\n",
       "    <tr>\n",
       "      <th>4</th>\n",
       "      <td>Hartmut Günter Dr. Herrmann</td>\n",
       "      <td>2019</td>\n",
       "      <td>[Hartmut Günter Dr. Herrmann]</td>\n",
       "      <td>Hartmut Günter Dr. Herrmann</td>\n",
       "      <td>Hartmut Günter Dr. Herrmann</td>\n",
       "      <td>Hartmut Günter Dr. Herrmann Hartmut Günter Dr....</td>\n",
       "    </tr>\n",
       "    <tr>\n",
       "      <th>5</th>\n",
       "      <td>Hiroshi Rikimaru</td>\n",
       "      <td>0</td>\n",
       "      <td>[Hiroshi Rikimaru]</td>\n",
       "      <td>Hiroshi Rikimaru</td>\n",
       "      <td>Hiroshi Rikimaru</td>\n",
       "      <td>Hiroshi Rikimaru Hiroshi Rikimaru</td>\n",
       "    </tr>\n",
       "    <tr>\n",
       "      <th>6</th>\n",
       "      <td>Jeongwoo Lee</td>\n",
       "      <td>2019</td>\n",
       "      <td>[Jeongwoo Lee]</td>\n",
       "      <td>Jeongwoo Lee</td>\n",
       "      <td>Jeongwoo Lee</td>\n",
       "      <td>Jeongwoo Lee Jeongwoo Lee</td>\n",
       "    </tr>\n",
       "    <tr>\n",
       "      <th>7</th>\n",
       "      <td>Jong-Sun Park</td>\n",
       "      <td>0</td>\n",
       "      <td>[Jong-Sun Park]</td>\n",
       "      <td>Jong-Sun Park</td>\n",
       "      <td>Jong-Sun Park</td>\n",
       "      <td>Jong-Sun Park Jong-Sun Park</td>\n",
       "    </tr>\n",
       "    <tr>\n",
       "      <th>8</th>\n",
       "      <td>Kaufmann</td>\n",
       "      <td>0</td>\n",
       "      <td>[Kaufmann]</td>\n",
       "      <td>Kaufmann</td>\n",
       "      <td>Kaufmann</td>\n",
       "      <td>Kaufmann Kaufmann</td>\n",
       "    </tr>\n",
       "    <tr>\n",
       "      <th>9</th>\n",
       "      <td>Motoharu Nowada</td>\n",
       "      <td>0</td>\n",
       "      <td>[Motoharu Nowada]</td>\n",
       "      <td>Motoharu Nowada</td>\n",
       "      <td>Motoharu Nowada</td>\n",
       "      <td>Motoharu Nowada Motoharu Nowada</td>\n",
       "    </tr>\n",
       "  </tbody>\n",
       "</table>\n",
       "</div>"
      ],
      "text/plain": [
       "                           申请人  立项年份                         pinyin  \\\n",
       "0           ALEXANDER DEGELING  2017           [ALEXANDER DEGELING]   \n",
       "1          Abdelwahid MELLOUKI  2019          [Abdelwahid MELLOUKI]   \n",
       "2                  Balan Nanan     0                  [Balan Nanan]   \n",
       "3               DONG MING WANG     0               [DONG MING WANG]   \n",
       "4  Hartmut Günter Dr. Herrmann  2019  [Hartmut Günter Dr. Herrmann]   \n",
       "5             Hiroshi Rikimaru     0             [Hiroshi Rikimaru]   \n",
       "6                 Jeongwoo Lee  2019                 [Jeongwoo Lee]   \n",
       "7                Jong-Sun Park     0                [Jong-Sun Park]   \n",
       "8                     Kaufmann     0                     [Kaufmann]   \n",
       "9              Motoharu Nowada     0              [Motoharu Nowada]   \n",
       "\n",
       "                       surname                    givenname  \\\n",
       "0           ALEXANDER DEGELING           ALEXANDER DEGELING   \n",
       "1          Abdelwahid MELLOUKI          Abdelwahid MELLOUKI   \n",
       "2                  Balan Nanan                  Balan Nanan   \n",
       "3               DONG MING WANG               DONG MING WANG   \n",
       "4  Hartmut Günter Dr. Herrmann  Hartmut Günter Dr. Herrmann   \n",
       "5             Hiroshi Rikimaru             Hiroshi Rikimaru   \n",
       "6                 Jeongwoo Lee                 Jeongwoo Lee   \n",
       "7                Jong-Sun Park                Jong-Sun Park   \n",
       "8                     Kaufmann                     Kaufmann   \n",
       "9              Motoharu Nowada              Motoharu Nowada   \n",
       "\n",
       "                                         author_name  \n",
       "0              ALEXANDER DEGELING ALEXANDER DEGELING  \n",
       "1            Abdelwahid MELLOUKI Abdelwahid MELLOUKI  \n",
       "2                            Balan Nanan Balan Nanan  \n",
       "3                      DONG MING WANG DONG MING WANG  \n",
       "4  Hartmut Günter Dr. Herrmann Hartmut Günter Dr....  \n",
       "5                  Hiroshi Rikimaru Hiroshi Rikimaru  \n",
       "6                          Jeongwoo Lee Jeongwoo Lee  \n",
       "7                        Jong-Sun Park Jong-Sun Park  \n",
       "8                                  Kaufmann Kaufmann  \n",
       "9                    Motoharu Nowada Motoharu Nowada  "
      ]
     },
     "execution_count": 16,
     "metadata": {},
     "output_type": "execute_result"
    }
   ],
   "source": [
    "qn_all.head(10)"
   ]
  },
  {
   "cell_type": "code",
   "execution_count": 17,
   "metadata": {},
   "outputs": [
    {
     "name": "stderr",
     "output_type": "stream",
     "text": [
      "/opt/anaconda3/lib/python3.7/site-packages/ipykernel_launcher.py:1: FutureWarning: Indexing with multiple keys (implicitly converted to a tuple of keys) will be deprecated, use a list instead.\n",
      "  \"\"\"Entry point for launching an IPython kernel.\n"
     ]
    }
   ],
   "source": [
    "qn_nsfc = qn_all.groupby(['申请人','author_name'])['author_name','立项年份'].mean().reset_index()"
   ]
  },
  {
   "cell_type": "code",
   "execution_count": 18,
   "metadata": {},
   "outputs": [
    {
     "data": {
      "text/html": [
       "<div>\n",
       "<style scoped>\n",
       "    .dataframe tbody tr th:only-of-type {\n",
       "        vertical-align: middle;\n",
       "    }\n",
       "\n",
       "    .dataframe tbody tr th {\n",
       "        vertical-align: top;\n",
       "    }\n",
       "\n",
       "    .dataframe thead th {\n",
       "        text-align: right;\n",
       "    }\n",
       "</style>\n",
       "<table border=\"1\" class=\"dataframe\">\n",
       "  <thead>\n",
       "    <tr style=\"text-align: right;\">\n",
       "      <th></th>\n",
       "      <th>申请人</th>\n",
       "      <th>author_name</th>\n",
       "      <th>立项年份</th>\n",
       "    </tr>\n",
       "  </thead>\n",
       "  <tbody>\n",
       "    <tr>\n",
       "      <th>0</th>\n",
       "      <td>ALEXANDER DEGELING</td>\n",
       "      <td>ALEXANDER DEGELING ALEXANDER DEGELING</td>\n",
       "      <td>2017.0</td>\n",
       "    </tr>\n",
       "    <tr>\n",
       "      <th>1</th>\n",
       "      <td>Abdelwahid MELLOUKI</td>\n",
       "      <td>Abdelwahid MELLOUKI Abdelwahid MELLOUKI</td>\n",
       "      <td>2019.0</td>\n",
       "    </tr>\n",
       "    <tr>\n",
       "      <th>2</th>\n",
       "      <td>Balan Nanan</td>\n",
       "      <td>Balan Nanan Balan Nanan</td>\n",
       "      <td>0.0</td>\n",
       "    </tr>\n",
       "    <tr>\n",
       "      <th>3</th>\n",
       "      <td>DONG MING WANG</td>\n",
       "      <td>DONG MING WANG DONG MING WANG</td>\n",
       "      <td>0.0</td>\n",
       "    </tr>\n",
       "    <tr>\n",
       "      <th>4</th>\n",
       "      <td>Hartmut Günter Dr. Herrmann</td>\n",
       "      <td>Hartmut Günter Dr. Herrmann Hartmut Günter Dr....</td>\n",
       "      <td>2019.0</td>\n",
       "    </tr>\n",
       "    <tr>\n",
       "      <th>5</th>\n",
       "      <td>Hiroshi Rikimaru</td>\n",
       "      <td>Hiroshi Rikimaru Hiroshi Rikimaru</td>\n",
       "      <td>0.0</td>\n",
       "    </tr>\n",
       "    <tr>\n",
       "      <th>6</th>\n",
       "      <td>Jeongwoo Lee</td>\n",
       "      <td>Jeongwoo Lee Jeongwoo Lee</td>\n",
       "      <td>2019.0</td>\n",
       "    </tr>\n",
       "    <tr>\n",
       "      <th>7</th>\n",
       "      <td>Jong-Sun Park</td>\n",
       "      <td>Jong-Sun Park Jong-Sun Park</td>\n",
       "      <td>0.0</td>\n",
       "    </tr>\n",
       "    <tr>\n",
       "      <th>8</th>\n",
       "      <td>Kaufmann</td>\n",
       "      <td>Kaufmann Kaufmann</td>\n",
       "      <td>0.0</td>\n",
       "    </tr>\n",
       "    <tr>\n",
       "      <th>9</th>\n",
       "      <td>Motoharu Nowada</td>\n",
       "      <td>Motoharu Nowada Motoharu Nowada</td>\n",
       "      <td>0.0</td>\n",
       "    </tr>\n",
       "  </tbody>\n",
       "</table>\n",
       "</div>"
      ],
      "text/plain": [
       "                           申请人  \\\n",
       "0           ALEXANDER DEGELING   \n",
       "1          Abdelwahid MELLOUKI   \n",
       "2                  Balan Nanan   \n",
       "3               DONG MING WANG   \n",
       "4  Hartmut Günter Dr. Herrmann   \n",
       "5             Hiroshi Rikimaru   \n",
       "6                 Jeongwoo Lee   \n",
       "7                Jong-Sun Park   \n",
       "8                     Kaufmann   \n",
       "9              Motoharu Nowada   \n",
       "\n",
       "                                         author_name    立项年份  \n",
       "0              ALEXANDER DEGELING ALEXANDER DEGELING  2017.0  \n",
       "1            Abdelwahid MELLOUKI Abdelwahid MELLOUKI  2019.0  \n",
       "2                            Balan Nanan Balan Nanan     0.0  \n",
       "3                      DONG MING WANG DONG MING WANG     0.0  \n",
       "4  Hartmut Günter Dr. Herrmann Hartmut Günter Dr....  2019.0  \n",
       "5                  Hiroshi Rikimaru Hiroshi Rikimaru     0.0  \n",
       "6                          Jeongwoo Lee Jeongwoo Lee  2019.0  \n",
       "7                        Jong-Sun Park Jong-Sun Park     0.0  \n",
       "8                                  Kaufmann Kaufmann     0.0  \n",
       "9                    Motoharu Nowada Motoharu Nowada     0.0  "
      ]
     },
     "execution_count": 18,
     "metadata": {},
     "output_type": "execute_result"
    }
   ],
   "source": [
    "qn_nsfc.head(10)"
   ]
  },
  {
   "cell_type": "code",
   "execution_count": 19,
   "metadata": {},
   "outputs": [
    {
     "data": {
      "text/plain": [
       "0.0       1073\n",
       "2021.0     164\n",
       "2022.0     156\n",
       "2020.0     136\n",
       "2019.0     128\n",
       "2018.0      81\n",
       "2017.0      61\n",
       "2015.0      40\n",
       "2014.0      39\n",
       "2013.0      36\n",
       "2016.0      33\n",
       "Name: 立项年份, dtype: int64"
      ]
     },
     "execution_count": 19,
     "metadata": {},
     "output_type": "execute_result"
    }
   ],
   "source": [
    "qn_nsfc.立项年份.value_counts()"
   ]
  },
  {
   "cell_type": "code",
   "execution_count": 20,
   "metadata": {},
   "outputs": [],
   "source": [
    "qn_nsfc['pinyin_counts'] =  qn_nsfc['author_name'].map(qn_nsfc.author_name.value_counts())"
   ]
  },
  {
   "cell_type": "code",
   "execution_count": 21,
   "metadata": {},
   "outputs": [
    {
     "data": {
      "text/plain": [
       "0       1\n",
       "1       1\n",
       "2       1\n",
       "3       1\n",
       "4       1\n",
       "       ..\n",
       "1942    1\n",
       "1943    1\n",
       "1944    1\n",
       "1945    1\n",
       "1946    1\n",
       "Name: author_name, Length: 1947, dtype: int64"
      ]
     },
     "execution_count": 21,
     "metadata": {},
     "output_type": "execute_result"
    }
   ],
   "source": [
    "qn_nsfc['author_name'].map(qn_nsfc.author_name.value_counts())"
   ]
  },
  {
   "cell_type": "code",
   "execution_count": 22,
   "metadata": {},
   "outputs": [],
   "source": [
    "qn_nsfc = qn_nsfc.loc[qn_nsfc['pinyin_counts']==1]"
   ]
  },
  {
   "cell_type": "code",
   "execution_count": 23,
   "metadata": {},
   "outputs": [
    {
     "data": {
      "text/html": [
       "<div>\n",
       "<style scoped>\n",
       "    .dataframe tbody tr th:only-of-type {\n",
       "        vertical-align: middle;\n",
       "    }\n",
       "\n",
       "    .dataframe tbody tr th {\n",
       "        vertical-align: top;\n",
       "    }\n",
       "\n",
       "    .dataframe thead th {\n",
       "        text-align: right;\n",
       "    }\n",
       "</style>\n",
       "<table border=\"1\" class=\"dataframe\">\n",
       "  <thead>\n",
       "    <tr style=\"text-align: right;\">\n",
       "      <th></th>\n",
       "      <th>申请人</th>\n",
       "      <th>author_name</th>\n",
       "      <th>立项年份</th>\n",
       "      <th>pinyin_counts</th>\n",
       "    </tr>\n",
       "  </thead>\n",
       "  <tbody>\n",
       "    <tr>\n",
       "      <th>0</th>\n",
       "      <td>ALEXANDER DEGELING</td>\n",
       "      <td>ALEXANDER DEGELING ALEXANDER DEGELING</td>\n",
       "      <td>2017.0</td>\n",
       "      <td>1</td>\n",
       "    </tr>\n",
       "    <tr>\n",
       "      <th>1</th>\n",
       "      <td>Abdelwahid MELLOUKI</td>\n",
       "      <td>Abdelwahid MELLOUKI Abdelwahid MELLOUKI</td>\n",
       "      <td>2019.0</td>\n",
       "      <td>1</td>\n",
       "    </tr>\n",
       "    <tr>\n",
       "      <th>2</th>\n",
       "      <td>Balan Nanan</td>\n",
       "      <td>Balan Nanan Balan Nanan</td>\n",
       "      <td>0.0</td>\n",
       "      <td>1</td>\n",
       "    </tr>\n",
       "    <tr>\n",
       "      <th>3</th>\n",
       "      <td>DONG MING WANG</td>\n",
       "      <td>DONG MING WANG DONG MING WANG</td>\n",
       "      <td>0.0</td>\n",
       "      <td>1</td>\n",
       "    </tr>\n",
       "    <tr>\n",
       "      <th>4</th>\n",
       "      <td>Hartmut Günter Dr. Herrmann</td>\n",
       "      <td>Hartmut Günter Dr. Herrmann Hartmut Günter Dr....</td>\n",
       "      <td>2019.0</td>\n",
       "      <td>1</td>\n",
       "    </tr>\n",
       "  </tbody>\n",
       "</table>\n",
       "</div>"
      ],
      "text/plain": [
       "                           申请人  \\\n",
       "0           ALEXANDER DEGELING   \n",
       "1          Abdelwahid MELLOUKI   \n",
       "2                  Balan Nanan   \n",
       "3               DONG MING WANG   \n",
       "4  Hartmut Günter Dr. Herrmann   \n",
       "\n",
       "                                         author_name    立项年份  pinyin_counts  \n",
       "0              ALEXANDER DEGELING ALEXANDER DEGELING  2017.0              1  \n",
       "1            Abdelwahid MELLOUKI Abdelwahid MELLOUKI  2019.0              1  \n",
       "2                            Balan Nanan Balan Nanan     0.0              1  \n",
       "3                      DONG MING WANG DONG MING WANG     0.0              1  \n",
       "4  Hartmut Günter Dr. Herrmann Hartmut Günter Dr....  2019.0              1  "
      ]
     },
     "execution_count": 23,
     "metadata": {},
     "output_type": "execute_result"
    }
   ],
   "source": [
    "qn_nsfc.head()"
   ]
  },
  {
   "cell_type": "code",
   "execution_count": 24,
   "metadata": {},
   "outputs": [
    {
     "data": {
      "text/plain": [
       "0.0       1024\n",
       "2021.0     157\n",
       "2022.0     145\n",
       "2020.0     132\n",
       "2019.0     121\n",
       "2018.0      79\n",
       "2017.0      61\n",
       "2014.0      39\n",
       "2015.0      36\n",
       "2013.0      34\n",
       "2016.0      31\n",
       "Name: 立项年份, dtype: int64"
      ]
     },
     "execution_count": 24,
     "metadata": {},
     "output_type": "execute_result"
    }
   ],
   "source": [
    "qn_nsfc.立项年份.value_counts()"
   ]
  },
  {
   "cell_type": "markdown",
   "metadata": {},
   "source": [
    "### Publication data\n",
    "\n",
    "- Consolidate all publications with unique author eid\n",
    "- Consolidate all author_eids\n",
    "- Merge the two using author_eid \n",
    "- Reshape to wide format"
   ]
  },
  {
   "cell_type": "code",
   "execution_count": 25,
   "metadata": {},
   "outputs": [
    {
     "name": "stdout",
     "output_type": "stream",
     "text": [
      "(37161, 11)\n"
     ]
    },
    {
     "data": {
      "text/html": [
       "<div>\n",
       "<style scoped>\n",
       "    .dataframe tbody tr th:only-of-type {\n",
       "        vertical-align: middle;\n",
       "    }\n",
       "\n",
       "    .dataframe tbody tr th {\n",
       "        vertical-align: top;\n",
       "    }\n",
       "\n",
       "    .dataframe thead th {\n",
       "        text-align: right;\n",
       "    }\n",
       "</style>\n",
       "<table border=\"1\" class=\"dataframe\">\n",
       "  <thead>\n",
       "    <tr style=\"text-align: right;\">\n",
       "      <th></th>\n",
       "      <th>author_eid_counts</th>\n",
       "      <th>affilname</th>\n",
       "      <th>afid</th>\n",
       "      <th>author_eid</th>\n",
       "      <th>author_names</th>\n",
       "      <th>citedby_count</th>\n",
       "      <th>coverDate</th>\n",
       "      <th>doi</th>\n",
       "      <th>eid</th>\n",
       "      <th>title</th>\n",
       "      <th>eid_counts</th>\n",
       "    </tr>\n",
       "  </thead>\n",
       "  <tbody>\n",
       "    <tr>\n",
       "      <th>0</th>\n",
       "      <td>0</td>\n",
       "      <td>Binzhou University;Shandong University;Shandon...</td>\n",
       "      <td>60083505;60031031;60001429</td>\n",
       "      <td>8317705400</td>\n",
       "      <td>Cai, J. X.;Zhu, H. L.;Liu, W.;Qi, Y. X.;Yang, ...</td>\n",
       "      <td>0</td>\n",
       "      <td>2022-11-01</td>\n",
       "      <td>10.1016/j.mtsust.2022.100192</td>\n",
       "      <td>2-s2.0-85135816857</td>\n",
       "      <td>Constructing melamine coating convertible into...</td>\n",
       "      <td>True</td>\n",
       "    </tr>\n",
       "  </tbody>\n",
       "</table>\n",
       "</div>"
      ],
      "text/plain": [
       "   author_eid_counts                                          affilname  \\\n",
       "0                  0  Binzhou University;Shandong University;Shandon...   \n",
       "\n",
       "                         afid  author_eid  \\\n",
       "0  60083505;60031031;60001429  8317705400   \n",
       "\n",
       "                                        author_names  citedby_count  \\\n",
       "0  Cai, J. X.;Zhu, H. L.;Liu, W.;Qi, Y. X.;Yang, ...              0   \n",
       "\n",
       "    coverDate                           doi                 eid  \\\n",
       "0  2022-11-01  10.1016/j.mtsust.2022.100192  2-s2.0-85135816857   \n",
       "\n",
       "                                               title  eid_counts  \n",
       "0  Constructing melamine coating convertible into...        True  "
      ]
     },
     "execution_count": 25,
     "metadata": {},
     "output_type": "execute_result"
    }
   ],
   "source": [
    "root_dir = \"/Users/yansong/Nutstore Files/基金研究/data/2013--2022面青/ms_scopusPub\"\n",
    "authors = os.listdir(root_dir)\n",
    "os.chdir(root_dir)\n",
    "unique = 0\n",
    "unique_lists = []\n",
    "for author_file in authors:\n",
    "    #print(author_file)\n",
    "    if '.csv' in author_file:\n",
    "        author_pubs = pd.read_csv(author_file)\n",
    "        author_pubs.rename(columns={\"Unnamed: 0\":\"author_eid_counts\"},inplace=True)\n",
    "        author_pubs['eid_counts'] = author_pubs['author_eid_counts']==0\n",
    "        counts = author_pubs.eid_counts.sum()    \n",
    "        if counts == 1:\n",
    "            unique_lists.append(author_pubs)\n",
    "            unique = unique+1\n",
    "            \n",
    "qn_pubs = pd.concat(unique_lists)\n",
    "print(qn_pubs.shape)\n",
    "qn_pubs.head(1)"
   ]
  },
  {
   "cell_type": "code",
   "execution_count": 26,
   "metadata": {},
   "outputs": [
    {
     "data": {
      "text/html": [
       "<div>\n",
       "<style scoped>\n",
       "    .dataframe tbody tr th:only-of-type {\n",
       "        vertical-align: middle;\n",
       "    }\n",
       "\n",
       "    .dataframe tbody tr th {\n",
       "        vertical-align: top;\n",
       "    }\n",
       "\n",
       "    .dataframe thead th {\n",
       "        text-align: right;\n",
       "    }\n",
       "</style>\n",
       "<table border=\"1\" class=\"dataframe\">\n",
       "  <thead>\n",
       "    <tr style=\"text-align: right;\">\n",
       "      <th></th>\n",
       "      <th>Unnamed: 0</th>\n",
       "      <th>eid</th>\n",
       "      <th>orcid</th>\n",
       "      <th>surname</th>\n",
       "      <th>initials</th>\n",
       "      <th>givenname</th>\n",
       "      <th>affiliation</th>\n",
       "      <th>documents</th>\n",
       "      <th>affiliation_id</th>\n",
       "      <th>city</th>\n",
       "      <th>country</th>\n",
       "      <th>areas</th>\n",
       "      <th>author_eid</th>\n",
       "    </tr>\n",
       "  </thead>\n",
       "  <tbody>\n",
       "    <tr>\n",
       "      <th>0</th>\n",
       "      <td>0</td>\n",
       "      <td>9-s2.0-57212831316</td>\n",
       "      <td>0000-0001-9707-584X</td>\n",
       "      <td>Li</td>\n",
       "      <td>C.</td>\n",
       "      <td>Chuanyang</td>\n",
       "      <td>Shandong University</td>\n",
       "      <td>20</td>\n",
       "      <td>60031031</td>\n",
       "      <td>Jinan</td>\n",
       "      <td>China</td>\n",
       "      <td>PHYS (19); EART (16)</td>\n",
       "      <td>57212831316</td>\n",
       "    </tr>\n",
       "  </tbody>\n",
       "</table>\n",
       "</div>"
      ],
      "text/plain": [
       "   Unnamed: 0                 eid                orcid surname initials  \\\n",
       "0           0  9-s2.0-57212831316  0000-0001-9707-584X      Li       C.   \n",
       "\n",
       "   givenname          affiliation  documents  affiliation_id   city country  \\\n",
       "0  Chuanyang  Shandong University         20        60031031  Jinan   China   \n",
       "\n",
       "                  areas   author_eid  \n",
       "0  PHYS (19); EART (16)  57212831316  "
      ]
     },
     "execution_count": 26,
     "metadata": {},
     "output_type": "execute_result"
    }
   ],
   "source": [
    "root_dir = \"/Users/yansong/Nutstore Files/基金研究/data/2013--2022面青/scopus\"\n",
    "authors = os.listdir(root_dir)\n",
    "os.chdir(root_dir)\n",
    "unique_lists = []\n",
    "\n",
    "for author_file in authors:\n",
    "    if '.csv' in author_file:\n",
    "        author_pubs = pd.read_csv(author_file)\n",
    "        if author_pubs.shape[0] == 1:\n",
    "            unique_lists.append(author_pubs)\n",
    "            unique = unique+1\n",
    "author_ids = pd.concat(unique_lists)\n",
    "author_ids['author_eid']= author_ids['eid'].str.split(\"-\").str.get(2)\n",
    "author_ids['author_eid'] = author_ids['author_eid'].astype('int64')\n",
    "author_ids.head(1)"
   ]
  },
  {
   "cell_type": "code",
   "execution_count": 27,
   "metadata": {},
   "outputs": [],
   "source": [
    "qn_author_pubs = qn_pubs.merge(author_ids,how='left',on='author_eid')\n",
    "qn_author_pubs['year'] = qn_author_pubs['coverDate'].str[0:4]\n",
    "qn_author_pubs['author_name'] = qn_author_pubs['surname']+' ' +qn_author_pubs['givenname']"
   ]
  },
  {
   "cell_type": "code",
   "execution_count": 28,
   "metadata": {},
   "outputs": [
    {
     "data": {
      "text/html": [
       "<div>\n",
       "<style scoped>\n",
       "    .dataframe tbody tr th:only-of-type {\n",
       "        vertical-align: middle;\n",
       "    }\n",
       "\n",
       "    .dataframe tbody tr th {\n",
       "        vertical-align: top;\n",
       "    }\n",
       "\n",
       "    .dataframe thead th {\n",
       "        text-align: right;\n",
       "    }\n",
       "</style>\n",
       "<table border=\"1\" class=\"dataframe\">\n",
       "  <thead>\n",
       "    <tr style=\"text-align: right;\">\n",
       "      <th></th>\n",
       "      <th>author_eid_counts</th>\n",
       "      <th>affilname</th>\n",
       "      <th>afid</th>\n",
       "      <th>author_eid</th>\n",
       "      <th>author_names</th>\n",
       "      <th>citedby_count</th>\n",
       "      <th>coverDate</th>\n",
       "      <th>doi</th>\n",
       "      <th>eid_x</th>\n",
       "      <th>title</th>\n",
       "      <th>...</th>\n",
       "      <th>initials</th>\n",
       "      <th>givenname</th>\n",
       "      <th>affiliation</th>\n",
       "      <th>documents</th>\n",
       "      <th>affiliation_id</th>\n",
       "      <th>city</th>\n",
       "      <th>country</th>\n",
       "      <th>areas</th>\n",
       "      <th>year</th>\n",
       "      <th>author_name</th>\n",
       "    </tr>\n",
       "  </thead>\n",
       "  <tbody>\n",
       "    <tr>\n",
       "      <th>0</th>\n",
       "      <td>0</td>\n",
       "      <td>Binzhou University;Shandong University;Shandon...</td>\n",
       "      <td>60083505;60031031;60001429</td>\n",
       "      <td>8317705400</td>\n",
       "      <td>Cai, J. X.;Zhu, H. L.;Liu, W.;Qi, Y. X.;Yang, ...</td>\n",
       "      <td>0</td>\n",
       "      <td>2022-11-01</td>\n",
       "      <td>10.1016/j.mtsust.2022.100192</td>\n",
       "      <td>2-s2.0-85135816857</td>\n",
       "      <td>Constructing melamine coating convertible into...</td>\n",
       "      <td>...</td>\n",
       "      <td>NaN</td>\n",
       "      <td>NaN</td>\n",
       "      <td>NaN</td>\n",
       "      <td>NaN</td>\n",
       "      <td>NaN</td>\n",
       "      <td>NaN</td>\n",
       "      <td>NaN</td>\n",
       "      <td>NaN</td>\n",
       "      <td>2022</td>\n",
       "      <td>NaN</td>\n",
       "    </tr>\n",
       "  </tbody>\n",
       "</table>\n",
       "<p>1 rows × 25 columns</p>\n",
       "</div>"
      ],
      "text/plain": [
       "   author_eid_counts                                          affilname  \\\n",
       "0                  0  Binzhou University;Shandong University;Shandon...   \n",
       "\n",
       "                         afid  author_eid  \\\n",
       "0  60083505;60031031;60001429  8317705400   \n",
       "\n",
       "                                        author_names  citedby_count  \\\n",
       "0  Cai, J. X.;Zhu, H. L.;Liu, W.;Qi, Y. X.;Yang, ...              0   \n",
       "\n",
       "    coverDate                           doi               eid_x  \\\n",
       "0  2022-11-01  10.1016/j.mtsust.2022.100192  2-s2.0-85135816857   \n",
       "\n",
       "                                               title  ...  initials  \\\n",
       "0  Constructing melamine coating convertible into...  ...       NaN   \n",
       "\n",
       "   givenname affiliation documents affiliation_id city country areas  year  \\\n",
       "0        NaN         NaN       NaN            NaN  NaN     NaN   NaN  2022   \n",
       "\n",
       "   author_name  \n",
       "0          NaN  \n",
       "\n",
       "[1 rows x 25 columns]"
      ]
     },
     "execution_count": 28,
     "metadata": {},
     "output_type": "execute_result"
    }
   ],
   "source": [
    "qn_author_pubs.head(1)"
   ]
  },
  {
   "cell_type": "code",
   "execution_count": 29,
   "metadata": {},
   "outputs": [],
   "source": [
    "qn_author_year_pubs = qn_author_pubs.groupby(['author_name','year'])['author_eid_counts'].count()\n"
   ]
  },
  {
   "cell_type": "code",
   "execution_count": 30,
   "metadata": {},
   "outputs": [],
   "source": [
    "qn_author_year_pubs = qn_author_year_pubs.reset_index()"
   ]
  },
  {
   "cell_type": "code",
   "execution_count": 32,
   "metadata": {},
   "outputs": [
    {
     "data": {
      "text/html": [
       "<div>\n",
       "<style scoped>\n",
       "    .dataframe tbody tr th:only-of-type {\n",
       "        vertical-align: middle;\n",
       "    }\n",
       "\n",
       "    .dataframe tbody tr th {\n",
       "        vertical-align: top;\n",
       "    }\n",
       "\n",
       "    .dataframe thead th {\n",
       "        text-align: right;\n",
       "    }\n",
       "</style>\n",
       "<table border=\"1\" class=\"dataframe\">\n",
       "  <thead>\n",
       "    <tr style=\"text-align: right;\">\n",
       "      <th></th>\n",
       "      <th>author_name</th>\n",
       "      <th>year</th>\n",
       "      <th>author_eid_counts</th>\n",
       "    </tr>\n",
       "  </thead>\n",
       "  <tbody>\n",
       "    <tr>\n",
       "      <th>0</th>\n",
       "      <td>Bao Shoushan</td>\n",
       "      <td>2008</td>\n",
       "      <td>1</td>\n",
       "    </tr>\n",
       "    <tr>\n",
       "      <th>1</th>\n",
       "      <td>Bao Shoushan</td>\n",
       "      <td>2010</td>\n",
       "      <td>1</td>\n",
       "    </tr>\n",
       "    <tr>\n",
       "      <th>2</th>\n",
       "      <td>Bao Shoushan</td>\n",
       "      <td>2011</td>\n",
       "      <td>2</td>\n",
       "    </tr>\n",
       "    <tr>\n",
       "      <th>3</th>\n",
       "      <td>Bao Shoushan</td>\n",
       "      <td>2012</td>\n",
       "      <td>2</td>\n",
       "    </tr>\n",
       "    <tr>\n",
       "      <th>4</th>\n",
       "      <td>Bao Shoushan</td>\n",
       "      <td>2013</td>\n",
       "      <td>1</td>\n",
       "    </tr>\n",
       "    <tr>\n",
       "      <th>5</th>\n",
       "      <td>Bao Shoushan</td>\n",
       "      <td>2014</td>\n",
       "      <td>2</td>\n",
       "    </tr>\n",
       "    <tr>\n",
       "      <th>6</th>\n",
       "      <td>Bao Shoushan</td>\n",
       "      <td>2016</td>\n",
       "      <td>1</td>\n",
       "    </tr>\n",
       "    <tr>\n",
       "      <th>7</th>\n",
       "      <td>Bao Shoushan</td>\n",
       "      <td>2019</td>\n",
       "      <td>1</td>\n",
       "    </tr>\n",
       "    <tr>\n",
       "      <th>8</th>\n",
       "      <td>Bao Shoushan</td>\n",
       "      <td>2022</td>\n",
       "      <td>1</td>\n",
       "    </tr>\n",
       "    <tr>\n",
       "      <th>9</th>\n",
       "      <td>Bao Shoushan</td>\n",
       "      <td>2023</td>\n",
       "      <td>1</td>\n",
       "    </tr>\n",
       "  </tbody>\n",
       "</table>\n",
       "</div>"
      ],
      "text/plain": [
       "    author_name  year  author_eid_counts\n",
       "0  Bao Shoushan  2008                  1\n",
       "1  Bao Shoushan  2010                  1\n",
       "2  Bao Shoushan  2011                  2\n",
       "3  Bao Shoushan  2012                  2\n",
       "4  Bao Shoushan  2013                  1\n",
       "5  Bao Shoushan  2014                  2\n",
       "6  Bao Shoushan  2016                  1\n",
       "7  Bao Shoushan  2019                  1\n",
       "8  Bao Shoushan  2022                  1\n",
       "9  Bao Shoushan  2023                  1"
      ]
     },
     "execution_count": 32,
     "metadata": {},
     "output_type": "execute_result"
    }
   ],
   "source": [
    "qn_author_year_pubs.head(10)"
   ]
  },
  {
   "cell_type": "markdown",
   "metadata": {},
   "source": [
    "## Merge the NSFC and publication data"
   ]
  },
  {
   "cell_type": "code",
   "execution_count": 130,
   "metadata": {},
   "outputs": [],
   "source": [
    "qn_nsfc_pubs = qn_author_year_pubs.merge(qn_nsfc,how='left',on='author_name')\n"
   ]
  },
  {
   "cell_type": "code",
   "execution_count": 144,
   "metadata": {},
   "outputs": [],
   "source": [
    "qn_nsfc_pubs['grant_t'] = qn_nsfc_pubs['year'].astype('int64')-qn_nsfc_pubs['立项年份']\n",
    "qn_nsfc_pubs.loc[qn_nsfc_pubs['立项年份']==0,'grant_t'] = 0\n",
    "qn_nsfc_pubs['after_grant'] = qn_nsfc_pubs['grant_t'] >0\n",
    "qn_nsfc_pubs['after_grant'] = qn_nsfc_pubs['after_grant'].astype('int64')"
   ]
  },
  {
   "cell_type": "code",
   "execution_count": 145,
   "metadata": {},
   "outputs": [
    {
     "data": {
      "text/html": [
       "<div>\n",
       "<style scoped>\n",
       "    .dataframe tbody tr th:only-of-type {\n",
       "        vertical-align: middle;\n",
       "    }\n",
       "\n",
       "    .dataframe tbody tr th {\n",
       "        vertical-align: top;\n",
       "    }\n",
       "\n",
       "    .dataframe thead th {\n",
       "        text-align: right;\n",
       "    }\n",
       "</style>\n",
       "<table border=\"1\" class=\"dataframe\">\n",
       "  <thead>\n",
       "    <tr style=\"text-align: right;\">\n",
       "      <th></th>\n",
       "      <th>author_name</th>\n",
       "      <th>year</th>\n",
       "      <th>author_eid_counts</th>\n",
       "      <th>申请人</th>\n",
       "      <th>立项年份</th>\n",
       "      <th>pinyin_counts</th>\n",
       "      <th>grant_t</th>\n",
       "      <th>after_grant</th>\n",
       "    </tr>\n",
       "  </thead>\n",
       "  <tbody>\n",
       "    <tr>\n",
       "      <th>0</th>\n",
       "      <td>Bai Caiquan</td>\n",
       "      <td>2015</td>\n",
       "      <td>1</td>\n",
       "      <td>白彩全</td>\n",
       "      <td>2022.0</td>\n",
       "      <td>1.0</td>\n",
       "      <td>-7.0</td>\n",
       "      <td>0</td>\n",
       "    </tr>\n",
       "    <tr>\n",
       "      <th>1</th>\n",
       "      <td>Bai Caiquan</td>\n",
       "      <td>2017</td>\n",
       "      <td>1</td>\n",
       "      <td>白彩全</td>\n",
       "      <td>2022.0</td>\n",
       "      <td>1.0</td>\n",
       "      <td>-5.0</td>\n",
       "      <td>0</td>\n",
       "    </tr>\n",
       "    <tr>\n",
       "      <th>2</th>\n",
       "      <td>Bai Caiquan</td>\n",
       "      <td>2019</td>\n",
       "      <td>4</td>\n",
       "      <td>白彩全</td>\n",
       "      <td>2022.0</td>\n",
       "      <td>1.0</td>\n",
       "      <td>-3.0</td>\n",
       "      <td>0</td>\n",
       "    </tr>\n",
       "    <tr>\n",
       "      <th>3</th>\n",
       "      <td>Bai Caiquan</td>\n",
       "      <td>2020</td>\n",
       "      <td>5</td>\n",
       "      <td>白彩全</td>\n",
       "      <td>2022.0</td>\n",
       "      <td>1.0</td>\n",
       "      <td>-2.0</td>\n",
       "      <td>0</td>\n",
       "    </tr>\n",
       "    <tr>\n",
       "      <th>4</th>\n",
       "      <td>Bai Caiquan</td>\n",
       "      <td>2021</td>\n",
       "      <td>6</td>\n",
       "      <td>白彩全</td>\n",
       "      <td>2022.0</td>\n",
       "      <td>1.0</td>\n",
       "      <td>-1.0</td>\n",
       "      <td>0</td>\n",
       "    </tr>\n",
       "    <tr>\n",
       "      <th>5</th>\n",
       "      <td>Bai Caiquan</td>\n",
       "      <td>2022</td>\n",
       "      <td>8</td>\n",
       "      <td>白彩全</td>\n",
       "      <td>2022.0</td>\n",
       "      <td>1.0</td>\n",
       "      <td>0.0</td>\n",
       "      <td>0</td>\n",
       "    </tr>\n",
       "    <tr>\n",
       "      <th>6</th>\n",
       "      <td>Bai Caiquan</td>\n",
       "      <td>2023</td>\n",
       "      <td>4</td>\n",
       "      <td>白彩全</td>\n",
       "      <td>2022.0</td>\n",
       "      <td>1.0</td>\n",
       "      <td>1.0</td>\n",
       "      <td>1</td>\n",
       "    </tr>\n",
       "    <tr>\n",
       "      <th>7</th>\n",
       "      <td>Bai Chao</td>\n",
       "      <td>2009</td>\n",
       "      <td>2</td>\n",
       "      <td>柏超</td>\n",
       "      <td>0.0</td>\n",
       "      <td>1.0</td>\n",
       "      <td>0.0</td>\n",
       "      <td>0</td>\n",
       "    </tr>\n",
       "    <tr>\n",
       "      <th>8</th>\n",
       "      <td>Bai Chao</td>\n",
       "      <td>2010</td>\n",
       "      <td>3</td>\n",
       "      <td>柏超</td>\n",
       "      <td>0.0</td>\n",
       "      <td>1.0</td>\n",
       "      <td>0.0</td>\n",
       "      <td>0</td>\n",
       "    </tr>\n",
       "    <tr>\n",
       "      <th>9</th>\n",
       "      <td>Bai Chao</td>\n",
       "      <td>2011</td>\n",
       "      <td>1</td>\n",
       "      <td>柏超</td>\n",
       "      <td>0.0</td>\n",
       "      <td>1.0</td>\n",
       "      <td>0.0</td>\n",
       "      <td>0</td>\n",
       "    </tr>\n",
       "  </tbody>\n",
       "</table>\n",
       "</div>"
      ],
      "text/plain": [
       "   author_name  year  author_eid_counts  申请人    立项年份  pinyin_counts  grant_t  \\\n",
       "0  Bai Caiquan  2015                  1  白彩全  2022.0            1.0     -7.0   \n",
       "1  Bai Caiquan  2017                  1  白彩全  2022.0            1.0     -5.0   \n",
       "2  Bai Caiquan  2019                  4  白彩全  2022.0            1.0     -3.0   \n",
       "3  Bai Caiquan  2020                  5  白彩全  2022.0            1.0     -2.0   \n",
       "4  Bai Caiquan  2021                  6  白彩全  2022.0            1.0     -1.0   \n",
       "5  Bai Caiquan  2022                  8  白彩全  2022.0            1.0      0.0   \n",
       "6  Bai Caiquan  2023                  4  白彩全  2022.0            1.0      1.0   \n",
       "7     Bai Chao  2009                  2   柏超     0.0            1.0      0.0   \n",
       "8     Bai Chao  2010                  3   柏超     0.0            1.0      0.0   \n",
       "9     Bai Chao  2011                  1   柏超     0.0            1.0      0.0   \n",
       "\n",
       "   after_grant  \n",
       "0            0  \n",
       "1            0  \n",
       "2            0  \n",
       "3            0  \n",
       "4            0  \n",
       "5            0  \n",
       "6            1  \n",
       "7            0  \n",
       "8            0  \n",
       "9            0  "
      ]
     },
     "execution_count": 145,
     "metadata": {},
     "output_type": "execute_result"
    }
   ],
   "source": [
    "c.head(10)"
   ]
  },
  {
   "cell_type": "code",
   "execution_count": 146,
   "metadata": {},
   "outputs": [
    {
     "data": {
      "text/plain": [
       "<matplotlib.axes._subplots.AxesSubplot at 0x1a571c8390>"
      ]
     },
     "execution_count": 146,
     "metadata": {},
     "output_type": "execute_result"
    },
    {
     "data": {
      "image/png": "[encoded data removed]",
      "text/plain": [
       "<Figure size 432x288 with 1 Axes>"
      ]
     },
     "metadata": {
      "needs_background": "light"
     },
     "output_type": "display_data"
    }
   ],
   "source": [
    "qn_nsfc_pubs.plot.scatter(x='grant_t',y='author_eid_counts')"
   ]
  },
  {
   "cell_type": "code",
   "execution_count": 152,
   "metadata": {},
   "outputs": [
    {
     "data": {
      "text/plain": [
       "Index(['author_name', 'year', 'author_eid_counts', '申请人', '立项年份',\n",
       "       'pinyin_counts', 'grant_t', 'after_grant'],\n",
       "      dtype='object')"
      ]
     },
     "execution_count": 152,
     "metadata": {},
     "output_type": "execute_result"
    }
   ],
   "source": [
    "qn_nsfc_pubs.columns"
   ]
  },
  {
   "cell_type": "markdown",
   "metadata": {},
   "source": [
    "### OLS with no F.E"
   ]
  },
  {
   "cell_type": "code",
   "execution_count": 154,
   "metadata": {},
   "outputs": [
    {
     "data": {
      "text/plain": [
       "=======================================================\n",
       "Dependent variable:\tauthor_eid_counts\n",
       "N:\t\t\t4042\n",
       "R-squared:\t\t0.0583\n",
       "Estimation method:\tOLS\n",
       "VCE method:\t\tCluster\n",
       "  Cluster variable:\t  author_name\n",
       "  No. of clusters:\t  563\n",
       "=======================================================\n",
       "            coeff    se      t   p>t CI_low CI_high\n",
       "grant_t     0.050 0.022  2.221 0.027  0.006   0.094\n",
       "after_grant 1.709 0.302  5.667 0.000  1.117   2.302\n",
       "_cons       3.100 0.095 32.535 0.000  2.913   3.287\n",
       "======================================================="
      ]
     },
     "execution_count": 154,
     "metadata": {},
     "output_type": "execute_result"
    }
   ],
   "source": [
    "y_var = 'author_eid_counts'\n",
    "X_vars = ['grant_t','after_grant']\n",
    "#fe_var = 'author_name'\n",
    "cluster_var = 'author_name'\n",
    "\n",
    "results = mt.reg(\n",
    "    qn_nsfc_pubs,                     # DataFrame\n",
    "    y_var,                      # Dependent var (string)\n",
    "    X_vars,                      # Independent var(s) (string or list of strings)\n",
    "    #fe_name=fe_var,         # Fixed-effects/absorb var (string)\n",
    "    cluster=cluster_var,     # Cluster var (string),\n",
    "    addcons=True\n",
    ")\n",
    "results"
   ]
  },
  {
   "cell_type": "markdown",
   "metadata": {},
   "source": [
    "### OLS with author and year F.E"
   ]
  },
  {
   "cell_type": "code",
   "execution_count": 153,
   "metadata": {},
   "outputs": [
    {
     "data": {
      "text/plain": [
       "=======================================================\n",
       "Dependent variable:\tauthor_eid_counts\n",
       "N:\t\t\t3982\n",
       "R-squared:\t\t0.4161\n",
       "Estimation method:\tOLS\n",
       "VCE method:\t\tCluster\n",
       "  Cluster variable:\t  author_name\n",
       "  No. of clusters:\t  503\n",
       "Fixed effects by:\tauthor_name\n",
       "  No. of FE:\t\t  503\n",
       "=======================================================\n",
       "            coeff    se     t   p>t CI_low CI_high\n",
       "grant_t     0.111 0.036 3.055 0.002  0.040   0.182\n",
       "after_grant 0.615 0.251 2.450 0.015  0.122   1.108\n",
       "year        0.100 0.023 4.407 0.000  0.055   0.144\n",
       "======================================================="
      ]
     },
     "execution_count": 153,
     "metadata": {},
     "output_type": "execute_result"
    }
   ],
   "source": [
    "y_var = 'author_eid_counts'\n",
    "X_vars = ['grant_t','after_grant','year']\n",
    "fe_var = 'author_name'\n",
    "cluster_var = 'author_name'\n",
    "\n",
    "results = mt.reg(\n",
    "    qn_nsfc_pubs,                     # DataFrame\n",
    "    y_var,                      # Dependent var (string)\n",
    "    X_vars,                      # Independent var(s) (string or list of strings)\n",
    "    fe_name=fe_var,         # Fixed-effects/absorb var (string)\n",
    "    cluster=cluster_var,     # Cluster var (string),\n",
    "    addcons=True\n",
    ")\n",
    "results"
   ]
  },
  {
   "cell_type": "code",
   "execution_count": null,
   "metadata": {},
   "outputs": [],
   "source": []
  }
 ],
 "metadata": {
  "kernelspec": {
   "display_name": "Python 3",
   "language": "python",
   "name": "python3"
  },
  "language_info": {
   "codemirror_mode": {
    "name": "ipython",
    "version": 3
   },
   "file_extension": ".py",
   "mimetype": "text/x-python",
   "name": "python",
   "nbconvert_exporter": "python",
   "pygments_lexer": "ipython3",
   "version": "3.7.4"
  }
 },
 "nbformat": 4,
 "nbformat_minor": 2
}
