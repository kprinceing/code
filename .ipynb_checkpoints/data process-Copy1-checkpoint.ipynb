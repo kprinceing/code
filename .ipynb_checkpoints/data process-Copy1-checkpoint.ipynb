{
 "cells": [
  {
   "cell_type": "code",
   "execution_count": 1,
   "metadata": {},
   "outputs": [],
   "source": [
    "import numpy as np\n",
    "import pandas as pd\n",
    "import json\n",
    "import re\n",
    "import jieba\n",
    "from gensim.models import Word2Vec\n",
    "import gensim\n",
    "import multiprocessing\n",
    "from gensim.corpora.dictionary import Dictionary\n",
    "\n",
    "from sklearn.model_selection import train_test_split\n",
    "\n",
    "from tensorflow.keras.preprocessing.text import one_hot\n",
    "from tensorflow.keras.preprocessing.sequence import pad_sequences\n",
    "from tensorflow.keras.layers import Bidirectional,LSTM,Dense,Embedding,Dropout,Activation,Softmax,Flatten,Conv1D, SimpleRNN\n",
    "from tensorflow.keras.utils import to_categorical\n",
    "from tensorflow.keras import Sequential\n",
    "\n",
    "import matplotlib.pyplot as plt\n",
    "\n"
   ]
  },
  {
   "cell_type": "markdown",
   "metadata": {},
   "source": [
    "## 处理申请数据"
   ]
  },
  {
   "cell_type": "code",
   "execution_count": 2,
   "metadata": {},
   "outputs": [
    {
     "data": {
      "text/html": [
       "<div>\n",
       "<style scoped>\n",
       "    .dataframe tbody tr th:only-of-type {\n",
       "        vertical-align: middle;\n",
       "    }\n",
       "\n",
       "    .dataframe tbody tr th {\n",
       "        vertical-align: top;\n",
       "    }\n",
       "\n",
       "    .dataframe thead th {\n",
       "        text-align: right;\n",
       "    }\n",
       "</style>\n",
       "<table border=\"1\" class=\"dataframe\">\n",
       "  <thead>\n",
       "    <tr style=\"text-align: right;\">\n",
       "      <th></th>\n",
       "      <th>项目名称</th>\n",
       "      <th>申请人</th>\n",
       "      <th>申请部门</th>\n",
       "      <th>资助类别</th>\n",
       "      <th>意见1</th>\n",
       "      <th>意见2</th>\n",
       "      <th>意见3</th>\n",
       "      <th>意见4</th>\n",
       "      <th>意见5</th>\n",
       "      <th>意见6</th>\n",
       "    </tr>\n",
       "  </thead>\n",
       "  <tbody>\n",
       "    <tr>\n",
       "      <td>0</td>\n",
       "      <td>基于影像组学和临床指标的肝癌愈后复发深度预测模型研究</td>\n",
       "      <td>王维</td>\n",
       "      <td>山大二院</td>\n",
       "      <td>青年科学基金项目</td>\n",
       "      <td>1&gt;具体评价意见：\\n一、该申请项目所关注的科学问题是否源于多学科领域交叉的共性问题，具有明...</td>\n",
       "      <td>2&gt;具体评价意见：\\n一、该申请项目所关注的科学问题是否源于多学科领域交叉的共性问题，具有明...</td>\n",
       "      <td>3&gt;具体评价意见：\\n一、该申请项目所关注的科学问题是否源于多学科领域交叉的共性问题，具有明...</td>\n",
       "      <td>None</td>\n",
       "      <td>None</td>\n",
       "      <td>None</td>\n",
       "    </tr>\n",
       "    <tr>\n",
       "      <td>1</td>\n",
       "      <td>变分法在各式多体系统上周期解存在性问题的应用</td>\n",
       "      <td>许谷榕</td>\n",
       "      <td>数学科学学院</td>\n",
       "      <td>青年科学基金项目</td>\n",
       "      <td>1&gt;具体评价意见：\\n一、该申请项目的研究思想或方案是否具有新颖性和独特性？请详细阐述判断理...</td>\n",
       "      <td>2&gt;具体评价意见：\\n一、该申请项目的研究思想或方案是否具有新颖性和独特性？请详细阐述判断理...</td>\n",
       "      <td>3&gt;具体评价意见：\\n一、该申请项目的研究思想或方案是否具有新颖性和独特性？请详细阐述判断理...</td>\n",
       "      <td>None</td>\n",
       "      <td>None</td>\n",
       "      <td>None</td>\n",
       "    </tr>\n",
       "    <tr>\n",
       "      <td>2</td>\n",
       "      <td>不确定性下金融风险度量的研究及应用</td>\n",
       "      <td>林一伟</td>\n",
       "      <td>数学学院</td>\n",
       "      <td>青年科学基金项目</td>\n",
       "      <td>1&gt;具体评价意见：\\n一、该申请项目的研究思想或方案是否具有新颖性和独特性？请详细阐述判断理...</td>\n",
       "      <td>2&gt;具体评价意见：\\n一、该申请项目的研究思想或方案是否具有新颖性和独特性？请详细阐述判断理...</td>\n",
       "      <td>3&gt;具体评价意见：\\n一、该申请项目的研究思想或方案是否具有新颖性和独特性？请详细阐述判断理...</td>\n",
       "      <td>None</td>\n",
       "      <td>None</td>\n",
       "      <td>None</td>\n",
       "    </tr>\n",
       "    <tr>\n",
       "      <td>3</td>\n",
       "      <td>度量空间上的拟共形分析及应用</td>\n",
       "      <td>郭常予</td>\n",
       "      <td>数学与交叉科学研究中心</td>\n",
       "      <td>青年科学基金项目</td>\n",
       "      <td>1&gt;具体评价意见：\\n一、该申请项目的研究思想或方案是否具有新颖性和独特性？请详细阐述判断理...</td>\n",
       "      <td>2&gt;具体评价意见：\\n一、该申请项目的研究思想或方案是否具有新颖性和独特性？请详细阐述判断理...</td>\n",
       "      <td>3&gt;具体评价意见：\\n一、该申请项目的研究思想或方案是否具有新颖性和独特性？请详细阐述判断理...</td>\n",
       "      <td>None</td>\n",
       "      <td>None</td>\n",
       "      <td>None</td>\n",
       "    </tr>\n",
       "    <tr>\n",
       "      <td>4</td>\n",
       "      <td>几何亏格为1的一般型不规则复代数曲面的分类问题</td>\n",
       "      <td>凌松波</td>\n",
       "      <td>数学学院</td>\n",
       "      <td>青年科学基金项目</td>\n",
       "      <td>1&gt;具体评价意见：\\n一、该申请项目的研究思想或方案是否具有新颖性和独特性？请详细阐述判断理...</td>\n",
       "      <td>2&gt;具体评价意见：\\n一、该申请项目的研究思想或方案是否具有新颖性和独特性？请详细阐述判断理...</td>\n",
       "      <td>3&gt;具体评价意见：\\n一、该申请项目的研究思想或方案是否具有新颖性和独特性？请详细阐述判断理...</td>\n",
       "      <td>None</td>\n",
       "      <td>None</td>\n",
       "      <td>None</td>\n",
       "    </tr>\n",
       "  </tbody>\n",
       "</table>\n",
       "</div>"
      ],
      "text/plain": [
       "                         项目名称  申请人         申请部门      资助类别  \\\n",
       "0  基于影像组学和临床指标的肝癌愈后复发深度预测模型研究   王维         山大二院  青年科学基金项目   \n",
       "1      变分法在各式多体系统上周期解存在性问题的应用  许谷榕       数学科学学院  青年科学基金项目   \n",
       "2           不确定性下金融风险度量的研究及应用  林一伟         数学学院  青年科学基金项目   \n",
       "3              度量空间上的拟共形分析及应用  郭常予  数学与交叉科学研究中心  青年科学基金项目   \n",
       "4     几何亏格为1的一般型不规则复代数曲面的分类问题  凌松波         数学学院  青年科学基金项目   \n",
       "\n",
       "                                                 意见1  \\\n",
       "0  1>具体评价意见：\\n一、该申请项目所关注的科学问题是否源于多学科领域交叉的共性问题，具有明...   \n",
       "1  1>具体评价意见：\\n一、该申请项目的研究思想或方案是否具有新颖性和独特性？请详细阐述判断理...   \n",
       "2  1>具体评价意见：\\n一、该申请项目的研究思想或方案是否具有新颖性和独特性？请详细阐述判断理...   \n",
       "3  1>具体评价意见：\\n一、该申请项目的研究思想或方案是否具有新颖性和独特性？请详细阐述判断理...   \n",
       "4  1>具体评价意见：\\n一、该申请项目的研究思想或方案是否具有新颖性和独特性？请详细阐述判断理...   \n",
       "\n",
       "                                                 意见2  \\\n",
       "0  2>具体评价意见：\\n一、该申请项目所关注的科学问题是否源于多学科领域交叉的共性问题，具有明...   \n",
       "1  2>具体评价意见：\\n一、该申请项目的研究思想或方案是否具有新颖性和独特性？请详细阐述判断理...   \n",
       "2  2>具体评价意见：\\n一、该申请项目的研究思想或方案是否具有新颖性和独特性？请详细阐述判断理...   \n",
       "3  2>具体评价意见：\\n一、该申请项目的研究思想或方案是否具有新颖性和独特性？请详细阐述判断理...   \n",
       "4  2>具体评价意见：\\n一、该申请项目的研究思想或方案是否具有新颖性和独特性？请详细阐述判断理...   \n",
       "\n",
       "                                                 意见3   意见4   意见5   意见6  \n",
       "0  3>具体评价意见：\\n一、该申请项目所关注的科学问题是否源于多学科领域交叉的共性问题，具有明...  None  None  None  \n",
       "1  3>具体评价意见：\\n一、该申请项目的研究思想或方案是否具有新颖性和独特性？请详细阐述判断理...  None  None  None  \n",
       "2  3>具体评价意见：\\n一、该申请项目的研究思想或方案是否具有新颖性和独特性？请详细阐述判断理...  None  None  None  \n",
       "3  3>具体评价意见：\\n一、该申请项目的研究思想或方案是否具有新颖性和独特性？请详细阐述判断理...  None  None  None  \n",
       "4  3>具体评价意见：\\n一、该申请项目的研究思想或方案是否具有新颖性和独特性？请详细阐述判断理...  None  None  None  "
      ]
     },
     "execution_count": 2,
     "metadata": {},
     "output_type": "execute_result"
    }
   ],
   "source": [
    "apps = pd.read_excel(\"/Users/yansong/Nutstore Files/基金研究/data/2013--2022面青/2021.xlsx\",sheet_name = \"申请\")\n",
    "apps.drop(columns=['Unnamed: 0','Unnamed: 2','Unnamed: 5', 'Unnamed: 6','Unnamed: 7', 'Unnamed: 8','项目名称2','姓名','申请单位'],inplace=True)\n",
    "apps_comments = apps[\"反馈评议意见\"].str.split(\"<\", expand = True)\n",
    "df_app = pd.merge(apps, apps_comments, left_index=True, right_index=True)\n",
    "df_app.drop(columns=0,inplace=True)\n",
    "df_app.rename(columns={1: \"意见1\",2: \"意见2\",3: \"意见3\",4: \"意见4\",5: \"意见5\",6: \"意见6\"},inplace=True)\n",
    "df_app.drop(columns=\"反馈评议意见\",inplace=True)\n",
    "df_app.head()"
   ]
  },
  {
   "cell_type": "code",
   "execution_count": 3,
   "metadata": {},
   "outputs": [
    {
     "data": {
      "text/html": [
       "<div>\n",
       "<style scoped>\n",
       "    .dataframe tbody tr th:only-of-type {\n",
       "        vertical-align: middle;\n",
       "    }\n",
       "\n",
       "    .dataframe tbody tr th {\n",
       "        vertical-align: top;\n",
       "    }\n",
       "\n",
       "    .dataframe thead th {\n",
       "        text-align: right;\n",
       "    }\n",
       "</style>\n",
       "<table border=\"1\" class=\"dataframe\">\n",
       "  <thead>\n",
       "    <tr style=\"text-align: right;\">\n",
       "      <th></th>\n",
       "      <th>项目名称</th>\n",
       "      <th>姓名</th>\n",
       "      <th>依托单位</th>\n",
       "      <th>资助类别</th>\n",
       "      <th>申请代码1</th>\n",
       "      <th>批准经费（万元）</th>\n",
       "      <th>项目起止年月</th>\n",
       "      <th>意见1</th>\n",
       "      <th>意见2</th>\n",
       "      <th>意见3</th>\n",
       "      <th>意见4</th>\n",
       "      <th>意见5</th>\n",
       "    </tr>\n",
       "  </thead>\n",
       "  <tbody>\n",
       "    <tr>\n",
       "      <td>0</td>\n",
       "      <td>整体微分几何与辛结构</td>\n",
       "      <td>王相生</td>\n",
       "      <td>山东大学</td>\n",
       "      <td>青年科学基金项目</td>\n",
       "      <td>A0110</td>\n",
       "      <td>30</td>\n",
       "      <td>2022-01/2024-12</td>\n",
       "      <td>1&gt;具体评价意见：\\n一、该申请项目的研究思想或方案是否具有新颖性和独特性？请详细阐述判断理...</td>\n",
       "      <td>2&gt;具体评价意见：\\n一、该申请项目的研究思想或方案是否具有新颖性和独特性？请详细阐述判断理...</td>\n",
       "      <td>3&gt;具体评价意见：\\n一、该申请项目的研究思想或方案是否具有新颖性和独特性？请详细阐述判断理...</td>\n",
       "      <td>None</td>\n",
       "      <td>None</td>\n",
       "    </tr>\n",
       "    <tr>\n",
       "      <td>1</td>\n",
       "      <td>度量空间上的拟共形分析及应用</td>\n",
       "      <td>郭常予</td>\n",
       "      <td>山东大学</td>\n",
       "      <td>青年科学基金项目</td>\n",
       "      <td>A0201</td>\n",
       "      <td>30</td>\n",
       "      <td>2022-01/2024-12</td>\n",
       "      <td>1&gt;具体评价意见：\\n一、该申请项目的研究思想或方案是否具有新颖性和独特性？请详细阐述判断理...</td>\n",
       "      <td>2&gt;具体评价意见：\\n一、该申请项目的研究思想或方案是否具有新颖性和独特性？请详细阐述判断理...</td>\n",
       "      <td>3&gt;具体评价意见：\\n一、该申请项目的研究思想或方案是否具有新颖性和独特性？请详细阐述判断理...</td>\n",
       "      <td>None</td>\n",
       "      <td>None</td>\n",
       "    </tr>\n",
       "    <tr>\n",
       "      <td>2</td>\n",
       "      <td>变分法在各式多体系统上周期解存在性问题的应用</td>\n",
       "      <td>许谷榕</td>\n",
       "      <td>山东大学</td>\n",
       "      <td>青年科学基金项目</td>\n",
       "      <td>A0303</td>\n",
       "      <td>30</td>\n",
       "      <td>2022-01/2024-12</td>\n",
       "      <td>1&gt;具体评价意见：\\n一、该申请项目的研究思想或方案是否具有新颖性和独特性？请详细阐述判断理...</td>\n",
       "      <td>2&gt;具体评价意见：\\n一、该申请项目的研究思想或方案是否具有新颖性和独特性？请详细阐述判断理...</td>\n",
       "      <td>3&gt;具体评价意见：\\n一、该申请项目的研究思想或方案是否具有新颖性和独特性？请详细阐述判断理...</td>\n",
       "      <td>None</td>\n",
       "      <td>None</td>\n",
       "    </tr>\n",
       "    <tr>\n",
       "      <td>3</td>\n",
       "      <td>稀疏超图的组合构造</td>\n",
       "      <td>上官冲</td>\n",
       "      <td>山东大学</td>\n",
       "      <td>青年科学基金项目</td>\n",
       "      <td>A0408</td>\n",
       "      <td>30</td>\n",
       "      <td>2022-01/2024-12</td>\n",
       "      <td>1&gt;具体评价意见：\\n一、该申请项目的研究思想或方案是否具有新颖性和独特性？请详细阐述判断理...</td>\n",
       "      <td>2&gt;具体评价意见：\\n一、该申请项目的研究思想或方案是否具有新颖性和独特性？请详细阐述判断理...</td>\n",
       "      <td>3&gt;具体评价意见：\\n一、该申请项目的研究思想或方案是否具有新颖性和独特性？请详细阐述判断理...</td>\n",
       "      <td>None</td>\n",
       "      <td>None</td>\n",
       "    </tr>\n",
       "    <tr>\n",
       "      <td>4</td>\n",
       "      <td>Ramsey-Turán理论以及图性质的鲁棒性研究</td>\n",
       "      <td>杨东雷</td>\n",
       "      <td>山东大学</td>\n",
       "      <td>青年科学基金项目</td>\n",
       "      <td>A0409</td>\n",
       "      <td>30</td>\n",
       "      <td>2022-01/2024-12</td>\n",
       "      <td>1&gt;具体评价意见：\\n一、该申请项目的研究思想或方案是否具有新颖性和独特性？请详细阐述判断理...</td>\n",
       "      <td>2&gt;具体评价意见：\\n一、该申请项目的研究思想或方案是否具有新颖性和独特性？请详细阐述判断理...</td>\n",
       "      <td>3&gt;具体评价意见：\\n一、该申请项目的研究思想或方案是否具有新颖性和独特性？请详细阐述判断理...</td>\n",
       "      <td>None</td>\n",
       "      <td>None</td>\n",
       "    </tr>\n",
       "  </tbody>\n",
       "</table>\n",
       "</div>"
      ],
      "text/plain": [
       "                        项目名称   姓名  依托单位      资助类别  申请代码1  批准经费（万元）  \\\n",
       "0                 整体微分几何与辛结构  王相生  山东大学  青年科学基金项目  A0110        30   \n",
       "1             度量空间上的拟共形分析及应用  郭常予  山东大学  青年科学基金项目  A0201        30   \n",
       "2     变分法在各式多体系统上周期解存在性问题的应用  许谷榕  山东大学  青年科学基金项目  A0303        30   \n",
       "3                  稀疏超图的组合构造  上官冲  山东大学  青年科学基金项目  A0408        30   \n",
       "4  Ramsey-Turán理论以及图性质的鲁棒性研究  杨东雷  山东大学  青年科学基金项目  A0409        30   \n",
       "\n",
       "            项目起止年月                                                意见1  \\\n",
       "0  2022-01/2024-12  1>具体评价意见：\\n一、该申请项目的研究思想或方案是否具有新颖性和独特性？请详细阐述判断理...   \n",
       "1  2022-01/2024-12  1>具体评价意见：\\n一、该申请项目的研究思想或方案是否具有新颖性和独特性？请详细阐述判断理...   \n",
       "2  2022-01/2024-12  1>具体评价意见：\\n一、该申请项目的研究思想或方案是否具有新颖性和独特性？请详细阐述判断理...   \n",
       "3  2022-01/2024-12  1>具体评价意见：\\n一、该申请项目的研究思想或方案是否具有新颖性和独特性？请详细阐述判断理...   \n",
       "4  2022-01/2024-12  1>具体评价意见：\\n一、该申请项目的研究思想或方案是否具有新颖性和独特性？请详细阐述判断理...   \n",
       "\n",
       "                                                 意见2  \\\n",
       "0  2>具体评价意见：\\n一、该申请项目的研究思想或方案是否具有新颖性和独特性？请详细阐述判断理...   \n",
       "1  2>具体评价意见：\\n一、该申请项目的研究思想或方案是否具有新颖性和独特性？请详细阐述判断理...   \n",
       "2  2>具体评价意见：\\n一、该申请项目的研究思想或方案是否具有新颖性和独特性？请详细阐述判断理...   \n",
       "3  2>具体评价意见：\\n一、该申请项目的研究思想或方案是否具有新颖性和独特性？请详细阐述判断理...   \n",
       "4  2>具体评价意见：\\n一、该申请项目的研究思想或方案是否具有新颖性和独特性？请详细阐述判断理...   \n",
       "\n",
       "                                                 意见3   意见4   意见5  \n",
       "0  3>具体评价意见：\\n一、该申请项目的研究思想或方案是否具有新颖性和独特性？请详细阐述判断理...  None  None  \n",
       "1  3>具体评价意见：\\n一、该申请项目的研究思想或方案是否具有新颖性和独特性？请详细阐述判断理...  None  None  \n",
       "2  3>具体评价意见：\\n一、该申请项目的研究思想或方案是否具有新颖性和独特性？请详细阐述判断理...  None  None  \n",
       "3  3>具体评价意见：\\n一、该申请项目的研究思想或方案是否具有新颖性和独特性？请详细阐述判断理...  None  None  \n",
       "4  3>具体评价意见：\\n一、该申请项目的研究思想或方案是否具有新颖性和独特性？请详细阐述判断理...  None  None  "
      ]
     },
     "execution_count": 3,
     "metadata": {},
     "output_type": "execute_result"
    }
   ],
   "source": [
    "grants = pd.read_excel(\"/Users/yansong/Nutstore Files/基金研究/data/2013--2022面青/2021.xlsx\",sheet_name = \"立项\")\n",
    "\n",
    "grants_comments = grants[\"反馈评议意见\"].str.split(\"<\", expand = True)\n",
    "grants_comments.drop(columns=0,inplace=True)\n",
    "grants_comments.rename(columns={1: \"意见1\",2: \"意见2\",3: \"意见3\",4: \"意见4\",5: \"意见5\"},inplace=True)\n",
    "\n",
    "df_grants = pd.merge(grants, grants_comments, left_index=True, right_index=True)\n",
    "df_grants.drop(columns=\"反馈评议意见\",inplace=True)\n",
    "\n",
    "df_grants.head()"
   ]
  },
  {
   "cell_type": "code",
   "execution_count": 4,
   "metadata": {},
   "outputs": [
    {
     "data": {
      "text/plain": [
       "0.2652542372881356"
      ]
     },
     "execution_count": 4,
     "metadata": {},
     "output_type": "execute_result"
    }
   ],
   "source": [
    "# 计算是否立项\n",
    "def check_grant(a):\n",
    "    return df_grants[\"项目名称\"].isin([a]).sum()\n",
    "df_app[\"立项\"] = df_app[\"项目名称\"].apply(check_grant)\n",
    "df_app[\"立项\"].mean()"
   ]
  },
  {
   "cell_type": "code",
   "execution_count": 5,
   "metadata": {},
   "outputs": [
    {
     "data": {
      "text/plain": [
       "资助类别\n",
       "青年科学基金项目    0.268739\n",
       "面上项目        0.262243\n",
       "Name: 立项, dtype: float64"
      ]
     },
     "execution_count": 5,
     "metadata": {},
     "output_type": "execute_result"
    }
   ],
   "source": [
    "df_app.groupby(['资助类别'])[\"立项\"].mean()"
   ]
  },
  {
   "cell_type": "markdown",
   "metadata": {},
   "source": [
    "## 意见处理\n",
    "{\n",
    "\t\"1\": {\n",
    "\t\t\"id\": \"1\",\n",
    "\t\t\"records\": {\n",
    "\t\t\t\"情感\": [\n",
    "\t\t\t\t\"正\"\n",
    "\t\t\t]\n",
    "\t\t},\n",
    "\t\t\"content\": \"这本书不错啊\"\n",
    "\t},\n",
    "\t\"2\": {\n",
    "\t\t\"id\": \"2\",\n",
    "\t\t\"records\": {\n",
    "\t\t\t\"情感\": [\n",
    "\t\t\t\t\"负\"\n",
    "\t\t\t]\n",
    "\t\t},\n",
    "\t\t\"content\": \"这个东西评价不行\"\n",
    "\t}\n",
    "}"
   ]
  },
  {
   "cell_type": "code",
   "execution_count": 6,
   "metadata": {},
   "outputs": [
    {
     "name": "stderr",
     "output_type": "stream",
     "text": [
      "/opt/anaconda3/lib/python3.7/site-packages/ipykernel_launcher.py:2: SettingWithCopyWarning: \n",
      "A value is trying to be set on a copy of a slice from a DataFrame.\n",
      "Try using .loc[row_indexer,col_indexer] = value instead\n",
      "\n",
      "See the caveats in the documentation: http://pandas.pydata.org/pandas-docs/stable/user_guide/indexing.html#returning-a-view-versus-a-copy\n",
      "  \n"
     ]
    },
    {
     "data": {
      "text/html": [
       "<div>\n",
       "<style scoped>\n",
       "    .dataframe tbody tr th:only-of-type {\n",
       "        vertical-align: middle;\n",
       "    }\n",
       "\n",
       "    .dataframe tbody tr th {\n",
       "        vertical-align: top;\n",
       "    }\n",
       "\n",
       "    .dataframe thead th {\n",
       "        text-align: right;\n",
       "    }\n",
       "</style>\n",
       "<table border=\"1\" class=\"dataframe\">\n",
       "  <thead>\n",
       "    <tr style=\"text-align: right;\">\n",
       "      <th></th>\n",
       "      <th>id</th>\n",
       "      <th>records</th>\n",
       "      <th>content</th>\n",
       "    </tr>\n",
       "  </thead>\n",
       "  <tbody>\n",
       "    <tr>\n",
       "      <td>0</td>\n",
       "      <td>0</td>\n",
       "      <td>负</td>\n",
       "      <td>1&gt;具体评价意见：\\n一、该申请项目所关注的科学问题是否源于多学科领域交叉的共性问题，具有明...</td>\n",
       "    </tr>\n",
       "    <tr>\n",
       "      <td>1</td>\n",
       "      <td>1</td>\n",
       "      <td>正</td>\n",
       "      <td>1&gt;具体评价意见：\\n一、该申请项目的研究思想或方案是否具有新颖性和独特性？请详细阐述判断理...</td>\n",
       "    </tr>\n",
       "    <tr>\n",
       "      <td>2</td>\n",
       "      <td>2</td>\n",
       "      <td>正</td>\n",
       "      <td>1&gt;具体评价意见：\\n一、该申请项目的研究思想或方案是否具有新颖性和独特性？请详细阐述判断理...</td>\n",
       "    </tr>\n",
       "    <tr>\n",
       "      <td>3</td>\n",
       "      <td>3</td>\n",
       "      <td>正</td>\n",
       "      <td>1&gt;具体评价意见：\\n一、该申请项目的研究思想或方案是否具有新颖性和独特性？请详细阐述判断理...</td>\n",
       "    </tr>\n",
       "    <tr>\n",
       "      <td>4</td>\n",
       "      <td>4</td>\n",
       "      <td>负</td>\n",
       "      <td>1&gt;具体评价意见：\\n一、该申请项目的研究思想或方案是否具有新颖性和独特性？请详细阐述判断理...</td>\n",
       "    </tr>\n",
       "  </tbody>\n",
       "</table>\n",
       "</div>"
      ],
      "text/plain": [
       "   id records                                            content\n",
       "0   0       负  1>具体评价意见：\\n一、该申请项目所关注的科学问题是否源于多学科领域交叉的共性问题，具有明...\n",
       "1   1       正  1>具体评价意见：\\n一、该申请项目的研究思想或方案是否具有新颖性和独特性？请详细阐述判断理...\n",
       "2   2       正  1>具体评价意见：\\n一、该申请项目的研究思想或方案是否具有新颖性和独特性？请详细阐述判断理...\n",
       "3   3       正  1>具体评价意见：\\n一、该申请项目的研究思想或方案是否具有新颖性和独特性？请详细阐述判断理...\n",
       "4   4       负  1>具体评价意见：\\n一、该申请项目的研究思想或方案是否具有新颖性和独特性？请详细阐述判断理..."
      ]
     },
     "execution_count": 6,
     "metadata": {},
     "output_type": "execute_result"
    }
   ],
   "source": [
    "df_json = df_app[[\"意见1\",\"意见2\",\"意见3\",\"意见4\",\"意见5\",\"意见6\",\"立项\"]]\n",
    "df_json['id'] = df_json.index\n",
    "\n",
    "df_json_long = pd.wide_to_long(df_json, stubnames='意见', i=['id'], j='评审')\n",
    "df_json_long.reset_index(inplace=True)\n",
    "df_json_long.rename(columns={\"立项\":\"records\",\"意见\":\"content\"},inplace=True)\n",
    "df_json_long.dropna(inplace=True)\n",
    "df_json_long.sort_values(['id'])\n",
    "df_json_long[\"records\"].replace(to_replace=0, value=\"负\",inplace=True)\n",
    "df_json_long[\"records\"].replace(to_replace=1, value=\"正\",inplace=True)\n",
    "df_json_long = df_json_long[[\"id\",\"records\",\"content\"]]\n",
    "\n",
    "\n",
    "sample_size = 1000\n",
    "\n",
    "df_json_sample = df_json_long.iloc[0:sample_size,:]\n",
    "result = df_json_sample.to_json(orient=\"index\",force_ascii=False)\n",
    "\n",
    "with open('data.json', 'w') as f:\n",
    "    json.dump(result,f,ensure_ascii=False)\n",
    "    \n",
    "df_json_sample.head()\n"
   ]
  },
  {
   "cell_type": "markdown",
   "metadata": {},
   "source": [
    "## 处理步骤\n",
    "1. 去除重复词语\n",
    "2. 去除stop words\n",
    "3. 分词\n",
    "4. 生成embedding"
   ]
  },
  {
   "cell_type": "markdown",
   "metadata": {},
   "source": [
    "## 重复词语"
   ]
  },
  {
   "cell_type": "code",
   "execution_count": 7,
   "metadata": {},
   "outputs": [],
   "source": [
    "def clean_pat(line):\n",
    "    pat = ['一、该申请项目所关注的科学问题是否源于多学科领域交叉的共性问题，具有明确的学科交叉特征？请详细阐述判断理由并评价预期成果的科学价值。',\n",
    "          '二、请针对学科交叉特点评述申请项目研究方案或技术路线的创新性和可行性。',\n",
    "          '三、请评述申请人的多学科背景、研究专长和创新潜力。',\n",
    "          '四、其他建议',\n",
    "          '1>',\n",
    "          '（1）',\n",
    "          '（2）',\n",
    "          '（3）',\n",
    "          '（4）',\n",
    "          '（5）',\n",
    "           '具体评价意见：',\n",
    "          '一、该申请项目的研究思想或方案是否具有新颖性和独特性？请详细阐述判断理由。',\n",
    "          '二、请评述申请项目所关注问题的科学价值以及对相关前沿领域的潜在贡献。',\n",
    "          '三、请评述申请人的创新潜力与研究方案的可行性',\n",
    "          '一、该申请项目是否面向国家需求并试图解决技术瓶颈背后的基础问题？请结合应用需求详细阐述判断理由。',\n",
    "          '二、请评述申请项目所提出的科学问题与预期成果的科学价值。',\n",
    "          '三、请评述申请人的创新潜力及研究方案的创新性和可行性。',\n",
    "          '。',\n",
    "          '，']\n",
    "    \n",
    "    line = re.sub(\"\\n\", \"\", line)\n",
    "    for x in pat:\n",
    "        line = re.sub(x, \"\", line)\n",
    "        \n",
    "    return line"
   ]
  },
  {
   "cell_type": "code",
   "execution_count": 8,
   "metadata": {},
   "outputs": [
    {
     "name": "stderr",
     "output_type": "stream",
     "text": [
      "/opt/anaconda3/lib/python3.7/site-packages/ipykernel_launcher.py:1: SettingWithCopyWarning: \n",
      "A value is trying to be set on a copy of a slice from a DataFrame.\n",
      "Try using .loc[row_indexer,col_indexer] = value instead\n",
      "\n",
      "See the caveats in the documentation: http://pandas.pydata.org/pandas-docs/stable/user_guide/indexing.html#returning-a-view-versus-a-copy\n",
      "  \"\"\"Entry point for launching an IPython kernel.\n"
     ]
    },
    {
     "data": {
      "text/html": [
       "<div>\n",
       "<style scoped>\n",
       "    .dataframe tbody tr th:only-of-type {\n",
       "        vertical-align: middle;\n",
       "    }\n",
       "\n",
       "    .dataframe tbody tr th {\n",
       "        vertical-align: top;\n",
       "    }\n",
       "\n",
       "    .dataframe thead th {\n",
       "        text-align: right;\n",
       "    }\n",
       "</style>\n",
       "<table border=\"1\" class=\"dataframe\">\n",
       "  <thead>\n",
       "    <tr style=\"text-align: right;\">\n",
       "      <th></th>\n",
       "      <th>id</th>\n",
       "      <th>records</th>\n",
       "      <th>content</th>\n",
       "      <th>content_clean</th>\n",
       "    </tr>\n",
       "  </thead>\n",
       "  <tbody>\n",
       "    <tr>\n",
       "      <td>0</td>\n",
       "      <td>0</td>\n",
       "      <td>负</td>\n",
       "      <td>1&gt;具体评价意见：\\n一、该申请项目所关注的科学问题是否源于多学科领域交叉的共性问题，具有明...</td>\n",
       "      <td>项目拟通过图像配准、数据转化等方法整合影像组学数据与临床检测指标建立乙肝相关性肝癌预后复发深...</td>\n",
       "    </tr>\n",
       "    <tr>\n",
       "      <td>1</td>\n",
       "      <td>1</td>\n",
       "      <td>正</td>\n",
       "      <td>1&gt;具体评价意见：\\n一、该申请项目的研究思想或方案是否具有新颖性和独特性？请详细阐述判断理...</td>\n",
       "      <td>该项目研究多体问题针对扰动开普勒问题、限制多体问题、多体多中心问题三个多体延伸问题开展研究这...</td>\n",
       "    </tr>\n",
       "    <tr>\n",
       "      <td>2</td>\n",
       "      <td>2</td>\n",
       "      <td>正</td>\n",
       "      <td>1&gt;具体评价意见：\\n一、该申请项目的研究思想或方案是否具有新颖性和独特性？请详细阐述判断理...</td>\n",
       "      <td>项目拟构建基于非线性期望的新型风险度量模型、 并研究其时间一致性问题以及非线性期望空间下的诸...</td>\n",
       "    </tr>\n",
       "    <tr>\n",
       "      <td>3</td>\n",
       "      <td>3</td>\n",
       "      <td>正</td>\n",
       "      <td>1&gt;具体评价意见：\\n一、该申请项目的研究思想或方案是否具有新颖性和独特性？请详细阐述判断理...</td>\n",
       "      <td>该项目的研究方案具有新颖性该项目拟开展有关度量空间的拟共性映射的研究拟研究一些新的问题研究方...</td>\n",
       "    </tr>\n",
       "    <tr>\n",
       "      <td>4</td>\n",
       "      <td>4</td>\n",
       "      <td>负</td>\n",
       "      <td>1&gt;具体评价意见：\\n一、该申请项目的研究思想或方案是否具有新颖性和独特性？请详细阐述判断理...</td>\n",
       "      <td>本项目围绕几何亏格为1的一般型不规则复代数曲面的分类问题研究这类曲面的Albanese纤维化...</td>\n",
       "    </tr>\n",
       "    <tr>\n",
       "      <td>...</td>\n",
       "      <td>...</td>\n",
       "      <td>...</td>\n",
       "      <td>...</td>\n",
       "      <td>...</td>\n",
       "    </tr>\n",
       "    <tr>\n",
       "      <td>995</td>\n",
       "      <td>995</td>\n",
       "      <td>负</td>\n",
       "      <td>1&gt;具体评价意见：\\n一、该申请项目的研究思想或方案是否具有新颖性和独特性？请详细阐述判断理...</td>\n",
       "      <td>Dr. HU proposes to develop single crystalline ...</td>\n",
       "    </tr>\n",
       "    <tr>\n",
       "      <td>996</td>\n",
       "      <td>996</td>\n",
       "      <td>负</td>\n",
       "      <td>1&gt;具体评价意见：\\n一、该申请项目所关注的科学问题是否源于多学科领域交叉的共性问题，具有明...</td>\n",
       "      <td>申请人旨在利用组合最优化的方法研究生物大数据中的组学数据组装、基因表达数据分析等基础性问题所...</td>\n",
       "    </tr>\n",
       "    <tr>\n",
       "      <td>997</td>\n",
       "      <td>997</td>\n",
       "      <td>负</td>\n",
       "      <td>1&gt;具体评价意见：\\n一、该申请项目的研究思想或方案是否具有新颖性和独特性？请详细阐述判断理...</td>\n",
       "      <td>该项目的研究思想新颖方案具有独特性数字几何处理技术是三维设计软件和工业软件的关键基础表达三维...</td>\n",
       "    </tr>\n",
       "    <tr>\n",
       "      <td>998</td>\n",
       "      <td>998</td>\n",
       "      <td>负</td>\n",
       "      <td>1&gt;具体评价意见：\\n一、该申请项目是否面向国家需求并试图解决技术瓶颈背后的基础问题？请结合...</td>\n",
       "      <td>对Web移动应用进行安全性分析是一个很有意义的研究课题本项目研究问题较具基础性总体而言该项目...</td>\n",
       "    </tr>\n",
       "    <tr>\n",
       "      <td>999</td>\n",
       "      <td>999</td>\n",
       "      <td>负</td>\n",
       "      <td>1&gt;具体评价意见：\\n一、该申请项目的研究思想或方案是否具有新颖性和独特性？请详细阐述判断理...</td>\n",
       "      <td>FPGA目前成为可重构芯片设计的一个重要方法项目针对基于非易失存储介质的FPGA的CAD设计...</td>\n",
       "    </tr>\n",
       "  </tbody>\n",
       "</table>\n",
       "<p>1000 rows × 4 columns</p>\n",
       "</div>"
      ],
      "text/plain": [
       "      id records                                            content  \\\n",
       "0      0       负  1>具体评价意见：\\n一、该申请项目所关注的科学问题是否源于多学科领域交叉的共性问题，具有明...   \n",
       "1      1       正  1>具体评价意见：\\n一、该申请项目的研究思想或方案是否具有新颖性和独特性？请详细阐述判断理...   \n",
       "2      2       正  1>具体评价意见：\\n一、该申请项目的研究思想或方案是否具有新颖性和独特性？请详细阐述判断理...   \n",
       "3      3       正  1>具体评价意见：\\n一、该申请项目的研究思想或方案是否具有新颖性和独特性？请详细阐述判断理...   \n",
       "4      4       负  1>具体评价意见：\\n一、该申请项目的研究思想或方案是否具有新颖性和独特性？请详细阐述判断理...   \n",
       "..   ...     ...                                                ...   \n",
       "995  995       负  1>具体评价意见：\\n一、该申请项目的研究思想或方案是否具有新颖性和独特性？请详细阐述判断理...   \n",
       "996  996       负  1>具体评价意见：\\n一、该申请项目所关注的科学问题是否源于多学科领域交叉的共性问题，具有明...   \n",
       "997  997       负  1>具体评价意见：\\n一、该申请项目的研究思想或方案是否具有新颖性和独特性？请详细阐述判断理...   \n",
       "998  998       负  1>具体评价意见：\\n一、该申请项目是否面向国家需求并试图解决技术瓶颈背后的基础问题？请结合...   \n",
       "999  999       负  1>具体评价意见：\\n一、该申请项目的研究思想或方案是否具有新颖性和独特性？请详细阐述判断理...   \n",
       "\n",
       "                                         content_clean  \n",
       "0    项目拟通过图像配准、数据转化等方法整合影像组学数据与临床检测指标建立乙肝相关性肝癌预后复发深...  \n",
       "1    该项目研究多体问题针对扰动开普勒问题、限制多体问题、多体多中心问题三个多体延伸问题开展研究这...  \n",
       "2    项目拟构建基于非线性期望的新型风险度量模型、 并研究其时间一致性问题以及非线性期望空间下的诸...  \n",
       "3    该项目的研究方案具有新颖性该项目拟开展有关度量空间的拟共性映射的研究拟研究一些新的问题研究方...  \n",
       "4    本项目围绕几何亏格为1的一般型不规则复代数曲面的分类问题研究这类曲面的Albanese纤维化...  \n",
       "..                                                 ...  \n",
       "995  Dr. HU proposes to develop single crystalline ...  \n",
       "996  申请人旨在利用组合最优化的方法研究生物大数据中的组学数据组装、基因表达数据分析等基础性问题所...  \n",
       "997  该项目的研究思想新颖方案具有独特性数字几何处理技术是三维设计软件和工业软件的关键基础表达三维...  \n",
       "998  对Web移动应用进行安全性分析是一个很有意义的研究课题本项目研究问题较具基础性总体而言该项目...  \n",
       "999  FPGA目前成为可重构芯片设计的一个重要方法项目针对基于非易失存储介质的FPGA的CAD设计...  \n",
       "\n",
       "[1000 rows x 4 columns]"
      ]
     },
     "execution_count": 8,
     "metadata": {},
     "output_type": "execute_result"
    }
   ],
   "source": [
    "df_json_sample[\"content_clean\"] = df_json_sample[\"content\"].apply(clean_pat)\n",
    "df_json_sample"
   ]
  },
  {
   "cell_type": "markdown",
   "metadata": {},
   "source": [
    "## 使用机器学习模型预测评审意见的正负"
   ]
  },
  {
   "cell_type": "code",
   "execution_count": 42,
   "metadata": {},
   "outputs": [
    {
     "name": "stdout",
     "output_type": "stream",
     "text": [
      "该 项目 研究 多体问题 针对 扰动 开普勒 问题 、 限制 多体问题 、 多体 多 中心 问题 三个 多体 延伸 问题 开展 研究 这是 天体力学 中 的 数学 问题 关注 的 问题 有 新颖性 和 独特性 针对 扰动 开普勒 问题 、 限制 多体问题 、 多体 多 中心 问题 三个 多体 延伸 问题 开展 研究 对 第一个 问题 寻找 并 解决 真实 存在 的 奇异 点 扰动 开普勒 问题 对 第二个 问题 克服 变分法 无法 运用 在 限制 多体问题 的 难点 对 第三个 问题 构造 出二体 二 中心 问题 所有 拓扑 形态 的 周期 解并 延伸 至 一般 多体 中心 问题 的 周期 解 存在 性 这些 问题 是 有 价值 的 内容 和 方案 具体 可行 申请人 在 国际 应用 数学 的 重要 刊物 SIAM   J   Appl .   Dyn .   Syst . 发表 了 论文 有 能力 承担 好 这项 青年 基金 无\n"
     ]
    }
   ],
   "source": [
    "#我们定义一个文档集合存储于List，每个文档为list的一个元素，每个文档都对应一个标签,存储于labels\n",
    "seg_lists = list()\n",
    "lines = list(df_json_sample['content_clean'])\n",
    "for line in lines:\n",
    "    #print(line)\n",
    "    #seg_list = list(seg_list)\n",
    "    seg_lists.append(jieba.cut(line))\n",
    "    #print(len(seg_list))\n",
    "sentences = []\n",
    "for i in seg_lists:      \n",
    "    sentences.append(' '.join(i))    \n",
    "print(sentences[1])"
   ]
  },
  {
   "cell_type": "code",
   "execution_count": 45,
   "metadata": {},
   "outputs": [],
   "source": [
    "labels = df_json_sample[\"records\"]\n",
    "labels.replace(\"负\",0,inplace=True)\n",
    "labels.replace(\"正\",1,inplace=True)\n",
    "labels = list(labels)\n",
    "\n",
    "vocab_size = 10000 #估计的词汇表大小，设置时要比真实的词汇量大，不然会产生不同单词分配了相同的索引。\n",
    "\n",
    "#通过索引对上面句子进行编码，one_hot编码映射到[1,vocab_size]，不包括0\n",
    "encoded_docs = [one_hot(s, vocab_size) for s in sentences]\n",
    "# 文本编码成数字格式并padding到相同长度，这里长度设置为4，在后面补0，这也是为什么前面one-hot不会映射到0的原因。\n",
    "max_length = 500\n",
    "padded_docs = pad_sequences(encoded_docs, maxlen=max_length, padding='post')"
   ]
  },
  {
   "cell_type": "code",
   "execution_count": 46,
   "metadata": {},
   "outputs": [
    {
     "data": {
      "text/plain": [
       "(1000, 500)"
      ]
     },
     "execution_count": 46,
     "metadata": {},
     "output_type": "execute_result"
    }
   ],
   "source": [
    "padded_docs.shape"
   ]
  },
  {
   "cell_type": "code",
   "execution_count": 67,
   "metadata": {},
   "outputs": [],
   "source": [
    "#X_train, X_val, y_train, y_val = train_test_split(padded_docs,labels, test_size=0.2)\n",
    "X_train  = padded_docs[0:800,:]\n",
    "X_val  = padded_docs[800:,:]\n",
    "y_train  = labels[0:800]\n",
    "y_val    = labels[800:]\n",
    "\n",
    "y_train = np.array(y_train)\n",
    "y_val = np.array(y_val)"
   ]
  },
  {
   "cell_type": "code",
   "execution_count": 68,
   "metadata": {},
   "outputs": [
    {
     "name": "stdout",
     "output_type": "stream",
     "text": [
      "Model: \"sequential_4\"\n",
      "_________________________________________________________________\n",
      "Layer (type)                 Output Shape              Param #   \n",
      "=================================================================\n",
      "embedding_4 (Embedding)      (None, 500, 10)           100000    \n",
      "_________________________________________________________________\n",
      "lstm_4 (LSTM)                (None, 15)                1560      \n",
      "_________________________________________________________________\n",
      "flatten_4 (Flatten)          (None, 15)                0         \n",
      "_________________________________________________________________\n",
      "dense_5 (Dense)              (None, 1)                 16        \n",
      "=================================================================\n",
      "Total params: 101,576\n",
      "Trainable params: 101,576\n",
      "Non-trainable params: 0\n",
      "_________________________________________________________________\n",
      "None\n"
     ]
    }
   ],
   "source": [
    "# define the model\n",
    "model = Sequential()\n",
    "model.add(Embedding(vocab_size, 10, input_length=max_length))  # Embedding layer\n",
    "#model.add(Dense(100)) # Dense layer\n",
    "#model.add(SimpleRNN())\n",
    "#model.add(Conv1D(128, 5, activation='relu'))\n",
    "#model.add(Dropout(0.5))\n",
    "model.add(LSTM(15))\n",
    "\n",
    "model.add(Flatten())\n",
    "model.add(Dense(1, activation='sigmoid'))\n",
    "model.compile(loss='categorical_crossentropy',\n",
    "                     optimizer='adam', \n",
    "                     metrics=['accuracy'])\n",
    "print(model.summary())"
   ]
  },
  {
   "cell_type": "code",
   "execution_count": 69,
   "metadata": {},
   "outputs": [
    {
     "name": "stdout",
     "output_type": "stream",
     "text": [
      "Epoch 1/10\n",
      "25/25 [==============================] - 3s 67ms/step - loss: 0.0000e+00 - accuracy: 0.6489\n",
      "Epoch 2/10\n",
      "25/25 [==============================] - 2s 70ms/step - loss: 0.0000e+00 - accuracy: 0.7122\n",
      "Epoch 3/10\n",
      "25/25 [==============================] - 2s 69ms/step - loss: 0.0000e+00 - accuracy: 0.7014\n",
      "Epoch 4/10\n",
      "25/25 [==============================] - 2s 68ms/step - loss: 0.0000e+00 - accuracy: 0.7110\n",
      "Epoch 5/10\n",
      "25/25 [==============================] - 2s 68ms/step - loss: 0.0000e+00 - accuracy: 0.7337\n",
      "Epoch 6/10\n",
      "25/25 [==============================] - 2s 68ms/step - loss: 0.0000e+00 - accuracy: 0.7138\n",
      "Epoch 7/10\n",
      "25/25 [==============================] - 2s 68ms/step - loss: 0.0000e+00 - accuracy: 0.7312\n",
      "Epoch 8/10\n",
      "25/25 [==============================] - 2s 69ms/step - loss: 0.0000e+00 - accuracy: 0.7177\n",
      "Epoch 9/10\n",
      "25/25 [==============================] - 2s 77ms/step - loss: 0.0000e+00 - accuracy: 0.6733\n",
      "Epoch 10/10\n",
      "25/25 [==============================] - 2s 69ms/step - loss: 0.0000e+00 - accuracy: 0.7454\n"
     ]
    },
    {
     "data": {
      "text/plain": [
       "<tensorflow.python.keras.callbacks.History at 0x1a81a7a750>"
      ]
     },
     "execution_count": 69,
     "metadata": {},
     "output_type": "execute_result"
    }
   ],
   "source": [
    "model.fit(X_train, y_train, epochs=10)\n"
   ]
  },
  {
   "cell_type": "code",
   "execution_count": 70,
   "metadata": {},
   "outputs": [
    {
     "name": "stdout",
     "output_type": "stream",
     "text": [
      "7/7 [==============================] - 0s 16ms/step - loss: 0.0000e+00 - accuracy: 0.6850\n"
     ]
    }
   ],
   "source": [
    "score = model.evaluate(X_val, y_val, verbose=1)"
   ]
  },
  {
   "cell_type": "code",
   "execution_count": 71,
   "metadata": {},
   "outputs": [
    {
     "data": {
      "text/plain": [
       "(500,)"
      ]
     },
     "execution_count": 71,
     "metadata": {},
     "output_type": "execute_result"
    }
   ],
   "source": [
    "X_train[0].shape"
   ]
  },
  {
   "cell_type": "code",
   "execution_count": 72,
   "metadata": {},
   "outputs": [
    {
     "data": {
      "text/plain": [
       "array([4519, 8185, 5751,  344,  426, 4443, 7993, 8562, 7729, 3787,  236,\n",
       "       9673, 7136, 7993, 5430,  841,   83, 3216, 7267, 4347, 9571,  690,\n",
       "       1058, 3836, 4917, 5507, 6604, 3976, 7974,  762, 9708, 6709,  492,\n",
       "        841, 5568, 1983,  538, 4430, 4519, 7183, 1902, 9708, 1103,  522,\n",
       "       6382, 4953, 6744, 1625, 5430, 6744, 5774, 3378, 6314, 6744, 5774,\n",
       "       7700, 1638, 6744, 5774, 4637,  492, 6315, 3378, 4227, 8185, 8949,\n",
       "        492, 6744, 8506, 9204,  559, 2858, 9669, 4372, 1812, 9235, 8726,\n",
       "       1638,  203, 9708, 8424, 7355, 6526, 4519,  522, 7267, 4917, 6604,\n",
       "       3976,  538, 8637, 4519, 8764, 8735, 3544,  297, 8848,  492, 7459,\n",
       "       6604, 3976, 6927, 4519, 1582, 5205, 5430, 4753, 6050,  492, 1354,\n",
       "       7518, 5634, 1354, 1152, 8845, 7669, 3921, 6703, 1051, 3047, 3750,\n",
       "          0,    0,    0,    0,    0,    0,    0,    0,    0,    0,    0,\n",
       "          0,    0,    0,    0,    0,    0,    0,    0,    0,    0,    0,\n",
       "          0,    0,    0,    0,    0,    0,    0,    0,    0,    0,    0,\n",
       "          0,    0,    0,    0,    0,    0,    0,    0,    0,    0,    0,\n",
       "          0,    0,    0,    0,    0,    0,    0,    0,    0,    0,    0,\n",
       "          0,    0,    0,    0,    0,    0,    0,    0,    0,    0,    0,\n",
       "          0,    0,    0,    0,    0,    0,    0,    0,    0,    0,    0,\n",
       "          0,    0,    0,    0,    0,    0,    0,    0,    0,    0,    0,\n",
       "          0,    0,    0,    0,    0,    0,    0,    0,    0,    0,    0,\n",
       "          0,    0,    0,    0,    0,    0,    0,    0,    0,    0,    0,\n",
       "          0,    0,    0,    0,    0,    0,    0,    0,    0,    0,    0,\n",
       "          0,    0,    0,    0,    0,    0,    0,    0,    0,    0,    0,\n",
       "          0,    0,    0,    0,    0,    0,    0,    0,    0,    0,    0,\n",
       "          0,    0,    0,    0,    0,    0,    0,    0,    0,    0,    0,\n",
       "          0,    0,    0,    0,    0,    0,    0,    0,    0,    0,    0,\n",
       "          0,    0,    0,    0,    0,    0,    0,    0,    0,    0,    0,\n",
       "          0,    0,    0,    0,    0,    0,    0,    0,    0,    0,    0,\n",
       "          0,    0,    0,    0,    0,    0,    0,    0,    0,    0,    0,\n",
       "          0,    0,    0,    0,    0,    0,    0,    0,    0,    0,    0,\n",
       "          0,    0,    0,    0,    0,    0,    0,    0,    0,    0,    0,\n",
       "          0,    0,    0,    0,    0,    0,    0,    0,    0,    0,    0,\n",
       "          0,    0,    0,    0,    0,    0,    0,    0,    0,    0,    0,\n",
       "          0,    0,    0,    0,    0,    0,    0,    0,    0,    0,    0,\n",
       "          0,    0,    0,    0,    0,    0,    0,    0,    0,    0,    0,\n",
       "          0,    0,    0,    0,    0,    0,    0,    0,    0,    0,    0,\n",
       "          0,    0,    0,    0,    0,    0,    0,    0,    0,    0,    0,\n",
       "          0,    0,    0,    0,    0,    0,    0,    0,    0,    0,    0,\n",
       "          0,    0,    0,    0,    0,    0,    0,    0,    0,    0,    0,\n",
       "          0,    0,    0,    0,    0,    0,    0,    0,    0,    0,    0,\n",
       "          0,    0,    0,    0,    0,    0,    0,    0,    0,    0,    0,\n",
       "          0,    0,    0,    0,    0,    0,    0,    0,    0,    0,    0,\n",
       "          0,    0,    0,    0,    0,    0,    0,    0,    0,    0,    0,\n",
       "          0,    0,    0,    0,    0,    0,    0,    0,    0,    0,    0,\n",
       "          0,    0,    0,    0,    0,    0,    0,    0,    0,    0,    0,\n",
       "          0,    0,    0,    0,    0], dtype=int32)"
      ]
     },
     "execution_count": 72,
     "metadata": {},
     "output_type": "execute_result"
    }
   ],
   "source": [
    "X_train[0]"
   ]
  },
  {
   "cell_type": "code",
   "execution_count": 73,
   "metadata": {},
   "outputs": [
    {
     "data": {
      "text/plain": [
       "'项目 拟 通过 图像 配准 、 数据 转化 等 方法 整合 影像 组学 数据 与 临床 检测 指标 建立 乙肝 相关性 肝癌 预后 复发 深度 学习 预测 模型 选题 具有 较 好 的 临床 应用 价值 但 整体而言 项目 存在 问题 较 多 主要 包括 ： 研究 思路 与 研究 内容 不 匹配 ; 研究 内容 空泛 , 且 研究 内容 间 的 关系 不 明确 ; 拟 采用 的 研究 方案 对 具体 如何 开展 工作 表述 不够 清晰 , 且 创新性 较 低 关键技术 笼统 ; 项目 主要 建立 深度 预测 模型 , 但 整个 项目 完全 没有 给出 最终 构建 的 “ 预测 模型 ” ; 项目 归属于 生物 与 生命科学 中 的 数学 而 申请人 数学 基础 较为 薄弱 不足以 支撑 该项 目的 实施'"
      ]
     },
     "execution_count": 73,
     "metadata": {},
     "output_type": "execute_result"
    }
   ],
   "source": [
    "sentences[0]"
   ]
  },
  {
   "cell_type": "code",
   "execution_count": 74,
   "metadata": {},
   "outputs": [
    {
     "data": {
      "text/plain": [
       "128"
      ]
     },
     "execution_count": 74,
     "metadata": {},
     "output_type": "execute_result"
    }
   ],
   "source": [
    "len(sentences[0].split())"
   ]
  },
  {
   "cell_type": "code",
   "execution_count": null,
   "metadata": {},
   "outputs": [],
   "source": []
  }
 ],
 "metadata": {
  "kernelspec": {
   "display_name": "Python 3",
   "language": "python",
   "name": "python3"
  },
  "language_info": {
   "codemirror_mode": {
    "name": "ipython",
    "version": 3
   },
   "file_extension": ".py",
   "mimetype": "text/x-python",
   "name": "python",
   "nbconvert_exporter": "python",
   "pygments_lexer": "ipython3",
   "version": "3.7.4"
  }
 },
 "nbformat": 4,
 "nbformat_minor": 2
}
