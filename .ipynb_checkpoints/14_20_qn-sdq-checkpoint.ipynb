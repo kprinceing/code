{
 "cells": [
  {
   "cell_type": "code",
   "execution_count": 22,
   "metadata": {},
   "outputs": [],
   "source": [
    "import numpy as np\n",
    "import pandas as pd\n",
    "import json\n",
    "import re\n",
    "import jieba\n",
    "\n",
    "from gensim.models import Word2Vec\n",
    "import gensim\n",
    "import multiprocessing\n",
    "from gensim.corpora.dictionary import Dictionary\n",
    "\n",
    "from sklearn.model_selection import train_test_split\n",
    "from tensorflow.keras.preprocessing.text import one_hot,Tokenizer\n",
    "from tensorflow.keras.preprocessing.sequence import pad_sequences\n",
    "from tensorflow.keras.layers import Bidirectional,LSTM,Dense,Embedding,Dropout,Activation,Softmax,Flatten,Conv1D, SimpleRNN\n",
    "from tensorflow.keras.utils import to_categorical\n",
    "from tensorflow.keras import Sequential\n",
    "\n",
    "import matplotlib.pyplot as plt\n",
    "from wordcloud import WordCloud\n",
    "\n",
    "from sklearn.linear_model import LinearRegression\n",
    "import econtools.metrics as mt\n"
   ]
  },
  {
   "cell_type": "markdown",
   "metadata": {},
   "source": [
    "## 处理申请数据"
   ]
  },
  {
   "cell_type": "markdown",
   "metadata": {},
   "source": [
    "## 2014"
   ]
  },
  {
   "cell_type": "code",
   "execution_count": 23,
   "metadata": {},
   "outputs": [
    {
     "data": {
      "text/html": [
       "<div>\n",
       "<style scoped>\n",
       "    .dataframe tbody tr th:only-of-type {\n",
       "        vertical-align: middle;\n",
       "    }\n",
       "\n",
       "    .dataframe tbody tr th {\n",
       "        vertical-align: top;\n",
       "    }\n",
       "\n",
       "    .dataframe thead th {\n",
       "        text-align: right;\n",
       "    }\n",
       "</style>\n",
       "<table border=\"1\" class=\"dataframe\">\n",
       "  <thead>\n",
       "    <tr style=\"text-align: right;\">\n",
       "      <th></th>\n",
       "      <th>项目名称</th>\n",
       "      <th>申请人</th>\n",
       "      <th>申请部门</th>\n",
       "      <th>资助类别</th>\n",
       "      <th>意见1</th>\n",
       "      <th>意见2</th>\n",
       "      <th>意见3</th>\n",
       "      <th>意见4</th>\n",
       "      <th>意见5</th>\n",
       "      <th>意见6</th>\n",
       "      <th>7</th>\n",
       "      <th>8</th>\n",
       "      <th>9</th>\n",
       "      <th>10</th>\n",
       "      <th>立项</th>\n",
       "    </tr>\n",
       "  </thead>\n",
       "  <tbody>\n",
       "    <tr>\n",
       "      <th>0</th>\n",
       "      <td>在大数据中对隐马尔可夫模型和统计推断的研究</td>\n",
       "      <td>王效强</td>\n",
       "      <td>威海校区</td>\n",
       "      <td>青年科学基金项目</td>\n",
       "      <td>1&gt;隐马尔科夫模型是一种非常重要的统计模型，在很多方面均有着应用，将其推广到高维的情形也有着...</td>\n",
       "      <td>2&gt;本项目研究大数据下隐马氏模型的统计推断, 有两个特点, 一是不同变量之间是相关的, 二是...</td>\n",
       "      <td>3&gt;该项目主要研究大数据下隐马尔科夫模型的统计推断问题，其研究内容包括：研究模型中多元随机过...</td>\n",
       "      <td>None</td>\n",
       "      <td>None</td>\n",
       "      <td>None</td>\n",
       "      <td>None</td>\n",
       "      <td>None</td>\n",
       "      <td>None</td>\n",
       "      <td>None</td>\n",
       "      <td>0</td>\n",
       "    </tr>\n",
       "    <tr>\n",
       "      <th>1</th>\n",
       "      <td>基于图论方法的符号网络中重叠聚类算法的研究</td>\n",
       "      <td>亓兴勤</td>\n",
       "      <td>威海校区</td>\n",
       "      <td>青年科学基金项目</td>\n",
       "      <td>1&gt;本项目利用图论方法， 对符号网络的类簇结构进行研究，设计高效精确的层次聚类算法，对初始聚...</td>\n",
       "      <td>2&gt;我们的社会到处充满了复杂网络结构，因些对复杂网络的结构特性的研究有非常重要的意义。\\n网...</td>\n",
       "      <td>3&gt;这是个有很大发展潜力的项目，主持人对于自己将来发的展有着很好的设计；其次，从其周密的科研...</td>\n",
       "      <td>None</td>\n",
       "      <td>None</td>\n",
       "      <td>None</td>\n",
       "      <td>None</td>\n",
       "      <td>None</td>\n",
       "      <td>None</td>\n",
       "      <td>None</td>\n",
       "      <td>1</td>\n",
       "    </tr>\n",
       "    <tr>\n",
       "      <th>2</th>\n",
       "      <td>倒向随机微分方程的统计研究及应用</td>\n",
       "      <td>周丽</td>\n",
       "      <td>威海校区</td>\n",
       "      <td>青年科学基金项目</td>\n",
       "      <td>1&gt;倒向随机微分方程的理论和应用研究是近些年随机理论和金融领域中的热门问题，而统计方法又是检...</td>\n",
       "      <td>2&gt;该研究课题主要研究倒向随机微分方程的若干统计问题。研究的主要内容集中在基于连续观测样本的...</td>\n",
       "      <td>3&gt;由于倒向随机微分方程在诸多领域中的广泛应用而备受关注，其中很有兴趣的问题是有关与倒向随机...</td>\n",
       "      <td>None</td>\n",
       "      <td>None</td>\n",
       "      <td>None</td>\n",
       "      <td>None</td>\n",
       "      <td>None</td>\n",
       "      <td>None</td>\n",
       "      <td>None</td>\n",
       "      <td>0</td>\n",
       "    </tr>\n",
       "    <tr>\n",
       "      <th>3</th>\n",
       "      <td>素数分布：从堆垒问题到自守形式</td>\n",
       "      <td>李太玉</td>\n",
       "      <td>威海校区</td>\n",
       "      <td>青年科学基金项目</td>\n",
       "      <td>1&gt;本项目拟研究华林-哥德巴赫问题，改进其例外集。研究的问题有重要性，研究方案可行，考虑到申...</td>\n",
       "      <td>2&gt;该项目主要研究Waring-Goldbach相关问题，与经典研究方法所不同的是，申请者在...</td>\n",
       "      <td>3&gt;申请人拟研究Waring-Goldbach型问题，这是经典数论的重要研究内容之一。 申请...</td>\n",
       "      <td>None</td>\n",
       "      <td>None</td>\n",
       "      <td>None</td>\n",
       "      <td>None</td>\n",
       "      <td>None</td>\n",
       "      <td>None</td>\n",
       "      <td>None</td>\n",
       "      <td>1</td>\n",
       "    </tr>\n",
       "    <tr>\n",
       "      <th>4</th>\n",
       "      <td>极小单调分离性的研究</td>\n",
       "      <td>孙伟华</td>\n",
       "      <td>威海校区</td>\n",
       "      <td>青年科学基金项目</td>\n",
       "      <td>1&gt;拓扑空间的分离性质是一个基本性质，目前发展到了很多研究的分离问题：比如，单调分离性质（单...</td>\n",
       "      <td>2&gt; 申请者在极小单调分离性研究领域已取得了一些初步的研究成果，但与国内从事同类研究的优秀青...</td>\n",
       "      <td>3&gt; 极小拓扑的研究是拓扑学中的一个有意义的研究方向，该申请人在所申请领域已取得了一定的科研...</td>\n",
       "      <td>None</td>\n",
       "      <td>None</td>\n",
       "      <td>None</td>\n",
       "      <td>None</td>\n",
       "      <td>None</td>\n",
       "      <td>None</td>\n",
       "      <td>None</td>\n",
       "      <td>0</td>\n",
       "    </tr>\n",
       "  </tbody>\n",
       "</table>\n",
       "</div>"
      ],
      "text/plain": [
       "                    项目名称  申请人  申请部门      资助类别  \\\n",
       "0  在大数据中对隐马尔可夫模型和统计推断的研究  王效强  威海校区  青年科学基金项目   \n",
       "1  基于图论方法的符号网络中重叠聚类算法的研究  亓兴勤  威海校区  青年科学基金项目   \n",
       "2       倒向随机微分方程的统计研究及应用   周丽  威海校区  青年科学基金项目   \n",
       "3        素数分布：从堆垒问题到自守形式  李太玉  威海校区  青年科学基金项目   \n",
       "4             极小单调分离性的研究  孙伟华  威海校区  青年科学基金项目   \n",
       "\n",
       "                                                 意见1  \\\n",
       "0  1>隐马尔科夫模型是一种非常重要的统计模型，在很多方面均有着应用，将其推广到高维的情形也有着...   \n",
       "1  1>本项目利用图论方法， 对符号网络的类簇结构进行研究，设计高效精确的层次聚类算法，对初始聚...   \n",
       "2  1>倒向随机微分方程的理论和应用研究是近些年随机理论和金融领域中的热门问题，而统计方法又是检...   \n",
       "3  1>本项目拟研究华林-哥德巴赫问题，改进其例外集。研究的问题有重要性，研究方案可行，考虑到申...   \n",
       "4  1>拓扑空间的分离性质是一个基本性质，目前发展到了很多研究的分离问题：比如，单调分离性质（单...   \n",
       "\n",
       "                                                 意见2  \\\n",
       "0  2>本项目研究大数据下隐马氏模型的统计推断, 有两个特点, 一是不同变量之间是相关的, 二是...   \n",
       "1  2>我们的社会到处充满了复杂网络结构，因些对复杂网络的结构特性的研究有非常重要的意义。\\n网...   \n",
       "2  2>该研究课题主要研究倒向随机微分方程的若干统计问题。研究的主要内容集中在基于连续观测样本的...   \n",
       "3  2>该项目主要研究Waring-Goldbach相关问题，与经典研究方法所不同的是，申请者在...   \n",
       "4  2> 申请者在极小单调分离性研究领域已取得了一些初步的研究成果，但与国内从事同类研究的优秀青...   \n",
       "\n",
       "                                                 意见3   意见4   意见5   意见6     7  \\\n",
       "0  3>该项目主要研究大数据下隐马尔科夫模型的统计推断问题，其研究内容包括：研究模型中多元随机过...  None  None  None  None   \n",
       "1  3>这是个有很大发展潜力的项目，主持人对于自己将来发的展有着很好的设计；其次，从其周密的科研...  None  None  None  None   \n",
       "2  3>由于倒向随机微分方程在诸多领域中的广泛应用而备受关注，其中很有兴趣的问题是有关与倒向随机...  None  None  None  None   \n",
       "3  3>申请人拟研究Waring-Goldbach型问题，这是经典数论的重要研究内容之一。 申请...  None  None  None  None   \n",
       "4  3> 极小拓扑的研究是拓扑学中的一个有意义的研究方向，该申请人在所申请领域已取得了一定的科研...  None  None  None  None   \n",
       "\n",
       "      8     9    10  立项  \n",
       "0  None  None  None   0  \n",
       "1  None  None  None   1  \n",
       "2  None  None  None   0  \n",
       "3  None  None  None   1  \n",
       "4  None  None  None   0  "
      ]
     },
     "execution_count": 23,
     "metadata": {},
     "output_type": "execute_result"
    }
   ],
   "source": [
    "# 申请数据\n",
    "apps = pd.read_excel(\"/Users/yansong/Nutstore Files/基金研究/data/2013--2022面青/2014.xlsx\",sheet_name = \"申请\")\n",
    "apps.drop(columns=['Unnamed: 0','Unnamed: 2','Unnamed: 5', 'Unnamed: 6','Unnamed: 7', 'Unnamed: 8','项目名称2','姓名','申请单位'],inplace=True)\n",
    "apps_comments = apps[\"反馈评议意见\"].str.split(\"<\", expand = True)\n",
    "df_app = pd.merge(apps, apps_comments, left_index=True, right_index=True)\n",
    "df_app.drop(columns=0,inplace=True)\n",
    "df_app.rename(columns={1: \"意见1\",2: \"意见2\",3: \"意见3\",4: \"意见4\",5: \"意见5\",6: \"意见6\"},inplace=True)\n",
    "df_app.drop(columns=\"反馈评议意见\",inplace=True)\n",
    "\n",
    "# 立项数据\n",
    "grants = pd.read_excel(\"/Users/yansong/Nutstore Files/基金研究/data/2013--2022面青/2014.xlsx\",sheet_name = \"立项\")\n",
    "grants_comments = grants[\"反馈评议意见\"].str.split(\"<\", expand = True)\n",
    "grants_comments.drop(columns=0,inplace=True)\n",
    "grants_comments.rename(columns={1: \"意见1\",2: \"意见2\",3: \"意见3\",4: \"意见4\",5: \"意见5\"},inplace=True)\n",
    "df_grants = pd.merge(grants, grants_comments, left_index=True, right_index=True)\n",
    "df_grants.drop(columns=\"反馈评议意见\",inplace=True)\n",
    "\n",
    "# 计算是否立项\n",
    "def check_grant(a):\n",
    "    return df_grants[\"项目名称\"].isin([a]).sum()\n",
    "df_app[\"立项\"] = df_app[\"项目名称\"].apply(check_grant)\n",
    "\n",
    "df_app = df_app[df_app['资助类别']=='青年科学基金项目']\n",
    "df_app.head()\n"
   ]
  },
  {
   "cell_type": "code",
   "execution_count": 24,
   "metadata": {},
   "outputs": [
    {
     "data": {
      "text/plain": [
       "资助类别\n",
       "青年科学基金项目    0.287081\n",
       "Name: 立项, dtype: float64"
      ]
     },
     "execution_count": 24,
     "metadata": {},
     "output_type": "execute_result"
    }
   ],
   "source": [
    "df_app.groupby(['资助类别'])[\"立项\"].mean()"
   ]
  },
  {
   "cell_type": "code",
   "execution_count": 25,
   "metadata": {},
   "outputs": [],
   "source": [
    "df_14 = df_app"
   ]
  },
  {
   "cell_type": "markdown",
   "metadata": {},
   "source": [
    "### 2015"
   ]
  },
  {
   "cell_type": "code",
   "execution_count": 26,
   "metadata": {},
   "outputs": [
    {
     "name": "stdout",
     "output_type": "stream",
     "text": [
      "资助类别\n",
      "青年科学基金项目    0.269663\n",
      "面上项目        0.243176\n",
      "Name: 立项, dtype: float64\n"
     ]
    }
   ],
   "source": [
    "# 申请数据\n",
    "apps = pd.read_excel(\"/Users/yansong/Nutstore Files/基金研究/data/2013--2022面青/2015.xlsx\",sheet_name = \"申请\")\n",
    "apps.drop(columns=['Unnamed: 0','Unnamed: 2','Unnamed: 5', 'Unnamed: 6','Unnamed: 7', 'Unnamed: 8','项目名称2','姓名','申请单位'],inplace=True)\n",
    "apps_comments = apps[\"反馈评议意见\"].str.split(\"<\", expand = True)\n",
    "df_app = pd.merge(apps, apps_comments, left_index=True, right_index=True)\n",
    "df_app.drop(columns=0,inplace=True)\n",
    "df_app.rename(columns={1: \"意见1\",2: \"意见2\",3: \"意见3\",4: \"意见4\",5: \"意见5\",6: \"意见6\"},inplace=True)\n",
    "df_app.drop(columns=\"反馈评议意见\",inplace=True)\n",
    "\n",
    "# 立项数据\n",
    "grants = pd.read_excel(\"/Users/yansong/Nutstore Files/基金研究/data/2013--2022面青/2015.xlsx\",sheet_name = \"立项\")\n",
    "grants_comments = grants[\"反馈评议意见\"].str.split(\"<\", expand = True)\n",
    "grants_comments.drop(columns=0,inplace=True)\n",
    "grants_comments.rename(columns={1: \"意见1\",2: \"意见2\",3: \"意见3\",4: \"意见4\",5: \"意见5\"},inplace=True)\n",
    "df_grants = pd.merge(grants, grants_comments, left_index=True, right_index=True)\n",
    "df_grants.drop(columns=\"反馈评议意见\",inplace=True)\n",
    "\n",
    "# 计算是否立项\n",
    "def check_grant(a):\n",
    "    return df_grants[\"项目名称\"].isin([a]).sum()\n",
    "df_app[\"立项\"] = df_app[\"项目名称\"].apply(check_grant)\n",
    "\n",
    "df_app.head()\n",
    "print(df_app.groupby(['资助类别'])[\"立项\"].mean())\n",
    "df_app = df_app[df_app['资助类别']=='青年科学基金项目']\n"
   ]
  },
  {
   "cell_type": "code",
   "execution_count": 27,
   "metadata": {},
   "outputs": [],
   "source": [
    "df_15 = df_app"
   ]
  },
  {
   "cell_type": "markdown",
   "metadata": {},
   "source": [
    "### 2016"
   ]
  },
  {
   "cell_type": "code",
   "execution_count": 28,
   "metadata": {},
   "outputs": [
    {
     "data": {
      "text/plain": [
       "资助类别\n",
       "青年科学基金项目    0.313725\n",
       "Name: 立项, dtype: float64"
      ]
     },
     "execution_count": 28,
     "metadata": {},
     "output_type": "execute_result"
    }
   ],
   "source": [
    "# 申请数据\n",
    "apps = pd.read_excel(\"/Users/yansong/Nutstore Files/基金研究/data/2013--2022面青/2016.xlsx\",sheet_name = \"申请\")\n",
    "apps.drop(columns=['Unnamed: 0','Unnamed: 2','Unnamed: 5','Unnamed: 7','姓名','申请单位'],inplace=True)\n",
    "apps_comments = apps[\"反馈评议意见\"].str.split(\"<\", expand = True)\n",
    "df_app = pd.merge(apps, apps_comments, left_index=True, right_index=True)\n",
    "df_app.drop(columns=0,inplace=True)\n",
    "df_app.rename(columns={1: \"意见1\",2: \"意见2\",3: \"意见3\",4: \"意见4\",5: \"意见5\",6: \"意见6\"},inplace=True)\n",
    "df_app.drop(columns=\"反馈评议意见\",inplace=True)\n",
    "\n",
    "# 立项数据\n",
    "grants = pd.read_excel(\"/Users/yansong/Nutstore Files/基金研究/data/2013--2022面青/2016.xlsx\",sheet_name = \"立项\")\n",
    "grants_comments = grants[\"反馈评议意见\"].str.split(\"<\", expand = True)\n",
    "grants_comments.drop(columns=0,inplace=True)\n",
    "grants_comments.rename(columns={1: \"意见1\",2: \"意见2\",3: \"意见3\",4: \"意见4\",5: \"意见5\"},inplace=True)\n",
    "df_grants = pd.merge(grants, grants_comments, left_index=True, right_index=True)\n",
    "df_grants.drop(columns=\"反馈评议意见\",inplace=True)\n",
    "\n",
    "# 计算是否立项\n",
    "def check_grant(a):\n",
    "    return df_grants[\"项目名称\"].isin([a]).sum()\n",
    "df_app[\"立项\"] = df_app[\"项目名称\"].apply(check_grant)\n",
    "\n",
    "df_app.head()\n",
    "df_app = df_app[df_app['资助类别']=='青年科学基金项目']\n",
    "df_app.groupby(['资助类别'])[\"立项\"].mean()"
   ]
  },
  {
   "cell_type": "code",
   "execution_count": 29,
   "metadata": {},
   "outputs": [],
   "source": [
    "df_16 = df_app"
   ]
  },
  {
   "cell_type": "markdown",
   "metadata": {},
   "source": [
    "### 2017"
   ]
  },
  {
   "cell_type": "code",
   "execution_count": 30,
   "metadata": {},
   "outputs": [
    {
     "data": {
      "text/plain": [
       "资助类别\n",
       "青年科学基金项目    0.273171\n",
       "Name: 立项, dtype: float64"
      ]
     },
     "execution_count": 30,
     "metadata": {},
     "output_type": "execute_result"
    }
   ],
   "source": [
    "# 申请数据\n",
    "apps = pd.read_excel(\"/Users/yansong/Nutstore Files/基金研究/data/2013--2022面青/2017.xlsx\",sheet_name = \"申请\")\n",
    "apps.drop(columns=['Unnamed: 0','Unnamed: 2','Unnamed: 5', 'Unnamed: 6','Unnamed: 7', 'Unnamed: 8','项目名称2','姓名','申请单位'],inplace=True)\n",
    "apps_comments = apps[\"反馈评议意见\"].str.split(\"<\", expand = True)\n",
    "df_app = pd.merge(apps, apps_comments, left_index=True, right_index=True)\n",
    "df_app.drop(columns=0,inplace=True)\n",
    "df_app.rename(columns={1: \"意见1\",2: \"意见2\",3: \"意见3\",4: \"意见4\",5: \"意见5\",6: \"意见6\"},inplace=True)\n",
    "df_app.drop(columns=\"反馈评议意见\",inplace=True)\n",
    "\n",
    "# 立项数据\n",
    "grants = pd.read_excel(\"/Users/yansong/Nutstore Files/基金研究/data/2013--2022面青/2017.xlsx\",sheet_name = \"立项\")\n",
    "grants_comments = grants[\"反馈评议意见\"].str.split(\"<\", expand = True)\n",
    "grants_comments.drop(columns=0,inplace=True)\n",
    "grants_comments.rename(columns={1: \"意见1\",2: \"意见2\",3: \"意见3\",4: \"意见4\",5: \"意见5\"},inplace=True)\n",
    "df_grants = pd.merge(grants, grants_comments, left_index=True, right_index=True)\n",
    "df_grants.drop(columns=\"反馈评议意见\",inplace=True)\n",
    "\n",
    "# 计算是否立项\n",
    "def check_grant(a):\n",
    "    return df_grants[\"项目名称\"].isin([a]).sum()\n",
    "df_app[\"立项\"] = df_app[\"项目名称\"].apply(check_grant)\n",
    "\n",
    "df_app.head()\n",
    "df_app = df_app[df_app['资助类别']=='青年科学基金项目']\n",
    "df_app.groupby(['资助类别'])[\"立项\"].mean()\n"
   ]
  },
  {
   "cell_type": "code",
   "execution_count": 31,
   "metadata": {},
   "outputs": [],
   "source": [
    "df_17 = df_app"
   ]
  },
  {
   "cell_type": "markdown",
   "metadata": {},
   "source": [
    "### 2018"
   ]
  },
  {
   "cell_type": "code",
   "execution_count": 32,
   "metadata": {},
   "outputs": [],
   "source": [
    "# 申请数据\n",
    "apps = pd.read_excel(\"/Users/yansong/Nutstore Files/基金研究/data/2013--2022面青/2018.xlsx\",sheet_name = \"申请\")\n",
    "apps.drop(columns=['Unnamed: 0','Unnamed: 2','Unnamed: 5', 'Unnamed: 6','Unnamed: 7', 'Unnamed: 8','项目名称2','姓名','申请单位'],inplace=True)\n",
    "apps_comments = apps[\"反馈评议意见\"].str.split(\"<\", expand = True)\n",
    "df_app = pd.merge(apps, apps_comments, left_index=True, right_index=True)\n",
    "df_app.drop(columns=0,inplace=True)\n",
    "df_app.rename(columns={1: \"意见1\",2: \"意见2\",3: \"意见3\",4: \"意见4\",5: \"意见5\",6: \"意见6\"},inplace=True)\n",
    "df_app.drop(columns=\"反馈评议意见\",inplace=True)\n",
    "\n",
    "# 立项数据\n",
    "grants = pd.read_excel(\"/Users/yansong/Nutstore Files/基金研究/data/2013--2022面青/2018.xlsx\",sheet_name = \"立项\")\n",
    "grants_comments = grants[\"反馈评议意见\"].str.split(\"<\", expand = True)\n",
    "grants_comments.drop(columns=0,inplace=True)\n",
    "grants_comments.rename(columns={1: \"意见1\",2: \"意见2\",3: \"意见3\",4: \"意见4\",5: \"意见5\"},inplace=True)\n",
    "df_grants = pd.merge(grants, grants_comments, left_index=True, right_index=True)\n",
    "df_grants.drop(columns=\"反馈评议意见\",inplace=True)\n",
    "\n",
    "# 计算是否立项\n",
    "def check_grant(a):\n",
    "    return df_grants[\"项目名称\"].isin([a]).sum()\n",
    "df_app[\"立项\"] = df_app[\"项目名称\"].apply(check_grant)\n",
    "\n",
    "df_app.head()\n",
    "df_app = df_app[df_app['资助类别']=='青年科学基金项目']\n"
   ]
  },
  {
   "cell_type": "code",
   "execution_count": 33,
   "metadata": {},
   "outputs": [],
   "source": [
    "df_18 = df_app"
   ]
  },
  {
   "cell_type": "markdown",
   "metadata": {},
   "source": [
    "### 2019"
   ]
  },
  {
   "cell_type": "code",
   "execution_count": 34,
   "metadata": {},
   "outputs": [
    {
     "data": {
      "text/plain": [
       "资助类别\n",
       "青年科学基金项目    0.321739\n",
       "Name: 立项, dtype: float64"
      ]
     },
     "execution_count": 34,
     "metadata": {},
     "output_type": "execute_result"
    }
   ],
   "source": [
    "# 申请数据\n",
    "apps = pd.read_excel(\"/Users/yansong/Nutstore Files/基金研究/data/2013--2022面青/2019.xlsx\",sheet_name = \"申请\")\n",
    "apps.drop(columns=['Unnamed: 0','Unnamed: 2','Unnamed: 5', 'Unnamed: 6','Unnamed: 7', 'Unnamed: 8','项目名称2','姓名','申请单位'],inplace=True)\n",
    "apps_comments = apps[\"反馈评议意见\"].str.split(\"<\", expand = True)\n",
    "df_app = pd.merge(apps, apps_comments, left_index=True, right_index=True)\n",
    "df_app.drop(columns=0,inplace=True)\n",
    "df_app.rename(columns={1: \"意见1\",2: \"意见2\",3: \"意见3\",4: \"意见4\",5: \"意见5\",6: \"意见6\"},inplace=True)\n",
    "df_app.drop(columns=\"反馈评议意见\",inplace=True)\n",
    "\n",
    "# 立项数据\n",
    "grants = pd.read_excel(\"/Users/yansong/Nutstore Files/基金研究/data/2013--2022面青/2019.xlsx\",sheet_name = \"立项\")\n",
    "grants_comments = grants[\"反馈评议意见\"].str.split(\"<\", expand = True)\n",
    "grants_comments.drop(columns=0,inplace=True)\n",
    "grants_comments.rename(columns={1: \"意见1\",2: \"意见2\",3: \"意见3\",4: \"意见4\",5: \"意见5\"},inplace=True)\n",
    "df_grants = pd.merge(grants, grants_comments, left_index=True, right_index=True)\n",
    "df_grants.drop(columns=\"反馈评议意见\",inplace=True)\n",
    "\n",
    "# 计算是否立项\n",
    "def check_grant(a):\n",
    "    return df_grants[\"项目名称\"].isin([a]).sum()\n",
    "df_app[\"立项\"] = df_app[\"项目名称\"].apply(check_grant)\n",
    "\n",
    "df_app.head()\n",
    "df_app = df_app[df_app['资助类别']=='青年科学基金项目']\n",
    "df_app.groupby(['资助类别'])[\"立项\"].mean()\n"
   ]
  },
  {
   "cell_type": "code",
   "execution_count": 35,
   "metadata": {},
   "outputs": [],
   "source": [
    "df_19 = df_app"
   ]
  },
  {
   "cell_type": "markdown",
   "metadata": {},
   "source": [
    "### 2020"
   ]
  },
  {
   "cell_type": "code",
   "execution_count": 36,
   "metadata": {},
   "outputs": [
    {
     "data": {
      "text/plain": [
       "资助类别\n",
       "青年科学基金项目    0.246014\n",
       "Name: 立项, dtype: float64"
      ]
     },
     "execution_count": 36,
     "metadata": {},
     "output_type": "execute_result"
    }
   ],
   "source": [
    "# 申请数据\n",
    "apps = pd.read_excel(\"/Users/yansong/Nutstore Files/基金研究/data/2013--2022面青/2020.xlsx\",sheet_name = \"申请\")\n",
    "apps.drop(columns=['Unnamed: 0','Unnamed: 2','Unnamed: 5', 'Unnamed: 6','Unnamed: 7', 'Unnamed: 8','项目名称2','姓名','申请单位'],inplace=True)\n",
    "apps_comments = apps[\"反馈评议意见\"].str.split(\"<\", expand = True)\n",
    "df_app = pd.merge(apps, apps_comments, left_index=True, right_index=True)\n",
    "df_app.drop(columns=0,inplace=True)\n",
    "df_app.rename(columns={1: \"意见1\",2: \"意见2\",3: \"意见3\",4: \"意见4\",5: \"意见5\",6: \"意见6\"},inplace=True)\n",
    "df_app.drop(columns=\"反馈评议意见\",inplace=True)\n",
    "\n",
    "# 立项数据\n",
    "grants = pd.read_excel(\"/Users/yansong/Nutstore Files/基金研究/data/2013--2022面青/2020.xlsx\",sheet_name = \"立项\")\n",
    "grants_comments = grants[\"反馈评议意见\"].str.split(\"<\", expand = True)\n",
    "grants_comments.drop(columns=0,inplace=True)\n",
    "grants_comments.rename(columns={1: \"意见1\",2: \"意见2\",3: \"意见3\",4: \"意见4\",5: \"意见5\"},inplace=True)\n",
    "df_grants = pd.merge(grants, grants_comments, left_index=True, right_index=True)\n",
    "df_grants.drop(columns=\"反馈评议意见\",inplace=True)\n",
    "\n",
    "# 计算是否立项\n",
    "def check_grant(a):\n",
    "    return df_grants[\"项目名称\"].isin([a]).sum()\n",
    "df_app[\"立项\"] = df_app[\"项目名称\"].apply(check_grant)\n",
    "\n",
    "df_app.head()\n",
    "df_app = df_app[df_app['资助类别']=='青年科学基金项目']\n",
    "df_app.groupby(['资助类别'])[\"立项\"].mean()\n"
   ]
  },
  {
   "cell_type": "code",
   "execution_count": 37,
   "metadata": {},
   "outputs": [],
   "source": [
    "df_20 = df_app"
   ]
  },
  {
   "cell_type": "code",
   "execution_count": 38,
   "metadata": {},
   "outputs": [
    {
     "name": "stderr",
     "output_type": "stream",
     "text": [
      "/opt/anaconda3/lib/python3.7/site-packages/ipykernel_launcher.py:2: SettingWithCopyWarning: \n",
      "A value is trying to be set on a copy of a slice from a DataFrame.\n",
      "Try using .loc[row_indexer,col_indexer] = value instead\n",
      "\n",
      "See the caveats in the documentation: https://pandas.pydata.org/pandas-docs/stable/user_guide/indexing.html#returning-a-view-versus-a-copy\n",
      "  \n",
      "/opt/anaconda3/lib/python3.7/site-packages/ipykernel_launcher.py:5: SettingWithCopyWarning: \n",
      "A value is trying to be set on a copy of a slice from a DataFrame.\n",
      "Try using .loc[row_indexer,col_indexer] = value instead\n",
      "\n",
      "See the caveats in the documentation: https://pandas.pydata.org/pandas-docs/stable/user_guide/indexing.html#returning-a-view-versus-a-copy\n",
      "  \"\"\"\n",
      "/opt/anaconda3/lib/python3.7/site-packages/ipykernel_launcher.py:8: SettingWithCopyWarning: \n",
      "A value is trying to be set on a copy of a slice from a DataFrame.\n",
      "Try using .loc[row_indexer,col_indexer] = value instead\n",
      "\n",
      "See the caveats in the documentation: https://pandas.pydata.org/pandas-docs/stable/user_guide/indexing.html#returning-a-view-versus-a-copy\n",
      "  \n",
      "/opt/anaconda3/lib/python3.7/site-packages/ipykernel_launcher.py:11: SettingWithCopyWarning: \n",
      "A value is trying to be set on a copy of a slice from a DataFrame.\n",
      "Try using .loc[row_indexer,col_indexer] = value instead\n",
      "\n",
      "See the caveats in the documentation: https://pandas.pydata.org/pandas-docs/stable/user_guide/indexing.html#returning-a-view-versus-a-copy\n",
      "  # This is added back by InteractiveShellApp.init_path()\n",
      "/opt/anaconda3/lib/python3.7/site-packages/ipykernel_launcher.py:14: SettingWithCopyWarning: \n",
      "A value is trying to be set on a copy of a slice from a DataFrame.\n",
      "Try using .loc[row_indexer,col_indexer] = value instead\n",
      "\n",
      "See the caveats in the documentation: https://pandas.pydata.org/pandas-docs/stable/user_guide/indexing.html#returning-a-view-versus-a-copy\n",
      "  \n",
      "/opt/anaconda3/lib/python3.7/site-packages/ipykernel_launcher.py:17: SettingWithCopyWarning: \n",
      "A value is trying to be set on a copy of a slice from a DataFrame.\n",
      "Try using .loc[row_indexer,col_indexer] = value instead\n",
      "\n",
      "See the caveats in the documentation: https://pandas.pydata.org/pandas-docs/stable/user_guide/indexing.html#returning-a-view-versus-a-copy\n",
      "/opt/anaconda3/lib/python3.7/site-packages/ipykernel_launcher.py:20: SettingWithCopyWarning: \n",
      "A value is trying to be set on a copy of a slice from a DataFrame.\n",
      "Try using .loc[row_indexer,col_indexer] = value instead\n",
      "\n",
      "See the caveats in the documentation: https://pandas.pydata.org/pandas-docs/stable/user_guide/indexing.html#returning-a-view-versus-a-copy\n"
     ]
    }
   ],
   "source": [
    "df_full_14 = df_14[[\"项目名称\",\"申请人\",\"意见1\",\"意见2\",\"意见3\",\"意见4\",\"意见5\",\"立项\"]]\n",
    "df_full_14['年份'] = 2014\n",
    "\n",
    "df_full_15 = df_15[[\"项目名称\",\"申请人\",\"意见1\",\"意见2\",\"意见3\",\"意见4\",\"意见5\",\"立项\"]]\n",
    "df_full_15['年份'] = 2015\n",
    "\n",
    "df_full_16 = df_16[[\"项目名称\",\"申请人\",\"意见1\",\"意见2\",\"意见3\",\"意见4\",\"意见5\",\"立项\"]]\n",
    "df_full_16['年份'] = 2016\n",
    "\n",
    "df_full_17 = df_17[[\"项目名称\",\"申请人\",\"意见1\",\"意见2\",\"意见3\",\"意见4\",\"意见5\",\"立项\"]]\n",
    "df_full_17['年份'] = 2017\n",
    "\n",
    "df_full_18 = df_18[[\"项目名称\",\"申请人\",\"意见1\",\"意见2\",\"意见3\",\"意见4\",\"意见5\",\"立项\"]]\n",
    "df_full_18['年份'] = 2018\n",
    "\n",
    "df_full_19 = df_19[[\"项目名称\",\"申请人\",\"意见1\",\"意见2\",\"意见3\",\"意见4\",\"意见5\",\"立项\"]]\n",
    "df_full_19['年份'] = 2019\n",
    "\n",
    "df_full_20 = df_20[[\"项目名称\",\"申请人\",\"意见1\",\"意见2\",\"意见3\",\"意见4\",\"意见5\",\"立项\"]]\n",
    "df_full_20['年份'] = 2020\n",
    "\n",
    "df_json_full = pd.concat([df_full_14,df_full_15,df_full_16,df_full_17,df_full_18,df_full_19,df_full_20], ignore_index=True)\n"
   ]
  },
  {
   "cell_type": "code",
   "execution_count": 39,
   "metadata": {},
   "outputs": [
    {
     "data": {
      "text/plain": [
       "2020    439\n",
       "2019    345\n",
       "2018    212\n",
       "2014    209\n",
       "2017    205\n",
       "2016    204\n",
       "2015    178\n",
       "Name: 年份, dtype: int64"
      ]
     },
     "execution_count": 39,
     "metadata": {},
     "output_type": "execute_result"
    }
   ],
   "source": [
    "df_json_full['年份'].value_counts()"
   ]
  },
  {
   "cell_type": "code",
   "execution_count": 40,
   "metadata": {},
   "outputs": [
    {
     "data": {
      "text/html": [
       "<div>\n",
       "<style scoped>\n",
       "    .dataframe tbody tr th:only-of-type {\n",
       "        vertical-align: middle;\n",
       "    }\n",
       "\n",
       "    .dataframe tbody tr th {\n",
       "        vertical-align: top;\n",
       "    }\n",
       "\n",
       "    .dataframe thead th {\n",
       "        text-align: right;\n",
       "    }\n",
       "</style>\n",
       "<table border=\"1\" class=\"dataframe\">\n",
       "  <thead>\n",
       "    <tr style=\"text-align: right;\">\n",
       "      <th></th>\n",
       "      <th>项目名称</th>\n",
       "      <th>申请人</th>\n",
       "      <th>意见1</th>\n",
       "      <th>意见2</th>\n",
       "      <th>意见3</th>\n",
       "      <th>意见4</th>\n",
       "      <th>意见5</th>\n",
       "      <th>立项</th>\n",
       "      <th>年份</th>\n",
       "    </tr>\n",
       "  </thead>\n",
       "  <tbody>\n",
       "    <tr>\n",
       "      <th>0</th>\n",
       "      <td>在大数据中对隐马尔可夫模型和统计推断的研究</td>\n",
       "      <td>王效强</td>\n",
       "      <td>1&gt;隐马尔科夫模型是一种非常重要的统计模型，在很多方面均有着应用，将其推广到高维的情形也有着...</td>\n",
       "      <td>2&gt;本项目研究大数据下隐马氏模型的统计推断, 有两个特点, 一是不同变量之间是相关的, 二是...</td>\n",
       "      <td>3&gt;该项目主要研究大数据下隐马尔科夫模型的统计推断问题，其研究内容包括：研究模型中多元随机过...</td>\n",
       "      <td>None</td>\n",
       "      <td>None</td>\n",
       "      <td>0</td>\n",
       "      <td>2014</td>\n",
       "    </tr>\n",
       "  </tbody>\n",
       "</table>\n",
       "</div>"
      ],
      "text/plain": [
       "                    项目名称  申请人  \\\n",
       "0  在大数据中对隐马尔可夫模型和统计推断的研究  王效强   \n",
       "\n",
       "                                                 意见1  \\\n",
       "0  1>隐马尔科夫模型是一种非常重要的统计模型，在很多方面均有着应用，将其推广到高维的情形也有着...   \n",
       "\n",
       "                                                 意见2  \\\n",
       "0  2>本项目研究大数据下隐马氏模型的统计推断, 有两个特点, 一是不同变量之间是相关的, 二是...   \n",
       "\n",
       "                                                 意见3   意见4   意见5  立项    年份  \n",
       "0  3>该项目主要研究大数据下隐马尔科夫模型的统计推断问题，其研究内容包括：研究模型中多元随机过...  None  None   0  2014  "
      ]
     },
     "execution_count": 40,
     "metadata": {},
     "output_type": "execute_result"
    }
   ],
   "source": [
    "df_json_full.head(1)"
   ]
  },
  {
   "cell_type": "markdown",
   "metadata": {},
   "source": [
    "## 意见处理\n",
    "{\n",
    "\t\"1\": {\n",
    "\t\t\"id\": \"1\",\n",
    "\t\t\"records\": {\n",
    "\t\t\t\"情感\": [\n",
    "\t\t\t\t\"正\"\n",
    "\t\t\t]\n",
    "\t\t},\n",
    "\t\t\"content\": \"这本书不错啊\"\n",
    "\t},\n",
    "\t\"2\": {\n",
    "\t\t\"id\": \"2\",\n",
    "\t\t\"records\": {\n",
    "\t\t\t\"情感\": [\n",
    "\t\t\t\t\"负\"\n",
    "\t\t\t]\n",
    "\t\t},\n",
    "\t\t\"content\": \"这个东西评价不行\"\n",
    "\t}\n",
    "}"
   ]
  },
  {
   "cell_type": "code",
   "execution_count": 41,
   "metadata": {},
   "outputs": [
    {
     "data": {
      "text/html": [
       "<div>\n",
       "<style scoped>\n",
       "    .dataframe tbody tr th:only-of-type {\n",
       "        vertical-align: middle;\n",
       "    }\n",
       "\n",
       "    .dataframe tbody tr th {\n",
       "        vertical-align: top;\n",
       "    }\n",
       "\n",
       "    .dataframe thead th {\n",
       "        text-align: right;\n",
       "    }\n",
       "</style>\n",
       "<table border=\"1\" class=\"dataframe\">\n",
       "  <thead>\n",
       "    <tr style=\"text-align: right;\">\n",
       "      <th></th>\n",
       "      <th>id</th>\n",
       "      <th>records</th>\n",
       "      <th>content</th>\n",
       "    </tr>\n",
       "  </thead>\n",
       "  <tbody>\n",
       "    <tr>\n",
       "      <th>0</th>\n",
       "      <td>0</td>\n",
       "      <td>负</td>\n",
       "      <td>1&gt;隐马尔科夫模型是一种非常重要的统计模型，在很多方面均有着应用，将其推广到高维的情形也有着...</td>\n",
       "    </tr>\n",
       "    <tr>\n",
       "      <th>1</th>\n",
       "      <td>1</td>\n",
       "      <td>正</td>\n",
       "      <td>1&gt;本项目利用图论方法， 对符号网络的类簇结构进行研究，设计高效精确的层次聚类算法，对初始聚...</td>\n",
       "    </tr>\n",
       "    <tr>\n",
       "      <th>2</th>\n",
       "      <td>2</td>\n",
       "      <td>负</td>\n",
       "      <td>1&gt;倒向随机微分方程的理论和应用研究是近些年随机理论和金融领域中的热门问题，而统计方法又是检...</td>\n",
       "    </tr>\n",
       "    <tr>\n",
       "      <th>3</th>\n",
       "      <td>3</td>\n",
       "      <td>正</td>\n",
       "      <td>1&gt;本项目拟研究华林-哥德巴赫问题，改进其例外集。研究的问题有重要性，研究方案可行，考虑到申...</td>\n",
       "    </tr>\n",
       "    <tr>\n",
       "      <th>4</th>\n",
       "      <td>4</td>\n",
       "      <td>负</td>\n",
       "      <td>1&gt;拓扑空间的分离性质是一个基本性质，目前发展到了很多研究的分离问题：比如，单调分离性质（单...</td>\n",
       "    </tr>\n",
       "  </tbody>\n",
       "</table>\n",
       "</div>"
      ],
      "text/plain": [
       "   id records                                            content\n",
       "0   0       负  1>隐马尔科夫模型是一种非常重要的统计模型，在很多方面均有着应用，将其推广到高维的情形也有着...\n",
       "1   1       正  1>本项目利用图论方法， 对符号网络的类簇结构进行研究，设计高效精确的层次聚类算法，对初始聚...\n",
       "2   2       负  1>倒向随机微分方程的理论和应用研究是近些年随机理论和金融领域中的热门问题，而统计方法又是检...\n",
       "3   3       正  1>本项目拟研究华林-哥德巴赫问题，改进其例外集。研究的问题有重要性，研究方案可行，考虑到申...\n",
       "4   4       负  1>拓扑空间的分离性质是一个基本性质，目前发展到了很多研究的分离问题：比如，单调分离性质（单..."
      ]
     },
     "execution_count": 41,
     "metadata": {},
     "output_type": "execute_result"
    }
   ],
   "source": [
    "#df_json_full = df_app[[\"申请人\",\"意见1\",\"意见2\",\"意见3\",\"意见4\",\"意见5\",\"立项\"]]\n",
    "df_json_full['id'] = df_json_full.index\n",
    "df_json = df_json_full[['id',\"意见1\",\"意见2\",\"意见3\",\"意见4\",\"意见5\",\"立项\"]]\n",
    "\n",
    "df_json_long = pd.wide_to_long(df_json, stubnames='意见', i=['id'], j='评审')\n",
    "df_json_long.reset_index(inplace=True)\n",
    "df_json_long.rename(columns={\"立项\":\"records\",\"意见\":\"content\"},inplace=True)\n",
    "df_json_long.dropna(inplace=True)\n",
    "df_json_long.sort_values(['id'])\n",
    "df_json_long[\"records\"].replace(to_replace=0, value=\"负\",inplace=True)\n",
    "df_json_long[\"records\"].replace(to_replace=1, value=\"正\",inplace=True)\n",
    "df_json_long = df_json_long[[\"id\",\"records\",\"content\"]]\n",
    "\n",
    "sample_size = df_json_long.shape[0]\n",
    "\n",
    "df_json_sample = df_json_long.iloc[0:sample_size,:]\n",
    "result = df_json_sample.to_json(orient=\"index\",force_ascii=False)\n",
    "\n",
    "with open('data.json', 'w') as f:\n",
    "    json.dump(result,f,ensure_ascii=False)\n",
    "    \n",
    "df_json_sample.head()\n"
   ]
  },
  {
   "cell_type": "code",
   "execution_count": 42,
   "metadata": {},
   "outputs": [
    {
     "data": {
      "text/html": [
       "<div>\n",
       "<style scoped>\n",
       "    .dataframe tbody tr th:only-of-type {\n",
       "        vertical-align: middle;\n",
       "    }\n",
       "\n",
       "    .dataframe tbody tr th {\n",
       "        vertical-align: top;\n",
       "    }\n",
       "\n",
       "    .dataframe thead th {\n",
       "        text-align: right;\n",
       "    }\n",
       "</style>\n",
       "<table border=\"1\" class=\"dataframe\">\n",
       "  <thead>\n",
       "    <tr style=\"text-align: right;\">\n",
       "      <th></th>\n",
       "      <th>项目名称</th>\n",
       "      <th>申请人</th>\n",
       "      <th>意见1</th>\n",
       "      <th>意见2</th>\n",
       "      <th>意见3</th>\n",
       "      <th>意见4</th>\n",
       "      <th>意见5</th>\n",
       "      <th>立项</th>\n",
       "      <th>年份</th>\n",
       "      <th>id</th>\n",
       "    </tr>\n",
       "  </thead>\n",
       "  <tbody>\n",
       "    <tr>\n",
       "      <th>0</th>\n",
       "      <td>在大数据中对隐马尔可夫模型和统计推断的研究</td>\n",
       "      <td>王效强</td>\n",
       "      <td>1&gt;隐马尔科夫模型是一种非常重要的统计模型，在很多方面均有着应用，将其推广到高维的情形也有着...</td>\n",
       "      <td>2&gt;本项目研究大数据下隐马氏模型的统计推断, 有两个特点, 一是不同变量之间是相关的, 二是...</td>\n",
       "      <td>3&gt;该项目主要研究大数据下隐马尔科夫模型的统计推断问题，其研究内容包括：研究模型中多元随机过...</td>\n",
       "      <td>None</td>\n",
       "      <td>None</td>\n",
       "      <td>0</td>\n",
       "      <td>2014</td>\n",
       "      <td>0</td>\n",
       "    </tr>\n",
       "  </tbody>\n",
       "</table>\n",
       "</div>"
      ],
      "text/plain": [
       "                    项目名称  申请人  \\\n",
       "0  在大数据中对隐马尔可夫模型和统计推断的研究  王效强   \n",
       "\n",
       "                                                 意见1  \\\n",
       "0  1>隐马尔科夫模型是一种非常重要的统计模型，在很多方面均有着应用，将其推广到高维的情形也有着...   \n",
       "\n",
       "                                                 意见2  \\\n",
       "0  2>本项目研究大数据下隐马氏模型的统计推断, 有两个特点, 一是不同变量之间是相关的, 二是...   \n",
       "\n",
       "                                                 意见3   意见4   意见5  立项    年份  id  \n",
       "0  3>该项目主要研究大数据下隐马尔科夫模型的统计推断问题，其研究内容包括：研究模型中多元随机过...  None  None   0  2014   0  "
      ]
     },
     "execution_count": 42,
     "metadata": {},
     "output_type": "execute_result"
    }
   ],
   "source": [
    "df_json_full.head(1)"
   ]
  },
  {
   "cell_type": "markdown",
   "metadata": {},
   "source": [
    "## 处理步骤\n",
    "1. 去除重复词语\n",
    "2. 去除stop words\n",
    "3. 分词\n",
    "4. 生成embedding"
   ]
  },
  {
   "cell_type": "markdown",
   "metadata": {},
   "source": [
    "## 重复词语"
   ]
  },
  {
   "cell_type": "code",
   "execution_count": 43,
   "metadata": {},
   "outputs": [],
   "source": [
    "def clean_pat(line):\n",
    "    pat = ['一、该申请项目所关注的科学问题是否源于多学科领域交叉的共性问题，具有明确的学科交叉特征？请详细阐述判断理由并评价预期成果的科学价值。',\n",
    "          '二、请针对学科交叉特点评述申请项目研究方案或技术路线的创新性和可行性。',\n",
    "          '三、请评述申请人的多学科背景、研究专长和创新潜力。',\n",
    "          '四、其他建议',\n",
    "          '1>',\n",
    "          '（1）',\n",
    "          '（2）',\n",
    "          '（3）',\n",
    "          '（4）',\n",
    "          '（5）',\n",
    "           '具体评价意见：',\n",
    "          '一、该申请项目的研究思想或方案是否具有新颖性和独特性？请详细阐述判断理由。',\n",
    "          '二、请评述申请项目所关注问题的科学价值以及对相关前沿领域的潜在贡献。',\n",
    "          '三、请评述申请人的创新潜力与研究方案的可行性',\n",
    "          '一、该申请项目是否面向国家需求并试图解决技术瓶颈背后的基础问题？请结合应用需求详细阐述判断理由。',\n",
    "          '二、请评述申请项目所提出的科学问题与预期成果的科学价值。',\n",
    "          '三、请评述申请人的创新潜力及研究方案的创新性和可行性。',\n",
    "          '。',\n",
    "          '，',\n",
    "          '、',\n",
    "          '的',\n",
    "          '研究',\n",
    "          '三请',\n",
    "          '申请人',\n",
    "          '拟']\n",
    "\n",
    "    line = re.sub(\"\\n\", \"\", line)\n",
    "    for x in pat:\n",
    "        line = re.sub(x, \"\", line)\n",
    "    \n",
    "    # stopwords\n",
    "    stopwords=pd.read_csv('stopwords.txt', header=None)[0].tolist() \n",
    "    for x in stopwords:\n",
    "        line = re.sub(x, \"\", line)\n",
    "    return line"
   ]
  },
  {
   "cell_type": "code",
   "execution_count": 44,
   "metadata": {},
   "outputs": [
    {
     "name": "stderr",
     "output_type": "stream",
     "text": [
      "/opt/anaconda3/lib/python3.7/site-packages/ipykernel_launcher.py:1: SettingWithCopyWarning: \n",
      "A value is trying to be set on a copy of a slice from a DataFrame.\n",
      "Try using .loc[row_indexer,col_indexer] = value instead\n",
      "\n",
      "See the caveats in the documentation: https://pandas.pydata.org/pandas-docs/stable/user_guide/indexing.html#returning-a-view-versus-a-copy\n",
      "  \"\"\"Entry point for launching an IPython kernel.\n"
     ]
    }
   ],
   "source": [
    "df_json_sample[\"content_clean\"] = df_json_sample[\"content\"].apply(clean_pat)"
   ]
  },
  {
   "cell_type": "code",
   "execution_count": 45,
   "metadata": {},
   "outputs": [
    {
     "data": {
      "text/plain": [
       "'隐马尔科夫模型种重统计模型很均推广高维情形很重理意义实价值关国家然科学基金资助象申请近些年工作保证困难工作作年轻人支持仍认国家然科学基金青年项目项目资助'"
      ]
     },
     "execution_count": 45,
     "metadata": {},
     "output_type": "execute_result"
    }
   ],
   "source": [
    "df_json_sample[\"content_clean\"][0]"
   ]
  },
  {
   "cell_type": "markdown",
   "metadata": {},
   "source": [
    "## 使用机器学习模型预测评审意见的正负"
   ]
  },
  {
   "cell_type": "code",
   "execution_count": 46,
   "metadata": {},
   "outputs": [
    {
     "name": "stderr",
     "output_type": "stream",
     "text": [
      "Building prefix dict from the default dictionary ...\n",
      "Dumping model to file cache /var/folders/cr/36rsw_vj0vsd47x1006y27fh0000gn/T/jieba.cache\n",
      "Loading model cost 0.780 seconds.\n",
      "Prefix dict has been built successfully.\n"
     ]
    },
    {
     "name": "stdout",
     "output_type": "stream",
     "text": [
      "隐 马尔科夫 模型 种重 统计 模型 很均 推广 高维 情形 很 重理 意义 实 价值 关 国家 然 科学基金 资助 象 申请 近些年 工作 保证 困难 工作 作 年轻人 支持 仍认 国家 然 科学基金 青年 项目 项目 资助\n"
     ]
    }
   ],
   "source": [
    "#我们定义一个文档集合存储于List，每个文档为list的一个元素，每个文档都对应一个标签,存储于labels\n",
    "seg_lists = list()\n",
    "lines = list(df_json_sample['content_clean'])\n",
    "for line in lines:\n",
    "    #print(line)\n",
    "    #seg_list = list(seg_list)\n",
    "    seg_lists.append(jieba.cut(line))\n",
    "    #print(len(seg_list))\n",
    "sentences = []\n",
    "for i in seg_lists:      \n",
    "    sentences.append(' '.join(i))    \n",
    "print(sentences[0])"
   ]
  },
  {
   "cell_type": "code",
   "execution_count": 47,
   "metadata": {},
   "outputs": [
    {
     "name": "stderr",
     "output_type": "stream",
     "text": [
      "/opt/anaconda3/lib/python3.7/site-packages/pandas/core/generic.py:6619: SettingWithCopyWarning: \n",
      "A value is trying to be set on a copy of a slice from a DataFrame\n",
      "\n",
      "See the caveats in the documentation: https://pandas.pydata.org/pandas-docs/stable/user_guide/indexing.html#returning-a-view-versus-a-copy\n",
      "  return self._update_inplace(result)\n"
     ]
    }
   ],
   "source": [
    "labels = df_json_sample[\"records\"]\n",
    "labels.replace(\"负\",0,inplace=True)\n",
    "labels.replace(\"正\",1,inplace=True)\n",
    "labels = list(labels)"
   ]
  },
  {
   "cell_type": "code",
   "execution_count": 48,
   "metadata": {},
   "outputs": [],
   "source": [
    "texts = ''.join(map(str, sentences))\n",
    "# = re.sub(\"\\n\", \"\", line)\n"
   ]
  },
  {
   "cell_type": "code",
   "execution_count": 49,
   "metadata": {},
   "outputs": [
    {
     "data": {
      "text/plain": [
       "(-0.5, 799.5, 399.5, -0.5)"
      ]
     },
     "execution_count": 49,
     "metadata": {},
     "output_type": "execute_result"
    },
    {
     "data": {
      "image/png": "[encoded data removed]",
      "text/plain": [
       "<Figure size 432x288 with 1 Axes>"
      ]
     },
     "metadata": {
      "needs_background": "light"
     },
     "output_type": "display_data"
    }
   ],
   "source": [
    "wordcloud = WordCloud(font_path = '/System/Library/Fonts/STHeiti Light.ttc',\n",
    "            background_color=\"white\",# 设置背景颜色\n",
    "           max_words=80, # 词云显示的最大词数\n",
    "           height=400, # 图片高度\n",
    "           width=800, # 图片宽度\n",
    "           max_font_size=50).generate(texts)\n",
    "plt.imshow(wordcloud, interpolation='bilinear')\n",
    "plt.axis(\"off\")\n",
    "# The pil way (if you don't have matplotlib)\n",
    "# image = wordcloud.to_image()\n",
    "# image.show()"
   ]
  },
  {
   "cell_type": "code",
   "execution_count": 50,
   "metadata": {},
   "outputs": [],
   "source": [
    "vocab_size = 20000 #估计的词汇表大小，设置时要比真实的词汇量大，不然会产生不同单词分配了相同的索引。\n",
    "\n",
    "# #通过索引对上面句子进行编码，one_hot编码映射到[1,vocab_size]，不包括0\n",
    "# encoded_docs = [one_hot(s, vocab_size) for s in sentences]\n",
    "# # 文本编码成数字格式并padding到相同长度，这里长度设置为4，在后面补0，这也是为什么前面one-hot不会映射到0的原因。\n",
    "\n",
    "tokenizer = Tokenizer(num_words=vocab_size)\n",
    "tokenizer.fit_on_texts(sentences)\n",
    "encoded_docs = tokenizer.texts_to_sequences(sentences)\n",
    "max_length = 200\n",
    "padded_docs = pad_sequences(encoded_docs, maxlen=max_length, padding='post')"
   ]
  },
  {
   "cell_type": "code",
   "execution_count": 51,
   "metadata": {},
   "outputs": [],
   "source": [
    "#X_train, X_val, y_train, y_val = train_test_split(padded_docs,labels, test_size=0.2)\n",
    "train_size = 1000\n",
    "X_train  = padded_docs[0:train_size,:]\n",
    "X_val  = padded_docs[train_size:,:]\n",
    "y_train  = labels[0:train_size]\n",
    "y_val    = labels[train_size:]\n",
    "\n",
    "y_train = np.array(y_train)\n",
    "y_val = np.array(y_val)"
   ]
  },
  {
   "cell_type": "code",
   "execution_count": 52,
   "metadata": {},
   "outputs": [
    {
     "name": "stdout",
     "output_type": "stream",
     "text": [
      "Model: \"sequential\"\n",
      "_________________________________________________________________\n",
      "Layer (type)                 Output Shape              Param #   \n",
      "=================================================================\n",
      "embedding (Embedding)        (None, 200, 20)           400000    \n",
      "_________________________________________________________________\n",
      "bidirectional (Bidirectional (None, 30)                4320      \n",
      "_________________________________________________________________\n",
      "flatten (Flatten)            (None, 30)                0         \n",
      "_________________________________________________________________\n",
      "dense (Dense)                (None, 1)                 31        \n",
      "=================================================================\n",
      "Total params: 404,351\n",
      "Trainable params: 404,351\n",
      "Non-trainable params: 0\n",
      "_________________________________________________________________\n",
      "None\n"
     ]
    }
   ],
   "source": [
    "# define the model\n",
    "model = Sequential()\n",
    "model.add(Embedding(vocab_size, 20, input_length=max_length))  # Embedding layer\n",
    "model.add(Bidirectional(LSTM(15)))\n",
    "model.add(Flatten())\n",
    "model.add(Dense(1, activation='sigmoid',kernel_regularizer='l2'))\n",
    "model.compile(loss='binary_crossentropy',\n",
    "                     optimizer='adam', \n",
    "                     metrics=['accuracy'])\n",
    "print(model.summary())"
   ]
  },
  {
   "cell_type": "markdown",
   "metadata": {},
   "source": [
    "### Test"
   ]
  },
  {
   "cell_type": "code",
   "execution_count": 53,
   "metadata": {},
   "outputs": [
    {
     "name": "stdout",
     "output_type": "stream",
     "text": [
      "Epoch 1/10\n",
      "86/86 [==============================] - 9s 71ms/step - loss: 0.6610 - accuracy: 0.6945 - val_loss: 0.5883 - val_accuracy: 0.7340\n",
      "Epoch 2/10\n",
      "86/86 [==============================] - 6s 67ms/step - loss: 0.5567 - accuracy: 0.7293 - val_loss: 0.5208 - val_accuracy: 0.7340\n",
      "Epoch 3/10\n",
      "86/86 [==============================] - 6s 68ms/step - loss: 0.4255 - accuracy: 0.7470 - val_loss: 0.4623 - val_accuracy: 0.7704\n",
      "Epoch 4/10\n",
      "86/86 [==============================] - 6s 69ms/step - loss: 0.3001 - accuracy: 0.9251 - val_loss: 0.4377 - val_accuracy: 0.8169\n",
      "Epoch 5/10\n",
      "86/86 [==============================] - 6s 69ms/step - loss: 0.2362 - accuracy: 0.9613 - val_loss: 0.4324 - val_accuracy: 0.8143\n",
      "Epoch 6/10\n",
      "86/86 [==============================] - 6s 69ms/step - loss: 0.1548 - accuracy: 0.9754 - val_loss: 0.4589 - val_accuracy: 0.8261\n",
      "Epoch 7/10\n",
      "86/86 [==============================] - 6s 71ms/step - loss: 0.1164 - accuracy: 0.9855 - val_loss: 0.5405 - val_accuracy: 0.8290\n",
      "Epoch 8/10\n",
      "86/86 [==============================] - 6s 72ms/step - loss: 0.0911 - accuracy: 0.9904 - val_loss: 0.5451 - val_accuracy: 0.8337\n",
      "Epoch 9/10\n",
      "86/86 [==============================] - 6s 75ms/step - loss: 0.0807 - accuracy: 0.9939 - val_loss: 0.5874 - val_accuracy: 0.7624\n",
      "Epoch 10/10\n",
      "86/86 [==============================] - 6s 73ms/step - loss: 0.0977 - accuracy: 0.9855 - val_loss: 0.5286 - val_accuracy: 0.8225\n"
     ]
    },
    {
     "data": {
      "image/png": "[encoded data removed]",
      "text/plain": [
       "<Figure size 432x288 with 1 Axes>"
      ]
     },
     "metadata": {
      "needs_background": "light"
     },
     "output_type": "display_data"
    }
   ],
   "source": [
    "history = model.fit(padded_docs, np.array(labels),validation_split = 0.6, epochs=10)\n",
    "plt.plot(history.history['accuracy'])\n",
    "plt.plot(history.history['val_accuracy'])\n",
    "plt.title('model accuracy')\n",
    "plt.ylabel('accuracy')\n",
    "plt.xlabel('epoch')\n",
    "plt.legend(['train', 'val'], loc='upper left')\n",
    "plt.show()"
   ]
  },
  {
   "cell_type": "markdown",
   "metadata": {},
   "source": [
    "## 之前的代码"
   ]
  },
  {
   "cell_type": "code",
   "execution_count": 54,
   "metadata": {},
   "outputs": [],
   "source": [
    "#history = model.fit(X_train, y_train, epochs=10)"
   ]
  },
  {
   "cell_type": "code",
   "execution_count": 55,
   "metadata": {},
   "outputs": [],
   "source": [
    "#score = model.evaluate(X_val, y_val, verbose=1)"
   ]
  },
  {
   "cell_type": "code",
   "execution_count": null,
   "metadata": {},
   "outputs": [],
   "source": []
  },
  {
   "cell_type": "code",
   "execution_count": 56,
   "metadata": {},
   "outputs": [
    {
     "data": {
      "text/html": [
       "<div>\n",
       "<style scoped>\n",
       "    .dataframe tbody tr th:only-of-type {\n",
       "        vertical-align: middle;\n",
       "    }\n",
       "\n",
       "    .dataframe tbody tr th {\n",
       "        vertical-align: top;\n",
       "    }\n",
       "\n",
       "    .dataframe thead th {\n",
       "        text-align: right;\n",
       "    }\n",
       "</style>\n",
       "<table border=\"1\" class=\"dataframe\">\n",
       "  <thead>\n",
       "    <tr style=\"text-align: right;\">\n",
       "      <th></th>\n",
       "      <th>Senti</th>\n",
       "    </tr>\n",
       "    <tr>\n",
       "      <th>Y</th>\n",
       "      <th></th>\n",
       "    </tr>\n",
       "  </thead>\n",
       "  <tbody>\n",
       "    <tr>\n",
       "      <th>0</th>\n",
       "      <td>0.019756</td>\n",
       "    </tr>\n",
       "    <tr>\n",
       "      <th>1</th>\n",
       "      <td>0.916469</td>\n",
       "    </tr>\n",
       "  </tbody>\n",
       "</table>\n",
       "</div>"
      ],
      "text/plain": [
       "      Senti\n",
       "Y          \n",
       "0  0.019756\n",
       "1  0.916469"
      ]
     },
     "execution_count": 56,
     "metadata": {},
     "output_type": "execute_result"
    }
   ],
   "source": [
    "senti_train = []\n",
    "for i in X_train:\n",
    "    input = np.expand_dims(i,axis=0)\n",
    "    senti_train.append(model.predict(input))\n",
    "\n",
    "senti_train_num = []\n",
    "for i in range(len(senti_train)):\n",
    "    senti_train_num.append(senti_train[i][0][0])\n",
    "\n",
    "senti_train = pd.DataFrame(list(zip(senti_train_num, y_train)), columns =['Senti', 'Y'])\n",
    "senti_train.groupby('Y').mean()"
   ]
  },
  {
   "cell_type": "code",
   "execution_count": 57,
   "metadata": {},
   "outputs": [
    {
     "data": {
      "text/plain": [
       "<matplotlib.axes._subplots.AxesSubplot at 0x1a8125db50>"
      ]
     },
     "execution_count": 57,
     "metadata": {},
     "output_type": "execute_result"
    },
    {
     "data": {
      "image/png": "[encoded data removed]",
      "text/plain": [
       "<Figure size 432x288 with 1 Axes>"
      ]
     },
     "metadata": {
      "needs_background": "light"
     },
     "output_type": "display_data"
    }
   ],
   "source": [
    "senti_train.loc[senti_train['Y']==0,'Senti'].plot.density()\n",
    "senti_train.loc[senti_train['Y']==1,'Senti'].plot.density()"
   ]
  },
  {
   "cell_type": "code",
   "execution_count": 58,
   "metadata": {},
   "outputs": [
    {
     "data": {
      "text/html": [
       "<div>\n",
       "<style scoped>\n",
       "    .dataframe tbody tr th:only-of-type {\n",
       "        vertical-align: middle;\n",
       "    }\n",
       "\n",
       "    .dataframe tbody tr th {\n",
       "        vertical-align: top;\n",
       "    }\n",
       "\n",
       "    .dataframe thead th {\n",
       "        text-align: right;\n",
       "    }\n",
       "</style>\n",
       "<table border=\"1\" class=\"dataframe\">\n",
       "  <thead>\n",
       "    <tr style=\"text-align: right;\">\n",
       "      <th></th>\n",
       "      <th>Senti</th>\n",
       "    </tr>\n",
       "    <tr>\n",
       "      <th>Y</th>\n",
       "      <th></th>\n",
       "    </tr>\n",
       "  </thead>\n",
       "  <tbody>\n",
       "    <tr>\n",
       "      <th>0</th>\n",
       "      <td>0.091359</td>\n",
       "    </tr>\n",
       "    <tr>\n",
       "      <th>1</th>\n",
       "      <td>0.714768</td>\n",
       "    </tr>\n",
       "  </tbody>\n",
       "</table>\n",
       "</div>"
      ],
      "text/plain": [
       "      Senti\n",
       "Y          \n",
       "0  0.091359\n",
       "1  0.714768"
      ]
     },
     "execution_count": 58,
     "metadata": {},
     "output_type": "execute_result"
    }
   ],
   "source": [
    "senti_val = []\n",
    "for i in X_val:\n",
    "    input = np.expand_dims(i,axis=0)\n",
    "    senti_val.append(model.predict(input))\n",
    "    \n",
    "senti_val_num = []\n",
    "for i in range(len(senti_val)):\n",
    "    senti_val_num.append(senti_val[i][0][0])\n",
    "\n",
    "senti_val = pd.DataFrame(list(zip(senti_val_num, y_val)), columns =['Senti', 'Y'])\n",
    "senti_val.groupby('Y').mean()"
   ]
  },
  {
   "cell_type": "code",
   "execution_count": 59,
   "metadata": {},
   "outputs": [
    {
     "data": {
      "text/plain": [
       "<matplotlib.axes._subplots.AxesSubplot at 0x1a90c85e50>"
      ]
     },
     "execution_count": 59,
     "metadata": {},
     "output_type": "execute_result"
    },
    {
     "data": {
      "image/png": "[encoded data removed]",
      "text/plain": [
       "<Figure size 432x288 with 1 Axes>"
      ]
     },
     "metadata": {
      "needs_background": "light"
     },
     "output_type": "display_data"
    }
   ],
   "source": [
    "senti_val.loc[senti_val['Y']==0,'Senti'].plot.density()\n",
    "senti_val.loc[senti_val['Y']==1,'Senti'].plot.density()"
   ]
  },
  {
   "cell_type": "markdown",
   "metadata": {},
   "source": [
    "## Merging the sentiment back to original data"
   ]
  },
  {
   "cell_type": "code",
   "execution_count": 60,
   "metadata": {},
   "outputs": [
    {
     "data": {
      "text/plain": [
       "(6873, 2)"
      ]
     },
     "execution_count": 60,
     "metadata": {},
     "output_type": "execute_result"
    }
   ],
   "source": [
    "senti = senti_train.append(senti_val)\n",
    "senti.shape"
   ]
  },
  {
   "cell_type": "code",
   "execution_count": 61,
   "metadata": {},
   "outputs": [],
   "source": [
    "senti = senti.reset_index().drop(['index'],axis=1)\n",
    "df_json_sample = df_json_sample.reset_index().drop(['index'],axis=1)"
   ]
  },
  {
   "cell_type": "code",
   "execution_count": 62,
   "metadata": {},
   "outputs": [],
   "source": [
    "senti_id = df_json_sample.join(senti)[['id','Senti']]"
   ]
  },
  {
   "cell_type": "code",
   "execution_count": 63,
   "metadata": {},
   "outputs": [
    {
     "data": {
      "text/html": [
       "<div>\n",
       "<style scoped>\n",
       "    .dataframe tbody tr th:only-of-type {\n",
       "        vertical-align: middle;\n",
       "    }\n",
       "\n",
       "    .dataframe tbody tr th {\n",
       "        vertical-align: top;\n",
       "    }\n",
       "\n",
       "    .dataframe thead th {\n",
       "        text-align: right;\n",
       "    }\n",
       "</style>\n",
       "<table border=\"1\" class=\"dataframe\">\n",
       "  <thead>\n",
       "    <tr style=\"text-align: right;\">\n",
       "      <th></th>\n",
       "      <th>id</th>\n",
       "      <th>Senti</th>\n",
       "    </tr>\n",
       "  </thead>\n",
       "  <tbody>\n",
       "    <tr>\n",
       "      <th>0</th>\n",
       "      <td>0</td>\n",
       "      <td>0.015672</td>\n",
       "    </tr>\n",
       "    <tr>\n",
       "      <th>1</th>\n",
       "      <td>1</td>\n",
       "      <td>0.941079</td>\n",
       "    </tr>\n",
       "    <tr>\n",
       "      <th>2</th>\n",
       "      <td>2</td>\n",
       "      <td>0.021853</td>\n",
       "    </tr>\n",
       "    <tr>\n",
       "      <th>3</th>\n",
       "      <td>3</td>\n",
       "      <td>0.936594</td>\n",
       "    </tr>\n",
       "    <tr>\n",
       "      <th>4</th>\n",
       "      <td>4</td>\n",
       "      <td>0.022600</td>\n",
       "    </tr>\n",
       "  </tbody>\n",
       "</table>\n",
       "</div>"
      ],
      "text/plain": [
       "   id     Senti\n",
       "0   0  0.015672\n",
       "1   1  0.941079\n",
       "2   2  0.021853\n",
       "3   3  0.936594\n",
       "4   4  0.022600"
      ]
     },
     "execution_count": 63,
     "metadata": {},
     "output_type": "execute_result"
    }
   ],
   "source": [
    "senti_id.head()"
   ]
  },
  {
   "cell_type": "code",
   "execution_count": 64,
   "metadata": {},
   "outputs": [],
   "source": [
    "senti_id_avg = senti_id.groupby('id')['Senti'].agg('mean')"
   ]
  },
  {
   "cell_type": "code",
   "execution_count": 65,
   "metadata": {},
   "outputs": [],
   "source": [
    "df_final = df_json_full.merge(senti_id_avg, how='inner', on='id')"
   ]
  },
  {
   "cell_type": "code",
   "execution_count": 66,
   "metadata": {},
   "outputs": [
    {
     "data": {
      "text/html": [
       "<div>\n",
       "<style scoped>\n",
       "    .dataframe tbody tr th:only-of-type {\n",
       "        vertical-align: middle;\n",
       "    }\n",
       "\n",
       "    .dataframe tbody tr th {\n",
       "        vertical-align: top;\n",
       "    }\n",
       "\n",
       "    .dataframe thead th {\n",
       "        text-align: right;\n",
       "    }\n",
       "</style>\n",
       "<table border=\"1\" class=\"dataframe\">\n",
       "  <thead>\n",
       "    <tr style=\"text-align: right;\">\n",
       "      <th></th>\n",
       "      <th>项目名称</th>\n",
       "      <th>申请人</th>\n",
       "      <th>意见1</th>\n",
       "      <th>意见2</th>\n",
       "      <th>意见3</th>\n",
       "      <th>意见4</th>\n",
       "      <th>意见5</th>\n",
       "      <th>立项</th>\n",
       "      <th>年份</th>\n",
       "      <th>id</th>\n",
       "      <th>Senti</th>\n",
       "    </tr>\n",
       "  </thead>\n",
       "  <tbody>\n",
       "    <tr>\n",
       "      <th>0</th>\n",
       "      <td>在大数据中对隐马尔可夫模型和统计推断的研究</td>\n",
       "      <td>王效强</td>\n",
       "      <td>1&gt;隐马尔科夫模型是一种非常重要的统计模型，在很多方面均有着应用，将其推广到高维的情形也有着...</td>\n",
       "      <td>2&gt;本项目研究大数据下隐马氏模型的统计推断, 有两个特点, 一是不同变量之间是相关的, 二是...</td>\n",
       "      <td>3&gt;该项目主要研究大数据下隐马尔科夫模型的统计推断问题，其研究内容包括：研究模型中多元随机过...</td>\n",
       "      <td>None</td>\n",
       "      <td>None</td>\n",
       "      <td>0</td>\n",
       "      <td>2014</td>\n",
       "      <td>0</td>\n",
       "      <td>0.054292</td>\n",
       "    </tr>\n",
       "    <tr>\n",
       "      <th>1</th>\n",
       "      <td>基于图论方法的符号网络中重叠聚类算法的研究</td>\n",
       "      <td>亓兴勤</td>\n",
       "      <td>1&gt;本项目利用图论方法， 对符号网络的类簇结构进行研究，设计高效精确的层次聚类算法，对初始聚...</td>\n",
       "      <td>2&gt;我们的社会到处充满了复杂网络结构，因些对复杂网络的结构特性的研究有非常重要的意义。\\n网...</td>\n",
       "      <td>3&gt;这是个有很大发展潜力的项目，主持人对于自己将来发的展有着很好的设计；其次，从其周密的科研...</td>\n",
       "      <td>None</td>\n",
       "      <td>None</td>\n",
       "      <td>1</td>\n",
       "      <td>2014</td>\n",
       "      <td>1</td>\n",
       "      <td>0.637496</td>\n",
       "    </tr>\n",
       "    <tr>\n",
       "      <th>2</th>\n",
       "      <td>倒向随机微分方程的统计研究及应用</td>\n",
       "      <td>周丽</td>\n",
       "      <td>1&gt;倒向随机微分方程的理论和应用研究是近些年随机理论和金融领域中的热门问题，而统计方法又是检...</td>\n",
       "      <td>2&gt;该研究课题主要研究倒向随机微分方程的若干统计问题。研究的主要内容集中在基于连续观测样本的...</td>\n",
       "      <td>3&gt;由于倒向随机微分方程在诸多领域中的广泛应用而备受关注，其中很有兴趣的问题是有关与倒向随机...</td>\n",
       "      <td>None</td>\n",
       "      <td>None</td>\n",
       "      <td>0</td>\n",
       "      <td>2014</td>\n",
       "      <td>2</td>\n",
       "      <td>0.014758</td>\n",
       "    </tr>\n",
       "    <tr>\n",
       "      <th>3</th>\n",
       "      <td>素数分布：从堆垒问题到自守形式</td>\n",
       "      <td>李太玉</td>\n",
       "      <td>1&gt;本项目拟研究华林-哥德巴赫问题，改进其例外集。研究的问题有重要性，研究方案可行，考虑到申...</td>\n",
       "      <td>2&gt;该项目主要研究Waring-Goldbach相关问题，与经典研究方法所不同的是，申请者在...</td>\n",
       "      <td>3&gt;申请人拟研究Waring-Goldbach型问题，这是经典数论的重要研究内容之一。 申请...</td>\n",
       "      <td>None</td>\n",
       "      <td>None</td>\n",
       "      <td>1</td>\n",
       "      <td>2014</td>\n",
       "      <td>3</td>\n",
       "      <td>0.710397</td>\n",
       "    </tr>\n",
       "    <tr>\n",
       "      <th>4</th>\n",
       "      <td>极小单调分离性的研究</td>\n",
       "      <td>孙伟华</td>\n",
       "      <td>1&gt;拓扑空间的分离性质是一个基本性质，目前发展到了很多研究的分离问题：比如，单调分离性质（单...</td>\n",
       "      <td>2&gt; 申请者在极小单调分离性研究领域已取得了一些初步的研究成果，但与国内从事同类研究的优秀青...</td>\n",
       "      <td>3&gt; 极小拓扑的研究是拓扑学中的一个有意义的研究方向，该申请人在所申请领域已取得了一定的科研...</td>\n",
       "      <td>None</td>\n",
       "      <td>None</td>\n",
       "      <td>0</td>\n",
       "      <td>2014</td>\n",
       "      <td>4</td>\n",
       "      <td>0.097578</td>\n",
       "    </tr>\n",
       "    <tr>\n",
       "      <th>...</th>\n",
       "      <td>...</td>\n",
       "      <td>...</td>\n",
       "      <td>...</td>\n",
       "      <td>...</td>\n",
       "      <td>...</td>\n",
       "      <td>...</td>\n",
       "      <td>...</td>\n",
       "      <td>...</td>\n",
       "      <td>...</td>\n",
       "      <td>...</td>\n",
       "      <td>...</td>\n",
       "    </tr>\n",
       "    <tr>\n",
       "      <th>1778</th>\n",
       "      <td>自组装膜表面不同功能团调控巨噬细胞极化及促进组织再生机制研究</td>\n",
       "      <td>张玉珏</td>\n",
       "      <td>1&gt;具体评价意见：\\n一、请针对创新点详细评述申请项目的创新性、科学价值以及对相关领域的潜在...</td>\n",
       "      <td>2&gt;具体评价意见：\\n一、请针对创新点详细评述申请项目的创新性、科学价值以及对相关领域的潜在...</td>\n",
       "      <td>3&gt;具体评价意见：\\n一、请针对创新点详细评述申请项目的创新性、科学价值以及对相关领域的潜在...</td>\n",
       "      <td>4&gt;具体评价意见：\\n一、请针对创新点详细评述申请项目的创新性、科学价值以及对相关领域的潜在...</td>\n",
       "      <td>5&gt;具体评价意见：\\n一、请针对创新点详细评述申请项目的创新性、科学价值以及对相关领域的潜在...</td>\n",
       "      <td>0</td>\n",
       "      <td>2020</td>\n",
       "      <td>1787</td>\n",
       "      <td>0.074681</td>\n",
       "    </tr>\n",
       "    <tr>\n",
       "      <th>1779</th>\n",
       "      <td>基于Schiff base反应制备蛋白质/多糖双网络膜结构及相关机制研究</td>\n",
       "      <td>陈浩</td>\n",
       "      <td>1&gt;具体评价意见：\\n一、请针对创新点详细评述申请项目的创新性、科学价值以及对相关领域的潜在...</td>\n",
       "      <td>2&gt;具体评价意见：\\n一、请针对创新点详细评述申请项目的创新性、科学价值以及对相关领域的潜在...</td>\n",
       "      <td>3&gt;具体评价意见：\\n一、请针对创新点详细评述申请项目的创新性、科学价值以及对相关领域的潜在...</td>\n",
       "      <td>None</td>\n",
       "      <td>None</td>\n",
       "      <td>0</td>\n",
       "      <td>2020</td>\n",
       "      <td>1788</td>\n",
       "      <td>0.151119</td>\n",
       "    </tr>\n",
       "    <tr>\n",
       "      <th>1780</th>\n",
       "      <td>三倍频DKDP晶体传统定向生长及性能研究</td>\n",
       "      <td>徐明霞</td>\n",
       "      <td>1&gt;具体评价意见：\\n一、请针对创新点详细评述申请项目的创新性、科学价值以及对相关领域的潜在...</td>\n",
       "      <td>2&gt;具体评价意见：\\n一、请针对创新点详细评述申请项目的创新性、科学价值以及对相关领域的潜在...</td>\n",
       "      <td>3&gt;具体评价意见：\\n一、请针对创新点详细评述申请项目的创新性、科学价值以及对相关领域的潜在...</td>\n",
       "      <td>None</td>\n",
       "      <td>None</td>\n",
       "      <td>0</td>\n",
       "      <td>2020</td>\n",
       "      <td>1789</td>\n",
       "      <td>0.017685</td>\n",
       "    </tr>\n",
       "    <tr>\n",
       "      <th>1781</th>\n",
       "      <td>基于高稳腔的半导体激光器鉴相稳频关键技术研究</td>\n",
       "      <td>姬兰婷</td>\n",
       "      <td>1&gt;具体评价意见：\\n一、请针对创新点详细评述申请项目的创新性、科学价值以及对相关领域的潜在...</td>\n",
       "      <td>2&gt;具体评价意见：\\n一、请针对创新点详细评述申请项目的创新性、科学价值以及对相关领域的潜在...</td>\n",
       "      <td>3&gt;具体评价意见：\\n一、请针对创新点详细评述申请项目的创新性、科学价值以及对相关领域的潜在...</td>\n",
       "      <td>None</td>\n",
       "      <td>None</td>\n",
       "      <td>0</td>\n",
       "      <td>2020</td>\n",
       "      <td>1790</td>\n",
       "      <td>0.016554</td>\n",
       "    </tr>\n",
       "    <tr>\n",
       "      <th>1782</th>\n",
       "      <td>新生儿戒断综合征风险评估体系构建与应用研究</td>\n",
       "      <td>褚梁梁</td>\n",
       "      <td>1&gt;具体评价意见：\\n一、请针对创新点详细评述申请项目的创新性、科学价值以及对相关领域的潜在...</td>\n",
       "      <td>2&gt;具体评价意见：\\n一、请针对创新点详细评述申请项目的创新性、科学价值以及对相关领域的潜在...</td>\n",
       "      <td>3&gt;具体评价意见：\\n一、请针对创新点详细评述申请项目的创新性、科学价值以及对相关领域的潜在...</td>\n",
       "      <td>4&gt;具体评价意见：\\n一、请针对创新点详细评述申请项目的创新性、科学价值以及对相关领域的潜在...</td>\n",
       "      <td>5&gt;具体评价意见：\\n一、请针对创新点详细评述申请项目的创新性、科学价值以及对相关领域的潜在...</td>\n",
       "      <td>0</td>\n",
       "      <td>2020</td>\n",
       "      <td>1791</td>\n",
       "      <td>0.013318</td>\n",
       "    </tr>\n",
       "  </tbody>\n",
       "</table>\n",
       "<p>1783 rows × 11 columns</p>\n",
       "</div>"
      ],
      "text/plain": [
       "                                      项目名称  申请人  \\\n",
       "0                    在大数据中对隐马尔可夫模型和统计推断的研究  王效强   \n",
       "1                    基于图论方法的符号网络中重叠聚类算法的研究  亓兴勤   \n",
       "2                         倒向随机微分方程的统计研究及应用   周丽   \n",
       "3                          素数分布：从堆垒问题到自守形式  李太玉   \n",
       "4                               极小单调分离性的研究  孙伟华   \n",
       "...                                    ...  ...   \n",
       "1778        自组装膜表面不同功能团调控巨噬细胞极化及促进组织再生机制研究  张玉珏   \n",
       "1779  基于Schiff base反应制备蛋白质/多糖双网络膜结构及相关机制研究   陈浩   \n",
       "1780                  三倍频DKDP晶体传统定向生长及性能研究  徐明霞   \n",
       "1781                基于高稳腔的半导体激光器鉴相稳频关键技术研究  姬兰婷   \n",
       "1782                 新生儿戒断综合征风险评估体系构建与应用研究  褚梁梁   \n",
       "\n",
       "                                                    意见1  \\\n",
       "0     1>隐马尔科夫模型是一种非常重要的统计模型，在很多方面均有着应用，将其推广到高维的情形也有着...   \n",
       "1     1>本项目利用图论方法， 对符号网络的类簇结构进行研究，设计高效精确的层次聚类算法，对初始聚...   \n",
       "2     1>倒向随机微分方程的理论和应用研究是近些年随机理论和金融领域中的热门问题，而统计方法又是检...   \n",
       "3     1>本项目拟研究华林-哥德巴赫问题，改进其例外集。研究的问题有重要性，研究方案可行，考虑到申...   \n",
       "4     1>拓扑空间的分离性质是一个基本性质，目前发展到了很多研究的分离问题：比如，单调分离性质（单...   \n",
       "...                                                 ...   \n",
       "1778  1>具体评价意见：\\n一、请针对创新点详细评述申请项目的创新性、科学价值以及对相关领域的潜在...   \n",
       "1779  1>具体评价意见：\\n一、请针对创新点详细评述申请项目的创新性、科学价值以及对相关领域的潜在...   \n",
       "1780  1>具体评价意见：\\n一、请针对创新点详细评述申请项目的创新性、科学价值以及对相关领域的潜在...   \n",
       "1781  1>具体评价意见：\\n一、请针对创新点详细评述申请项目的创新性、科学价值以及对相关领域的潜在...   \n",
       "1782  1>具体评价意见：\\n一、请针对创新点详细评述申请项目的创新性、科学价值以及对相关领域的潜在...   \n",
       "\n",
       "                                                    意见2  \\\n",
       "0     2>本项目研究大数据下隐马氏模型的统计推断, 有两个特点, 一是不同变量之间是相关的, 二是...   \n",
       "1     2>我们的社会到处充满了复杂网络结构，因些对复杂网络的结构特性的研究有非常重要的意义。\\n网...   \n",
       "2     2>该研究课题主要研究倒向随机微分方程的若干统计问题。研究的主要内容集中在基于连续观测样本的...   \n",
       "3     2>该项目主要研究Waring-Goldbach相关问题，与经典研究方法所不同的是，申请者在...   \n",
       "4     2> 申请者在极小单调分离性研究领域已取得了一些初步的研究成果，但与国内从事同类研究的优秀青...   \n",
       "...                                                 ...   \n",
       "1778  2>具体评价意见：\\n一、请针对创新点详细评述申请项目的创新性、科学价值以及对相关领域的潜在...   \n",
       "1779  2>具体评价意见：\\n一、请针对创新点详细评述申请项目的创新性、科学价值以及对相关领域的潜在...   \n",
       "1780  2>具体评价意见：\\n一、请针对创新点详细评述申请项目的创新性、科学价值以及对相关领域的潜在...   \n",
       "1781  2>具体评价意见：\\n一、请针对创新点详细评述申请项目的创新性、科学价值以及对相关领域的潜在...   \n",
       "1782  2>具体评价意见：\\n一、请针对创新点详细评述申请项目的创新性、科学价值以及对相关领域的潜在...   \n",
       "\n",
       "                                                    意见3  \\\n",
       "0     3>该项目主要研究大数据下隐马尔科夫模型的统计推断问题，其研究内容包括：研究模型中多元随机过...   \n",
       "1     3>这是个有很大发展潜力的项目，主持人对于自己将来发的展有着很好的设计；其次，从其周密的科研...   \n",
       "2     3>由于倒向随机微分方程在诸多领域中的广泛应用而备受关注，其中很有兴趣的问题是有关与倒向随机...   \n",
       "3     3>申请人拟研究Waring-Goldbach型问题，这是经典数论的重要研究内容之一。 申请...   \n",
       "4     3> 极小拓扑的研究是拓扑学中的一个有意义的研究方向，该申请人在所申请领域已取得了一定的科研...   \n",
       "...                                                 ...   \n",
       "1778  3>具体评价意见：\\n一、请针对创新点详细评述申请项目的创新性、科学价值以及对相关领域的潜在...   \n",
       "1779  3>具体评价意见：\\n一、请针对创新点详细评述申请项目的创新性、科学价值以及对相关领域的潜在...   \n",
       "1780  3>具体评价意见：\\n一、请针对创新点详细评述申请项目的创新性、科学价值以及对相关领域的潜在...   \n",
       "1781  3>具体评价意见：\\n一、请针对创新点详细评述申请项目的创新性、科学价值以及对相关领域的潜在...   \n",
       "1782  3>具体评价意见：\\n一、请针对创新点详细评述申请项目的创新性、科学价值以及对相关领域的潜在...   \n",
       "\n",
       "                                                    意见4  \\\n",
       "0                                                  None   \n",
       "1                                                  None   \n",
       "2                                                  None   \n",
       "3                                                  None   \n",
       "4                                                  None   \n",
       "...                                                 ...   \n",
       "1778  4>具体评价意见：\\n一、请针对创新点详细评述申请项目的创新性、科学价值以及对相关领域的潜在...   \n",
       "1779                                               None   \n",
       "1780                                               None   \n",
       "1781                                               None   \n",
       "1782  4>具体评价意见：\\n一、请针对创新点详细评述申请项目的创新性、科学价值以及对相关领域的潜在...   \n",
       "\n",
       "                                                    意见5  立项    年份    id  \\\n",
       "0                                                  None   0  2014     0   \n",
       "1                                                  None   1  2014     1   \n",
       "2                                                  None   0  2014     2   \n",
       "3                                                  None   1  2014     3   \n",
       "4                                                  None   0  2014     4   \n",
       "...                                                 ...  ..   ...   ...   \n",
       "1778  5>具体评价意见：\\n一、请针对创新点详细评述申请项目的创新性、科学价值以及对相关领域的潜在...   0  2020  1787   \n",
       "1779                                               None   0  2020  1788   \n",
       "1780                                               None   0  2020  1789   \n",
       "1781                                               None   0  2020  1790   \n",
       "1782  5>具体评价意见：\\n一、请针对创新点详细评述申请项目的创新性、科学价值以及对相关领域的潜在...   0  2020  1791   \n",
       "\n",
       "         Senti  \n",
       "0     0.054292  \n",
       "1     0.637496  \n",
       "2     0.014758  \n",
       "3     0.710397  \n",
       "4     0.097578  \n",
       "...        ...  \n",
       "1778  0.074681  \n",
       "1779  0.151119  \n",
       "1780  0.017685  \n",
       "1781  0.016554  \n",
       "1782  0.013318  \n",
       "\n",
       "[1783 rows x 11 columns]"
      ]
     },
     "execution_count": 66,
     "metadata": {},
     "output_type": "execute_result"
    }
   ],
   "source": [
    "df_final.sort_values(['id'])"
   ]
  },
  {
   "cell_type": "code",
   "execution_count": 67,
   "metadata": {},
   "outputs": [
    {
     "data": {
      "text/plain": [
       "立项\n",
       "0    0.082936\n",
       "1    0.756726\n",
       "Name: Senti, dtype: float32"
      ]
     },
     "execution_count": 67,
     "metadata": {},
     "output_type": "execute_result"
    }
   ],
   "source": [
    "df_final.groupby('立项')['Senti'].agg('mean')"
   ]
  },
  {
   "cell_type": "code",
   "execution_count": 68,
   "metadata": {},
   "outputs": [
    {
     "data": {
      "image/png": "[encoded data removed]",
      "text/plain": [
       "<Figure size 432x288 with 1 Axes>"
      ]
     },
     "metadata": {
      "needs_background": "light"
     },
     "output_type": "display_data"
    }
   ],
   "source": [
    "fig, ax = plt.subplots()\n",
    "df_final.loc[df_final['立项']==0,'Senti'].plot.density(label='No grants')\n",
    "df_final.loc[df_final['立项']==1,'Senti'].plot.density(label='Grants')\n",
    "leg = ax.legend();"
   ]
  },
  {
   "cell_type": "code",
   "execution_count": 69,
   "metadata": {},
   "outputs": [],
   "source": [
    "rd_negative = (df_final['立项']==0) & (df_final['Senti']>=0.4) & (df_final['Senti']<=0.6)\n",
    "df_rd_neg = df_final[rd_negative]\n",
    "rd_positive = (df_final['立项']==1) & (df_final['Senti']>=0.4) & (df_final['Senti']<=0.6)\n",
    "df_rd_positive = df_final[rd_positive]"
   ]
  },
  {
   "cell_type": "code",
   "execution_count": 70,
   "metadata": {},
   "outputs": [
    {
     "data": {
      "text/plain": [
       "(30, 11)"
      ]
     },
     "execution_count": 70,
     "metadata": {},
     "output_type": "execute_result"
    }
   ],
   "source": [
    "df_rd_neg.shape"
   ]
  },
  {
   "cell_type": "code",
   "execution_count": 71,
   "metadata": {},
   "outputs": [
    {
     "data": {
      "text/plain": [
       "(54, 11)"
      ]
     },
     "execution_count": 71,
     "metadata": {},
     "output_type": "execute_result"
    }
   ],
   "source": [
    "df_rd_positive.shape"
   ]
  },
  {
   "cell_type": "code",
   "execution_count": 73,
   "metadata": {},
   "outputs": [
    {
     "data": {
      "text/html": [
       "<div>\n",
       "<style scoped>\n",
       "    .dataframe tbody tr th:only-of-type {\n",
       "        vertical-align: middle;\n",
       "    }\n",
       "\n",
       "    .dataframe tbody tr th {\n",
       "        vertical-align: top;\n",
       "    }\n",
       "\n",
       "    .dataframe thead th {\n",
       "        text-align: right;\n",
       "    }\n",
       "</style>\n",
       "<table border=\"1\" class=\"dataframe\">\n",
       "  <thead>\n",
       "    <tr style=\"text-align: right;\">\n",
       "      <th></th>\n",
       "      <th>项目名称</th>\n",
       "      <th>申请人</th>\n",
       "      <th>意见1</th>\n",
       "      <th>意见2</th>\n",
       "      <th>意见3</th>\n",
       "      <th>意见4</th>\n",
       "      <th>意见5</th>\n",
       "      <th>立项</th>\n",
       "      <th>年份</th>\n",
       "      <th>id</th>\n",
       "      <th>Senti</th>\n",
       "    </tr>\n",
       "  </thead>\n",
       "  <tbody>\n",
       "    <tr>\n",
       "      <th>0</th>\n",
       "      <td>在大数据中对隐马尔可夫模型和统计推断的研究</td>\n",
       "      <td>王效强</td>\n",
       "      <td>1&gt;隐马尔科夫模型是一种非常重要的统计模型，在很多方面均有着应用，将其推广到高维的情形也有着...</td>\n",
       "      <td>2&gt;本项目研究大数据下隐马氏模型的统计推断, 有两个特点, 一是不同变量之间是相关的, 二是...</td>\n",
       "      <td>3&gt;该项目主要研究大数据下隐马尔科夫模型的统计推断问题，其研究内容包括：研究模型中多元随机过...</td>\n",
       "      <td>None</td>\n",
       "      <td>None</td>\n",
       "      <td>0</td>\n",
       "      <td>2014</td>\n",
       "      <td>0</td>\n",
       "      <td>0.054292</td>\n",
       "    </tr>\n",
       "  </tbody>\n",
       "</table>\n",
       "</div>"
      ],
      "text/plain": [
       "                    项目名称  申请人  \\\n",
       "0  在大数据中对隐马尔可夫模型和统计推断的研究  王效强   \n",
       "\n",
       "                                                 意见1  \\\n",
       "0  1>隐马尔科夫模型是一种非常重要的统计模型，在很多方面均有着应用，将其推广到高维的情形也有着...   \n",
       "\n",
       "                                                 意见2  \\\n",
       "0  2>本项目研究大数据下隐马氏模型的统计推断, 有两个特点, 一是不同变量之间是相关的, 二是...   \n",
       "\n",
       "                                                 意见3   意见4   意见5  立项    年份  \\\n",
       "0  3>该项目主要研究大数据下隐马尔科夫模型的统计推断问题，其研究内容包括：研究模型中多元随机过...  None  None   0  2014   \n",
       "\n",
       "   id     Senti  \n",
       "0   0  0.054292  "
      ]
     },
     "execution_count": 73,
     "metadata": {},
     "output_type": "execute_result"
    }
   ],
   "source": [
    "df_final.head(1)"
   ]
  },
  {
   "cell_type": "code",
   "execution_count": 74,
   "metadata": {},
   "outputs": [],
   "source": [
    "df_final_output = df_final[['项目名称','申请人','年份','立项','Senti']]\n",
    "df_final_output.to_csv(\"/Users/yansong/Nutstore Files/基金研究/data/2013--2022面青/qn_senti_name.csv\",\n",
    "                             encoding='utf_8_sig')"
   ]
  },
  {
   "cell_type": "code",
   "execution_count": 51,
   "metadata": {},
   "outputs": [],
   "source": [
    "X1 = np.array(df_final['Senti'])\n",
    "X2 = np.square(X1)\n",
    "X3 = X1<0.5\n",
    "X3 = X3.astype(int)\n",
    "X4 = X1*X2\n",
    "X = pd.DataFrame([X1,X2,X3,X4])\n",
    "X = X.T\n",
    "y = np.array(df_final['立项'])\n",
    "DF = X\n",
    "DF.rename(columns={0: 'Senti', 1:'Senti Squared',2:'Below_cutoff',3:'Senti Cubic'},inplace=True)"
   ]
  },
  {
   "cell_type": "code",
   "execution_count": 52,
   "metadata": {},
   "outputs": [],
   "source": [
    "DF['Grants'] = y"
   ]
  },
  {
   "cell_type": "code",
   "execution_count": 53,
   "metadata": {},
   "outputs": [
    {
     "data": {
      "text/html": [
       "<div>\n",
       "<style scoped>\n",
       "    .dataframe tbody tr th:only-of-type {\n",
       "        vertical-align: middle;\n",
       "    }\n",
       "\n",
       "    .dataframe tbody tr th {\n",
       "        vertical-align: top;\n",
       "    }\n",
       "\n",
       "    .dataframe thead th {\n",
       "        text-align: right;\n",
       "    }\n",
       "</style>\n",
       "<table border=\"1\" class=\"dataframe\">\n",
       "  <thead>\n",
       "    <tr style=\"text-align: right;\">\n",
       "      <th></th>\n",
       "      <th>Senti</th>\n",
       "      <th>Senti Squared</th>\n",
       "      <th>Below_cutoff</th>\n",
       "      <th>Senti Cubic</th>\n",
       "      <th>Grants</th>\n",
       "    </tr>\n",
       "  </thead>\n",
       "  <tbody>\n",
       "    <tr>\n",
       "      <th>0</th>\n",
       "      <td>0.125632</td>\n",
       "      <td>0.015783</td>\n",
       "      <td>1.0</td>\n",
       "      <td>0.001983</td>\n",
       "      <td>0</td>\n",
       "    </tr>\n",
       "    <tr>\n",
       "      <th>1</th>\n",
       "      <td>0.645730</td>\n",
       "      <td>0.416968</td>\n",
       "      <td>0.0</td>\n",
       "      <td>0.269249</td>\n",
       "      <td>1</td>\n",
       "    </tr>\n",
       "    <tr>\n",
       "      <th>2</th>\n",
       "      <td>0.023803</td>\n",
       "      <td>0.000567</td>\n",
       "      <td>1.0</td>\n",
       "      <td>0.000013</td>\n",
       "      <td>0</td>\n",
       "    </tr>\n",
       "    <tr>\n",
       "      <th>3</th>\n",
       "      <td>0.682376</td>\n",
       "      <td>0.465637</td>\n",
       "      <td>0.0</td>\n",
       "      <td>0.317739</td>\n",
       "      <td>1</td>\n",
       "    </tr>\n",
       "    <tr>\n",
       "      <th>4</th>\n",
       "      <td>0.313434</td>\n",
       "      <td>0.098241</td>\n",
       "      <td>1.0</td>\n",
       "      <td>0.030792</td>\n",
       "      <td>0</td>\n",
       "    </tr>\n",
       "    <tr>\n",
       "      <th>...</th>\n",
       "      <td>...</td>\n",
       "      <td>...</td>\n",
       "      <td>...</td>\n",
       "      <td>...</td>\n",
       "      <td>...</td>\n",
       "    </tr>\n",
       "    <tr>\n",
       "      <th>1778</th>\n",
       "      <td>0.017221</td>\n",
       "      <td>0.000297</td>\n",
       "      <td>1.0</td>\n",
       "      <td>0.000005</td>\n",
       "      <td>0</td>\n",
       "    </tr>\n",
       "    <tr>\n",
       "      <th>1779</th>\n",
       "      <td>0.134714</td>\n",
       "      <td>0.018148</td>\n",
       "      <td>1.0</td>\n",
       "      <td>0.002445</td>\n",
       "      <td>0</td>\n",
       "    </tr>\n",
       "    <tr>\n",
       "      <th>1780</th>\n",
       "      <td>0.019344</td>\n",
       "      <td>0.000374</td>\n",
       "      <td>1.0</td>\n",
       "      <td>0.000007</td>\n",
       "      <td>0</td>\n",
       "    </tr>\n",
       "    <tr>\n",
       "      <th>1781</th>\n",
       "      <td>0.017390</td>\n",
       "      <td>0.000302</td>\n",
       "      <td>1.0</td>\n",
       "      <td>0.000005</td>\n",
       "      <td>0</td>\n",
       "    </tr>\n",
       "    <tr>\n",
       "      <th>1782</th>\n",
       "      <td>0.016286</td>\n",
       "      <td>0.000265</td>\n",
       "      <td>1.0</td>\n",
       "      <td>0.000004</td>\n",
       "      <td>0</td>\n",
       "    </tr>\n",
       "  </tbody>\n",
       "</table>\n",
       "<p>1783 rows × 5 columns</p>\n",
       "</div>"
      ],
      "text/plain": [
       "         Senti  Senti Squared  Below_cutoff  Senti Cubic  Grants\n",
       "0     0.125632       0.015783           1.0     0.001983       0\n",
       "1     0.645730       0.416968           0.0     0.269249       1\n",
       "2     0.023803       0.000567           1.0     0.000013       0\n",
       "3     0.682376       0.465637           0.0     0.317739       1\n",
       "4     0.313434       0.098241           1.0     0.030792       0\n",
       "...        ...            ...           ...          ...     ...\n",
       "1778  0.017221       0.000297           1.0     0.000005       0\n",
       "1779  0.134714       0.018148           1.0     0.002445       0\n",
       "1780  0.019344       0.000374           1.0     0.000007       0\n",
       "1781  0.017390       0.000302           1.0     0.000005       0\n",
       "1782  0.016286       0.000265           1.0     0.000004       0\n",
       "\n",
       "[1783 rows x 5 columns]"
      ]
     },
     "execution_count": 53,
     "metadata": {},
     "output_type": "execute_result"
    }
   ],
   "source": [
    "DF"
   ]
  },
  {
   "cell_type": "code",
   "execution_count": 54,
   "metadata": {},
   "outputs": [
    {
     "data": {
      "text/plain": [
       "=======================================================\n",
       "Dependent variable:\tGrants\n",
       "N:\t\t\t1783\n",
       "R-squared:\t\t0.8403\n",
       "Estimation method:\tOLS\n",
       "VCE method:\t\tStandard (Homosk.)\n",
       "=======================================================\n",
       "               coeff    se       t   p>t CI_low CI_high\n",
       "Senti          1.287 0.051  25.393 0.000  1.188   1.387\n",
       "Senti Squared -0.180 0.059  -3.025 0.003 -0.296  -0.063\n",
       "Below_cutoff  -0.062 0.006 -10.839 0.000 -0.073  -0.051\n",
       "======================================================="
      ]
     },
     "execution_count": 54,
     "metadata": {},
     "output_type": "execute_result"
    }
   ],
   "source": [
    "y_var = 'Grants'\n",
    "X_vars = ['Senti', 'Senti Squared','Below_cutoff']\n",
    "\n",
    "results = mt.reg(\n",
    "    DF,                     # DataFrame\n",
    "    y_var,                      # Dependent var (string)\n",
    "    X_vars,                      # Independent var(s) (string or list of strings)\n",
    "#    addcons=True\n",
    ")\n",
    "results"
   ]
  },
  {
   "cell_type": "code",
   "execution_count": 55,
   "metadata": {},
   "outputs": [
    {
     "name": "stdout",
     "output_type": "stream",
     "text": [
      "4572.790670677955\n",
      "1.1102230246251565e-16\n"
     ]
    }
   ],
   "source": [
    "F1, pF1 = results.Ftest(['Senti', 'Senti Squared','Below_cutoff'])\n",
    "print(F1)\n",
    "print(pF1)\n"
   ]
  },
  {
   "cell_type": "code",
   "execution_count": 56,
   "metadata": {
    "scrolled": true
   },
   "outputs": [
    {
     "data": {
      "text/plain": [
       "=======================================================\n",
       "Dependent variable:\tGrants\n",
       "N:\t\t\t1783\n",
       "R-squared:\t\t0.8394\n",
       "Estimation method:\tOLS\n",
       "VCE method:\t\tStandard (Homosk.)\n",
       "=======================================================\n",
       "              coeff    se       t   p>t CI_low CI_high\n",
       "Senti         1.137 0.010 116.597 0.000  1.118   1.156\n",
       "Below_cutoff -0.054 0.005 -10.682 0.000 -0.064  -0.044\n",
       "======================================================="
      ]
     },
     "execution_count": 56,
     "metadata": {},
     "output_type": "execute_result"
    }
   ],
   "source": [
    "y_var = 'Grants'\n",
    "X_vars = ['Senti','Below_cutoff']\n",
    "\n",
    "results = mt.reg(\n",
    "    DF,                     # DataFrame\n",
    "    y_var,                      # Dependent var (string)\n",
    "    X_vars,                      # Independent var(s) (string or list of strings)\n",
    "#    addcons=True\n",
    ")\n",
    "results"
   ]
  },
  {
   "cell_type": "code",
   "execution_count": 57,
   "metadata": {},
   "outputs": [],
   "source": [
    "DF['binned']=pd.cut(x=DF['Senti'], bins=[0,0.1,0.2,0.3,0.4,0.5,0.6,0.7,0.8,0.9,1])\n"
   ]
  },
  {
   "cell_type": "code",
   "execution_count": 58,
   "metadata": {},
   "outputs": [
    {
     "data": {
      "text/html": [
       "<div>\n",
       "<style scoped>\n",
       "    .dataframe tbody tr th:only-of-type {\n",
       "        vertical-align: middle;\n",
       "    }\n",
       "\n",
       "    .dataframe tbody tr th {\n",
       "        vertical-align: top;\n",
       "    }\n",
       "\n",
       "    .dataframe thead th {\n",
       "        text-align: right;\n",
       "    }\n",
       "</style>\n",
       "<table border=\"1\" class=\"dataframe\">\n",
       "  <thead>\n",
       "    <tr style=\"text-align: right;\">\n",
       "      <th></th>\n",
       "      <th>binned</th>\n",
       "      <th>Grants</th>\n",
       "      <th>bins</th>\n",
       "    </tr>\n",
       "  </thead>\n",
       "  <tbody>\n",
       "    <tr>\n",
       "      <th>0</th>\n",
       "      <td>(0.0, 0.1]</td>\n",
       "      <td>0.000989</td>\n",
       "      <td>0.0</td>\n",
       "    </tr>\n",
       "    <tr>\n",
       "      <th>1</th>\n",
       "      <td>(0.1, 0.2]</td>\n",
       "      <td>0.000000</td>\n",
       "      <td>0.1</td>\n",
       "    </tr>\n",
       "    <tr>\n",
       "      <th>2</th>\n",
       "      <td>(0.2, 0.3]</td>\n",
       "      <td>0.066667</td>\n",
       "      <td>0.2</td>\n",
       "    </tr>\n",
       "    <tr>\n",
       "      <th>3</th>\n",
       "      <td>(0.3, 0.4]</td>\n",
       "      <td>0.261364</td>\n",
       "      <td>0.3</td>\n",
       "    </tr>\n",
       "    <tr>\n",
       "      <th>4</th>\n",
       "      <td>(0.4, 0.5]</td>\n",
       "      <td>0.500000</td>\n",
       "      <td>0.4</td>\n",
       "    </tr>\n",
       "    <tr>\n",
       "      <th>5</th>\n",
       "      <td>(0.5, 0.6]</td>\n",
       "      <td>0.864865</td>\n",
       "      <td>0.5</td>\n",
       "    </tr>\n",
       "    <tr>\n",
       "      <th>6</th>\n",
       "      <td>(0.6, 0.7]</td>\n",
       "      <td>0.879121</td>\n",
       "      <td>0.6</td>\n",
       "    </tr>\n",
       "    <tr>\n",
       "      <th>7</th>\n",
       "      <td>(0.7, 0.8]</td>\n",
       "      <td>0.987013</td>\n",
       "      <td>0.7</td>\n",
       "    </tr>\n",
       "    <tr>\n",
       "      <th>8</th>\n",
       "      <td>(0.8, 0.9]</td>\n",
       "      <td>1.000000</td>\n",
       "      <td>0.8</td>\n",
       "    </tr>\n",
       "    <tr>\n",
       "      <th>9</th>\n",
       "      <td>(0.9, 1.0]</td>\n",
       "      <td>1.000000</td>\n",
       "      <td>0.9</td>\n",
       "    </tr>\n",
       "  </tbody>\n",
       "</table>\n",
       "</div>"
      ],
      "text/plain": [
       "       binned    Grants  bins\n",
       "0  (0.0, 0.1]  0.000989   0.0\n",
       "1  (0.1, 0.2]  0.000000   0.1\n",
       "2  (0.2, 0.3]  0.066667   0.2\n",
       "3  (0.3, 0.4]  0.261364   0.3\n",
       "4  (0.4, 0.5]  0.500000   0.4\n",
       "5  (0.5, 0.6]  0.864865   0.5\n",
       "6  (0.6, 0.7]  0.879121   0.6\n",
       "7  (0.7, 0.8]  0.987013   0.7\n",
       "8  (0.8, 0.9]  1.000000   0.8\n",
       "9  (0.9, 1.0]  1.000000   0.9"
      ]
     },
     "execution_count": 58,
     "metadata": {},
     "output_type": "execute_result"
    }
   ],
   "source": [
    "df_mean = DF.groupby('binned')['Grants'].mean()\n",
    "df_binned = pd.DataFrame(df_mean).reset_index()\n",
    "df_binned['bins'] = df_binned.index/10\n",
    "df_binned"
   ]
  },
  {
   "cell_type": "code",
   "execution_count": 59,
   "metadata": {},
   "outputs": [
    {
     "data": {
      "image/png": "[encoded data removed]",
      "text/plain": [
       "<Figure size 432x288 with 1 Axes>"
      ]
     },
     "metadata": {
      "needs_background": "light"
     },
     "output_type": "display_data"
    }
   ],
   "source": [
    "plt.scatter(df_binned['bins'], df_binned['Grants'], color=\"black\")\n",
    "plt.show()"
   ]
  },
  {
   "cell_type": "markdown",
   "metadata": {},
   "source": [
    "### Learning curve"
   ]
  },
  {
   "cell_type": "code",
   "execution_count": 82,
   "metadata": {},
   "outputs": [
    {
     "data": {
      "text/plain": [
       "申请次数\n",
       "1    0.410384\n",
       "2    0.234095\n",
       "3    0.141487\n",
       "4    0.120405\n",
       "5    0.109658\n",
       "6    0.085958\n",
       "7    0.013293\n",
       "Name: Senti, dtype: float32"
      ]
     },
     "execution_count": 82,
     "metadata": {},
     "output_type": "execute_result"
    }
   ],
   "source": [
    "df_final = df_final.sort_values(['申请人','年份'])\n",
    "df_final['constant'] = 1\n",
    "df_final['申请次数'] = df_final.groupby(['申请人']).年份.transform('count')\n",
    "df_final['申请第几次'] = df_final.groupby(['申请人']).constant.transform('cumsum')\n",
    "\n",
    "df_final.groupby(['申请次数']).Senti.mean()"
   ]
  },
  {
   "cell_type": "markdown",
   "metadata": {},
   "source": [
    "### 三次"
   ]
  },
  {
   "cell_type": "code",
   "execution_count": 96,
   "metadata": {},
   "outputs": [
    {
     "data": {
      "text/plain": [
       "申请第几次\n",
       "1    0.068876\n",
       "2    0.078370\n",
       "3    0.277216\n",
       "Name: Senti, dtype: float32"
      ]
     },
     "execution_count": 96,
     "metadata": {},
     "output_type": "execute_result"
    }
   ],
   "source": [
    "mask_3 = df_final['申请次数'] ==3\n",
    "df_final[mask_3].groupby(['申请第几次']).Senti.mean()"
   ]
  },
  {
   "cell_type": "markdown",
   "metadata": {},
   "source": [
    "### 四次"
   ]
  },
  {
   "cell_type": "code",
   "execution_count": 87,
   "metadata": {},
   "outputs": [
    {
     "data": {
      "text/plain": [
       "申请第几次\n",
       "1    0.040487\n",
       "2    0.034393\n",
       "3    0.078509\n",
       "4    0.328232\n",
       "Name: Senti, dtype: float32"
      ]
     },
     "execution_count": 87,
     "metadata": {},
     "output_type": "execute_result"
    }
   ],
   "source": [
    "mask_4 = df_final['申请次数'] ==4\n",
    "df_final[mask_4].groupby(['申请第几次']).Senti.mean()"
   ]
  },
  {
   "cell_type": "markdown",
   "metadata": {},
   "source": [
    "### 五次"
   ]
  },
  {
   "cell_type": "code",
   "execution_count": 89,
   "metadata": {},
   "outputs": [
    {
     "data": {
      "text/plain": [
       "申请第几次\n",
       "1    0.038069\n",
       "2    0.031281\n",
       "3    0.087026\n",
       "4    0.155272\n",
       "5    0.236643\n",
       "Name: Senti, dtype: float32"
      ]
     },
     "execution_count": 89,
     "metadata": {},
     "output_type": "execute_result"
    }
   ],
   "source": [
    "mask_5 = df_final['申请次数'] ==5\n",
    "df_final[mask_5].groupby(['申请第几次']).Senti.mean()"
   ]
  },
  {
   "cell_type": "markdown",
   "metadata": {},
   "source": [
    "### 六次"
   ]
  },
  {
   "cell_type": "code",
   "execution_count": 90,
   "metadata": {},
   "outputs": [
    {
     "data": {
      "text/plain": [
       "申请第几次\n",
       "1    0.017110\n",
       "2    0.044637\n",
       "3    0.025379\n",
       "4    0.042329\n",
       "5    0.181373\n",
       "6    0.204918\n",
       "Name: Senti, dtype: float32"
      ]
     },
     "execution_count": 90,
     "metadata": {},
     "output_type": "execute_result"
    }
   ],
   "source": [
    "mask_6 = df_final['申请次数'] ==6\n",
    "df_final[mask_6].groupby(['申请第几次']).Senti.mean()"
   ]
  },
  {
   "cell_type": "markdown",
   "metadata": {},
   "source": [
    "### 七次"
   ]
  },
  {
   "cell_type": "code",
   "execution_count": 91,
   "metadata": {},
   "outputs": [
    {
     "data": {
      "text/plain": [
       "申请第几次\n",
       "1    0.014664\n",
       "2    0.012459\n",
       "3    0.013436\n",
       "4    0.012165\n",
       "5    0.013212\n",
       "6    0.012923\n",
       "7    0.014190\n",
       "Name: Senti, dtype: float32"
      ]
     },
     "execution_count": 91,
     "metadata": {},
     "output_type": "execute_result"
    }
   ],
   "source": [
    "mask_7 = df_final['申请次数'] ==7\n",
    "df_final[mask_7].groupby(['申请第几次']).Senti.mean()"
   ]
  },
  {
   "cell_type": "code",
   "execution_count": null,
   "metadata": {},
   "outputs": [],
   "source": []
  }
 ],
 "metadata": {
  "kernelspec": {
   "display_name": "Python 3",
   "language": "python",
   "name": "python3"
  },
  "language_info": {
   "codemirror_mode": {
    "name": "ipython",
    "version": 3
   },
   "file_extension": ".py",
   "mimetype": "text/x-python",
   "name": "python",
   "nbconvert_exporter": "python",
   "pygments_lexer": "ipython3",
   "version": "3.7.4"
  }
 },
 "nbformat": 4,
 "nbformat_minor": 2
}
