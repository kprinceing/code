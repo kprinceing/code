{
 "cells": [
  {
   "cell_type": "code",
   "execution_count": 20,
   "metadata": {},
   "outputs": [],
   "source": [
    "import numpy as np\n",
    "import pandas as pd\n",
    "import json\n",
    "import re\n",
    "import jieba\n",
    "from gensim.models import Word2Vec\n",
    "import gensim\n",
    "import multiprocessing\n",
    "from gensim.corpora.dictionary import Dictionary\n",
    "from sklearn.model_selection import train_test_split\n",
    "from tensorflow.keras.preprocessing.text import one_hot,Tokenizer\n",
    "from tensorflow.keras.preprocessing.sequence import pad_sequences\n",
    "from tensorflow.keras.layers import Bidirectional,LSTM,Dense,Embedding,Dropout,Activation,Softmax,Flatten,Conv1D, SimpleRNN\n",
    "from tensorflow.keras.utils import to_categorical\n",
    "from tensorflow.keras import Sequential\n",
    "\n",
    "import matplotlib.pyplot as plt\n",
    "from wordcloud import WordCloud\n"
   ]
  },
  {
   "cell_type": "markdown",
   "metadata": {},
   "source": [
    "## 处理申请数据"
   ]
  },
  {
   "cell_type": "code",
   "execution_count": 21,
   "metadata": {},
   "outputs": [],
   "source": [
    "# 申请数据\n",
    "apps = pd.read_excel(\"/Users/yansong/Nutstore Files/基金研究/data/2013--2022面青/2014.xlsx\",sheet_name = \"申请\")\n",
    "apps.drop(columns=['Unnamed: 0','Unnamed: 2','Unnamed: 5', 'Unnamed: 6','Unnamed: 7', 'Unnamed: 8','项目名称2','姓名','申请单位'],inplace=True)\n",
    "apps_comments = apps[\"反馈评议意见\"].str.split(\"<\", expand = True)\n",
    "df_app = pd.merge(apps, apps_comments, left_index=True, right_index=True)\n",
    "df_app.drop(columns=0,inplace=True)\n",
    "df_app.rename(columns={1: \"意见1\",2: \"意见2\",3: \"意见3\",4: \"意见4\",5: \"意见5\",6: \"意见6\"},inplace=True)\n",
    "df_app.drop(columns=\"反馈评议意见\",inplace=True)\n",
    "\n",
    "# 立项数据\n",
    "grants = pd.read_excel(\"/Users/yansong/Nutstore Files/基金研究/data/2013--2022面青/2014.xlsx\",sheet_name = \"立项\")\n",
    "grants_comments = grants[\"反馈评议意见\"].str.split(\"<\", expand = True)\n",
    "grants_comments.drop(columns=0,inplace=True)\n",
    "grants_comments.rename(columns={1: \"意见1\",2: \"意见2\",3: \"意见3\",4: \"意见4\",5: \"意见5\"},inplace=True)\n",
    "df_grants = pd.merge(grants, grants_comments, left_index=True, right_index=True)\n",
    "df_grants.drop(columns=\"反馈评议意见\",inplace=True)\n",
    "\n",
    "# 计算是否立项\n",
    "def check_grant(a):\n",
    "    return df_grants[\"项目名称\"].isin([a]).sum()\n",
    "df_app[\"立项\"] = df_app[\"项目名称\"].apply(check_grant)\n",
    "\n",
    "df_app.head()\n",
    "df_app = df_app[df_app['资助类别']=='面上项目']"
   ]
  },
  {
   "cell_type": "code",
   "execution_count": 22,
   "metadata": {},
   "outputs": [
    {
     "data": {
      "text/plain": [
       "资助类别\n",
       "面上项目    0.314815\n",
       "Name: 立项, dtype: float64"
      ]
     },
     "execution_count": 22,
     "metadata": {},
     "output_type": "execute_result"
    }
   ],
   "source": [
    "df_app.groupby(['资助类别'])[\"立项\"].mean()"
   ]
  },
  {
   "cell_type": "markdown",
   "metadata": {},
   "source": [
    "## 意见处理\n",
    "{\n",
    "\t\"1\": {\n",
    "\t\t\"id\": \"1\",\n",
    "\t\t\"records\": {\n",
    "\t\t\t\"情感\": [\n",
    "\t\t\t\t\"正\"\n",
    "\t\t\t]\n",
    "\t\t},\n",
    "\t\t\"content\": \"这本书不错啊\"\n",
    "\t},\n",
    "\t\"2\": {\n",
    "\t\t\"id\": \"2\",\n",
    "\t\t\"records\": {\n",
    "\t\t\t\"情感\": [\n",
    "\t\t\t\t\"负\"\n",
    "\t\t\t]\n",
    "\t\t},\n",
    "\t\t\"content\": \"这个东西评价不行\"\n",
    "\t}\n",
    "}"
   ]
  },
  {
   "cell_type": "code",
   "execution_count": 23,
   "metadata": {},
   "outputs": [
    {
     "data": {
      "text/html": [
       "<div>\n",
       "<style scoped>\n",
       "    .dataframe tbody tr th:only-of-type {\n",
       "        vertical-align: middle;\n",
       "    }\n",
       "\n",
       "    .dataframe tbody tr th {\n",
       "        vertical-align: top;\n",
       "    }\n",
       "\n",
       "    .dataframe thead th {\n",
       "        text-align: right;\n",
       "    }\n",
       "</style>\n",
       "<table border=\"1\" class=\"dataframe\">\n",
       "  <thead>\n",
       "    <tr style=\"text-align: right;\">\n",
       "      <th></th>\n",
       "      <th>项目名称</th>\n",
       "      <th>申请人</th>\n",
       "      <th>申请部门</th>\n",
       "      <th>资助类别</th>\n",
       "      <th>意见1</th>\n",
       "      <th>意见2</th>\n",
       "      <th>意见3</th>\n",
       "      <th>意见4</th>\n",
       "      <th>意见5</th>\n",
       "      <th>意见6</th>\n",
       "      <th>7</th>\n",
       "      <th>8</th>\n",
       "      <th>9</th>\n",
       "      <th>10</th>\n",
       "      <th>立项</th>\n",
       "    </tr>\n",
       "  </thead>\n",
       "  <tbody>\n",
       "    <tr>\n",
       "      <td>27</td>\n",
       "      <td>非线性泛函分析及其在微分方程中的应用</td>\n",
       "      <td>张晓燕</td>\n",
       "      <td>NaN</td>\n",
       "      <td>面上项目</td>\n",
       "      <td>1&gt;申请人近年来在非线性泛函分析及其对偏微分方程的应用中开展了许多工作，多方面获得了进展，如...</td>\n",
       "      <td>2&gt; 该项目拟主要研究非线性泛函分析理论与方法及对微分方程和生物数学模型的应用。主要有: 通...</td>\n",
       "      <td>3&gt; 该项目主要研究非线性泛函分析理论与方法及对微分方程和生物数学模型的应用，具体内容是：1...</td>\n",
       "      <td>4&gt;该项目研究非线性泛函分析及其在微分方程中的应用，主要研究内容为：1.抽象空间中非线性算子...</td>\n",
       "      <td>5&gt;　　　本项目主要研究非线性泛函分析理论与方法及对微分方程和生物数学模型的应用。研究 Ba...</td>\n",
       "      <td>None</td>\n",
       "      <td>None</td>\n",
       "      <td>None</td>\n",
       "      <td>None</td>\n",
       "      <td>None</td>\n",
       "      <td>0</td>\n",
       "    </tr>\n",
       "    <tr>\n",
       "      <td>28</td>\n",
       "      <td>微分算子的trace公式及其应用</td>\n",
       "      <td>王鹏辉</td>\n",
       "      <td>NaN</td>\n",
       "      <td>面上项目</td>\n",
       "      <td>1&gt; Trace公式无论是判断系统的稳定性还是在算子代数的研究中都是个重要问题，该项目主要研...</td>\n",
       "      <td>2&gt;　　本项目旨在研究算子的迹公式及其应用。试图利用泛函分析的方法研究Hamilton系统L...</td>\n",
       "      <td>3&gt;迹公式有其很长的历史和背景，微分算子（特别是Hamilton系统）的迹公式研究是迹公式中...</td>\n",
       "      <td>4&gt;申请人在本项目中主要计划探究Hamilton系统的Hill-型公式以及trace公式。其...</td>\n",
       "      <td>5&gt;该项目将利用泛函分析方法研究Hamilton系统Lagrange型边值问题的迹(trac...</td>\n",
       "      <td>None</td>\n",
       "      <td>None</td>\n",
       "      <td>None</td>\n",
       "      <td>None</td>\n",
       "      <td>None</td>\n",
       "      <td>1</td>\n",
       "    </tr>\n",
       "    <tr>\n",
       "      <td>29</td>\n",
       "      <td>无穷维随机微分系统的适定性与渐近动力学研究</td>\n",
       "      <td>陈章</td>\n",
       "      <td>NaN</td>\n",
       "      <td>面上项目</td>\n",
       "      <td>1&gt;该项目拟研究全局修正的三维随机时滞NS方程的随机指数吸引子的存在性与上半连续性等问题，这...</td>\n",
       "      <td>2&gt;该项目研究无穷维随机系统的性态。立意新颖，有较重要的科学意义与应用前景。研究内容和总体研...</td>\n",
       "      <td>3&gt;该项目主要研究了：随机时滞Navier-Stokes 方程的各种性质，包括随机指数吸引子...</td>\n",
       "      <td>4&gt;本课题研究具时滞效应和随机扰动的偏微分方程的长时间动力学行为。主要研究全局修正的三维非自...</td>\n",
       "      <td>5&gt;该项目申请书拟研究全局修正的非自治三维随机时滞Navier-Stokes方程的指数吸引子...</td>\n",
       "      <td>None</td>\n",
       "      <td>None</td>\n",
       "      <td>None</td>\n",
       "      <td>None</td>\n",
       "      <td>None</td>\n",
       "      <td>1</td>\n",
       "    </tr>\n",
       "    <tr>\n",
       "      <td>30</td>\n",
       "      <td>核裂变的空间混沌和分岔控制</td>\n",
       "      <td>刘树堂</td>\n",
       "      <td>NaN</td>\n",
       "      <td>面上项目</td>\n",
       "      <td>1&gt;申请者拟从核裂变的过程中提出分布参数系统控制问题，并具体开展如下几个问题的研究：1）有效...</td>\n",
       "      <td>2&gt;本项目提出研究非线性控制系统的核裂变问题，项目选题是前沿的，研究思路是可行的的，申请人也...</td>\n",
       "      <td>3&gt; 核裂变又称核分裂，是指一个原子核分裂成几个原子核的变化，是核物理研究的重要领域，在国防...</td>\n",
       "      <td>4&gt;该申请项目拟研究核裂变模型的分支和混沌及其控制，具有一定的科学研究价值。申请人的研究工作...</td>\n",
       "      <td>None</td>\n",
       "      <td>None</td>\n",
       "      <td>None</td>\n",
       "      <td>None</td>\n",
       "      <td>None</td>\n",
       "      <td>None</td>\n",
       "      <td>0</td>\n",
       "    </tr>\n",
       "    <tr>\n",
       "      <td>31</td>\n",
       "      <td>奇异J-对称哈密顿系统谱问题研究</td>\n",
       "      <td>孙华清</td>\n",
       "      <td>NaN</td>\n",
       "      <td>面上项目</td>\n",
       "      <td>1&gt;该项目拟对奇异J-对称哈密顿系统的亏指数类型、J-自伴扩张、相应算子增生条件与扇形条件以...</td>\n",
       "      <td>2&gt;本项目将对奇异J-对称哈密顿系统的亏指数类型、J-自伴扩张、相应算子增生条件与扇形条件以...</td>\n",
       "      <td>3&gt;本项目考虑奇异J-对称哈密顿微分算子的有关问题，主要研究下列几个问题。 1一类哈密顿微分...</td>\n",
       "      <td>4&gt;申请人研究Hamiltonian微分算子的有关谱问题。该领域是一经典的数学分支，申请人及...</td>\n",
       "      <td>5&gt; 哈密顿系统的谱问题是当今国际数学领域中广为关注的热门研究课题之一，在数学、物理和量子力...</td>\n",
       "      <td>None</td>\n",
       "      <td>None</td>\n",
       "      <td>None</td>\n",
       "      <td>None</td>\n",
       "      <td>None</td>\n",
       "      <td>1</td>\n",
       "    </tr>\n",
       "  </tbody>\n",
       "</table>\n",
       "</div>"
      ],
      "text/plain": [
       "                     项目名称  申请人 申请部门  资助类别  \\\n",
       "27     非线性泛函分析及其在微分方程中的应用  张晓燕  NaN  面上项目   \n",
       "28       微分算子的trace公式及其应用  王鹏辉  NaN  面上项目   \n",
       "29  无穷维随机微分系统的适定性与渐近动力学研究   陈章  NaN  面上项目   \n",
       "30          核裂变的空间混沌和分岔控制  刘树堂  NaN  面上项目   \n",
       "31       奇异J-对称哈密顿系统谱问题研究  孙华清  NaN  面上项目   \n",
       "\n",
       "                                                  意见1  \\\n",
       "27  1>申请人近年来在非线性泛函分析及其对偏微分方程的应用中开展了许多工作，多方面获得了进展，如...   \n",
       "28  1> Trace公式无论是判断系统的稳定性还是在算子代数的研究中都是个重要问题，该项目主要研...   \n",
       "29  1>该项目拟研究全局修正的三维随机时滞NS方程的随机指数吸引子的存在性与上半连续性等问题，这...   \n",
       "30  1>申请者拟从核裂变的过程中提出分布参数系统控制问题，并具体开展如下几个问题的研究：1）有效...   \n",
       "31  1>该项目拟对奇异J-对称哈密顿系统的亏指数类型、J-自伴扩张、相应算子增生条件与扇形条件以...   \n",
       "\n",
       "                                                  意见2  \\\n",
       "27  2> 该项目拟主要研究非线性泛函分析理论与方法及对微分方程和生物数学模型的应用。主要有: 通...   \n",
       "28  2>　　本项目旨在研究算子的迹公式及其应用。试图利用泛函分析的方法研究Hamilton系统L...   \n",
       "29  2>该项目研究无穷维随机系统的性态。立意新颖，有较重要的科学意义与应用前景。研究内容和总体研...   \n",
       "30  2>本项目提出研究非线性控制系统的核裂变问题，项目选题是前沿的，研究思路是可行的的，申请人也...   \n",
       "31  2>本项目将对奇异J-对称哈密顿系统的亏指数类型、J-自伴扩张、相应算子增生条件与扇形条件以...   \n",
       "\n",
       "                                                  意见3  \\\n",
       "27  3> 该项目主要研究非线性泛函分析理论与方法及对微分方程和生物数学模型的应用，具体内容是：1...   \n",
       "28  3>迹公式有其很长的历史和背景，微分算子（特别是Hamilton系统）的迹公式研究是迹公式中...   \n",
       "29  3>该项目主要研究了：随机时滞Navier-Stokes 方程的各种性质，包括随机指数吸引子...   \n",
       "30  3> 核裂变又称核分裂，是指一个原子核分裂成几个原子核的变化，是核物理研究的重要领域，在国防...   \n",
       "31  3>本项目考虑奇异J-对称哈密顿微分算子的有关问题，主要研究下列几个问题。 1一类哈密顿微分...   \n",
       "\n",
       "                                                  意见4  \\\n",
       "27  4>该项目研究非线性泛函分析及其在微分方程中的应用，主要研究内容为：1.抽象空间中非线性算子...   \n",
       "28  4>申请人在本项目中主要计划探究Hamilton系统的Hill-型公式以及trace公式。其...   \n",
       "29  4>本课题研究具时滞效应和随机扰动的偏微分方程的长时间动力学行为。主要研究全局修正的三维非自...   \n",
       "30  4>该申请项目拟研究核裂变模型的分支和混沌及其控制，具有一定的科学研究价值。申请人的研究工作...   \n",
       "31  4>申请人研究Hamiltonian微分算子的有关谱问题。该领域是一经典的数学分支，申请人及...   \n",
       "\n",
       "                                                  意见5   意见6     7     8     9  \\\n",
       "27  5>　　　本项目主要研究非线性泛函分析理论与方法及对微分方程和生物数学模型的应用。研究 Ba...  None  None  None  None   \n",
       "28  5>该项目将利用泛函分析方法研究Hamilton系统Lagrange型边值问题的迹(trac...  None  None  None  None   \n",
       "29  5>该项目申请书拟研究全局修正的非自治三维随机时滞Navier-Stokes方程的指数吸引子...  None  None  None  None   \n",
       "30                                               None  None  None  None  None   \n",
       "31  5> 哈密顿系统的谱问题是当今国际数学领域中广为关注的热门研究课题之一，在数学、物理和量子力...  None  None  None  None   \n",
       "\n",
       "      10  立项  \n",
       "27  None   0  \n",
       "28  None   1  \n",
       "29  None   1  \n",
       "30  None   0  \n",
       "31  None   1  "
      ]
     },
     "execution_count": 23,
     "metadata": {},
     "output_type": "execute_result"
    }
   ],
   "source": [
    "df_app.head()"
   ]
  },
  {
   "cell_type": "code",
   "execution_count": 24,
   "metadata": {},
   "outputs": [
    {
     "name": "stderr",
     "output_type": "stream",
     "text": [
      "/opt/anaconda3/lib/python3.7/site-packages/ipykernel_launcher.py:2: SettingWithCopyWarning: \n",
      "A value is trying to be set on a copy of a slice from a DataFrame.\n",
      "Try using .loc[row_indexer,col_indexer] = value instead\n",
      "\n",
      "See the caveats in the documentation: http://pandas.pydata.org/pandas-docs/stable/user_guide/indexing.html#returning-a-view-versus-a-copy\n",
      "  \n"
     ]
    },
    {
     "data": {
      "text/html": [
       "<div>\n",
       "<style scoped>\n",
       "    .dataframe tbody tr th:only-of-type {\n",
       "        vertical-align: middle;\n",
       "    }\n",
       "\n",
       "    .dataframe tbody tr th {\n",
       "        vertical-align: top;\n",
       "    }\n",
       "\n",
       "    .dataframe thead th {\n",
       "        text-align: right;\n",
       "    }\n",
       "</style>\n",
       "<table border=\"1\" class=\"dataframe\">\n",
       "  <thead>\n",
       "    <tr style=\"text-align: right;\">\n",
       "      <th></th>\n",
       "      <th>id</th>\n",
       "      <th>records</th>\n",
       "      <th>content</th>\n",
       "    </tr>\n",
       "  </thead>\n",
       "  <tbody>\n",
       "    <tr>\n",
       "      <td>0</td>\n",
       "      <td>27</td>\n",
       "      <td>负</td>\n",
       "      <td>1&gt;申请人近年来在非线性泛函分析及其对偏微分方程的应用中开展了许多工作，多方面获得了进展，如...</td>\n",
       "    </tr>\n",
       "    <tr>\n",
       "      <td>1</td>\n",
       "      <td>28</td>\n",
       "      <td>正</td>\n",
       "      <td>1&gt; Trace公式无论是判断系统的稳定性还是在算子代数的研究中都是个重要问题，该项目主要研...</td>\n",
       "    </tr>\n",
       "    <tr>\n",
       "      <td>2</td>\n",
       "      <td>29</td>\n",
       "      <td>正</td>\n",
       "      <td>1&gt;该项目拟研究全局修正的三维随机时滞NS方程的随机指数吸引子的存在性与上半连续性等问题，这...</td>\n",
       "    </tr>\n",
       "    <tr>\n",
       "      <td>3</td>\n",
       "      <td>30</td>\n",
       "      <td>负</td>\n",
       "      <td>1&gt;申请者拟从核裂变的过程中提出分布参数系统控制问题，并具体开展如下几个问题的研究：1）有效...</td>\n",
       "    </tr>\n",
       "    <tr>\n",
       "      <td>4</td>\n",
       "      <td>31</td>\n",
       "      <td>正</td>\n",
       "      <td>1&gt;该项目拟对奇异J-对称哈密顿系统的亏指数类型、J-自伴扩张、相应算子增生条件与扇形条件以...</td>\n",
       "    </tr>\n",
       "  </tbody>\n",
       "</table>\n",
       "</div>"
      ],
      "text/plain": [
       "   id records                                            content\n",
       "0  27       负  1>申请人近年来在非线性泛函分析及其对偏微分方程的应用中开展了许多工作，多方面获得了进展，如...\n",
       "1  28       正  1> Trace公式无论是判断系统的稳定性还是在算子代数的研究中都是个重要问题，该项目主要研...\n",
       "2  29       正  1>该项目拟研究全局修正的三维随机时滞NS方程的随机指数吸引子的存在性与上半连续性等问题，这...\n",
       "3  30       负  1>申请者拟从核裂变的过程中提出分布参数系统控制问题，并具体开展如下几个问题的研究：1）有效...\n",
       "4  31       正  1>该项目拟对奇异J-对称哈密顿系统的亏指数类型、J-自伴扩张、相应算子增生条件与扇形条件以..."
      ]
     },
     "execution_count": 24,
     "metadata": {},
     "output_type": "execute_result"
    }
   ],
   "source": [
    "df_json_full = df_app[[\"申请人\",\"意见1\",\"意见2\",\"意见3\",\"意见4\",\"意见5\",\"立项\"]]\n",
    "df_json_full['id'] = df_json_full.index\n",
    "df_json = df_json_full[['id',\"意见1\",\"意见2\",\"意见3\",\"意见4\",\"意见5\",\"立项\"]]\n",
    "\n",
    "df_json_long = pd.wide_to_long(df_json, stubnames='意见', i=['id'], j='评审')\n",
    "df_json_long.reset_index(inplace=True)\n",
    "df_json_long.rename(columns={\"立项\":\"records\",\"意见\":\"content\"},inplace=True)\n",
    "df_json_long.dropna(inplace=True)\n",
    "df_json_long.sort_values(['id'])\n",
    "df_json_long[\"records\"].replace(to_replace=0, value=\"负\",inplace=True)\n",
    "df_json_long[\"records\"].replace(to_replace=1, value=\"正\",inplace=True)\n",
    "df_json_long = df_json_long[[\"id\",\"records\",\"content\"]]\n",
    "\n",
    "\n",
    "#sample_size = 5000\n",
    "sample_size = df_json_long.shape[0]\n",
    "\n",
    "df_json_sample = df_json_long.iloc[0:sample_size,:]\n",
    "result = df_json_sample.to_json(orient=\"index\",force_ascii=False)\n",
    "\n",
    "with open('data.json', 'w') as f:\n",
    "    json.dump(result,f,ensure_ascii=False)\n",
    "    \n",
    "df_json_sample.head()\n"
   ]
  },
  {
   "cell_type": "markdown",
   "metadata": {},
   "source": [
    "## 处理步骤\n",
    "1. 去除重复词语\n",
    "2. 去除stop words\n",
    "3. 分词\n",
    "4. 生成embedding"
   ]
  },
  {
   "cell_type": "markdown",
   "metadata": {},
   "source": [
    "## 重复词语"
   ]
  },
  {
   "cell_type": "code",
   "execution_count": 25,
   "metadata": {},
   "outputs": [],
   "source": [
    "def clean_pat(line):\n",
    "    pat = ['一、该申请项目所关注的科学问题是否源于多学科领域交叉的共性问题，具有明确的学科交叉特征？请详细阐述判断理由并评价预期成果的科学价值。',\n",
    "          '二、请针对学科交叉特点评述申请项目研究方案或技术路线的创新性和可行性。',\n",
    "          '三、请评述申请人的多学科背景、研究专长和创新潜力。',\n",
    "          '四、其他建议',\n",
    "          '1>',\n",
    "          '（1）',\n",
    "          '（2）',\n",
    "          '（3）',\n",
    "          '（4）',\n",
    "          '（5）',\n",
    "           '具体评价意见：',\n",
    "          '一、该申请项目的研究思想或方案是否具有新颖性和独特性？请详细阐述判断理由。',\n",
    "          '二、请评述申请项目所关注问题的科学价值以及对相关前沿领域的潜在贡献。',\n",
    "          '三、请评述申请人的创新潜力与研究方案的可行性',\n",
    "          '一、该申请项目是否面向国家需求并试图解决技术瓶颈背后的基础问题？请结合应用需求详细阐述判断理由。',\n",
    "          '二、请评述申请项目所提出的科学问题与预期成果的科学价值。',\n",
    "          '三、请评述申请人的创新潜力及研究方案的创新性和可行性。',\n",
    "          '。',\n",
    "          '，',\n",
    "          '、',\n",
    "          '的',\n",
    "          '研究',\n",
    "          '三请',\n",
    "          '申请人',\n",
    "          '拟']\n",
    "\n",
    "    line = re.sub(\"\\n\", \"\", line)\n",
    "    for x in pat:\n",
    "        line = re.sub(x, \"\", line)\n",
    "    \n",
    "    # stopwords\n",
    "    stopwords=pd.read_csv('stopwords.txt', header=None)[0].tolist() \n",
    "    for x in stopwords:\n",
    "        line = re.sub(x, \"\", line)\n",
    "    return line"
   ]
  },
  {
   "cell_type": "code",
   "execution_count": 26,
   "metadata": {},
   "outputs": [
    {
     "name": "stderr",
     "output_type": "stream",
     "text": [
      "/opt/anaconda3/lib/python3.7/site-packages/ipykernel_launcher.py:1: SettingWithCopyWarning: \n",
      "A value is trying to be set on a copy of a slice from a DataFrame.\n",
      "Try using .loc[row_indexer,col_indexer] = value instead\n",
      "\n",
      "See the caveats in the documentation: http://pandas.pydata.org/pandas-docs/stable/user_guide/indexing.html#returning-a-view-versus-a-copy\n",
      "  \"\"\"Entry point for launching an IPython kernel.\n"
     ]
    }
   ],
   "source": [
    "df_json_sample[\"content_clean\"] = df_json_sample[\"content\"].apply(clean_pat)"
   ]
  },
  {
   "cell_type": "code",
   "execution_count": 27,
   "metadata": {},
   "outputs": [
    {
     "data": {
      "text/plain": [
       "'近年非线性泛函分析偏微分方程中许工作获进展：非线性算子理 (偏)微分方程浮游植物生长模型计划综合利变分法拓扑方法不动点理1抽象空间中非线性算子干不动点定理；2非线性脉奇异微分方程值；3浮游植物生长模型非局部扩散方程正解解性质；4扩散variable-territory 捕食-捕食模型退化环境非退化环境中正解近年获初步奠定基础申请提计划定行性预期定程度上定目标意资助'"
      ]
     },
     "execution_count": 27,
     "metadata": {},
     "output_type": "execute_result"
    }
   ],
   "source": [
    "df_json_sample[\"content_clean\"][0]"
   ]
  },
  {
   "cell_type": "markdown",
   "metadata": {},
   "source": [
    "## 使用机器学习模型预测评审意见的正负"
   ]
  },
  {
   "cell_type": "code",
   "execution_count": 28,
   "metadata": {},
   "outputs": [
    {
     "name": "stdout",
     "output_type": "stream",
     "text": [
      "近年 非线性 泛函 分析 偏 微分方程 中许 工作 获 进展 ： 非线性 算子 理   ( 偏 ) 微分方程 浮游植物 生长 模型 计划 综合 利 变分法 拓扑 方法 不动点 理 1 抽象 空间 中 非线性 算子 干 不动点 定理 ； 2 非线性 脉 奇异 微分方程 值 ； 3 浮游植物 生长 模型 非 局部 扩散 方程 正 解解 性质 ； 4 扩散 variable - territory   捕食 - 捕食 模型 退化 环境 非 退化 环境 中正 解 近年 获 初步 奠定 基础 申请 提 计划 定行性 预期 定 程度 上定 目标 意 资助\n"
     ]
    }
   ],
   "source": [
    "#我们定义一个文档集合存储于List，每个文档为list的一个元素，每个文档都对应一个标签,存储于labels\n",
    "seg_lists = list()\n",
    "lines = list(df_json_sample['content_clean'])\n",
    "for line in lines:\n",
    "    #print(line)\n",
    "    #seg_list = list(seg_list)\n",
    "    seg_lists.append(jieba.cut(line))\n",
    "    #print(len(seg_list))\n",
    "sentences = []\n",
    "for i in seg_lists:      \n",
    "    sentences.append(' '.join(i))    \n",
    "print(sentences[0])"
   ]
  },
  {
   "cell_type": "code",
   "execution_count": 29,
   "metadata": {},
   "outputs": [
    {
     "name": "stderr",
     "output_type": "stream",
     "text": [
      "/opt/anaconda3/lib/python3.7/site-packages/pandas/core/generic.py:6786: SettingWithCopyWarning: \n",
      "A value is trying to be set on a copy of a slice from a DataFrame\n",
      "\n",
      "See the caveats in the documentation: http://pandas.pydata.org/pandas-docs/stable/user_guide/indexing.html#returning-a-view-versus-a-copy\n",
      "  self._update_inplace(new_data)\n"
     ]
    }
   ],
   "source": [
    "labels = df_json_sample[\"records\"]\n",
    "labels.replace(\"负\",0,inplace=True)\n",
    "labels.replace(\"正\",1,inplace=True)\n",
    "labels = list(labels)"
   ]
  },
  {
   "cell_type": "code",
   "execution_count": 30,
   "metadata": {},
   "outputs": [],
   "source": [
    "texts = ''.join(map(str, sentences))\n",
    "# = re.sub(\"\\n\", \"\", line)\n"
   ]
  },
  {
   "cell_type": "code",
   "execution_count": 31,
   "metadata": {},
   "outputs": [
    {
     "data": {
      "text/plain": [
       "(-0.5, 799.5, 399.5, -0.5)"
      ]
     },
     "execution_count": 31,
     "metadata": {},
     "output_type": "execute_result"
    },
    {
     "data": {
      "image/png": "[encoded data removed]",
      "text/plain": [
       "<Figure size 432x288 with 1 Axes>"
      ]
     },
     "metadata": {
      "needs_background": "light"
     },
     "output_type": "display_data"
    }
   ],
   "source": [
    "wordcloud = WordCloud(font_path = '/System/Library/Fonts/STHeiti Light.ttc',\n",
    "            background_color=\"white\",# 设置背景颜色\n",
    "           max_words=80, # 词云显示的最大词数\n",
    "           height=400, # 图片高度\n",
    "           width=800, # 图片宽度\n",
    "           max_font_size=50).generate(texts)\n",
    "plt.imshow(wordcloud, interpolation='bilinear')\n",
    "plt.axis(\"off\")\n",
    "# The pil way (if you don't have matplotlib)\n",
    "# image = wordcloud.to_image()\n",
    "# image.show()"
   ]
  },
  {
   "cell_type": "code",
   "execution_count": 32,
   "metadata": {},
   "outputs": [],
   "source": [
    "vocab_size = 14000 #估计的词汇表大小，设置时要比真实的词汇量大，不然会产生不同单词分配了相同的索引。\n",
    "\n",
    "# #通过索引对上面句子进行编码，one_hot编码映射到[1,vocab_size]，不包括0\n",
    "# encoded_docs = [one_hot(s, vocab_size) for s in sentences]\n",
    "# # 文本编码成数字格式并padding到相同长度，这里长度设置为4，在后面补0，这也是为什么前面one-hot不会映射到0的原因。\n",
    "\n",
    "tokenizer = Tokenizer(num_words=vocab_size)\n",
    "tokenizer.fit_on_texts(sentences)\n",
    "encoded_docs = tokenizer.texts_to_sequences(sentences)\n",
    "max_length = 200\n",
    "padded_docs = pad_sequences(encoded_docs, maxlen=max_length, padding='post')"
   ]
  },
  {
   "cell_type": "code",
   "execution_count": 33,
   "metadata": {},
   "outputs": [],
   "source": [
    "#X_train, X_val, y_train, y_val = train_test_split(padded_docs,labels, test_size=0.2)\n",
    "train_size = 1000\n",
    "X_train  = padded_docs[0:train_size,:]\n",
    "X_val  = padded_docs[train_size:,:]\n",
    "y_train  = labels[0:train_size]\n",
    "y_val    = labels[train_size:]\n",
    "\n",
    "y_train = np.array(y_train)\n",
    "y_val = np.array(y_val)"
   ]
  },
  {
   "cell_type": "code",
   "execution_count": 34,
   "metadata": {},
   "outputs": [
    {
     "name": "stdout",
     "output_type": "stream",
     "text": [
      "Model: \"sequential_1\"\n",
      "_________________________________________________________________\n",
      "Layer (type)                 Output Shape              Param #   \n",
      "=================================================================\n",
      "embedding_1 (Embedding)      (None, 200, 20)           280000    \n",
      "_________________________________________________________________\n",
      "bidirectional_1 (Bidirection (None, 30)                4320      \n",
      "_________________________________________________________________\n",
      "flatten_1 (Flatten)          (None, 30)                0         \n",
      "_________________________________________________________________\n",
      "dense_1 (Dense)              (None, 1)                 31        \n",
      "=================================================================\n",
      "Total params: 284,351\n",
      "Trainable params: 284,351\n",
      "Non-trainable params: 0\n",
      "_________________________________________________________________\n",
      "None\n"
     ]
    }
   ],
   "source": [
    "# define the model\n",
    "model = Sequential()\n",
    "model.add(Embedding(vocab_size, 20, input_length=max_length))  # Embedding layer\n",
    "model.add(Bidirectional(LSTM(15)))\n",
    "model.add(Flatten())\n",
    "model.add(Dense(1, activation='sigmoid',kernel_regularizer='l2'))\n",
    "model.compile(loss='binary_crossentropy',\n",
    "                     optimizer='adam', \n",
    "                     metrics=['accuracy'])\n",
    "print(model.summary())"
   ]
  },
  {
   "cell_type": "markdown",
   "metadata": {},
   "source": [
    "### Test"
   ]
  },
  {
   "cell_type": "code",
   "execution_count": 35,
   "metadata": {},
   "outputs": [
    {
     "name": "stdout",
     "output_type": "stream",
     "text": [
      "Epoch 1/10\n",
      "17/17 [==============================] - 4s 99ms/step - loss: 0.7044 - accuracy: 0.6136 - val_loss: 0.6717 - val_accuracy: 0.7045\n",
      "Epoch 2/10\n",
      "17/17 [==============================] - 1s 64ms/step - loss: 0.6618 - accuracy: 0.6975 - val_loss: 0.6218 - val_accuracy: 0.7045\n",
      "Epoch 3/10\n",
      "17/17 [==============================] - 1s 65ms/step - loss: 0.6094 - accuracy: 0.6977 - val_loss: 0.6020 - val_accuracy: 0.7045\n",
      "Epoch 4/10\n",
      "17/17 [==============================] - 1s 65ms/step - loss: 0.5823 - accuracy: 0.6453 - val_loss: 0.5599 - val_accuracy: 0.7045\n",
      "Epoch 5/10\n",
      "17/17 [==============================] - 1s 66ms/step - loss: 0.3797 - accuracy: 0.7821 - val_loss: 0.4839 - val_accuracy: 0.8344\n",
      "Epoch 6/10\n",
      "17/17 [==============================] - 1s 66ms/step - loss: 0.3617 - accuracy: 0.9509 - val_loss: 0.8239 - val_accuracy: 0.7045\n",
      "Epoch 7/10\n",
      "17/17 [==============================] - 1s 67ms/step - loss: 0.7642 - accuracy: 0.6936 - val_loss: 0.5211 - val_accuracy: 0.8611\n",
      "Epoch 8/10\n",
      "17/17 [==============================] - 1s 68ms/step - loss: 0.4255 - accuracy: 0.9675 - val_loss: 0.4749 - val_accuracy: 0.7936\n",
      "Epoch 9/10\n",
      "17/17 [==============================] - 1s 70ms/step - loss: 0.3435 - accuracy: 0.9365 - val_loss: 0.4117 - val_accuracy: 0.8764\n",
      "Epoch 10/10\n",
      "17/17 [==============================] - 1s 70ms/step - loss: 0.2656 - accuracy: 0.9952 - val_loss: 0.3835 - val_accuracy: 0.8713\n"
     ]
    },
    {
     "data": {
      "image/png": "[encoded data removed]",
      "text/plain": [
       "<Figure size 432x288 with 1 Axes>"
      ]
     },
     "metadata": {
      "needs_background": "light"
     },
     "output_type": "display_data"
    }
   ],
   "source": [
    "history = model.fit(padded_docs, np.array(labels),validation_split = 0.6, epochs=10)\n",
    "plt.plot(history.history['accuracy'])\n",
    "plt.plot(history.history['val_accuracy'])\n",
    "plt.title('model accuracy')\n",
    "plt.ylabel('accuracy')\n",
    "plt.xlabel('epoch')\n",
    "plt.legend(['train', 'val'], loc='upper left')\n",
    "plt.show()"
   ]
  },
  {
   "cell_type": "markdown",
   "metadata": {},
   "source": [
    "## 之前的代码"
   ]
  },
  {
   "cell_type": "code",
   "execution_count": 36,
   "metadata": {},
   "outputs": [
    {
     "name": "stdout",
     "output_type": "stream",
     "text": [
      "Epoch 1/10\n",
      "32/32 [==============================] - 2s 55ms/step - loss: 0.2839 - accuracy: 0.9340\n",
      "Epoch 2/10\n",
      "32/32 [==============================] - 2s 55ms/step - loss: 0.2048 - accuracy: 0.9690\n",
      "Epoch 3/10\n",
      "32/32 [==============================] - 2s 56ms/step - loss: 0.1815 - accuracy: 0.9710\n",
      "Epoch 4/10\n",
      "32/32 [==============================] - 2s 55ms/step - loss: 0.1608 - accuracy: 0.9870\n",
      "Epoch 5/10\n",
      "32/32 [==============================] - 2s 56ms/step - loss: 0.1175 - accuracy: 0.9910\n",
      "Epoch 6/10\n",
      "32/32 [==============================] - 2s 57ms/step - loss: 0.0959 - accuracy: 0.9940\n",
      "Epoch 7/10\n",
      "32/32 [==============================] - 2s 56ms/step - loss: 0.0820 - accuracy: 0.9950\n",
      "Epoch 8/10\n",
      "32/32 [==============================] - 2s 56ms/step - loss: 0.0705 - accuracy: 0.9970\n",
      "Epoch 9/10\n",
      "32/32 [==============================] - 2s 57ms/step - loss: 0.0623 - accuracy: 0.9990\n",
      "Epoch 10/10\n",
      "32/32 [==============================] - 2s 57ms/step - loss: 0.0570 - accuracy: 1.0000\n"
     ]
    }
   ],
   "source": [
    "history = model.fit(X_train, y_train, epochs=10)"
   ]
  },
  {
   "cell_type": "code",
   "execution_count": 37,
   "metadata": {},
   "outputs": [
    {
     "name": "stdout",
     "output_type": "stream",
     "text": [
      "10/10 [==============================] - 0s 10ms/step - loss: 0.2257 - accuracy: 0.9186\n"
     ]
    }
   ],
   "source": [
    "score = model.evaluate(X_val, y_val, verbose=1)"
   ]
  },
  {
   "cell_type": "code",
   "execution_count": 38,
   "metadata": {},
   "outputs": [
    {
     "data": {
      "text/html": [
       "<div>\n",
       "<style scoped>\n",
       "    .dataframe tbody tr th:only-of-type {\n",
       "        vertical-align: middle;\n",
       "    }\n",
       "\n",
       "    .dataframe tbody tr th {\n",
       "        vertical-align: top;\n",
       "    }\n",
       "\n",
       "    .dataframe thead th {\n",
       "        text-align: right;\n",
       "    }\n",
       "</style>\n",
       "<table border=\"1\" class=\"dataframe\">\n",
       "  <thead>\n",
       "    <tr style=\"text-align: right;\">\n",
       "      <th></th>\n",
       "      <th>Senti</th>\n",
       "    </tr>\n",
       "    <tr>\n",
       "      <th>Y</th>\n",
       "      <th></th>\n",
       "    </tr>\n",
       "  </thead>\n",
       "  <tbody>\n",
       "    <tr>\n",
       "      <td>0</td>\n",
       "      <td>0.022109</td>\n",
       "    </tr>\n",
       "    <tr>\n",
       "      <td>1</td>\n",
       "      <td>0.957082</td>\n",
       "    </tr>\n",
       "  </tbody>\n",
       "</table>\n",
       "</div>"
      ],
      "text/plain": [
       "      Senti\n",
       "Y          \n",
       "0  0.022109\n",
       "1  0.957082"
      ]
     },
     "execution_count": 38,
     "metadata": {},
     "output_type": "execute_result"
    }
   ],
   "source": [
    "senti_train = []\n",
    "for i in X_train:\n",
    "    input = np.expand_dims(i,axis=0)\n",
    "    senti_train.append(model.predict(input))\n",
    "\n",
    "senti_train_num = []\n",
    "for i in range(len(senti_train)):\n",
    "    senti_train_num.append(senti_train[i][0][0])\n",
    "\n",
    "senti_train = pd.DataFrame(list(zip(senti_train_num, y_train)), columns =['Senti', 'Y'])\n",
    "senti_train.groupby('Y').mean()"
   ]
  },
  {
   "cell_type": "code",
   "execution_count": 39,
   "metadata": {},
   "outputs": [
    {
     "data": {
      "text/plain": [
       "<matplotlib.axes._subplots.AxesSubplot at 0x1a7eb9a790>"
      ]
     },
     "execution_count": 39,
     "metadata": {},
     "output_type": "execute_result"
    },
    {
     "data": {
      "image/png": "[encoded data removed]",
      "text/plain": [
       "<Figure size 432x288 with 1 Axes>"
      ]
     },
     "metadata": {
      "needs_background": "light"
     },
     "output_type": "display_data"
    }
   ],
   "source": [
    "senti_train.loc[senti_train['Y']==0,'Senti'].plot.density()\n",
    "senti_train.loc[senti_train['Y']==1,'Senti'].plot.density()"
   ]
  },
  {
   "cell_type": "code",
   "execution_count": 40,
   "metadata": {},
   "outputs": [
    {
     "data": {
      "text/html": [
       "<div>\n",
       "<style scoped>\n",
       "    .dataframe tbody tr th:only-of-type {\n",
       "        vertical-align: middle;\n",
       "    }\n",
       "\n",
       "    .dataframe tbody tr th {\n",
       "        vertical-align: top;\n",
       "    }\n",
       "\n",
       "    .dataframe thead th {\n",
       "        text-align: right;\n",
       "    }\n",
       "</style>\n",
       "<table border=\"1\" class=\"dataframe\">\n",
       "  <thead>\n",
       "    <tr style=\"text-align: right;\">\n",
       "      <th></th>\n",
       "      <th>Senti</th>\n",
       "    </tr>\n",
       "    <tr>\n",
       "      <th>Y</th>\n",
       "      <th></th>\n",
       "    </tr>\n",
       "  </thead>\n",
       "  <tbody>\n",
       "    <tr>\n",
       "      <td>0</td>\n",
       "      <td>0.097308</td>\n",
       "    </tr>\n",
       "    <tr>\n",
       "      <td>1</td>\n",
       "      <td>0.827121</td>\n",
       "    </tr>\n",
       "  </tbody>\n",
       "</table>\n",
       "</div>"
      ],
      "text/plain": [
       "      Senti\n",
       "Y          \n",
       "0  0.097308\n",
       "1  0.827121"
      ]
     },
     "execution_count": 40,
     "metadata": {},
     "output_type": "execute_result"
    }
   ],
   "source": [
    "senti_val = []\n",
    "for i in X_val:\n",
    "    input = np.expand_dims(i,axis=0)\n",
    "    senti_val.append(model.predict(input))\n",
    "    \n",
    "senti_val_num = []\n",
    "for i in range(len(senti_val)):\n",
    "    senti_val_num.append(senti_val[i][0][0])\n",
    "\n",
    "senti_val = pd.DataFrame(list(zip(senti_val_num, y_val)), columns =['Senti', 'Y'])\n",
    "senti_val.groupby('Y').mean()"
   ]
  },
  {
   "cell_type": "code",
   "execution_count": 41,
   "metadata": {},
   "outputs": [
    {
     "data": {
      "text/plain": [
       "<matplotlib.axes._subplots.AxesSubplot at 0x1a7eb67190>"
      ]
     },
     "execution_count": 41,
     "metadata": {},
     "output_type": "execute_result"
    },
    {
     "data": {
      "image/png": "[encoded data removed]",
      "text/plain": [
       "<Figure size 432x288 with 1 Axes>"
      ]
     },
     "metadata": {
      "needs_background": "light"
     },
     "output_type": "display_data"
    }
   ],
   "source": [
    "senti_val.loc[senti_val['Y']==0,'Senti'].plot.density()\n",
    "senti_val.loc[senti_val['Y']==1,'Senti'].plot.density()"
   ]
  },
  {
   "cell_type": "code",
   "execution_count": 42,
   "metadata": {},
   "outputs": [
    {
     "data": {
      "image/png": "[encoded data removed]",
      "text/plain": [
       "<Figure size 432x288 with 1 Axes>"
      ]
     },
     "metadata": {
      "needs_background": "light"
     },
     "output_type": "display_data"
    }
   ],
   "source": [
    "# 绘制训练 & 验证的损失值\n",
    "plt.plot(history.history['accuracy'])\n",
    "plt.title('Accuracy')\n",
    "plt.ylabel('Accuracy')\n",
    "plt.xlabel('Epoch')\n",
    "plt.legend(['Train', 'Test'], loc='upper left')\n",
    "plt.show()"
   ]
  },
  {
   "cell_type": "markdown",
   "metadata": {},
   "source": [
    "## Merging the sentiment back to original data"
   ]
  },
  {
   "cell_type": "code",
   "execution_count": 43,
   "metadata": {},
   "outputs": [],
   "source": [
    "senti = senti_train.append(senti_val)"
   ]
  },
  {
   "cell_type": "code",
   "execution_count": 44,
   "metadata": {},
   "outputs": [
    {
     "data": {
      "text/html": [
       "<div>\n",
       "<style scoped>\n",
       "    .dataframe tbody tr th:only-of-type {\n",
       "        vertical-align: middle;\n",
       "    }\n",
       "\n",
       "    .dataframe tbody tr th {\n",
       "        vertical-align: top;\n",
       "    }\n",
       "\n",
       "    .dataframe thead th {\n",
       "        text-align: right;\n",
       "    }\n",
       "</style>\n",
       "<table border=\"1\" class=\"dataframe\">\n",
       "  <thead>\n",
       "    <tr style=\"text-align: right;\">\n",
       "      <th></th>\n",
       "      <th>Senti</th>\n",
       "      <th>Y</th>\n",
       "    </tr>\n",
       "  </thead>\n",
       "  <tbody>\n",
       "    <tr>\n",
       "      <td>0</td>\n",
       "      <td>0.028128</td>\n",
       "      <td>0</td>\n",
       "    </tr>\n",
       "    <tr>\n",
       "      <td>1</td>\n",
       "      <td>0.930189</td>\n",
       "      <td>1</td>\n",
       "    </tr>\n",
       "    <tr>\n",
       "      <td>2</td>\n",
       "      <td>0.953842</td>\n",
       "      <td>1</td>\n",
       "    </tr>\n",
       "    <tr>\n",
       "      <td>3</td>\n",
       "      <td>0.022994</td>\n",
       "      <td>0</td>\n",
       "    </tr>\n",
       "    <tr>\n",
       "      <td>4</td>\n",
       "      <td>0.955998</td>\n",
       "      <td>1</td>\n",
       "    </tr>\n",
       "  </tbody>\n",
       "</table>\n",
       "</div>"
      ],
      "text/plain": [
       "      Senti  Y\n",
       "0  0.028128  0\n",
       "1  0.930189  1\n",
       "2  0.953842  1\n",
       "3  0.022994  0\n",
       "4  0.955998  1"
      ]
     },
     "execution_count": 44,
     "metadata": {},
     "output_type": "execute_result"
    }
   ],
   "source": [
    "senti.head()"
   ]
  },
  {
   "cell_type": "code",
   "execution_count": 57,
   "metadata": {},
   "outputs": [],
   "source": [
    "senti_id = df_json_sample.join(senti)[['id','Senti']]"
   ]
  },
  {
   "cell_type": "code",
   "execution_count": 58,
   "metadata": {},
   "outputs": [],
   "source": [
    "senti_id.dropna(inplace=True)"
   ]
  },
  {
   "cell_type": "code",
   "execution_count": 59,
   "metadata": {},
   "outputs": [
    {
     "data": {
      "text/html": [
       "<div>\n",
       "<style scoped>\n",
       "    .dataframe tbody tr th:only-of-type {\n",
       "        vertical-align: middle;\n",
       "    }\n",
       "\n",
       "    .dataframe tbody tr th {\n",
       "        vertical-align: top;\n",
       "    }\n",
       "\n",
       "    .dataframe thead th {\n",
       "        text-align: right;\n",
       "    }\n",
       "</style>\n",
       "<table border=\"1\" class=\"dataframe\">\n",
       "  <thead>\n",
       "    <tr style=\"text-align: right;\">\n",
       "      <th></th>\n",
       "      <th>id</th>\n",
       "      <th>Senti</th>\n",
       "    </tr>\n",
       "  </thead>\n",
       "  <tbody>\n",
       "    <tr>\n",
       "      <td>0</td>\n",
       "      <td>27</td>\n",
       "      <td>0.028128</td>\n",
       "    </tr>\n",
       "    <tr>\n",
       "      <td>0</td>\n",
       "      <td>27</td>\n",
       "      <td>0.017904</td>\n",
       "    </tr>\n",
       "    <tr>\n",
       "      <td>1</td>\n",
       "      <td>28</td>\n",
       "      <td>0.930189</td>\n",
       "    </tr>\n",
       "    <tr>\n",
       "      <td>1</td>\n",
       "      <td>28</td>\n",
       "      <td>0.951643</td>\n",
       "    </tr>\n",
       "    <tr>\n",
       "      <td>2</td>\n",
       "      <td>29</td>\n",
       "      <td>0.953842</td>\n",
       "    </tr>\n",
       "  </tbody>\n",
       "</table>\n",
       "</div>"
      ],
      "text/plain": [
       "   id     Senti\n",
       "0  27  0.028128\n",
       "0  27  0.017904\n",
       "1  28  0.930189\n",
       "1  28  0.951643\n",
       "2  29  0.953842"
      ]
     },
     "execution_count": 59,
     "metadata": {},
     "output_type": "execute_result"
    }
   ],
   "source": [
    "senti_id.head(5)"
   ]
  },
  {
   "cell_type": "code",
   "execution_count": 60,
   "metadata": {},
   "outputs": [],
   "source": [
    "senti_id_avg = senti_id.groupby('id')['Senti'].agg('mean')"
   ]
  },
  {
   "cell_type": "code",
   "execution_count": 61,
   "metadata": {},
   "outputs": [
    {
     "data": {
      "text/plain": [
       "(324, 8)"
      ]
     },
     "execution_count": 61,
     "metadata": {},
     "output_type": "execute_result"
    }
   ],
   "source": [
    "df_json_full.shape"
   ]
  },
  {
   "cell_type": "code",
   "execution_count": 62,
   "metadata": {},
   "outputs": [],
   "source": [
    "df_final = df_json_full.merge(senti_id_avg, how='inner', on='id')"
   ]
  },
  {
   "cell_type": "code",
   "execution_count": 63,
   "metadata": {},
   "outputs": [
    {
     "data": {
      "text/html": [
       "<div>\n",
       "<style scoped>\n",
       "    .dataframe tbody tr th:only-of-type {\n",
       "        vertical-align: middle;\n",
       "    }\n",
       "\n",
       "    .dataframe tbody tr th {\n",
       "        vertical-align: top;\n",
       "    }\n",
       "\n",
       "    .dataframe thead th {\n",
       "        text-align: right;\n",
       "    }\n",
       "</style>\n",
       "<table border=\"1\" class=\"dataframe\">\n",
       "  <thead>\n",
       "    <tr style=\"text-align: right;\">\n",
       "      <th></th>\n",
       "      <th>申请人</th>\n",
       "      <th>意见1</th>\n",
       "      <th>意见2</th>\n",
       "      <th>意见3</th>\n",
       "      <th>意见4</th>\n",
       "      <th>意见5</th>\n",
       "      <th>立项</th>\n",
       "      <th>id</th>\n",
       "      <th>Senti</th>\n",
       "    </tr>\n",
       "  </thead>\n",
       "  <tbody>\n",
       "    <tr>\n",
       "      <td>0</td>\n",
       "      <td>张晓燕</td>\n",
       "      <td>1&gt;申请人近年来在非线性泛函分析及其对偏微分方程的应用中开展了许多工作，多方面获得了进展，如...</td>\n",
       "      <td>2&gt; 该项目拟主要研究非线性泛函分析理论与方法及对微分方程和生物数学模型的应用。主要有: 通...</td>\n",
       "      <td>3&gt; 该项目主要研究非线性泛函分析理论与方法及对微分方程和生物数学模型的应用，具体内容是：1...</td>\n",
       "      <td>4&gt;该项目研究非线性泛函分析及其在微分方程中的应用，主要研究内容为：1.抽象空间中非线性算子...</td>\n",
       "      <td>5&gt;　　　本项目主要研究非线性泛函分析理论与方法及对微分方程和生物数学模型的应用。研究 Ba...</td>\n",
       "      <td>0</td>\n",
       "      <td>27</td>\n",
       "      <td>0.308522</td>\n",
       "    </tr>\n",
       "  </tbody>\n",
       "</table>\n",
       "</div>"
      ],
      "text/plain": [
       "   申请人                                                意见1  \\\n",
       "0  张晓燕  1>申请人近年来在非线性泛函分析及其对偏微分方程的应用中开展了许多工作，多方面获得了进展，如...   \n",
       "\n",
       "                                                 意见2  \\\n",
       "0  2> 该项目拟主要研究非线性泛函分析理论与方法及对微分方程和生物数学模型的应用。主要有: 通...   \n",
       "\n",
       "                                                 意见3  \\\n",
       "0  3> 该项目主要研究非线性泛函分析理论与方法及对微分方程和生物数学模型的应用，具体内容是：1...   \n",
       "\n",
       "                                                 意见4  \\\n",
       "0  4>该项目研究非线性泛函分析及其在微分方程中的应用，主要研究内容为：1.抽象空间中非线性算子...   \n",
       "\n",
       "                                                 意见5  立项  id     Senti  \n",
       "0  5>　　　本项目主要研究非线性泛函分析理论与方法及对微分方程和生物数学模型的应用。研究 Ba...   0  27  0.308522  "
      ]
     },
     "execution_count": 63,
     "metadata": {},
     "output_type": "execute_result"
    }
   ],
   "source": [
    "df_final.head(1)"
   ]
  },
  {
   "cell_type": "code",
   "execution_count": 52,
   "metadata": {},
   "outputs": [
    {
     "data": {
      "text/plain": [
       "立项\n",
       "0    0.247659\n",
       "1    0.449563\n",
       "Name: Senti, dtype: float64"
      ]
     },
     "execution_count": 52,
     "metadata": {},
     "output_type": "execute_result"
    }
   ],
   "source": [
    "df_final.groupby('立项')['Senti'].agg('mean')"
   ]
  },
  {
   "cell_type": "code",
   "execution_count": 53,
   "metadata": {},
   "outputs": [
    {
     "data": {
      "text/plain": [
       "<matplotlib.axes._subplots.AxesSubplot at 0x1a7aaeb6d0>"
      ]
     },
     "execution_count": 53,
     "metadata": {},
     "output_type": "execute_result"
    },
    {
     "data": {
      "image/png": "[encoded data removed]",
      "text/plain": [
       "<Figure size 432x288 with 1 Axes>"
      ]
     },
     "metadata": {
      "needs_background": "light"
     },
     "output_type": "display_data"
    }
   ],
   "source": [
    "df_final.loc[df_final['立项']==0,'Senti'].plot.density()\n",
    "df_final.loc[df_final['立项']==1,'Senti'].plot.density()"
   ]
  },
  {
   "cell_type": "code",
   "execution_count": 54,
   "metadata": {},
   "outputs": [],
   "source": [
    "rd_negative = (df_final['立项']==0) & (df_final['Senti']>=0.4) & (df_final['Senti']<=0.6)\n",
    "df_rd_neg = df_final[rd_negative]\n",
    "rd_positive = (df_final['立项']==1) & (df_final['Senti']>=0.4) & (df_final['Senti']<=0.6)\n",
    "df_rd_positive = df_final[rd_positive]"
   ]
  },
  {
   "cell_type": "code",
   "execution_count": 55,
   "metadata": {},
   "outputs": [
    {
     "data": {
      "text/plain": [
       "(31, 9)"
      ]
     },
     "execution_count": 55,
     "metadata": {},
     "output_type": "execute_result"
    }
   ],
   "source": [
    "df_rd_neg.shape"
   ]
  },
  {
   "cell_type": "code",
   "execution_count": 56,
   "metadata": {},
   "outputs": [
    {
     "data": {
      "text/plain": [
       "(40, 9)"
      ]
     },
     "execution_count": 56,
     "metadata": {},
     "output_type": "execute_result"
    }
   ],
   "source": [
    "df_rd_positive.shape"
   ]
  }
 ],
 "metadata": {
  "kernelspec": {
   "display_name": "Python 3",
   "language": "python",
   "name": "python3"
  },
  "language_info": {
   "codemirror_mode": {
    "name": "ipython",
    "version": 3
   },
   "file_extension": ".py",
   "mimetype": "text/x-python",
   "name": "python",
   "nbconvert_exporter": "python",
   "pygments_lexer": "ipython3",
   "version": "3.7.4"
  }
 },
 "nbformat": 4,
 "nbformat_minor": 2
}
