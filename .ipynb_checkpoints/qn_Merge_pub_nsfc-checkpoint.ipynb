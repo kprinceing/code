{
 "cells": [
  {
   "cell_type": "code",
   "execution_count": 1,
   "metadata": {},
   "outputs": [],
   "source": [
    "import numpy as np\n",
    "import pandas as pd\n",
    "import os\n",
    "from pypinyin import pinyin, lazy_pinyin, Style\n",
    "import matplotlib.pyplot as plt\n",
    "import econtools.metrics as mt\n",
    "import matplotlib\n"
   ]
  },
  {
   "cell_type": "markdown",
   "metadata": {},
   "source": [
    "### NSFC data"
   ]
  },
  {
   "cell_type": "code",
   "execution_count": 25,
   "metadata": {},
   "outputs": [
    {
     "data": {
      "text/plain": [
       "(3138, 14)"
      ]
     },
     "execution_count": 25,
     "metadata": {},
     "output_type": "execute_result"
    }
   ],
   "source": [
    "qn_all = pd.read_csv(\"/Users/yansong/Nutstore Files/基金研究/data/2013--2022面青/qn_all.csv\")\n",
    "qn_all.shape"
   ]
  },
  {
   "cell_type": "code",
   "execution_count": 26,
   "metadata": {},
   "outputs": [
    {
     "data": {
      "text/html": [
       "<div>\n",
       "<style scoped>\n",
       "    .dataframe tbody tr th:only-of-type {\n",
       "        vertical-align: middle;\n",
       "    }\n",
       "\n",
       "    .dataframe tbody tr th {\n",
       "        vertical-align: top;\n",
       "    }\n",
       "\n",
       "    .dataframe thead th {\n",
       "        text-align: right;\n",
       "    }\n",
       "</style>\n",
       "<table border=\"1\" class=\"dataframe\">\n",
       "  <thead>\n",
       "    <tr style=\"text-align: right;\">\n",
       "      <th></th>\n",
       "      <th>Unnamed: 0</th>\n",
       "      <th>index</th>\n",
       "      <th>项目名称</th>\n",
       "      <th>申请代码</th>\n",
       "      <th>申请人</th>\n",
       "      <th>申请部门</th>\n",
       "      <th>资助类别</th>\n",
       "      <th>意见1</th>\n",
       "      <th>意见2</th>\n",
       "      <th>意见3</th>\n",
       "      <th>意见4</th>\n",
       "      <th>意见5</th>\n",
       "      <th>立项</th>\n",
       "      <th>年份</th>\n",
       "    </tr>\n",
       "  </thead>\n",
       "  <tbody>\n",
       "    <tr>\n",
       "      <th>0</th>\n",
       "      <td>0</td>\n",
       "      <td>86</td>\n",
       "      <td>济南地区大气颗粒物中多环芳烃分布规律与污染源调查</td>\n",
       "      <td>B0603</td>\n",
       "      <td>丁磊</td>\n",
       "      <td>NaN</td>\n",
       "      <td>青年科学基金项目</td>\n",
       "      <td>1&gt;该项目拟研究济南地区大气颗粒物中多环芳烃分布规律。尽管大气颗粒物中多环芳烃分布是一重要研...</td>\n",
       "      <td>2&gt;大气颗粒物中PAHs相关研究已有很多，申请者对相关研究进展和前沿把握不是很清楚，研究内容...</td>\n",
       "      <td>3&gt; 多环芳烃（PAHs）在大气、水体、土壤等环境介质中广泛存在，具有致癌、致畸、致突变等特...</td>\n",
       "      <td>NaN</td>\n",
       "      <td>NaN</td>\n",
       "      <td>0</td>\n",
       "      <td>2013</td>\n",
       "    </tr>\n",
       "  </tbody>\n",
       "</table>\n",
       "</div>"
      ],
      "text/plain": [
       "   Unnamed: 0  index                      项目名称   申请代码 申请人 申请部门      资助类别  \\\n",
       "0           0     86  济南地区大气颗粒物中多环芳烃分布规律与污染源调查  B0603  丁磊  NaN  青年科学基金项目   \n",
       "\n",
       "                                                 意见1  \\\n",
       "0  1>该项目拟研究济南地区大气颗粒物中多环芳烃分布规律。尽管大气颗粒物中多环芳烃分布是一重要研...   \n",
       "\n",
       "                                                 意见2  \\\n",
       "0  2>大气颗粒物中PAHs相关研究已有很多，申请者对相关研究进展和前沿把握不是很清楚，研究内容...   \n",
       "\n",
       "                                                 意见3  意见4  意见5  立项    年份  \n",
       "0  3> 多环芳烃（PAHs）在大气、水体、土壤等环境介质中广泛存在，具有致癌、致畸、致突变等特...  NaN  NaN   0  2013  "
      ]
     },
     "execution_count": 26,
     "metadata": {},
     "output_type": "execute_result"
    }
   ],
   "source": [
    "qn_all.head(1)"
   ]
  },
  {
   "cell_type": "code",
   "execution_count": 4,
   "metadata": {},
   "outputs": [
    {
     "data": {
      "text/html": [
       "<div>\n",
       "<style scoped>\n",
       "    .dataframe tbody tr th:only-of-type {\n",
       "        vertical-align: middle;\n",
       "    }\n",
       "\n",
       "    .dataframe tbody tr th {\n",
       "        vertical-align: top;\n",
       "    }\n",
       "\n",
       "    .dataframe thead th {\n",
       "        text-align: right;\n",
       "    }\n",
       "</style>\n",
       "<table border=\"1\" class=\"dataframe\">\n",
       "  <thead>\n",
       "    <tr style=\"text-align: right;\">\n",
       "      <th></th>\n",
       "      <th>申请人</th>\n",
       "      <th>立项年份</th>\n",
       "    </tr>\n",
       "  </thead>\n",
       "  <tbody>\n",
       "    <tr>\n",
       "      <th>0</th>\n",
       "      <td>Bagrat Mailyan</td>\n",
       "      <td>2014</td>\n",
       "    </tr>\n",
       "    <tr>\n",
       "      <th>1</th>\n",
       "      <td>LIU YI</td>\n",
       "      <td>0</td>\n",
       "    </tr>\n",
       "    <tr>\n",
       "      <th>2</th>\n",
       "      <td>Munish Kumar Gupta</td>\n",
       "      <td>0</td>\n",
       "    </tr>\n",
       "    <tr>\n",
       "      <th>3</th>\n",
       "      <td>Najib Ahmad Muhammad</td>\n",
       "      <td>0</td>\n",
       "    </tr>\n",
       "    <tr>\n",
       "      <th>4</th>\n",
       "      <td>Shani Tiwari</td>\n",
       "      <td>0</td>\n",
       "    </tr>\n",
       "    <tr>\n",
       "      <th>5</th>\n",
       "      <td>Tsona Tchinda Narcisse</td>\n",
       "      <td>2017</td>\n",
       "    </tr>\n",
       "    <tr>\n",
       "      <th>6</th>\n",
       "      <td>WU SHU YAO</td>\n",
       "      <td>0</td>\n",
       "    </tr>\n",
       "    <tr>\n",
       "      <th>7</th>\n",
       "      <td>丁一</td>\n",
       "      <td>0</td>\n",
       "    </tr>\n",
       "    <tr>\n",
       "      <th>8</th>\n",
       "      <td>丁云凤</td>\n",
       "      <td>0</td>\n",
       "    </tr>\n",
       "    <tr>\n",
       "      <th>9</th>\n",
       "      <td>丁保扬</td>\n",
       "      <td>0</td>\n",
       "    </tr>\n",
       "  </tbody>\n",
       "</table>\n",
       "</div>"
      ],
      "text/plain": [
       "                      申请人  立项年份\n",
       "0          Bagrat Mailyan  2014\n",
       "1                  LIU YI     0\n",
       "2      Munish Kumar Gupta     0\n",
       "3    Najib Ahmad Muhammad     0\n",
       "4            Shani Tiwari     0\n",
       "5  Tsona Tchinda Narcisse  2017\n",
       "6              WU SHU YAO     0\n",
       "7                      丁一     0\n",
       "8                     丁云凤     0\n",
       "9                     丁保扬     0"
      ]
     },
     "execution_count": 4,
     "metadata": {},
     "output_type": "execute_result"
    }
   ],
   "source": [
    "qn_all['立项年份'] = qn_all['年份']*qn_all['立项']\n",
    "qn_all = pd.DataFrame(qn_all.groupby(['申请人']).立项年份.max()).reset_index()\n",
    "qn_all.head(10)"
   ]
  },
  {
   "cell_type": "code",
   "execution_count": 5,
   "metadata": {},
   "outputs": [
    {
     "data": {
      "text/plain": [
       "0       994\n",
       "2022    162\n",
       "2021    146\n",
       "2019    110\n",
       "2020    105\n",
       "2016     63\n",
       "2014     58\n",
       "2013     57\n",
       "2017     55\n",
       "2018     53\n",
       "2015     47\n",
       "Name: 立项年份, dtype: int64"
      ]
     },
     "execution_count": 5,
     "metadata": {},
     "output_type": "execute_result"
    }
   ],
   "source": [
    "qn_all.立项年份.value_counts()"
   ]
  },
  {
   "cell_type": "code",
   "execution_count": 8,
   "metadata": {},
   "outputs": [],
   "source": [
    "def pinyin(name):\n",
    "    i = lazy_pinyin(name)\n",
    "    if len(i) == 3:\n",
    "        capitalized = [str.capitalize(i[0]),str.capitalize(i[1]+i[2])]\n",
    "    elif len(i) == 2:\n",
    "        capitalized = [str.capitalize(i[0]),str.capitalize(i[1])]\n",
    "    else:\n",
    "        print(i)\n",
    "        capitalized = i\n",
    "    return capitalized\n",
    "def surname(name):\n",
    "    i = lazy_pinyin(name)\n",
    "    if len(i) == 3:\n",
    "        capitalized = str.capitalize(i[0])\n",
    "    elif len(i) == 2:\n",
    "        capitalized = str.capitalize(i[0])\n",
    "    else:\n",
    "        print(i)\n",
    "        capitalized = i[0]\n",
    "    return capitalized\n",
    "def givenname(name):\n",
    "    i = lazy_pinyin(name)\n",
    "    if len(i) == 3:\n",
    "        capitalized = str.capitalize(i[1]+i[2])\n",
    "    elif len(i) == 2:\n",
    "        capitalized = str.capitalize(i[1])\n",
    "    else:\n",
    "        print(i)\n",
    "        capitalized = i[0]\n",
    "    return capitalized"
   ]
  },
  {
   "cell_type": "code",
   "execution_count": 12,
   "metadata": {},
   "outputs": [
    {
     "name": "stdout",
     "output_type": "stream",
     "text": [
      "['Bagrat Mailyan']\n",
      "['LIU YI']\n",
      "['Munish Kumar Gupta']\n",
      "['Najib Ahmad Muhammad']\n",
      "['Shani Tiwari']\n",
      "['Tsona Tchinda Narcisse']\n",
      "['WU SHU YAO']\n",
      "['Bagrat Mailyan']\n",
      "['LIU YI']\n",
      "['Munish Kumar Gupta']\n",
      "['Najib Ahmad Muhammad']\n",
      "['Shani Tiwari']\n",
      "['Tsona Tchinda Narcisse']\n",
      "['WU SHU YAO']\n",
      "['Bagrat Mailyan']\n",
      "['LIU YI']\n",
      "['Munish Kumar Gupta']\n",
      "['Najib Ahmad Muhammad']\n",
      "['Shani Tiwari']\n",
      "['Tsona Tchinda Narcisse']\n",
      "['WU SHU YAO']\n"
     ]
    }
   ],
   "source": [
    "qn_all['pinyin']= qn_all['申请人'].apply(pinyin)\n",
    "qn_all['surname'] = qn_all['申请人'].apply(surname)\n",
    "qn_all['givenname'] = qn_all['申请人'].apply(givenname)\n",
    "qn_all['author_name'] = qn_all['surname']+' '+qn_all['givenname']"
   ]
  },
  {
   "cell_type": "code",
   "execution_count": 13,
   "metadata": {},
   "outputs": [
    {
     "data": {
      "text/html": [
       "<div>\n",
       "<style scoped>\n",
       "    .dataframe tbody tr th:only-of-type {\n",
       "        vertical-align: middle;\n",
       "    }\n",
       "\n",
       "    .dataframe tbody tr th {\n",
       "        vertical-align: top;\n",
       "    }\n",
       "\n",
       "    .dataframe thead th {\n",
       "        text-align: right;\n",
       "    }\n",
       "</style>\n",
       "<table border=\"1\" class=\"dataframe\">\n",
       "  <thead>\n",
       "    <tr style=\"text-align: right;\">\n",
       "      <th></th>\n",
       "      <th>申请人</th>\n",
       "      <th>立项年份</th>\n",
       "      <th>pinyin</th>\n",
       "      <th>surname</th>\n",
       "      <th>givenname</th>\n",
       "      <th>author_name</th>\n",
       "    </tr>\n",
       "  </thead>\n",
       "  <tbody>\n",
       "    <tr>\n",
       "      <th>0</th>\n",
       "      <td>Bagrat Mailyan</td>\n",
       "      <td>2014</td>\n",
       "      <td>[Bagrat Mailyan]</td>\n",
       "      <td>Bagrat Mailyan</td>\n",
       "      <td>Bagrat Mailyan</td>\n",
       "      <td>Bagrat Mailyan Bagrat Mailyan</td>\n",
       "    </tr>\n",
       "    <tr>\n",
       "      <th>1</th>\n",
       "      <td>LIU YI</td>\n",
       "      <td>0</td>\n",
       "      <td>[LIU YI]</td>\n",
       "      <td>LIU YI</td>\n",
       "      <td>LIU YI</td>\n",
       "      <td>LIU YI LIU YI</td>\n",
       "    </tr>\n",
       "    <tr>\n",
       "      <th>2</th>\n",
       "      <td>Munish Kumar Gupta</td>\n",
       "      <td>0</td>\n",
       "      <td>[Munish Kumar Gupta]</td>\n",
       "      <td>Munish Kumar Gupta</td>\n",
       "      <td>Munish Kumar Gupta</td>\n",
       "      <td>Munish Kumar Gupta Munish Kumar Gupta</td>\n",
       "    </tr>\n",
       "    <tr>\n",
       "      <th>3</th>\n",
       "      <td>Najib Ahmad Muhammad</td>\n",
       "      <td>0</td>\n",
       "      <td>[Najib Ahmad Muhammad]</td>\n",
       "      <td>Najib Ahmad Muhammad</td>\n",
       "      <td>Najib Ahmad Muhammad</td>\n",
       "      <td>Najib Ahmad Muhammad Najib Ahmad Muhammad</td>\n",
       "    </tr>\n",
       "    <tr>\n",
       "      <th>4</th>\n",
       "      <td>Shani Tiwari</td>\n",
       "      <td>0</td>\n",
       "      <td>[Shani Tiwari]</td>\n",
       "      <td>Shani Tiwari</td>\n",
       "      <td>Shani Tiwari</td>\n",
       "      <td>Shani Tiwari Shani Tiwari</td>\n",
       "    </tr>\n",
       "    <tr>\n",
       "      <th>5</th>\n",
       "      <td>Tsona Tchinda Narcisse</td>\n",
       "      <td>2017</td>\n",
       "      <td>[Tsona Tchinda Narcisse]</td>\n",
       "      <td>Tsona Tchinda Narcisse</td>\n",
       "      <td>Tsona Tchinda Narcisse</td>\n",
       "      <td>Tsona Tchinda Narcisse Tsona Tchinda Narcisse</td>\n",
       "    </tr>\n",
       "    <tr>\n",
       "      <th>6</th>\n",
       "      <td>WU SHU YAO</td>\n",
       "      <td>0</td>\n",
       "      <td>[WU SHU YAO]</td>\n",
       "      <td>WU SHU YAO</td>\n",
       "      <td>WU SHU YAO</td>\n",
       "      <td>WU SHU YAO WU SHU YAO</td>\n",
       "    </tr>\n",
       "    <tr>\n",
       "      <th>7</th>\n",
       "      <td>丁一</td>\n",
       "      <td>0</td>\n",
       "      <td>[Ding, Yi]</td>\n",
       "      <td>Ding</td>\n",
       "      <td>Yi</td>\n",
       "      <td>Ding Yi</td>\n",
       "    </tr>\n",
       "    <tr>\n",
       "      <th>8</th>\n",
       "      <td>丁云凤</td>\n",
       "      <td>0</td>\n",
       "      <td>[Ding, Yunfeng]</td>\n",
       "      <td>Ding</td>\n",
       "      <td>Yunfeng</td>\n",
       "      <td>Ding Yunfeng</td>\n",
       "    </tr>\n",
       "    <tr>\n",
       "      <th>9</th>\n",
       "      <td>丁保扬</td>\n",
       "      <td>0</td>\n",
       "      <td>[Ding, Baoyang]</td>\n",
       "      <td>Ding</td>\n",
       "      <td>Baoyang</td>\n",
       "      <td>Ding Baoyang</td>\n",
       "    </tr>\n",
       "  </tbody>\n",
       "</table>\n",
       "</div>"
      ],
      "text/plain": [
       "                      申请人  立项年份                    pinyin  \\\n",
       "0          Bagrat Mailyan  2014          [Bagrat Mailyan]   \n",
       "1                  LIU YI     0                  [LIU YI]   \n",
       "2      Munish Kumar Gupta     0      [Munish Kumar Gupta]   \n",
       "3    Najib Ahmad Muhammad     0    [Najib Ahmad Muhammad]   \n",
       "4            Shani Tiwari     0            [Shani Tiwari]   \n",
       "5  Tsona Tchinda Narcisse  2017  [Tsona Tchinda Narcisse]   \n",
       "6              WU SHU YAO     0              [WU SHU YAO]   \n",
       "7                      丁一     0                [Ding, Yi]   \n",
       "8                     丁云凤     0           [Ding, Yunfeng]   \n",
       "9                     丁保扬     0           [Ding, Baoyang]   \n",
       "\n",
       "                  surname               givenname  \\\n",
       "0          Bagrat Mailyan          Bagrat Mailyan   \n",
       "1                  LIU YI                  LIU YI   \n",
       "2      Munish Kumar Gupta      Munish Kumar Gupta   \n",
       "3    Najib Ahmad Muhammad    Najib Ahmad Muhammad   \n",
       "4            Shani Tiwari            Shani Tiwari   \n",
       "5  Tsona Tchinda Narcisse  Tsona Tchinda Narcisse   \n",
       "6              WU SHU YAO              WU SHU YAO   \n",
       "7                    Ding                      Yi   \n",
       "8                    Ding                 Yunfeng   \n",
       "9                    Ding                 Baoyang   \n",
       "\n",
       "                                     author_name  \n",
       "0                  Bagrat Mailyan Bagrat Mailyan  \n",
       "1                                  LIU YI LIU YI  \n",
       "2          Munish Kumar Gupta Munish Kumar Gupta  \n",
       "3      Najib Ahmad Muhammad Najib Ahmad Muhammad  \n",
       "4                      Shani Tiwari Shani Tiwari  \n",
       "5  Tsona Tchinda Narcisse Tsona Tchinda Narcisse  \n",
       "6                          WU SHU YAO WU SHU YAO  \n",
       "7                                        Ding Yi  \n",
       "8                                   Ding Yunfeng  \n",
       "9                                   Ding Baoyang  "
      ]
     },
     "execution_count": 13,
     "metadata": {},
     "output_type": "execute_result"
    }
   ],
   "source": [
    "qn_all.head(10)"
   ]
  },
  {
   "cell_type": "code",
   "execution_count": 14,
   "metadata": {},
   "outputs": [
    {
     "name": "stderr",
     "output_type": "stream",
     "text": [
      "/opt/anaconda3/lib/python3.7/site-packages/ipykernel_launcher.py:1: FutureWarning: Indexing with multiple keys (implicitly converted to a tuple of keys) will be deprecated, use a list instead.\n",
      "  \"\"\"Entry point for launching an IPython kernel.\n"
     ]
    }
   ],
   "source": [
    "qn_nsfc = qn_all.groupby(['申请人','author_name'])['author_name','立项年份'].mean().reset_index()"
   ]
  },
  {
   "cell_type": "code",
   "execution_count": 15,
   "metadata": {},
   "outputs": [
    {
     "data": {
      "text/html": [
       "<div>\n",
       "<style scoped>\n",
       "    .dataframe tbody tr th:only-of-type {\n",
       "        vertical-align: middle;\n",
       "    }\n",
       "\n",
       "    .dataframe tbody tr th {\n",
       "        vertical-align: top;\n",
       "    }\n",
       "\n",
       "    .dataframe thead th {\n",
       "        text-align: right;\n",
       "    }\n",
       "</style>\n",
       "<table border=\"1\" class=\"dataframe\">\n",
       "  <thead>\n",
       "    <tr style=\"text-align: right;\">\n",
       "      <th></th>\n",
       "      <th>申请人</th>\n",
       "      <th>author_name</th>\n",
       "      <th>立项年份</th>\n",
       "    </tr>\n",
       "  </thead>\n",
       "  <tbody>\n",
       "    <tr>\n",
       "      <th>0</th>\n",
       "      <td>Bagrat Mailyan</td>\n",
       "      <td>Bagrat Mailyan Bagrat Mailyan</td>\n",
       "      <td>2014.0</td>\n",
       "    </tr>\n",
       "    <tr>\n",
       "      <th>1</th>\n",
       "      <td>LIU YI</td>\n",
       "      <td>LIU YI LIU YI</td>\n",
       "      <td>0.0</td>\n",
       "    </tr>\n",
       "    <tr>\n",
       "      <th>2</th>\n",
       "      <td>Munish Kumar Gupta</td>\n",
       "      <td>Munish Kumar Gupta Munish Kumar Gupta</td>\n",
       "      <td>0.0</td>\n",
       "    </tr>\n",
       "    <tr>\n",
       "      <th>3</th>\n",
       "      <td>Najib Ahmad Muhammad</td>\n",
       "      <td>Najib Ahmad Muhammad Najib Ahmad Muhammad</td>\n",
       "      <td>0.0</td>\n",
       "    </tr>\n",
       "    <tr>\n",
       "      <th>4</th>\n",
       "      <td>Shani Tiwari</td>\n",
       "      <td>Shani Tiwari Shani Tiwari</td>\n",
       "      <td>0.0</td>\n",
       "    </tr>\n",
       "    <tr>\n",
       "      <th>5</th>\n",
       "      <td>Tsona Tchinda Narcisse</td>\n",
       "      <td>Tsona Tchinda Narcisse Tsona Tchinda Narcisse</td>\n",
       "      <td>2017.0</td>\n",
       "    </tr>\n",
       "    <tr>\n",
       "      <th>6</th>\n",
       "      <td>WU SHU YAO</td>\n",
       "      <td>WU SHU YAO WU SHU YAO</td>\n",
       "      <td>0.0</td>\n",
       "    </tr>\n",
       "    <tr>\n",
       "      <th>7</th>\n",
       "      <td>丁一</td>\n",
       "      <td>Ding Yi</td>\n",
       "      <td>0.0</td>\n",
       "    </tr>\n",
       "    <tr>\n",
       "      <th>8</th>\n",
       "      <td>丁云凤</td>\n",
       "      <td>Ding Yunfeng</td>\n",
       "      <td>0.0</td>\n",
       "    </tr>\n",
       "    <tr>\n",
       "      <th>9</th>\n",
       "      <td>丁保扬</td>\n",
       "      <td>Ding Baoyang</td>\n",
       "      <td>0.0</td>\n",
       "    </tr>\n",
       "  </tbody>\n",
       "</table>\n",
       "</div>"
      ],
      "text/plain": [
       "                      申请人                                    author_name  \\\n",
       "0          Bagrat Mailyan                  Bagrat Mailyan Bagrat Mailyan   \n",
       "1                  LIU YI                                  LIU YI LIU YI   \n",
       "2      Munish Kumar Gupta          Munish Kumar Gupta Munish Kumar Gupta   \n",
       "3    Najib Ahmad Muhammad      Najib Ahmad Muhammad Najib Ahmad Muhammad   \n",
       "4            Shani Tiwari                      Shani Tiwari Shani Tiwari   \n",
       "5  Tsona Tchinda Narcisse  Tsona Tchinda Narcisse Tsona Tchinda Narcisse   \n",
       "6              WU SHU YAO                          WU SHU YAO WU SHU YAO   \n",
       "7                      丁一                                        Ding Yi   \n",
       "8                     丁云凤                                   Ding Yunfeng   \n",
       "9                     丁保扬                                   Ding Baoyang   \n",
       "\n",
       "     立项年份  \n",
       "0  2014.0  \n",
       "1     0.0  \n",
       "2     0.0  \n",
       "3     0.0  \n",
       "4     0.0  \n",
       "5  2017.0  \n",
       "6     0.0  \n",
       "7     0.0  \n",
       "8     0.0  \n",
       "9     0.0  "
      ]
     },
     "execution_count": 15,
     "metadata": {},
     "output_type": "execute_result"
    }
   ],
   "source": [
    "qn_nsfc.head(10)"
   ]
  },
  {
   "cell_type": "code",
   "execution_count": 16,
   "metadata": {},
   "outputs": [
    {
     "data": {
      "text/plain": [
       "0.0       994\n",
       "2022.0    162\n",
       "2021.0    146\n",
       "2019.0    110\n",
       "2020.0    105\n",
       "2016.0     63\n",
       "2014.0     58\n",
       "2013.0     57\n",
       "2017.0     55\n",
       "2018.0     53\n",
       "2015.0     47\n",
       "Name: 立项年份, dtype: int64"
      ]
     },
     "execution_count": 16,
     "metadata": {},
     "output_type": "execute_result"
    }
   ],
   "source": [
    "qn_nsfc.立项年份.value_counts()"
   ]
  },
  {
   "cell_type": "code",
   "execution_count": 17,
   "metadata": {},
   "outputs": [],
   "source": [
    "qn_nsfc['pinyin_counts'] =  qn_nsfc['author_name'].map(qn_nsfc.author_name.value_counts())"
   ]
  },
  {
   "cell_type": "code",
   "execution_count": 18,
   "metadata": {},
   "outputs": [
    {
     "data": {
      "text/plain": [
       "0       1\n",
       "1       1\n",
       "2       1\n",
       "3       1\n",
       "4       1\n",
       "       ..\n",
       "1845    1\n",
       "1846    1\n",
       "1847    1\n",
       "1848    1\n",
       "1849    1\n",
       "Name: author_name, Length: 1850, dtype: int64"
      ]
     },
     "execution_count": 18,
     "metadata": {},
     "output_type": "execute_result"
    }
   ],
   "source": [
    "qn_nsfc['author_name'].map(qn_nsfc.author_name.value_counts())"
   ]
  },
  {
   "cell_type": "code",
   "execution_count": 19,
   "metadata": {},
   "outputs": [],
   "source": [
    "qn_nsfc = qn_nsfc.loc[qn_nsfc['pinyin_counts']==1]"
   ]
  },
  {
   "cell_type": "code",
   "execution_count": 21,
   "metadata": {},
   "outputs": [
    {
     "data": {
      "text/plain": [
       "申请人              1767\n",
       "author_name      1767\n",
       "立项年份             1767\n",
       "pinyin_counts    1767\n",
       "dtype: int64"
      ]
     },
     "execution_count": 21,
     "metadata": {},
     "output_type": "execute_result"
    }
   ],
   "source": [
    "qn_nsfc.count()"
   ]
  },
  {
   "cell_type": "code",
   "execution_count": 20,
   "metadata": {},
   "outputs": [
    {
     "data": {
      "text/html": [
       "<div>\n",
       "<style scoped>\n",
       "    .dataframe tbody tr th:only-of-type {\n",
       "        vertical-align: middle;\n",
       "    }\n",
       "\n",
       "    .dataframe tbody tr th {\n",
       "        vertical-align: top;\n",
       "    }\n",
       "\n",
       "    .dataframe thead th {\n",
       "        text-align: right;\n",
       "    }\n",
       "</style>\n",
       "<table border=\"1\" class=\"dataframe\">\n",
       "  <thead>\n",
       "    <tr style=\"text-align: right;\">\n",
       "      <th></th>\n",
       "      <th>申请人</th>\n",
       "      <th>author_name</th>\n",
       "      <th>立项年份</th>\n",
       "      <th>pinyin_counts</th>\n",
       "    </tr>\n",
       "  </thead>\n",
       "  <tbody>\n",
       "    <tr>\n",
       "      <th>0</th>\n",
       "      <td>Bagrat Mailyan</td>\n",
       "      <td>Bagrat Mailyan Bagrat Mailyan</td>\n",
       "      <td>2014.0</td>\n",
       "      <td>1</td>\n",
       "    </tr>\n",
       "    <tr>\n",
       "      <th>1</th>\n",
       "      <td>LIU YI</td>\n",
       "      <td>LIU YI LIU YI</td>\n",
       "      <td>0.0</td>\n",
       "      <td>1</td>\n",
       "    </tr>\n",
       "    <tr>\n",
       "      <th>2</th>\n",
       "      <td>Munish Kumar Gupta</td>\n",
       "      <td>Munish Kumar Gupta Munish Kumar Gupta</td>\n",
       "      <td>0.0</td>\n",
       "      <td>1</td>\n",
       "    </tr>\n",
       "    <tr>\n",
       "      <th>3</th>\n",
       "      <td>Najib Ahmad Muhammad</td>\n",
       "      <td>Najib Ahmad Muhammad Najib Ahmad Muhammad</td>\n",
       "      <td>0.0</td>\n",
       "      <td>1</td>\n",
       "    </tr>\n",
       "    <tr>\n",
       "      <th>4</th>\n",
       "      <td>Shani Tiwari</td>\n",
       "      <td>Shani Tiwari Shani Tiwari</td>\n",
       "      <td>0.0</td>\n",
       "      <td>1</td>\n",
       "    </tr>\n",
       "  </tbody>\n",
       "</table>\n",
       "</div>"
      ],
      "text/plain": [
       "                    申请人                                author_name    立项年份  \\\n",
       "0        Bagrat Mailyan              Bagrat Mailyan Bagrat Mailyan  2014.0   \n",
       "1                LIU YI                              LIU YI LIU YI     0.0   \n",
       "2    Munish Kumar Gupta      Munish Kumar Gupta Munish Kumar Gupta     0.0   \n",
       "3  Najib Ahmad Muhammad  Najib Ahmad Muhammad Najib Ahmad Muhammad     0.0   \n",
       "4          Shani Tiwari                  Shani Tiwari Shani Tiwari     0.0   \n",
       "\n",
       "   pinyin_counts  \n",
       "0              1  \n",
       "1              1  \n",
       "2              1  \n",
       "3              1  \n",
       "4              1  "
      ]
     },
     "execution_count": 20,
     "metadata": {},
     "output_type": "execute_result"
    }
   ],
   "source": [
    "qn_nsfc.head()"
   ]
  },
  {
   "cell_type": "code",
   "execution_count": 134,
   "metadata": {},
   "outputs": [
    {
     "data": {
      "text/plain": [
       "0.0       949\n",
       "2022.0    155\n",
       "2021.0    140\n",
       "2019.0    107\n",
       "2020.0    102\n",
       "2016.0     60\n",
       "2014.0     57\n",
       "2013.0     54\n",
       "2017.0     51\n",
       "2018.0     49\n",
       "2015.0     43\n",
       "Name: 立项年份, dtype: int64"
      ]
     },
     "execution_count": 134,
     "metadata": {},
     "output_type": "execute_result"
    }
   ],
   "source": [
    "qn_nsfc.立项年份.value_counts()"
   ]
  },
  {
   "cell_type": "markdown",
   "metadata": {},
   "source": [
    "### Publication data\n",
    "\n",
    "- Consolidate all publications with unique author eid\n",
    "- Consolidate all author_eids\n",
    "- Merge the two using author_eid \n",
    "- Reshape to wide format"
   ]
  },
  {
   "cell_type": "code",
   "execution_count": 135,
   "metadata": {},
   "outputs": [
    {
     "name": "stdout",
     "output_type": "stream",
     "text": [
      "(14039, 11)\n"
     ]
    },
    {
     "data": {
      "text/html": [
       "<div>\n",
       "<style scoped>\n",
       "    .dataframe tbody tr th:only-of-type {\n",
       "        vertical-align: middle;\n",
       "    }\n",
       "\n",
       "    .dataframe tbody tr th {\n",
       "        vertical-align: top;\n",
       "    }\n",
       "\n",
       "    .dataframe thead th {\n",
       "        text-align: right;\n",
       "    }\n",
       "</style>\n",
       "<table border=\"1\" class=\"dataframe\">\n",
       "  <thead>\n",
       "    <tr style=\"text-align: right;\">\n",
       "      <th></th>\n",
       "      <th>author_eid_counts</th>\n",
       "      <th>affilname</th>\n",
       "      <th>afid</th>\n",
       "      <th>author_eid</th>\n",
       "      <th>author_names</th>\n",
       "      <th>citedby_count</th>\n",
       "      <th>coverDate</th>\n",
       "      <th>doi</th>\n",
       "      <th>eid</th>\n",
       "      <th>title</th>\n",
       "      <th>eid_counts</th>\n",
       "    </tr>\n",
       "  </thead>\n",
       "  <tbody>\n",
       "    <tr>\n",
       "      <th>0</th>\n",
       "      <td>0</td>\n",
       "      <td>Shandong University</td>\n",
       "      <td>60031031</td>\n",
       "      <td>57212831316</td>\n",
       "      <td>Chen, Yao;Zhang, Zilong;Ni, Sulan;Ning, Hao;Li...</td>\n",
       "      <td>0</td>\n",
       "      <td>2022/11/1</td>\n",
       "      <td>10.1063/5.0108780</td>\n",
       "      <td>2-s2.0-85144444028</td>\n",
       "      <td>Plasma emission induced by ring-distributed en...</td>\n",
       "      <td>True</td>\n",
       "    </tr>\n",
       "  </tbody>\n",
       "</table>\n",
       "</div>"
      ],
      "text/plain": [
       "   author_eid_counts            affilname      afid   author_eid  \\\n",
       "0                  0  Shandong University  60031031  57212831316   \n",
       "\n",
       "                                        author_names  citedby_count  \\\n",
       "0  Chen, Yao;Zhang, Zilong;Ni, Sulan;Ning, Hao;Li...              0   \n",
       "\n",
       "   coverDate                doi                 eid  \\\n",
       "0  2022/11/1  10.1063/5.0108780  2-s2.0-85144444028   \n",
       "\n",
       "                                               title  eid_counts  \n",
       "0  Plasma emission induced by ring-distributed en...        True  "
      ]
     },
     "execution_count": 135,
     "metadata": {},
     "output_type": "execute_result"
    }
   ],
   "source": [
    "root_dir = \"/Users/yansong/Nutstore Files/基金研究/data/2013--2022面青/scopusPub\"\n",
    "authors = os.listdir(root_dir)\n",
    "os.chdir(root_dir)\n",
    "unique = 0\n",
    "unique_lists = []\n",
    "for author_file in authors:\n",
    "    #print(author_file)\n",
    "    if '.csv' in author_file:\n",
    "        author_pubs = pd.read_csv(author_file)\n",
    "        author_pubs.rename(columns={\"Unnamed: 0\":\"author_eid_counts\"},inplace=True)\n",
    "        author_pubs['eid_counts'] = author_pubs['author_eid_counts']==0\n",
    "        counts = author_pubs.eid_counts.sum()    \n",
    "        if counts == 1:\n",
    "            unique_lists.append(author_pubs)\n",
    "            unique = unique+1\n",
    "            \n",
    "qn_pubs = pd.concat(unique_lists)\n",
    "print(qn_pubs.shape)\n",
    "qn_pubs.head(1)"
   ]
  },
  {
   "cell_type": "code",
   "execution_count": 136,
   "metadata": {},
   "outputs": [
    {
     "data": {
      "text/html": [
       "<div>\n",
       "<style scoped>\n",
       "    .dataframe tbody tr th:only-of-type {\n",
       "        vertical-align: middle;\n",
       "    }\n",
       "\n",
       "    .dataframe tbody tr th {\n",
       "        vertical-align: top;\n",
       "    }\n",
       "\n",
       "    .dataframe thead th {\n",
       "        text-align: right;\n",
       "    }\n",
       "</style>\n",
       "<table border=\"1\" class=\"dataframe\">\n",
       "  <thead>\n",
       "    <tr style=\"text-align: right;\">\n",
       "      <th></th>\n",
       "      <th>Unnamed: 0</th>\n",
       "      <th>eid</th>\n",
       "      <th>orcid</th>\n",
       "      <th>surname</th>\n",
       "      <th>initials</th>\n",
       "      <th>givenname</th>\n",
       "      <th>affiliation</th>\n",
       "      <th>documents</th>\n",
       "      <th>affiliation_id</th>\n",
       "      <th>city</th>\n",
       "      <th>country</th>\n",
       "      <th>areas</th>\n",
       "      <th>author_eid</th>\n",
       "    </tr>\n",
       "  </thead>\n",
       "  <tbody>\n",
       "    <tr>\n",
       "      <th>0</th>\n",
       "      <td>0</td>\n",
       "      <td>9-s2.0-57212831316</td>\n",
       "      <td>0000-0001-9707-584X</td>\n",
       "      <td>Li</td>\n",
       "      <td>C.</td>\n",
       "      <td>Chuanyang</td>\n",
       "      <td>Shandong University</td>\n",
       "      <td>20</td>\n",
       "      <td>60031031</td>\n",
       "      <td>Jinan</td>\n",
       "      <td>China</td>\n",
       "      <td>PHYS (19); EART (16)</td>\n",
       "      <td>57212831316</td>\n",
       "    </tr>\n",
       "  </tbody>\n",
       "</table>\n",
       "</div>"
      ],
      "text/plain": [
       "   Unnamed: 0                 eid                orcid surname initials  \\\n",
       "0           0  9-s2.0-57212831316  0000-0001-9707-584X      Li       C.   \n",
       "\n",
       "   givenname          affiliation  documents  affiliation_id   city country  \\\n",
       "0  Chuanyang  Shandong University         20        60031031  Jinan   China   \n",
       "\n",
       "                  areas   author_eid  \n",
       "0  PHYS (19); EART (16)  57212831316  "
      ]
     },
     "execution_count": 136,
     "metadata": {},
     "output_type": "execute_result"
    }
   ],
   "source": [
    "root_dir = \"/Users/yansong/Nutstore Files/基金研究/data/2013--2022面青/scopus\"\n",
    "authors = os.listdir(root_dir)\n",
    "os.chdir(root_dir)\n",
    "unique_lists = []\n",
    "\n",
    "for author_file in authors:\n",
    "    if '.csv' in author_file:\n",
    "        author_pubs = pd.read_csv(author_file)\n",
    "        if author_pubs.shape[0] == 1:\n",
    "            unique_lists.append(author_pubs)\n",
    "            unique = unique+1\n",
    "author_ids = pd.concat(unique_lists)\n",
    "author_ids['author_eid']= author_ids['eid'].str.split(\"-\").str.get(2)\n",
    "author_ids['author_eid'] = author_ids['author_eid'].astype('int64')\n",
    "author_ids.head(1)"
   ]
  },
  {
   "cell_type": "code",
   "execution_count": 137,
   "metadata": {},
   "outputs": [],
   "source": [
    "qn_author_pubs = qn_pubs.merge(author_ids,how='left',on='author_eid')\n",
    "qn_author_pubs['year'] = qn_author_pubs['coverDate'].str[0:4]\n",
    "qn_author_pubs['author_name'] = qn_author_pubs['surname']+' ' +qn_author_pubs['givenname']"
   ]
  },
  {
   "cell_type": "code",
   "execution_count": 138,
   "metadata": {},
   "outputs": [
    {
     "data": {
      "text/html": [
       "<div>\n",
       "<style scoped>\n",
       "    .dataframe tbody tr th:only-of-type {\n",
       "        vertical-align: middle;\n",
       "    }\n",
       "\n",
       "    .dataframe tbody tr th {\n",
       "        vertical-align: top;\n",
       "    }\n",
       "\n",
       "    .dataframe thead th {\n",
       "        text-align: right;\n",
       "    }\n",
       "</style>\n",
       "<table border=\"1\" class=\"dataframe\">\n",
       "  <thead>\n",
       "    <tr style=\"text-align: right;\">\n",
       "      <th></th>\n",
       "      <th>author_eid_counts</th>\n",
       "      <th>affilname</th>\n",
       "      <th>afid</th>\n",
       "      <th>author_eid</th>\n",
       "      <th>author_names</th>\n",
       "      <th>citedby_count</th>\n",
       "      <th>coverDate</th>\n",
       "      <th>doi</th>\n",
       "      <th>eid_x</th>\n",
       "      <th>title</th>\n",
       "      <th>...</th>\n",
       "      <th>initials</th>\n",
       "      <th>givenname</th>\n",
       "      <th>affiliation</th>\n",
       "      <th>documents</th>\n",
       "      <th>affiliation_id</th>\n",
       "      <th>city</th>\n",
       "      <th>country</th>\n",
       "      <th>areas</th>\n",
       "      <th>year</th>\n",
       "      <th>author_name</th>\n",
       "    </tr>\n",
       "  </thead>\n",
       "  <tbody>\n",
       "    <tr>\n",
       "      <th>0</th>\n",
       "      <td>0</td>\n",
       "      <td>Shandong University</td>\n",
       "      <td>60031031</td>\n",
       "      <td>57212831316</td>\n",
       "      <td>Chen, Yao;Zhang, Zilong;Ni, Sulan;Ning, Hao;Li...</td>\n",
       "      <td>0</td>\n",
       "      <td>2022/11/1</td>\n",
       "      <td>10.1063/5.0108780</td>\n",
       "      <td>2-s2.0-85144444028</td>\n",
       "      <td>Plasma emission induced by ring-distributed en...</td>\n",
       "      <td>...</td>\n",
       "      <td>C.</td>\n",
       "      <td>Chuanyang</td>\n",
       "      <td>Shandong University</td>\n",
       "      <td>20</td>\n",
       "      <td>60031031</td>\n",
       "      <td>Jinan</td>\n",
       "      <td>China</td>\n",
       "      <td>PHYS (19); EART (16)</td>\n",
       "      <td>2022</td>\n",
       "      <td>Li Chuanyang</td>\n",
       "    </tr>\n",
       "  </tbody>\n",
       "</table>\n",
       "<p>1 rows × 25 columns</p>\n",
       "</div>"
      ],
      "text/plain": [
       "   author_eid_counts            affilname      afid   author_eid  \\\n",
       "0                  0  Shandong University  60031031  57212831316   \n",
       "\n",
       "                                        author_names  citedby_count  \\\n",
       "0  Chen, Yao;Zhang, Zilong;Ni, Sulan;Ning, Hao;Li...              0   \n",
       "\n",
       "   coverDate                doi               eid_x  \\\n",
       "0  2022/11/1  10.1063/5.0108780  2-s2.0-85144444028   \n",
       "\n",
       "                                               title  ...  initials  \\\n",
       "0  Plasma emission induced by ring-distributed en...  ...        C.   \n",
       "\n",
       "   givenname          affiliation documents affiliation_id   city country  \\\n",
       "0  Chuanyang  Shandong University        20       60031031  Jinan   China   \n",
       "\n",
       "                  areas  year   author_name  \n",
       "0  PHYS (19); EART (16)  2022  Li Chuanyang  \n",
       "\n",
       "[1 rows x 25 columns]"
      ]
     },
     "execution_count": 138,
     "metadata": {},
     "output_type": "execute_result"
    }
   ],
   "source": [
    "qn_author_pubs.head(1)"
   ]
  },
  {
   "cell_type": "code",
   "execution_count": 139,
   "metadata": {},
   "outputs": [],
   "source": [
    "qn_author_year_pubs = qn_author_pubs.groupby(['author_name','year'])['author_eid_counts'].count()\n"
   ]
  },
  {
   "cell_type": "code",
   "execution_count": 140,
   "metadata": {},
   "outputs": [],
   "source": [
    "qn_author_year_pubs = qn_author_year_pubs.reset_index()"
   ]
  },
  {
   "cell_type": "code",
   "execution_count": 141,
   "metadata": {},
   "outputs": [
    {
     "data": {
      "text/plain": [
       "3.4502334725976898"
      ]
     },
     "execution_count": 141,
     "metadata": {},
     "output_type": "execute_result"
    }
   ],
   "source": [
    "qn_author_year_pubs.author_eid_counts.mean()"
   ]
  },
  {
   "cell_type": "code",
   "execution_count": 142,
   "metadata": {},
   "outputs": [
    {
     "data": {
      "text/plain": [
       "2.0"
      ]
     },
     "execution_count": 142,
     "metadata": {},
     "output_type": "execute_result"
    }
   ],
   "source": [
    "qn_author_year_pubs.author_eid_counts.median()"
   ]
  },
  {
   "cell_type": "code",
   "execution_count": 143,
   "metadata": {},
   "outputs": [],
   "source": [
    "pub_scatter = qn_author_year_pubs.groupby(['year']).author_eid_counts.mean().reset_index()\n",
    "pub_scatter = pub_scatter.loc[4:23,:] # select between 2003 and 2022"
   ]
  },
  {
   "cell_type": "code",
   "execution_count": 144,
   "metadata": {},
   "outputs": [
    {
     "data": {
      "image/png": "[encoded data removed]",
      "text/plain": [
       "<Figure size 576x432 with 1 Axes>"
      ]
     },
     "metadata": {},
     "output_type": "display_data"
    }
   ],
   "source": [
    "matplotlib.style.use('seaborn-talk') \n",
    "fig, ax = plt.subplots(figsize=(8,6))\n",
    "scatter = ax.scatter(pub_scatter.year, pub_scatter.author_eid_counts,cmap='tab20b')\n",
    "plt.xticks(['2005','2010','2015','2020'])\n",
    "plt.show()"
   ]
  },
  {
   "cell_type": "code",
   "execution_count": 145,
   "metadata": {},
   "outputs": [
    {
     "name": "stdout",
     "output_type": "stream",
     "text": [
      "['seaborn-dark', 'seaborn-darkgrid', 'seaborn-ticks', 'fivethirtyeight', 'seaborn-whitegrid', 'classic', '_classic_test', 'fast', 'seaborn-talk', 'seaborn-dark-palette', 'seaborn-bright', 'seaborn-pastel', 'grayscale', 'seaborn-notebook', 'ggplot', 'seaborn-colorblind', 'seaborn-muted', 'seaborn', 'Solarize_Light2', 'seaborn-paper', 'bmh', 'tableau-colorblind10', 'seaborn-white', 'dark_background', 'seaborn-poster', 'seaborn-deep']\n"
     ]
    }
   ],
   "source": [
    "print(plt.style.available)"
   ]
  },
  {
   "cell_type": "code",
   "execution_count": 110,
   "metadata": {},
   "outputs": [
    {
     "name": "stderr",
     "output_type": "stream",
     "text": [
      "/opt/anaconda3/lib/python3.7/site-packages/pandas/plotting/_matplotlib/hist.py:354: MatplotlibDeprecationWarning: \n",
      "The 'normed' kwarg was deprecated in Matplotlib 2.1 and will be removed in 3.1. Use 'density' instead.\n",
      "  ax.hist(values, bins=bins, **kwds)\n"
     ]
    },
    {
     "data": {
      "text/plain": [
       "<matplotlib.axes._subplots.AxesSubplot at 0x1a4d841ed0>"
      ]
     },
     "execution_count": 110,
     "metadata": {},
     "output_type": "execute_result"
    },
    {
     "data": {
      "image/png": "[encoded data removed]",
      "text/plain": [
       "<Figure size 748.8x514.8 with 1 Axes>"
      ]
     },
     "metadata": {},
     "output_type": "display_data"
    }
   ],
   "source": [
    "matplotlib.style.use('bmh') \n",
    "qn_author_year_pubs.groupby(['author_name']).author_eid_counts.mean().hist(normed=True)"
   ]
  },
  {
   "cell_type": "markdown",
   "metadata": {},
   "source": [
    "## Merge the NSFC and publication data"
   ]
  },
  {
   "cell_type": "code",
   "execution_count": 76,
   "metadata": {},
   "outputs": [
    {
     "data": {
      "text/html": [
       "<div>\n",
       "<style scoped>\n",
       "    .dataframe tbody tr th:only-of-type {\n",
       "        vertical-align: middle;\n",
       "    }\n",
       "\n",
       "    .dataframe tbody tr th {\n",
       "        vertical-align: top;\n",
       "    }\n",
       "\n",
       "    .dataframe thead th {\n",
       "        text-align: right;\n",
       "    }\n",
       "</style>\n",
       "<table border=\"1\" class=\"dataframe\">\n",
       "  <thead>\n",
       "    <tr style=\"text-align: right;\">\n",
       "      <th></th>\n",
       "      <th>申请人</th>\n",
       "      <th>author_name</th>\n",
       "      <th>立项年份</th>\n",
       "      <th>pinyin_counts</th>\n",
       "    </tr>\n",
       "  </thead>\n",
       "  <tbody>\n",
       "    <tr>\n",
       "      <th>0</th>\n",
       "      <td>Bagrat Mailyan</td>\n",
       "      <td>Bagrat Mailyan Bagrat Mailyan</td>\n",
       "      <td>2014.0</td>\n",
       "      <td>1</td>\n",
       "    </tr>\n",
       "  </tbody>\n",
       "</table>\n",
       "</div>"
      ],
      "text/plain": [
       "              申请人                    author_name    立项年份  pinyin_counts\n",
       "0  Bagrat Mailyan  Bagrat Mailyan Bagrat Mailyan  2014.0              1"
      ]
     },
     "execution_count": 76,
     "metadata": {},
     "output_type": "execute_result"
    }
   ],
   "source": [
    "qn_nsfc.head(1)"
   ]
  },
  {
   "cell_type": "code",
   "execution_count": 92,
   "metadata": {},
   "outputs": [
    {
     "data": {
      "text/html": [
       "<div>\n",
       "<style scoped>\n",
       "    .dataframe tbody tr th:only-of-type {\n",
       "        vertical-align: middle;\n",
       "    }\n",
       "\n",
       "    .dataframe tbody tr th {\n",
       "        vertical-align: top;\n",
       "    }\n",
       "\n",
       "    .dataframe thead th {\n",
       "        text-align: right;\n",
       "    }\n",
       "</style>\n",
       "<table border=\"1\" class=\"dataframe\">\n",
       "  <thead>\n",
       "    <tr style=\"text-align: right;\">\n",
       "      <th></th>\n",
       "      <th>author_name</th>\n",
       "      <th>year</th>\n",
       "      <th>author_eid_counts</th>\n",
       "      <th>申请人</th>\n",
       "      <th>立项年份</th>\n",
       "      <th>pinyin_counts</th>\n",
       "    </tr>\n",
       "  </thead>\n",
       "  <tbody>\n",
       "    <tr>\n",
       "      <th>0</th>\n",
       "      <td>Bai Caiquan</td>\n",
       "      <td>2015</td>\n",
       "      <td>1</td>\n",
       "      <td>白彩全</td>\n",
       "      <td>2022.0</td>\n",
       "      <td>1.0</td>\n",
       "    </tr>\n",
       "    <tr>\n",
       "      <th>1</th>\n",
       "      <td>Bai Caiquan</td>\n",
       "      <td>2017</td>\n",
       "      <td>1</td>\n",
       "      <td>白彩全</td>\n",
       "      <td>2022.0</td>\n",
       "      <td>1.0</td>\n",
       "    </tr>\n",
       "    <tr>\n",
       "      <th>2</th>\n",
       "      <td>Bai Caiquan</td>\n",
       "      <td>2019</td>\n",
       "      <td>4</td>\n",
       "      <td>白彩全</td>\n",
       "      <td>2022.0</td>\n",
       "      <td>1.0</td>\n",
       "    </tr>\n",
       "    <tr>\n",
       "      <th>3</th>\n",
       "      <td>Bai Caiquan</td>\n",
       "      <td>2020</td>\n",
       "      <td>5</td>\n",
       "      <td>白彩全</td>\n",
       "      <td>2022.0</td>\n",
       "      <td>1.0</td>\n",
       "    </tr>\n",
       "    <tr>\n",
       "      <th>4</th>\n",
       "      <td>Bai Caiquan</td>\n",
       "      <td>2021</td>\n",
       "      <td>6</td>\n",
       "      <td>白彩全</td>\n",
       "      <td>2022.0</td>\n",
       "      <td>1.0</td>\n",
       "    </tr>\n",
       "  </tbody>\n",
       "</table>\n",
       "</div>"
      ],
      "text/plain": [
       "   author_name  year  author_eid_counts  申请人    立项年份  pinyin_counts\n",
       "0  Bai Caiquan  2015                  1  白彩全  2022.0            1.0\n",
       "1  Bai Caiquan  2017                  1  白彩全  2022.0            1.0\n",
       "2  Bai Caiquan  2019                  4  白彩全  2022.0            1.0\n",
       "3  Bai Caiquan  2020                  5  白彩全  2022.0            1.0\n",
       "4  Bai Caiquan  2021                  6  白彩全  2022.0            1.0"
      ]
     },
     "execution_count": 92,
     "metadata": {},
     "output_type": "execute_result"
    }
   ],
   "source": [
    "qn_author_year_pubs['year'] = pd.to_numeric(qn_author_year_pubs['year'], errors='coerce')\n",
    "qn_author_year_pubs.drop(qn_author_year_pubs.loc[qn_author_year_pubs['year']<2003].index, inplace=True)\n",
    "qn_author_year_pubs.drop(qn_author_year_pubs.loc[qn_author_year_pubs['year']>2022].index, inplace=True)\n",
    "qn_nsfc_pubs = qn_author_year_pubs.merge(qn_nsfc,how='left',on='author_name')\n",
    "qn_nsfc_pubs.head()"
   ]
  },
  {
   "cell_type": "code",
   "execution_count": 93,
   "metadata": {},
   "outputs": [
    {
     "data": {
      "text/plain": [
       "2022    416\n",
       "2021    395\n",
       "2020    391\n",
       "2019    357\n",
       "2018    334\n",
       "2017    320\n",
       "2016    288\n",
       "2015    267\n",
       "2014    230\n",
       "2013    197\n",
       "2012    164\n",
       "2011    135\n",
       "2010     98\n",
       "2009     80\n",
       "2008     57\n",
       "2007     50\n",
       "2006     30\n",
       "2005     21\n",
       "2004     14\n",
       "2003      9\n",
       "Name: year, dtype: int64"
      ]
     },
     "execution_count": 93,
     "metadata": {},
     "output_type": "execute_result"
    }
   ],
   "source": [
    "qn_nsfc_pubs.year.value_counts()"
   ]
  },
  {
   "cell_type": "code",
   "execution_count": 94,
   "metadata": {},
   "outputs": [],
   "source": [
    "qn_nsfc_pubs['grant_t'] = qn_nsfc_pubs['year'].astype('int64')-qn_nsfc_pubs['立项年份']\n",
    "qn_nsfc_pubs.loc[qn_nsfc_pubs['立项年份']==0,'grant_t'] = 0\n",
    "qn_nsfc_pubs['after_grant'] = qn_nsfc_pubs['grant_t'] >0\n",
    "qn_nsfc_pubs['after_grant'] = qn_nsfc_pubs['after_grant'].astype('int64')"
   ]
  },
  {
   "cell_type": "code",
   "execution_count": 107,
   "metadata": {},
   "outputs": [
    {
     "data": {
      "image/png": "[encoded data removed]",
      "text/plain": [
       "<Figure size 576x432 with 1 Axes>"
      ]
     },
     "metadata": {},
     "output_type": "display_data"
    }
   ],
   "source": [
    "pub_grant_scatter = qn_nsfc_pubs.groupby(['grant_t']).author_eid_counts.mean().reset_index()\n",
    "\n",
    "fig, ax = plt.subplots(figsize=(8,6))\n",
    "scatter = ax.scatter(pub_grant_scatter.grant_t, pub_grant_scatter.author_eid_counts,cmap='tab20b')\n",
    "plt.xticks([-10,-5,0,5,10])\n",
    "plt.show()"
   ]
  },
  {
   "cell_type": "markdown",
   "metadata": {},
   "source": [
    "### OLS with no F.E"
   ]
  },
  {
   "cell_type": "code",
   "execution_count": 96,
   "metadata": {},
   "outputs": [
    {
     "data": {
      "text/plain": [
       "=======================================================\n",
       "Dependent variable:\tauthor_eid_counts\n",
       "N:\t\t\t3826\n",
       "R-squared:\t\t0.0842\n",
       "Estimation method:\tOLS\n",
       "VCE method:\t\tCluster\n",
       "  Cluster variable:\t  author_name\n",
       "  No. of clusters:\t  563\n",
       "=======================================================\n",
       "            coeff    se      t   p>t CI_low CI_high\n",
       "grant_t     0.079 0.024  3.252 0.001  0.031   0.126\n",
       "after_grant 2.084 0.335  6.221 0.000  1.426   2.743\n",
       "_cons       3.192 0.101 31.560 0.000  2.993   3.390\n",
       "======================================================="
      ]
     },
     "execution_count": 96,
     "metadata": {},
     "output_type": "execute_result"
    }
   ],
   "source": [
    "y_var = 'author_eid_counts'\n",
    "X_vars = ['grant_t','after_grant']\n",
    "#fe_var = 'author_name'\n",
    "cluster_var = 'author_name'\n",
    "\n",
    "results = mt.reg(\n",
    "    qn_nsfc_pubs,                     # DataFrame\n",
    "    y_var,                      # Dependent var (string)\n",
    "    X_vars,                      # Independent var(s) (string or list of strings)\n",
    "    #fe_name=fe_var,         # Fixed-effects/absorb var (string)\n",
    "    cluster=cluster_var,     # Cluster var (string),\n",
    "    addcons=True\n",
    ")\n",
    "results"
   ]
  },
  {
   "cell_type": "markdown",
   "metadata": {},
   "source": [
    "### OLS with author and year F.E"
   ]
  },
  {
   "cell_type": "code",
   "execution_count": 37,
   "metadata": {},
   "outputs": [
    {
     "data": {
      "text/plain": [
       "=======================================================\n",
       "Dependent variable:\tauthor_eid_counts\n",
       "N:\t\t\t3982\n",
       "R-squared:\t\t0.4161\n",
       "Estimation method:\tOLS\n",
       "VCE method:\t\tCluster\n",
       "  Cluster variable:\t  author_name\n",
       "  No. of clusters:\t  503\n",
       "Fixed effects by:\tauthor_name\n",
       "  No. of FE:\t\t  503\n",
       "=======================================================\n",
       "            coeff    se     t   p>t CI_low CI_high\n",
       "grant_t     0.111 0.036 3.055 0.002  0.040   0.182\n",
       "after_grant 0.615 0.251 2.450 0.015  0.122   1.108\n",
       "year        0.100 0.023 4.407 0.000  0.055   0.144\n",
       "======================================================="
      ]
     },
     "execution_count": 37,
     "metadata": {},
     "output_type": "execute_result"
    }
   ],
   "source": [
    "y_var = 'author_eid_counts'\n",
    "X_vars = ['grant_t','after_grant','year']\n",
    "fe_var = 'author_name'\n",
    "cluster_var = 'author_name'\n",
    "\n",
    "results = mt.reg(\n",
    "    qn_nsfc_pubs,                     # DataFrame\n",
    "    y_var,                      # Dependent var (string)\n",
    "    X_vars,                      # Independent var(s) (string or list of strings)\n",
    "    fe_name=fe_var,         # Fixed-effects/absorb var (string)\n",
    "    cluster=cluster_var,     # Cluster var (string),\n",
    "    addcons=True\n",
    ")\n",
    "results"
   ]
  },
  {
   "cell_type": "code",
   "execution_count": null,
   "metadata": {},
   "outputs": [],
   "source": []
  }
 ],
 "metadata": {
  "kernelspec": {
   "display_name": "Python 3",
   "language": "python",
   "name": "python3"
  },
  "language_info": {
   "codemirror_mode": {
    "name": "ipython",
    "version": 3
   },
   "file_extension": ".py",
   "mimetype": "text/x-python",
   "name": "python",
   "nbconvert_exporter": "python",
   "pygments_lexer": "ipython3",
   "version": "3.7.4"
  }
 },
 "nbformat": 4,
 "nbformat_minor": 2
}
