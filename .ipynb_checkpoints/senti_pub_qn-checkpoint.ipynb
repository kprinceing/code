{
 "cells": [
  {
   "cell_type": "code",
   "execution_count": null,
   "metadata": {},
   "outputs": [],
   "source": [
    "import numpy as np\n",
    "import pandas as pd\n",
    "import os\n",
    "from pypinyin import pinyin, lazy_pinyin, Style\n",
    "import matplotlib.pyplot as plt\n",
    "#from sklearn.linear_model import LinearRegression\n",
    "\n",
    "#import janitor\n",
    "import econtools.metrics as mt\n"
   ]
  },
  {
   "cell_type": "markdown",
   "metadata": {},
   "source": [
    "### NSFC data"
   ]
  },
  {
   "cell_type": "code",
   "execution_count": 86,
   "metadata": {},
   "outputs": [],
   "source": [
    "qn_all = pd.read_csv(\"/Users/yansong/Nutstore Files/基金研究/data/2013--2022面青/qn_senti.csv\")"
   ]
  },
  {
   "cell_type": "code",
   "execution_count": 111,
   "metadata": {},
   "outputs": [
    {
     "data": {
      "text/plain": [
       "(1783, 10)"
      ]
     },
     "execution_count": 111,
     "metadata": {},
     "output_type": "execute_result"
    }
   ],
   "source": [
    "qn_all.shape"
   ]
  },
  {
   "cell_type": "code",
   "execution_count": 88,
   "metadata": {},
   "outputs": [],
   "source": [
    "qn_all = qn_all[['申请人','年份','立项','Senti']]\n",
    "qn_all.rename(columns={'年份':'year','Senti':'senti'},inplace=True)"
   ]
  },
  {
   "cell_type": "code",
   "execution_count": 89,
   "metadata": {},
   "outputs": [
    {
     "data": {
      "text/html": [
       "<div>\n",
       "<style scoped>\n",
       "    .dataframe tbody tr th:only-of-type {\n",
       "        vertical-align: middle;\n",
       "    }\n",
       "\n",
       "    .dataframe tbody tr th {\n",
       "        vertical-align: top;\n",
       "    }\n",
       "\n",
       "    .dataframe thead th {\n",
       "        text-align: right;\n",
       "    }\n",
       "</style>\n",
       "<table border=\"1\" class=\"dataframe\">\n",
       "  <thead>\n",
       "    <tr style=\"text-align: right;\">\n",
       "      <th></th>\n",
       "      <th>申请人</th>\n",
       "      <th>year</th>\n",
       "      <th>立项</th>\n",
       "      <th>senti</th>\n",
       "    </tr>\n",
       "  </thead>\n",
       "  <tbody>\n",
       "    <tr>\n",
       "      <th>0</th>\n",
       "      <td>王效强</td>\n",
       "      <td>2014</td>\n",
       "      <td>0</td>\n",
       "      <td>0.279422</td>\n",
       "    </tr>\n",
       "  </tbody>\n",
       "</table>\n",
       "</div>"
      ],
      "text/plain": [
       "   申请人  year  立项     senti\n",
       "0  王效强  2014   0  0.279422"
      ]
     },
     "execution_count": 89,
     "metadata": {},
     "output_type": "execute_result"
    }
   ],
   "source": [
    "qn_all.head(1)"
   ]
  },
  {
   "cell_type": "code",
   "execution_count": 90,
   "metadata": {},
   "outputs": [],
   "source": [
    "qn_all['立项年份'] = qn_all['year']*qn_all['立项']"
   ]
  },
  {
   "cell_type": "code",
   "execution_count": 91,
   "metadata": {},
   "outputs": [],
   "source": [
    "#qn_all = pd.DataFrame(qn_all.groupby(['申请人']).立项年份.max()).reset_index()"
   ]
  },
  {
   "cell_type": "code",
   "execution_count": 92,
   "metadata": {},
   "outputs": [
    {
     "data": {
      "text/plain": [
       "0       1282\n",
       "2019     111\n",
       "2020     108\n",
       "2016      64\n",
       "2014      60\n",
       "2017      56\n",
       "2018      54\n",
       "2015      48\n",
       "Name: 立项年份, dtype: int64"
      ]
     },
     "execution_count": 92,
     "metadata": {},
     "output_type": "execute_result"
    }
   ],
   "source": [
    "qn_all.立项年份.value_counts()"
   ]
  },
  {
   "cell_type": "code",
   "execution_count": 93,
   "metadata": {},
   "outputs": [],
   "source": [
    "def pinyin(name):\n",
    "    i = lazy_pinyin(name)\n",
    "    if len(i) == 3:\n",
    "        capitalized = [str.capitalize(i[0]),str.capitalize(i[1]+i[2])]\n",
    "    elif len(i) == 2:\n",
    "        capitalized = [str.capitalize(i[0]),str.capitalize(i[1])]\n",
    "    else:\n",
    "        print(i)\n",
    "        capitalized = i\n",
    "    return capitalized"
   ]
  },
  {
   "cell_type": "code",
   "execution_count": 94,
   "metadata": {},
   "outputs": [
    {
     "name": "stdout",
     "output_type": "stream",
     "text": [
      "['Bagrat Mailyan']\n",
      "['Tsona Tchinda Narcisse']\n",
      "['Shani Tiwari']\n",
      "['Munish Kumar Gupta']\n"
     ]
    }
   ],
   "source": [
    "qn_all['pinyin']= qn_all['申请人'].apply(pinyin)"
   ]
  },
  {
   "cell_type": "code",
   "execution_count": 95,
   "metadata": {},
   "outputs": [],
   "source": [
    "def surname(name):\n",
    "    i = lazy_pinyin(name)\n",
    "    if len(i) == 3:\n",
    "        capitalized = str.capitalize(i[0])\n",
    "    elif len(i) == 2:\n",
    "        capitalized = str.capitalize(i[0])\n",
    "    else:\n",
    "        print(i)\n",
    "        capitalized = i[0]\n",
    "    return capitalized\n",
    "\n",
    "def givenname(name):\n",
    "    i = lazy_pinyin(name)\n",
    "    if len(i) == 3:\n",
    "        capitalized = str.capitalize(i[1]+i[2])\n",
    "    elif len(i) == 2:\n",
    "        capitalized = str.capitalize(i[1])\n",
    "    else:\n",
    "        print(i)\n",
    "        capitalized = i[0]\n",
    "    return capitalized"
   ]
  },
  {
   "cell_type": "code",
   "execution_count": 96,
   "metadata": {},
   "outputs": [
    {
     "name": "stdout",
     "output_type": "stream",
     "text": [
      "['Bagrat Mailyan']\n",
      "['Tsona Tchinda Narcisse']\n",
      "['Shani Tiwari']\n",
      "['Munish Kumar Gupta']\n"
     ]
    }
   ],
   "source": [
    "qn_all['surname'] = qn_all['申请人'].apply(surname)"
   ]
  },
  {
   "cell_type": "code",
   "execution_count": 97,
   "metadata": {},
   "outputs": [
    {
     "name": "stdout",
     "output_type": "stream",
     "text": [
      "['Bagrat Mailyan']\n",
      "['Tsona Tchinda Narcisse']\n",
      "['Shani Tiwari']\n",
      "['Munish Kumar Gupta']\n"
     ]
    }
   ],
   "source": [
    "qn_all['givenname'] = qn_all['申请人'].apply(givenname)"
   ]
  },
  {
   "cell_type": "code",
   "execution_count": 98,
   "metadata": {},
   "outputs": [],
   "source": [
    "qn_all['author_name'] = qn_all['surname']+' '+qn_all['givenname']"
   ]
  },
  {
   "cell_type": "code",
   "execution_count": 99,
   "metadata": {},
   "outputs": [],
   "source": [
    "qn_all = qn_all.sort_values(['申请人','year']).reset_index()"
   ]
  },
  {
   "cell_type": "code",
   "execution_count": 100,
   "metadata": {},
   "outputs": [
    {
     "data": {
      "text/html": [
       "<div>\n",
       "<style scoped>\n",
       "    .dataframe tbody tr th:only-of-type {\n",
       "        vertical-align: middle;\n",
       "    }\n",
       "\n",
       "    .dataframe tbody tr th {\n",
       "        vertical-align: top;\n",
       "    }\n",
       "\n",
       "    .dataframe thead th {\n",
       "        text-align: right;\n",
       "    }\n",
       "</style>\n",
       "<table border=\"1\" class=\"dataframe\">\n",
       "  <thead>\n",
       "    <tr style=\"text-align: right;\">\n",
       "      <th></th>\n",
       "      <th>index</th>\n",
       "      <th>申请人</th>\n",
       "      <th>year</th>\n",
       "      <th>立项</th>\n",
       "      <th>senti</th>\n",
       "      <th>立项年份</th>\n",
       "      <th>pinyin</th>\n",
       "      <th>surname</th>\n",
       "      <th>givenname</th>\n",
       "      <th>author_name</th>\n",
       "    </tr>\n",
       "  </thead>\n",
       "  <tbody>\n",
       "    <tr>\n",
       "      <th>0</th>\n",
       "      <td>83</td>\n",
       "      <td>Bagrat Mailyan</td>\n",
       "      <td>2014</td>\n",
       "      <td>1</td>\n",
       "      <td>0.868811</td>\n",
       "      <td>2014</td>\n",
       "      <td>[Bagrat Mailyan]</td>\n",
       "      <td>Bagrat Mailyan</td>\n",
       "      <td>Bagrat Mailyan</td>\n",
       "      <td>Bagrat Mailyan Bagrat Mailyan</td>\n",
       "    </tr>\n",
       "    <tr>\n",
       "      <th>1</th>\n",
       "      <td>1597</td>\n",
       "      <td>Munish Kumar Gupta</td>\n",
       "      <td>2020</td>\n",
       "      <td>0</td>\n",
       "      <td>0.008956</td>\n",
       "      <td>0</td>\n",
       "      <td>[Munish Kumar Gupta]</td>\n",
       "      <td>Munish Kumar Gupta</td>\n",
       "      <td>Munish Kumar Gupta</td>\n",
       "      <td>Munish Kumar Gupta Munish Kumar Gupta</td>\n",
       "    </tr>\n",
       "    <tr>\n",
       "      <th>2</th>\n",
       "      <td>1154</td>\n",
       "      <td>Shani Tiwari</td>\n",
       "      <td>2019</td>\n",
       "      <td>0</td>\n",
       "      <td>0.011995</td>\n",
       "      <td>0</td>\n",
       "      <td>[Shani Tiwari]</td>\n",
       "      <td>Shani Tiwari</td>\n",
       "      <td>Shani Tiwari</td>\n",
       "      <td>Shani Tiwari Shani Tiwari</td>\n",
       "    </tr>\n",
       "    <tr>\n",
       "      <th>3</th>\n",
       "      <td>625</td>\n",
       "      <td>Tsona Tchinda Narcisse</td>\n",
       "      <td>2017</td>\n",
       "      <td>1</td>\n",
       "      <td>0.743392</td>\n",
       "      <td>2017</td>\n",
       "      <td>[Tsona Tchinda Narcisse]</td>\n",
       "      <td>Tsona Tchinda Narcisse</td>\n",
       "      <td>Tsona Tchinda Narcisse</td>\n",
       "      <td>Tsona Tchinda Narcisse Tsona Tchinda Narcisse</td>\n",
       "    </tr>\n",
       "    <tr>\n",
       "      <th>4</th>\n",
       "      <td>718</td>\n",
       "      <td>丁一</td>\n",
       "      <td>2017</td>\n",
       "      <td>0</td>\n",
       "      <td>0.009840</td>\n",
       "      <td>0</td>\n",
       "      <td>[Ding, Yi]</td>\n",
       "      <td>Ding</td>\n",
       "      <td>Yi</td>\n",
       "      <td>Ding Yi</td>\n",
       "    </tr>\n",
       "    <tr>\n",
       "      <th>5</th>\n",
       "      <td>929</td>\n",
       "      <td>丁一</td>\n",
       "      <td>2018</td>\n",
       "      <td>0</td>\n",
       "      <td>0.013462</td>\n",
       "      <td>0</td>\n",
       "      <td>[Ding, Yi]</td>\n",
       "      <td>Ding</td>\n",
       "      <td>Yi</td>\n",
       "      <td>Ding Yi</td>\n",
       "    </tr>\n",
       "    <tr>\n",
       "      <th>6</th>\n",
       "      <td>1239</td>\n",
       "      <td>丁一</td>\n",
       "      <td>2019</td>\n",
       "      <td>0</td>\n",
       "      <td>0.012074</td>\n",
       "      <td>0</td>\n",
       "      <td>[Ding, Yi]</td>\n",
       "      <td>Ding</td>\n",
       "      <td>Yi</td>\n",
       "      <td>Ding Yi</td>\n",
       "    </tr>\n",
       "    <tr>\n",
       "      <th>7</th>\n",
       "      <td>1659</td>\n",
       "      <td>丁一</td>\n",
       "      <td>2020</td>\n",
       "      <td>0</td>\n",
       "      <td>0.307627</td>\n",
       "      <td>0</td>\n",
       "      <td>[Ding, Yi]</td>\n",
       "      <td>Ding</td>\n",
       "      <td>Yi</td>\n",
       "      <td>Ding Yi</td>\n",
       "    </tr>\n",
       "    <tr>\n",
       "      <th>8</th>\n",
       "      <td>658</td>\n",
       "      <td>丁硕</td>\n",
       "      <td>2017</td>\n",
       "      <td>0</td>\n",
       "      <td>0.013779</td>\n",
       "      <td>0</td>\n",
       "      <td>[Ding, Shuo]</td>\n",
       "      <td>Ding</td>\n",
       "      <td>Shuo</td>\n",
       "      <td>Ding Shuo</td>\n",
       "    </tr>\n",
       "    <tr>\n",
       "      <th>9</th>\n",
       "      <td>86</td>\n",
       "      <td>丁磊</td>\n",
       "      <td>2014</td>\n",
       "      <td>0</td>\n",
       "      <td>0.011386</td>\n",
       "      <td>0</td>\n",
       "      <td>[Ding, Lei]</td>\n",
       "      <td>Ding</td>\n",
       "      <td>Lei</td>\n",
       "      <td>Ding Lei</td>\n",
       "    </tr>\n",
       "  </tbody>\n",
       "</table>\n",
       "</div>"
      ],
      "text/plain": [
       "   index                     申请人  year  立项     senti  立项年份  \\\n",
       "0     83          Bagrat Mailyan  2014   1  0.868811  2014   \n",
       "1   1597      Munish Kumar Gupta  2020   0  0.008956     0   \n",
       "2   1154            Shani Tiwari  2019   0  0.011995     0   \n",
       "3    625  Tsona Tchinda Narcisse  2017   1  0.743392  2017   \n",
       "4    718                      丁一  2017   0  0.009840     0   \n",
       "5    929                      丁一  2018   0  0.013462     0   \n",
       "6   1239                      丁一  2019   0  0.012074     0   \n",
       "7   1659                      丁一  2020   0  0.307627     0   \n",
       "8    658                      丁硕  2017   0  0.013779     0   \n",
       "9     86                      丁磊  2014   0  0.011386     0   \n",
       "\n",
       "                     pinyin                 surname               givenname  \\\n",
       "0          [Bagrat Mailyan]          Bagrat Mailyan          Bagrat Mailyan   \n",
       "1      [Munish Kumar Gupta]      Munish Kumar Gupta      Munish Kumar Gupta   \n",
       "2            [Shani Tiwari]            Shani Tiwari            Shani Tiwari   \n",
       "3  [Tsona Tchinda Narcisse]  Tsona Tchinda Narcisse  Tsona Tchinda Narcisse   \n",
       "4                [Ding, Yi]                    Ding                      Yi   \n",
       "5                [Ding, Yi]                    Ding                      Yi   \n",
       "6                [Ding, Yi]                    Ding                      Yi   \n",
       "7                [Ding, Yi]                    Ding                      Yi   \n",
       "8              [Ding, Shuo]                    Ding                    Shuo   \n",
       "9               [Ding, Lei]                    Ding                     Lei   \n",
       "\n",
       "                                     author_name  \n",
       "0                  Bagrat Mailyan Bagrat Mailyan  \n",
       "1          Munish Kumar Gupta Munish Kumar Gupta  \n",
       "2                      Shani Tiwari Shani Tiwari  \n",
       "3  Tsona Tchinda Narcisse Tsona Tchinda Narcisse  \n",
       "4                                        Ding Yi  \n",
       "5                                        Ding Yi  \n",
       "6                                        Ding Yi  \n",
       "7                                        Ding Yi  \n",
       "8                                      Ding Shuo  \n",
       "9                                       Ding Lei  "
      ]
     },
     "execution_count": 100,
     "metadata": {},
     "output_type": "execute_result"
    }
   ],
   "source": [
    "qn_all.head(10)"
   ]
  },
  {
   "cell_type": "code",
   "execution_count": 101,
   "metadata": {},
   "outputs": [],
   "source": [
    "#qn_nsfc = qn_all.groupby(['申请人','author_name'])['author_name','立项年份'].mean().reset_index()\n",
    "qn_nsfc = qn_all"
   ]
  },
  {
   "cell_type": "code",
   "execution_count": 102,
   "metadata": {},
   "outputs": [],
   "source": [
    "#qn_nsfc['pinyin_counts'] =  qn_nsfc['author_name'].map(qn_nsfc.author_name.value_counts())"
   ]
  },
  {
   "cell_type": "code",
   "execution_count": 103,
   "metadata": {},
   "outputs": [],
   "source": [
    "#qn_nsfc['author_name'].map(qn_nsfc.author_name.value_counts())"
   ]
  },
  {
   "cell_type": "code",
   "execution_count": 104,
   "metadata": {},
   "outputs": [],
   "source": [
    "#qn_nsfc = qn_nsfc.loc[qn_nsfc['pinyin_counts']==1]"
   ]
  },
  {
   "cell_type": "code",
   "execution_count": 105,
   "metadata": {},
   "outputs": [],
   "source": [
    "qn_nsfc['year'] = qn_nsfc['year'].astype('int64')"
   ]
  },
  {
   "cell_type": "code",
   "execution_count": 112,
   "metadata": {},
   "outputs": [
    {
     "data": {
      "text/plain": [
       "(1783, 10)"
      ]
     },
     "execution_count": 112,
     "metadata": {},
     "output_type": "execute_result"
    }
   ],
   "source": [
    "qn_nsfc.shape"
   ]
  },
  {
   "cell_type": "code",
   "execution_count": 106,
   "metadata": {},
   "outputs": [
    {
     "data": {
      "text/html": [
       "<div>\n",
       "<style scoped>\n",
       "    .dataframe tbody tr th:only-of-type {\n",
       "        vertical-align: middle;\n",
       "    }\n",
       "\n",
       "    .dataframe tbody tr th {\n",
       "        vertical-align: top;\n",
       "    }\n",
       "\n",
       "    .dataframe thead th {\n",
       "        text-align: right;\n",
       "    }\n",
       "</style>\n",
       "<table border=\"1\" class=\"dataframe\">\n",
       "  <thead>\n",
       "    <tr style=\"text-align: right;\">\n",
       "      <th></th>\n",
       "      <th>index</th>\n",
       "      <th>申请人</th>\n",
       "      <th>year</th>\n",
       "      <th>立项</th>\n",
       "      <th>senti</th>\n",
       "      <th>立项年份</th>\n",
       "      <th>pinyin</th>\n",
       "      <th>surname</th>\n",
       "      <th>givenname</th>\n",
       "      <th>author_name</th>\n",
       "    </tr>\n",
       "  </thead>\n",
       "  <tbody>\n",
       "    <tr>\n",
       "      <th>0</th>\n",
       "      <td>83</td>\n",
       "      <td>Bagrat Mailyan</td>\n",
       "      <td>2014</td>\n",
       "      <td>1</td>\n",
       "      <td>0.868811</td>\n",
       "      <td>2014</td>\n",
       "      <td>[Bagrat Mailyan]</td>\n",
       "      <td>Bagrat Mailyan</td>\n",
       "      <td>Bagrat Mailyan</td>\n",
       "      <td>Bagrat Mailyan Bagrat Mailyan</td>\n",
       "    </tr>\n",
       "  </tbody>\n",
       "</table>\n",
       "</div>"
      ],
      "text/plain": [
       "   index             申请人  year  立项     senti  立项年份            pinyin  \\\n",
       "0     83  Bagrat Mailyan  2014   1  0.868811  2014  [Bagrat Mailyan]   \n",
       "\n",
       "          surname       givenname                    author_name  \n",
       "0  Bagrat Mailyan  Bagrat Mailyan  Bagrat Mailyan Bagrat Mailyan  "
      ]
     },
     "execution_count": 106,
     "metadata": {},
     "output_type": "execute_result"
    }
   ],
   "source": [
    "qn_nsfc.head(1)"
   ]
  },
  {
   "cell_type": "markdown",
   "metadata": {},
   "source": [
    "### Publication data\n",
    "\n",
    "- Consolidate all publications with unique author eid\n",
    "- Consolidate all author_eids\n",
    "- Merge the two using author_eid \n",
    "- Reshape to wide format"
   ]
  },
  {
   "cell_type": "code",
   "execution_count": null,
   "metadata": {},
   "outputs": [],
   "source": [
    "root_dir = \"/Users/yansong/Nutstore Files/基金研究/data/2013--2022面青/scopusPub\"\n",
    "authors = os.listdir(root_dir)\n",
    "os.chdir(root_dir)\n",
    "unique = 0\n",
    "unique_lists = []\n",
    "for author_file in authors:\n",
    "    #print(author_file)\n",
    "    if '.csv' in author_file:\n",
    "        author_pubs = pd.read_csv(author_file)\n",
    "        author_pubs.rename(columns={\"Unnamed: 0\":\"author_eid_counts\"},inplace=True)\n",
    "        author_pubs['eid_counts'] = author_pubs['author_eid_counts']==0\n",
    "        counts = author_pubs.eid_counts.sum()    \n",
    "        if counts == 1:\n",
    "            unique_lists.append(author_pubs)\n",
    "            unique = unique+1\n",
    "            \n",
    "qn_pubs = pd.concat(unique_lists)\n",
    "print(qn_pubs.shape)\n",
    "qn_pubs.head(1)"
   ]
  },
  {
   "cell_type": "code",
   "execution_count": 60,
   "metadata": {},
   "outputs": [
    {
     "data": {
      "text/html": [
       "<div>\n",
       "<style scoped>\n",
       "    .dataframe tbody tr th:only-of-type {\n",
       "        vertical-align: middle;\n",
       "    }\n",
       "\n",
       "    .dataframe tbody tr th {\n",
       "        vertical-align: top;\n",
       "    }\n",
       "\n",
       "    .dataframe thead th {\n",
       "        text-align: right;\n",
       "    }\n",
       "</style>\n",
       "<table border=\"1\" class=\"dataframe\">\n",
       "  <thead>\n",
       "    <tr style=\"text-align: right;\">\n",
       "      <th></th>\n",
       "      <th>Unnamed: 0</th>\n",
       "      <th>eid</th>\n",
       "      <th>orcid</th>\n",
       "      <th>surname</th>\n",
       "      <th>initials</th>\n",
       "      <th>givenname</th>\n",
       "      <th>affiliation</th>\n",
       "      <th>documents</th>\n",
       "      <th>affiliation_id</th>\n",
       "      <th>city</th>\n",
       "      <th>country</th>\n",
       "      <th>areas</th>\n",
       "      <th>author_eid</th>\n",
       "    </tr>\n",
       "  </thead>\n",
       "  <tbody>\n",
       "    <tr>\n",
       "      <th>0</th>\n",
       "      <td>0</td>\n",
       "      <td>9-s2.0-57212831316</td>\n",
       "      <td>0000-0001-9707-584X</td>\n",
       "      <td>Li</td>\n",
       "      <td>C.</td>\n",
       "      <td>Chuanyang</td>\n",
       "      <td>Shandong University</td>\n",
       "      <td>20</td>\n",
       "      <td>60031031</td>\n",
       "      <td>Jinan</td>\n",
       "      <td>China</td>\n",
       "      <td>PHYS (19); EART (16)</td>\n",
       "      <td>57212831316</td>\n",
       "    </tr>\n",
       "  </tbody>\n",
       "</table>\n",
       "</div>"
      ],
      "text/plain": [
       "   Unnamed: 0                 eid                orcid surname initials  \\\n",
       "0           0  9-s2.0-57212831316  0000-0001-9707-584X      Li       C.   \n",
       "\n",
       "   givenname          affiliation  documents  affiliation_id   city country  \\\n",
       "0  Chuanyang  Shandong University         20        60031031  Jinan   China   \n",
       "\n",
       "                  areas   author_eid  \n",
       "0  PHYS (19); EART (16)  57212831316  "
      ]
     },
     "execution_count": 60,
     "metadata": {},
     "output_type": "execute_result"
    }
   ],
   "source": [
    "root_dir = \"/Users/yansong/Nutstore Files/基金研究/data/2013--2022面青/scopus\"\n",
    "authors = os.listdir(root_dir)\n",
    "os.chdir(root_dir)\n",
    "unique_lists = []\n",
    "\n",
    "for author_file in authors:\n",
    "    if '.csv' in author_file:\n",
    "        author_pubs = pd.read_csv(author_file)\n",
    "        if author_pubs.shape[0] == 1:\n",
    "            unique_lists.append(author_pubs)\n",
    "            unique = unique+1\n",
    "author_ids = pd.concat(unique_lists)\n",
    "author_ids['author_eid']= author_ids['eid'].str.split(\"-\").str.get(2)\n",
    "author_ids['author_eid'] = author_ids['author_eid'].astype('int64')\n",
    "author_ids.head(1)"
   ]
  },
  {
   "cell_type": "code",
   "execution_count": 61,
   "metadata": {},
   "outputs": [],
   "source": [
    "qn_author_pubs = qn_pubs.merge(author_ids,how='left',on='author_eid')\n",
    "qn_author_pubs['year'] = qn_author_pubs['coverDate'].str[0:4]\n",
    "qn_author_pubs['author_name'] = qn_author_pubs['surname']+' ' +qn_author_pubs['givenname']"
   ]
  },
  {
   "cell_type": "code",
   "execution_count": 62,
   "metadata": {},
   "outputs": [
    {
     "data": {
      "text/html": [
       "<div>\n",
       "<style scoped>\n",
       "    .dataframe tbody tr th:only-of-type {\n",
       "        vertical-align: middle;\n",
       "    }\n",
       "\n",
       "    .dataframe tbody tr th {\n",
       "        vertical-align: top;\n",
       "    }\n",
       "\n",
       "    .dataframe thead th {\n",
       "        text-align: right;\n",
       "    }\n",
       "</style>\n",
       "<table border=\"1\" class=\"dataframe\">\n",
       "  <thead>\n",
       "    <tr style=\"text-align: right;\">\n",
       "      <th></th>\n",
       "      <th>author_eid_counts</th>\n",
       "      <th>affilname</th>\n",
       "      <th>afid</th>\n",
       "      <th>author_eid</th>\n",
       "      <th>author_names</th>\n",
       "      <th>citedby_count</th>\n",
       "      <th>coverDate</th>\n",
       "      <th>doi</th>\n",
       "      <th>eid_x</th>\n",
       "      <th>title</th>\n",
       "      <th>...</th>\n",
       "      <th>initials</th>\n",
       "      <th>givenname</th>\n",
       "      <th>affiliation</th>\n",
       "      <th>documents</th>\n",
       "      <th>affiliation_id</th>\n",
       "      <th>city</th>\n",
       "      <th>country</th>\n",
       "      <th>areas</th>\n",
       "      <th>year</th>\n",
       "      <th>author_name</th>\n",
       "    </tr>\n",
       "  </thead>\n",
       "  <tbody>\n",
       "    <tr>\n",
       "      <th>0</th>\n",
       "      <td>0</td>\n",
       "      <td>Shandong University</td>\n",
       "      <td>60031031</td>\n",
       "      <td>57212831316</td>\n",
       "      <td>Chen, Yao;Zhang, Zilong;Ni, Sulan;Ning, Hao;Li...</td>\n",
       "      <td>0</td>\n",
       "      <td>2022/11/1</td>\n",
       "      <td>10.1063/5.0108780</td>\n",
       "      <td>2-s2.0-85144444028</td>\n",
       "      <td>Plasma emission induced by ring-distributed en...</td>\n",
       "      <td>...</td>\n",
       "      <td>C.</td>\n",
       "      <td>Chuanyang</td>\n",
       "      <td>Shandong University</td>\n",
       "      <td>20</td>\n",
       "      <td>60031031</td>\n",
       "      <td>Jinan</td>\n",
       "      <td>China</td>\n",
       "      <td>PHYS (19); EART (16)</td>\n",
       "      <td>2022</td>\n",
       "      <td>Li Chuanyang</td>\n",
       "    </tr>\n",
       "  </tbody>\n",
       "</table>\n",
       "<p>1 rows × 25 columns</p>\n",
       "</div>"
      ],
      "text/plain": [
       "   author_eid_counts            affilname      afid   author_eid  \\\n",
       "0                  0  Shandong University  60031031  57212831316   \n",
       "\n",
       "                                        author_names  citedby_count  \\\n",
       "0  Chen, Yao;Zhang, Zilong;Ni, Sulan;Ning, Hao;Li...              0   \n",
       "\n",
       "   coverDate                doi               eid_x  \\\n",
       "0  2022/11/1  10.1063/5.0108780  2-s2.0-85144444028   \n",
       "\n",
       "                                               title  ...  initials  \\\n",
       "0  Plasma emission induced by ring-distributed en...  ...        C.   \n",
       "\n",
       "   givenname          affiliation documents affiliation_id   city country  \\\n",
       "0  Chuanyang  Shandong University        20       60031031  Jinan   China   \n",
       "\n",
       "                  areas  year   author_name  \n",
       "0  PHYS (19); EART (16)  2022  Li Chuanyang  \n",
       "\n",
       "[1 rows x 25 columns]"
      ]
     },
     "execution_count": 62,
     "metadata": {},
     "output_type": "execute_result"
    }
   ],
   "source": [
    "qn_author_pubs.head(1)"
   ]
  },
  {
   "cell_type": "code",
   "execution_count": 63,
   "metadata": {},
   "outputs": [],
   "source": [
    "qn_author_year_pubs = qn_author_pubs.groupby(['author_name','year'])['author_eid_counts'].count()\n"
   ]
  },
  {
   "cell_type": "code",
   "execution_count": 64,
   "metadata": {},
   "outputs": [],
   "source": [
    "qn_author_year_pubs = qn_author_year_pubs.reset_index()"
   ]
  },
  {
   "cell_type": "code",
   "execution_count": 70,
   "metadata": {},
   "outputs": [],
   "source": [
    "qn_author_year_pubs['year'] = qn_author_year_pubs.year.astype('int64')"
   ]
  },
  {
   "cell_type": "code",
   "execution_count": 113,
   "metadata": {},
   "outputs": [
    {
     "data": {
      "text/plain": [
       "(4069, 3)"
      ]
     },
     "execution_count": 113,
     "metadata": {},
     "output_type": "execute_result"
    }
   ],
   "source": [
    "qn_author_year_pubs.shape"
   ]
  },
  {
   "cell_type": "code",
   "execution_count": 117,
   "metadata": {},
   "outputs": [],
   "source": [
    "# qn_author_year_pubs['date'] = pd.to_datetime(qn_author_year_pubs['year'],format='%Y')\n",
    "# qn_author_year_pubs = qn_author_year_pubs.set_index(['date'])\n",
    "# qn_author_year_pubs=qn_author_year_pubs.asfreq(freq='Y', how={'start':'2021-01-01', 'end':'2021-03-31'}, method='ffill')\n"
   ]
  },
  {
   "cell_type": "code",
   "execution_count": 122,
   "metadata": {},
   "outputs": [],
   "source": [
    "qn_author_year_pubs = qn_author_year_pubs[qn_author_year_pubs['year']>=2003]"
   ]
  },
  {
   "cell_type": "code",
   "execution_count": null,
   "metadata": {},
   "outputs": [],
   "source": [
    "f = lambda x: x.reindex(range(2003, 2020), method='ffill')\n",
    "df = data.set_index(\"year\").groupby(['author_name'])['c'].apply(f).reset_index()\n"
   ]
  },
  {
   "cell_type": "code",
   "execution_count": 123,
   "metadata": {},
   "outputs": [
    {
     "data": {
      "text/html": [
       "<div>\n",
       "<style scoped>\n",
       "    .dataframe tbody tr th:only-of-type {\n",
       "        vertical-align: middle;\n",
       "    }\n",
       "\n",
       "    .dataframe tbody tr th {\n",
       "        vertical-align: top;\n",
       "    }\n",
       "\n",
       "    .dataframe thead th {\n",
       "        text-align: right;\n",
       "    }\n",
       "</style>\n",
       "<table border=\"1\" class=\"dataframe\">\n",
       "  <thead>\n",
       "    <tr style=\"text-align: right;\">\n",
       "      <th></th>\n",
       "      <th>author_name</th>\n",
       "      <th>year</th>\n",
       "      <th>author_eid_counts</th>\n",
       "    </tr>\n",
       "    <tr>\n",
       "      <th>date</th>\n",
       "      <th></th>\n",
       "      <th></th>\n",
       "      <th></th>\n",
       "    </tr>\n",
       "  </thead>\n",
       "  <tbody>\n",
       "    <tr>\n",
       "      <th>2015-01-01</th>\n",
       "      <td>Bai Caiquan</td>\n",
       "      <td>2015</td>\n",
       "      <td>1</td>\n",
       "    </tr>\n",
       "  </tbody>\n",
       "</table>\n",
       "</div>"
      ],
      "text/plain": [
       "            author_name  year  author_eid_counts\n",
       "date                                            \n",
       "2015-01-01  Bai Caiquan  2015                  1"
      ]
     },
     "execution_count": 123,
     "metadata": {},
     "output_type": "execute_result"
    }
   ],
   "source": [
    "qn_author_year_pubs.head(1)"
   ]
  },
  {
   "cell_type": "markdown",
   "metadata": {},
   "source": [
    "## Merge the NSFC and publication data"
   ]
  },
  {
   "cell_type": "code",
   "execution_count": 107,
   "metadata": {},
   "outputs": [],
   "source": [
    "qn_nsfc_pubs = qn_author_year_pubs.merge(qn_nsfc,how='inner',on=['author_name','year'])\n"
   ]
  },
  {
   "cell_type": "code",
   "execution_count": 109,
   "metadata": {},
   "outputs": [
    {
     "data": {
      "text/html": [
       "<div>\n",
       "<style scoped>\n",
       "    .dataframe tbody tr th:only-of-type {\n",
       "        vertical-align: middle;\n",
       "    }\n",
       "\n",
       "    .dataframe tbody tr th {\n",
       "        vertical-align: top;\n",
       "    }\n",
       "\n",
       "    .dataframe thead th {\n",
       "        text-align: right;\n",
       "    }\n",
       "</style>\n",
       "<table border=\"1\" class=\"dataframe\">\n",
       "  <thead>\n",
       "    <tr style=\"text-align: right;\">\n",
       "      <th></th>\n",
       "      <th>author_name</th>\n",
       "      <th>year</th>\n",
       "      <th>author_eid_counts</th>\n",
       "      <th>index</th>\n",
       "      <th>申请人</th>\n",
       "      <th>立项</th>\n",
       "      <th>senti</th>\n",
       "      <th>立项年份</th>\n",
       "      <th>pinyin</th>\n",
       "      <th>surname</th>\n",
       "      <th>givenname</th>\n",
       "    </tr>\n",
       "  </thead>\n",
       "  <tbody>\n",
       "    <tr>\n",
       "      <th>0</th>\n",
       "      <td>Bai Chao</td>\n",
       "      <td>2014</td>\n",
       "      <td>1</td>\n",
       "      <td>127</td>\n",
       "      <td>柏超</td>\n",
       "      <td>0</td>\n",
       "      <td>0.013462</td>\n",
       "      <td>0</td>\n",
       "      <td>[Bai, Chao]</td>\n",
       "      <td>Bai</td>\n",
       "      <td>Chao</td>\n",
       "    </tr>\n",
       "    <tr>\n",
       "      <th>1</th>\n",
       "      <td>Bai Chao</td>\n",
       "      <td>2017</td>\n",
       "      <td>1</td>\n",
       "      <td>710</td>\n",
       "      <td>柏超</td>\n",
       "      <td>0</td>\n",
       "      <td>0.014653</td>\n",
       "      <td>0</td>\n",
       "      <td>[Bai, Chao]</td>\n",
       "      <td>Bai</td>\n",
       "      <td>Chao</td>\n",
       "    </tr>\n",
       "    <tr>\n",
       "      <th>2</th>\n",
       "      <td>Bai Chao</td>\n",
       "      <td>2019</td>\n",
       "      <td>2</td>\n",
       "      <td>1231</td>\n",
       "      <td>柏超</td>\n",
       "      <td>0</td>\n",
       "      <td>0.042418</td>\n",
       "      <td>0</td>\n",
       "      <td>[Bai, Chao]</td>\n",
       "      <td>Bai</td>\n",
       "      <td>Chao</td>\n",
       "    </tr>\n",
       "    <tr>\n",
       "      <th>3</th>\n",
       "      <td>Bai Chao</td>\n",
       "      <td>2020</td>\n",
       "      <td>1</td>\n",
       "      <td>1624</td>\n",
       "      <td>柏超</td>\n",
       "      <td>0</td>\n",
       "      <td>0.013366</td>\n",
       "      <td>0</td>\n",
       "      <td>[Bai, Chao]</td>\n",
       "      <td>Bai</td>\n",
       "      <td>Chao</td>\n",
       "    </tr>\n",
       "    <tr>\n",
       "      <th>4</th>\n",
       "      <td>Bai Jiwen</td>\n",
       "      <td>2019</td>\n",
       "      <td>2</td>\n",
       "      <td>1248</td>\n",
       "      <td>白继文</td>\n",
       "      <td>1</td>\n",
       "      <td>0.965006</td>\n",
       "      <td>2019</td>\n",
       "      <td>[Bai, Jiwen]</td>\n",
       "      <td>Bai</td>\n",
       "      <td>Jiwen</td>\n",
       "    </tr>\n",
       "    <tr>\n",
       "      <th>5</th>\n",
       "      <td>Bai Yanwen</td>\n",
       "      <td>2020</td>\n",
       "      <td>6</td>\n",
       "      <td>1554</td>\n",
       "      <td>白延文</td>\n",
       "      <td>0</td>\n",
       "      <td>0.153655</td>\n",
       "      <td>0</td>\n",
       "      <td>[Bai, Yanwen]</td>\n",
       "      <td>Bai</td>\n",
       "      <td>Yanwen</td>\n",
       "    </tr>\n",
       "    <tr>\n",
       "      <th>6</th>\n",
       "      <td>Bao Shoushan</td>\n",
       "      <td>2014</td>\n",
       "      <td>2</td>\n",
       "      <td>26</td>\n",
       "      <td>鲍守山</td>\n",
       "      <td>1</td>\n",
       "      <td>0.948042</td>\n",
       "      <td>2014</td>\n",
       "      <td>[Bao, Shoushan]</td>\n",
       "      <td>Bao</td>\n",
       "      <td>Shoushan</td>\n",
       "    </tr>\n",
       "    <tr>\n",
       "      <th>7</th>\n",
       "      <td>Cao Chao</td>\n",
       "      <td>2019</td>\n",
       "      <td>1</td>\n",
       "      <td>1282</td>\n",
       "      <td>曹超</td>\n",
       "      <td>0</td>\n",
       "      <td>0.334132</td>\n",
       "      <td>0</td>\n",
       "      <td>[Cao, Chao]</td>\n",
       "      <td>Cao</td>\n",
       "      <td>Chao</td>\n",
       "    </tr>\n",
       "    <tr>\n",
       "      <th>8</th>\n",
       "      <td>Cao Haiyan</td>\n",
       "      <td>2020</td>\n",
       "      <td>1</td>\n",
       "      <td>1512</td>\n",
       "      <td>曹海岩</td>\n",
       "      <td>0</td>\n",
       "      <td>0.009701</td>\n",
       "      <td>0</td>\n",
       "      <td>[Cao, Haiyan]</td>\n",
       "      <td>Cao</td>\n",
       "      <td>Haiyan</td>\n",
       "    </tr>\n",
       "    <tr>\n",
       "      <th>9</th>\n",
       "      <td>Cao Hongqian</td>\n",
       "      <td>2019</td>\n",
       "      <td>3</td>\n",
       "      <td>1053</td>\n",
       "      <td>曹洪倩</td>\n",
       "      <td>0</td>\n",
       "      <td>0.010721</td>\n",
       "      <td>0</td>\n",
       "      <td>[Cao, Hongqian]</td>\n",
       "      <td>Cao</td>\n",
       "      <td>Hongqian</td>\n",
       "    </tr>\n",
       "  </tbody>\n",
       "</table>\n",
       "</div>"
      ],
      "text/plain": [
       "    author_name  year  author_eid_counts  index  申请人  立项     senti  立项年份  \\\n",
       "0      Bai Chao  2014                  1    127   柏超   0  0.013462     0   \n",
       "1      Bai Chao  2017                  1    710   柏超   0  0.014653     0   \n",
       "2      Bai Chao  2019                  2   1231   柏超   0  0.042418     0   \n",
       "3      Bai Chao  2020                  1   1624   柏超   0  0.013366     0   \n",
       "4     Bai Jiwen  2019                  2   1248  白继文   1  0.965006  2019   \n",
       "5    Bai Yanwen  2020                  6   1554  白延文   0  0.153655     0   \n",
       "6  Bao Shoushan  2014                  2     26  鲍守山   1  0.948042  2014   \n",
       "7      Cao Chao  2019                  1   1282   曹超   0  0.334132     0   \n",
       "8    Cao Haiyan  2020                  1   1512  曹海岩   0  0.009701     0   \n",
       "9  Cao Hongqian  2019                  3   1053  曹洪倩   0  0.010721     0   \n",
       "\n",
       "            pinyin surname givenname  \n",
       "0      [Bai, Chao]     Bai      Chao  \n",
       "1      [Bai, Chao]     Bai      Chao  \n",
       "2      [Bai, Chao]     Bai      Chao  \n",
       "3      [Bai, Chao]     Bai      Chao  \n",
       "4     [Bai, Jiwen]     Bai     Jiwen  \n",
       "5    [Bai, Yanwen]     Bai    Yanwen  \n",
       "6  [Bao, Shoushan]     Bao  Shoushan  \n",
       "7      [Cao, Chao]     Cao      Chao  \n",
       "8    [Cao, Haiyan]     Cao    Haiyan  \n",
       "9  [Cao, Hongqian]     Cao  Hongqian  "
      ]
     },
     "execution_count": 109,
     "metadata": {},
     "output_type": "execute_result"
    }
   ],
   "source": [
    "qn_nsfc_pubs.head(10)"
   ]
  },
  {
   "cell_type": "code",
   "execution_count": 110,
   "metadata": {},
   "outputs": [
    {
     "data": {
      "text/plain": [
       "(416, 11)"
      ]
     },
     "execution_count": 110,
     "metadata": {},
     "output_type": "execute_result"
    }
   ],
   "source": [
    "qn_nsfc_pubs.shape"
   ]
  },
  {
   "cell_type": "code",
   "execution_count": null,
   "metadata": {},
   "outputs": [],
   "source": []
  }
 ],
 "metadata": {
  "kernelspec": {
   "display_name": "Python 3",
   "language": "python",
   "name": "python3"
  },
  "language_info": {
   "codemirror_mode": {
    "name": "ipython",
    "version": 3
   },
   "file_extension": ".py",
   "mimetype": "text/x-python",
   "name": "python",
   "nbconvert_exporter": "python",
   "pygments_lexer": "ipython3",
   "version": "3.7.4"
  }
 },
 "nbformat": 4,
 "nbformat_minor": 2
}
