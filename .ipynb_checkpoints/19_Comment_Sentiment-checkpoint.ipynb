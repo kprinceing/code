{
 "cells": [
  {
   "cell_type": "code",
   "execution_count": 9,
   "metadata": {},
   "outputs": [],
   "source": [
    "import numpy as np\n",
    "import pandas as pd\n",
    "import json\n",
    "import re\n",
    "import jieba\n",
    "from gensim.models import Word2Vec\n",
    "import gensim\n",
    "import multiprocessing\n",
    "from gensim.corpora.dictionary import Dictionary\n",
    "from sklearn.model_selection import train_test_split\n",
    "from tensorflow.keras.preprocessing.text import one_hot,Tokenizer\n",
    "from tensorflow.keras.preprocessing.sequence import pad_sequences\n",
    "from tensorflow.keras.layers import Bidirectional,LSTM,Dense,Embedding,Dropout,Activation,Softmax,Flatten,Conv1D, SimpleRNN\n",
    "from tensorflow.keras.utils import to_categorical\n",
    "from tensorflow.keras import Sequential\n",
    "\n",
    "import matplotlib.pyplot as plt\n",
    "from wordcloud import WordCloud\n"
   ]
  },
  {
   "cell_type": "markdown",
   "metadata": {},
   "source": [
    "## 处理申请数据"
   ]
  },
  {
   "cell_type": "code",
   "execution_count": 10,
   "metadata": {},
   "outputs": [],
   "source": [
    "# 申请数据\n",
    "apps = pd.read_excel(\"/Users/yansong/Nutstore Files/基金研究/data/2013--2022面青/2019.xlsx\",sheet_name = \"申请\")\n",
    "apps.drop(columns=['Unnamed: 0','Unnamed: 2','Unnamed: 5', 'Unnamed: 6','Unnamed: 7', 'Unnamed: 8','项目名称2','姓名','申请单位'],inplace=True)\n",
    "apps_comments = apps[\"反馈评议意见\"].str.split(\"<\", expand = True)\n",
    "df_app = pd.merge(apps, apps_comments, left_index=True, right_index=True)\n",
    "df_app.drop(columns=0,inplace=True)\n",
    "df_app.rename(columns={1: \"意见1\",2: \"意见2\",3: \"意见3\",4: \"意见4\",5: \"意见5\",6: \"意见6\"},inplace=True)\n",
    "df_app.drop(columns=\"反馈评议意见\",inplace=True)\n",
    "\n",
    "# 立项数据\n",
    "grants = pd.read_excel(\"/Users/yansong/Nutstore Files/基金研究/data/2013--2022面青/2019.xlsx\",sheet_name = \"立项\")\n",
    "grants_comments = grants[\"反馈评议意见\"].str.split(\"<\", expand = True)\n",
    "grants_comments.drop(columns=0,inplace=True)\n",
    "grants_comments.rename(columns={1: \"意见1\",2: \"意见2\",3: \"意见3\",4: \"意见4\",5: \"意见5\"},inplace=True)\n",
    "df_grants = pd.merge(grants, grants_comments, left_index=True, right_index=True)\n",
    "df_grants.drop(columns=\"反馈评议意见\",inplace=True)\n",
    "\n",
    "# 计算是否立项\n",
    "def check_grant(a):\n",
    "    return df_grants[\"项目名称\"].isin([a]).sum()\n",
    "df_app[\"立项\"] = df_app[\"项目名称\"].apply(check_grant)\n",
    "\n",
    "df_app.head()\n",
    "df_app = df_app[df_app['资助类别']=='面上项目']"
   ]
  },
  {
   "cell_type": "code",
   "execution_count": 11,
   "metadata": {},
   "outputs": [
    {
     "data": {
      "text/plain": [
       "资助类别\n",
       "面上项目    0.272727\n",
       "Name: 立项, dtype: float64"
      ]
     },
     "execution_count": 11,
     "metadata": {},
     "output_type": "execute_result"
    }
   ],
   "source": [
    "df_app.groupby(['资助类别'])[\"立项\"].mean()"
   ]
  },
  {
   "cell_type": "markdown",
   "metadata": {},
   "source": [
    "## 意见处理\n",
    "{\n",
    "\t\"1\": {\n",
    "\t\t\"id\": \"1\",\n",
    "\t\t\"records\": {\n",
    "\t\t\t\"情感\": [\n",
    "\t\t\t\t\"正\"\n",
    "\t\t\t]\n",
    "\t\t},\n",
    "\t\t\"content\": \"这本书不错啊\"\n",
    "\t},\n",
    "\t\"2\": {\n",
    "\t\t\"id\": \"2\",\n",
    "\t\t\"records\": {\n",
    "\t\t\t\"情感\": [\n",
    "\t\t\t\t\"负\"\n",
    "\t\t\t]\n",
    "\t\t},\n",
    "\t\t\"content\": \"这个东西评价不行\"\n",
    "\t}\n",
    "}"
   ]
  },
  {
   "cell_type": "code",
   "execution_count": 12,
   "metadata": {},
   "outputs": [
    {
     "data": {
      "text/html": [
       "<div>\n",
       "<style scoped>\n",
       "    .dataframe tbody tr th:only-of-type {\n",
       "        vertical-align: middle;\n",
       "    }\n",
       "\n",
       "    .dataframe tbody tr th {\n",
       "        vertical-align: top;\n",
       "    }\n",
       "\n",
       "    .dataframe thead th {\n",
       "        text-align: right;\n",
       "    }\n",
       "</style>\n",
       "<table border=\"1\" class=\"dataframe\">\n",
       "  <thead>\n",
       "    <tr style=\"text-align: right;\">\n",
       "      <th></th>\n",
       "      <th>项目名称</th>\n",
       "      <th>申请人</th>\n",
       "      <th>申请部门</th>\n",
       "      <th>资助类别</th>\n",
       "      <th>意见1</th>\n",
       "      <th>意见2</th>\n",
       "      <th>意见3</th>\n",
       "      <th>意见4</th>\n",
       "      <th>意见5</th>\n",
       "      <th>意见6</th>\n",
       "      <th>7</th>\n",
       "      <th>8</th>\n",
       "      <th>立项</th>\n",
       "    </tr>\n",
       "  </thead>\n",
       "  <tbody>\n",
       "    <tr>\n",
       "      <td>34</td>\n",
       "      <td>渔业种群模型的不确定性量化</td>\n",
       "      <td>廖宝超</td>\n",
       "      <td>数学与统计学院</td>\n",
       "      <td>面上项目</td>\n",
       "      <td>1&gt;具体评价意见：\\n一、请针对创新点详细评述申请项目的创新性、科学价值以及对相关领域的潜在...</td>\n",
       "      <td>2&gt;具体评价意见：\\n一、请针对创新点详细评述申请项目的创新性、科学价值以及对相关领域的潜在...</td>\n",
       "      <td>3&gt;具体评价意见：\\n一、请针对创新点详细评述申请项目的创新性、科学价值以及对相关领域的潜在...</td>\n",
       "      <td>4&gt;具体评价意见：\\n一、请针对创新点详细评述申请项目的创新性、科学价值以及对相关领域的潜在...</td>\n",
       "      <td>5&gt;具体评价意见：\\n一、请针对创新点详细评述申请项目的创新性、科学价值以及对相关领域的潜在...</td>\n",
       "      <td>None</td>\n",
       "      <td>None</td>\n",
       "      <td>None</td>\n",
       "      <td>0</td>\n",
       "    </tr>\n",
       "    <tr>\n",
       "      <td>35</td>\n",
       "      <td>随机斯塔克伯格微分博弈及相关问题</td>\n",
       "      <td>史敬涛</td>\n",
       "      <td>数学学院</td>\n",
       "      <td>面上项目</td>\n",
       "      <td>1&gt;具体评价意见：\\n一、请针对创新点详细评述申请项目的创新性、科学价值以及对相关领域的潜在...</td>\n",
       "      <td>2&gt;具体评价意见：\\n一、请针对创新点详细评述申请项目的创新性、科学价值以及对相关领域的潜在...</td>\n",
       "      <td>3&gt;具体评价意见：\\n一、请针对创新点详细评述申请项目的创新性、科学价值以及对相关领域的潜在...</td>\n",
       "      <td>4&gt;具体评价意见：\\n一、请针对创新点详细评述申请项目的创新性、科学价值以及对相关领域的潜在...</td>\n",
       "      <td>5&gt;具体评价意见：\\n一、请针对创新点详细评述申请项目的创新性、科学价值以及对相关领域的潜在...</td>\n",
       "      <td>None</td>\n",
       "      <td>None</td>\n",
       "      <td>None</td>\n",
       "      <td>1</td>\n",
       "    </tr>\n",
       "    <tr>\n",
       "      <td>36</td>\n",
       "      <td>张量范畴中的Brauer范畴和Temperley-Lieb范畴</td>\n",
       "      <td>刘守民</td>\n",
       "      <td>数学学院</td>\n",
       "      <td>面上项目</td>\n",
       "      <td>1&gt;具体评价意见：\\n一、请针对创新点详细评述申请项目的创新性、科学价值以及对相关领域的潜在...</td>\n",
       "      <td>2&gt;具体评价意见：\\n一、请针对创新点详细评述申请项目的创新性、科学价值以及对相关领域的潜在...</td>\n",
       "      <td>3&gt;具体评价意见：\\n一、请针对创新点详细评述申请项目的创新性、科学价值以及对相关领域的潜在...</td>\n",
       "      <td>4&gt;具体评价意见：\\n一、请针对创新点详细评述申请项目的创新性、科学价值以及对相关领域的潜在...</td>\n",
       "      <td>5&gt;具体评价意见：\\n一、请针对创新点详细评述申请项目的创新性、科学价值以及对相关领域的潜在...</td>\n",
       "      <td>None</td>\n",
       "      <td>None</td>\n",
       "      <td>None</td>\n",
       "      <td>0</td>\n",
       "    </tr>\n",
       "    <tr>\n",
       "      <td>37</td>\n",
       "      <td>关于拟周期驱动Hamilton偏微分方程Liouville不变环的存在性研究</td>\n",
       "      <td>司建国</td>\n",
       "      <td>数学学院</td>\n",
       "      <td>面上项目</td>\n",
       "      <td>1&gt;具体评价意见：\\n一、请针对创新点详细评述申请项目的创新性、科学价值以及对相关领域的潜在...</td>\n",
       "      <td>2&gt;具体评价意见：\\n一、请针对创新点详细评述申请项目的创新性、科学价值以及对相关领域的潜在...</td>\n",
       "      <td>3&gt;具体评价意见：\\n一、请针对创新点详细评述申请项目的创新性、科学价值以及对相关领域的潜在...</td>\n",
       "      <td>4&gt;具体评价意见：\\n一、请针对创新点详细评述申请项目的创新性、科学价值以及对相关领域的潜在...</td>\n",
       "      <td>5&gt;具体评价意见：\\n一、请针对创新点详细评述申请项目的创新性、科学价值以及对相关领域的潜在...</td>\n",
       "      <td>None</td>\n",
       "      <td>None</td>\n",
       "      <td>None</td>\n",
       "      <td>1</td>\n",
       "    </tr>\n",
       "    <tr>\n",
       "      <td>38</td>\n",
       "      <td>复分析及其交叉学科中问题</td>\n",
       "      <td>扈培础</td>\n",
       "      <td>数学学院</td>\n",
       "      <td>面上项目</td>\n",
       "      <td>1&gt;具体评价意见：\\n一、请针对创新点详细评述申请项目的创新性、科学价值以及对相关领域的潜在...</td>\n",
       "      <td>2&gt;具体评价意见：\\n一、请针对创新点详细评述申请项目的创新性、科学价值以及对相关领域的潜在...</td>\n",
       "      <td>3&gt;具体评价意见：\\n一、请针对创新点详细评述申请项目的创新性、科学价值以及对相关领域的潜在...</td>\n",
       "      <td>4&gt;具体评价意见：\\n一、请针对创新点详细评述申请项目的创新性、科学价值以及对相关领域的潜在...</td>\n",
       "      <td>5&gt;具体评价意见：\\n一、请针对创新点详细评述申请项目的创新性、科学价值以及对相关领域的潜在...</td>\n",
       "      <td>None</td>\n",
       "      <td>None</td>\n",
       "      <td>None</td>\n",
       "      <td>0</td>\n",
       "    </tr>\n",
       "  </tbody>\n",
       "</table>\n",
       "</div>"
      ],
      "text/plain": [
       "                                      项目名称  申请人     申请部门  资助类别  \\\n",
       "34                           渔业种群模型的不确定性量化  廖宝超  数学与统计学院  面上项目   \n",
       "35                        随机斯塔克伯格微分博弈及相关问题  史敬涛     数学学院  面上项目   \n",
       "36         张量范畴中的Brauer范畴和Temperley-Lieb范畴  刘守民     数学学院  面上项目   \n",
       "37  关于拟周期驱动Hamilton偏微分方程Liouville不变环的存在性研究  司建国     数学学院  面上项目   \n",
       "38                            复分析及其交叉学科中问题  扈培础     数学学院  面上项目   \n",
       "\n",
       "                                                  意见1  \\\n",
       "34  1>具体评价意见：\\n一、请针对创新点详细评述申请项目的创新性、科学价值以及对相关领域的潜在...   \n",
       "35  1>具体评价意见：\\n一、请针对创新点详细评述申请项目的创新性、科学价值以及对相关领域的潜在...   \n",
       "36  1>具体评价意见：\\n一、请针对创新点详细评述申请项目的创新性、科学价值以及对相关领域的潜在...   \n",
       "37  1>具体评价意见：\\n一、请针对创新点详细评述申请项目的创新性、科学价值以及对相关领域的潜在...   \n",
       "38  1>具体评价意见：\\n一、请针对创新点详细评述申请项目的创新性、科学价值以及对相关领域的潜在...   \n",
       "\n",
       "                                                  意见2  \\\n",
       "34  2>具体评价意见：\\n一、请针对创新点详细评述申请项目的创新性、科学价值以及对相关领域的潜在...   \n",
       "35  2>具体评价意见：\\n一、请针对创新点详细评述申请项目的创新性、科学价值以及对相关领域的潜在...   \n",
       "36  2>具体评价意见：\\n一、请针对创新点详细评述申请项目的创新性、科学价值以及对相关领域的潜在...   \n",
       "37  2>具体评价意见：\\n一、请针对创新点详细评述申请项目的创新性、科学价值以及对相关领域的潜在...   \n",
       "38  2>具体评价意见：\\n一、请针对创新点详细评述申请项目的创新性、科学价值以及对相关领域的潜在...   \n",
       "\n",
       "                                                  意见3  \\\n",
       "34  3>具体评价意见：\\n一、请针对创新点详细评述申请项目的创新性、科学价值以及对相关领域的潜在...   \n",
       "35  3>具体评价意见：\\n一、请针对创新点详细评述申请项目的创新性、科学价值以及对相关领域的潜在...   \n",
       "36  3>具体评价意见：\\n一、请针对创新点详细评述申请项目的创新性、科学价值以及对相关领域的潜在...   \n",
       "37  3>具体评价意见：\\n一、请针对创新点详细评述申请项目的创新性、科学价值以及对相关领域的潜在...   \n",
       "38  3>具体评价意见：\\n一、请针对创新点详细评述申请项目的创新性、科学价值以及对相关领域的潜在...   \n",
       "\n",
       "                                                  意见4  \\\n",
       "34  4>具体评价意见：\\n一、请针对创新点详细评述申请项目的创新性、科学价值以及对相关领域的潜在...   \n",
       "35  4>具体评价意见：\\n一、请针对创新点详细评述申请项目的创新性、科学价值以及对相关领域的潜在...   \n",
       "36  4>具体评价意见：\\n一、请针对创新点详细评述申请项目的创新性、科学价值以及对相关领域的潜在...   \n",
       "37  4>具体评价意见：\\n一、请针对创新点详细评述申请项目的创新性、科学价值以及对相关领域的潜在...   \n",
       "38  4>具体评价意见：\\n一、请针对创新点详细评述申请项目的创新性、科学价值以及对相关领域的潜在...   \n",
       "\n",
       "                                                  意见5   意见6     7     8  立项  \n",
       "34  5>具体评价意见：\\n一、请针对创新点详细评述申请项目的创新性、科学价值以及对相关领域的潜在...  None  None  None   0  \n",
       "35  5>具体评价意见：\\n一、请针对创新点详细评述申请项目的创新性、科学价值以及对相关领域的潜在...  None  None  None   1  \n",
       "36  5>具体评价意见：\\n一、请针对创新点详细评述申请项目的创新性、科学价值以及对相关领域的潜在...  None  None  None   0  \n",
       "37  5>具体评价意见：\\n一、请针对创新点详细评述申请项目的创新性、科学价值以及对相关领域的潜在...  None  None  None   1  \n",
       "38  5>具体评价意见：\\n一、请针对创新点详细评述申请项目的创新性、科学价值以及对相关领域的潜在...  None  None  None   0  "
      ]
     },
     "execution_count": 12,
     "metadata": {},
     "output_type": "execute_result"
    }
   ],
   "source": [
    "df_app.head()"
   ]
  },
  {
   "cell_type": "code",
   "execution_count": 13,
   "metadata": {},
   "outputs": [
    {
     "name": "stderr",
     "output_type": "stream",
     "text": [
      "/opt/anaconda3/lib/python3.7/site-packages/ipykernel_launcher.py:2: SettingWithCopyWarning: \n",
      "A value is trying to be set on a copy of a slice from a DataFrame.\n",
      "Try using .loc[row_indexer,col_indexer] = value instead\n",
      "\n",
      "See the caveats in the documentation: http://pandas.pydata.org/pandas-docs/stable/user_guide/indexing.html#returning-a-view-versus-a-copy\n",
      "  \n"
     ]
    },
    {
     "data": {
      "text/html": [
       "<div>\n",
       "<style scoped>\n",
       "    .dataframe tbody tr th:only-of-type {\n",
       "        vertical-align: middle;\n",
       "    }\n",
       "\n",
       "    .dataframe tbody tr th {\n",
       "        vertical-align: top;\n",
       "    }\n",
       "\n",
       "    .dataframe thead th {\n",
       "        text-align: right;\n",
       "    }\n",
       "</style>\n",
       "<table border=\"1\" class=\"dataframe\">\n",
       "  <thead>\n",
       "    <tr style=\"text-align: right;\">\n",
       "      <th></th>\n",
       "      <th>id</th>\n",
       "      <th>records</th>\n",
       "      <th>content</th>\n",
       "    </tr>\n",
       "  </thead>\n",
       "  <tbody>\n",
       "    <tr>\n",
       "      <td>0</td>\n",
       "      <td>34</td>\n",
       "      <td>负</td>\n",
       "      <td>1&gt;具体评价意见：\\n一、请针对创新点详细评述申请项目的创新性、科学价值以及对相关领域的潜在...</td>\n",
       "    </tr>\n",
       "    <tr>\n",
       "      <td>1</td>\n",
       "      <td>35</td>\n",
       "      <td>正</td>\n",
       "      <td>1&gt;具体评价意见：\\n一、请针对创新点详细评述申请项目的创新性、科学价值以及对相关领域的潜在...</td>\n",
       "    </tr>\n",
       "    <tr>\n",
       "      <td>2</td>\n",
       "      <td>36</td>\n",
       "      <td>负</td>\n",
       "      <td>1&gt;具体评价意见：\\n一、请针对创新点详细评述申请项目的创新性、科学价值以及对相关领域的潜在...</td>\n",
       "    </tr>\n",
       "    <tr>\n",
       "      <td>3</td>\n",
       "      <td>37</td>\n",
       "      <td>正</td>\n",
       "      <td>1&gt;具体评价意见：\\n一、请针对创新点详细评述申请项目的创新性、科学价值以及对相关领域的潜在...</td>\n",
       "    </tr>\n",
       "    <tr>\n",
       "      <td>4</td>\n",
       "      <td>38</td>\n",
       "      <td>负</td>\n",
       "      <td>1&gt;具体评价意见：\\n一、请针对创新点详细评述申请项目的创新性、科学价值以及对相关领域的潜在...</td>\n",
       "    </tr>\n",
       "  </tbody>\n",
       "</table>\n",
       "</div>"
      ],
      "text/plain": [
       "   id records                                            content\n",
       "0  34       负  1>具体评价意见：\\n一、请针对创新点详细评述申请项目的创新性、科学价值以及对相关领域的潜在...\n",
       "1  35       正  1>具体评价意见：\\n一、请针对创新点详细评述申请项目的创新性、科学价值以及对相关领域的潜在...\n",
       "2  36       负  1>具体评价意见：\\n一、请针对创新点详细评述申请项目的创新性、科学价值以及对相关领域的潜在...\n",
       "3  37       正  1>具体评价意见：\\n一、请针对创新点详细评述申请项目的创新性、科学价值以及对相关领域的潜在...\n",
       "4  38       负  1>具体评价意见：\\n一、请针对创新点详细评述申请项目的创新性、科学价值以及对相关领域的潜在..."
      ]
     },
     "execution_count": 13,
     "metadata": {},
     "output_type": "execute_result"
    }
   ],
   "source": [
    "df_json_full = df_app[[\"申请人\",\"意见1\",\"意见2\",\"意见3\",\"意见4\",\"意见5\",\"立项\"]]\n",
    "df_json_full['id'] = df_json_full.index\n",
    "df_json = df_json_full[['id',\"意见1\",\"意见2\",\"意见3\",\"意见4\",\"意见5\",\"立项\"]]\n",
    "\n",
    "df_json_long = pd.wide_to_long(df_json, stubnames='意见', i=['id'], j='评审')\n",
    "df_json_long.reset_index(inplace=True)\n",
    "df_json_long.rename(columns={\"立项\":\"records\",\"意见\":\"content\"},inplace=True)\n",
    "df_json_long.dropna(inplace=True)\n",
    "df_json_long.sort_values(['id'])\n",
    "df_json_long[\"records\"].replace(to_replace=0, value=\"负\",inplace=True)\n",
    "df_json_long[\"records\"].replace(to_replace=1, value=\"正\",inplace=True)\n",
    "df_json_long = df_json_long[[\"id\",\"records\",\"content\"]]\n",
    "\n",
    "\n",
    "#sample_size = 5000\n",
    "sample_size = df_json_long.shape[0]\n",
    "\n",
    "df_json_sample = df_json_long.iloc[0:sample_size,:]\n",
    "result = df_json_sample.to_json(orient=\"index\",force_ascii=False)\n",
    "\n",
    "with open('data.json', 'w') as f:\n",
    "    json.dump(result,f,ensure_ascii=False)\n",
    "    \n",
    "df_json_sample.head()\n"
   ]
  },
  {
   "cell_type": "markdown",
   "metadata": {},
   "source": [
    "## 处理步骤\n",
    "1. 去除重复词语\n",
    "2. 去除stop words\n",
    "3. 分词\n",
    "4. 生成embedding"
   ]
  },
  {
   "cell_type": "markdown",
   "metadata": {},
   "source": [
    "## 重复词语"
   ]
  },
  {
   "cell_type": "code",
   "execution_count": 14,
   "metadata": {},
   "outputs": [],
   "source": [
    "def clean_pat(line):\n",
    "    pat = ['一、该申请项目所关注的科学问题是否源于多学科领域交叉的共性问题，具有明确的学科交叉特征？请详细阐述判断理由并评价预期成果的科学价值。',\n",
    "          '二、请针对学科交叉特点评述申请项目研究方案或技术路线的创新性和可行性。',\n",
    "          '三、请评述申请人的多学科背景、研究专长和创新潜力。',\n",
    "          '四、其他建议',\n",
    "          '1>',\n",
    "          '（1）',\n",
    "          '（2）',\n",
    "          '（3）',\n",
    "          '（4）',\n",
    "          '（5）',\n",
    "           '具体评价意见：',\n",
    "          '一、该申请项目的研究思想或方案是否具有新颖性和独特性？请详细阐述判断理由。',\n",
    "          '二、请评述申请项目所关注问题的科学价值以及对相关前沿领域的潜在贡献。',\n",
    "          '三、请评述申请人的创新潜力与研究方案的可行性',\n",
    "          '一、该申请项目是否面向国家需求并试图解决技术瓶颈背后的基础问题？请结合应用需求详细阐述判断理由。',\n",
    "          '二、请评述申请项目所提出的科学问题与预期成果的科学价值。',\n",
    "          '三、请评述申请人的创新潜力及研究方案的创新性和可行性。',\n",
    "          '。',\n",
    "          '，',\n",
    "          '、',\n",
    "          '的',\n",
    "          '研究',\n",
    "          '三请',\n",
    "          '申请人',\n",
    "          '拟']\n",
    "\n",
    "    line = re.sub(\"\\n\", \"\", line)\n",
    "    for x in pat:\n",
    "        line = re.sub(x, \"\", line)\n",
    "    \n",
    "    # stopwords\n",
    "    stopwords=pd.read_csv('stopwords.txt', header=None)[0].tolist() \n",
    "    for x in stopwords:\n",
    "        line = re.sub(x, \"\", line)\n",
    "    return line"
   ]
  },
  {
   "cell_type": "code",
   "execution_count": 15,
   "metadata": {},
   "outputs": [
    {
     "name": "stderr",
     "output_type": "stream",
     "text": [
      "/opt/anaconda3/lib/python3.7/site-packages/ipykernel_launcher.py:1: SettingWithCopyWarning: \n",
      "A value is trying to be set on a copy of a slice from a DataFrame.\n",
      "Try using .loc[row_indexer,col_indexer] = value instead\n",
      "\n",
      "See the caveats in the documentation: http://pandas.pydata.org/pandas-docs/stable/user_guide/indexing.html#returning-a-view-versus-a-copy\n",
      "  \"\"\"Entry point for launching an IPython kernel.\n"
     ]
    }
   ],
   "source": [
    "df_json_sample[\"content_clean\"] = df_json_sample[\"content\"].apply(clean_pat)"
   ]
  },
  {
   "cell_type": "code",
   "execution_count": 16,
   "metadata": {},
   "outputs": [
    {
     "data": {
      "text/plain": [
       "'请针创新点详细评述申请项目创新性科学价值相关领域潜影响项目黄渤海小黄鱼“关键种”鱼类象运数贫乏模型方法渔业模型不性量化评估工作项目渔业情况选题定新颖性潜价值项期成果偏薄面上项目求尚差距二请申请项目方案基础评述项目行性项目方案基础偏薄难达面上项目质量求三建议无'"
      ]
     },
     "execution_count": 16,
     "metadata": {},
     "output_type": "execute_result"
    }
   ],
   "source": [
    "df_json_sample[\"content_clean\"][0]"
   ]
  },
  {
   "cell_type": "markdown",
   "metadata": {},
   "source": [
    "## 使用机器学习模型预测评审意见的正负"
   ]
  },
  {
   "cell_type": "code",
   "execution_count": 17,
   "metadata": {},
   "outputs": [
    {
     "name": "stderr",
     "output_type": "stream",
     "text": [
      "Building prefix dict from the default dictionary ...\n",
      "Loading model from cache /var/folders/cr/36rsw_vj0vsd47x1006y27fh0000gn/T/jieba.cache\n",
      "Loading model cost 0.682 seconds.\n",
      "Prefix dict has been built successfully.\n"
     ]
    },
    {
     "name": "stdout",
     "output_type": "stream",
     "text": [
      "请针 创新 点 详细 评述 申请 项目 创新性 科学 价值 相关 领域 潜 影响 项目 黄渤海 小黄鱼 “ 关键 种 ” 鱼类 象 运数 贫乏 模型 方法 渔业 模型 不性 量化 评估 工作 项目 渔业 情况 选题 定 新颖性 潜 价值 项期 成果 偏薄 面上 项目 求尚 差距 二请 申请 项目 方案 基础 评述 项目 行性 项目 方案 基础 偏薄 难达 面上 项目 质量 求三 建议 无\n"
     ]
    }
   ],
   "source": [
    "#我们定义一个文档集合存储于List，每个文档为list的一个元素，每个文档都对应一个标签,存储于labels\n",
    "seg_lists = list()\n",
    "lines = list(df_json_sample['content_clean'])\n",
    "for line in lines:\n",
    "    #print(line)\n",
    "    #seg_list = list(seg_list)\n",
    "    seg_lists.append(jieba.cut(line))\n",
    "    #print(len(seg_list))\n",
    "sentences = []\n",
    "for i in seg_lists:      \n",
    "    sentences.append(' '.join(i))    \n",
    "print(sentences[0])"
   ]
  },
  {
   "cell_type": "code",
   "execution_count": 18,
   "metadata": {},
   "outputs": [
    {
     "name": "stderr",
     "output_type": "stream",
     "text": [
      "/opt/anaconda3/lib/python3.7/site-packages/pandas/core/generic.py:6786: SettingWithCopyWarning: \n",
      "A value is trying to be set on a copy of a slice from a DataFrame\n",
      "\n",
      "See the caveats in the documentation: http://pandas.pydata.org/pandas-docs/stable/user_guide/indexing.html#returning-a-view-versus-a-copy\n",
      "  self._update_inplace(new_data)\n"
     ]
    }
   ],
   "source": [
    "labels = df_json_sample[\"records\"]\n",
    "labels.replace(\"负\",0,inplace=True)\n",
    "labels.replace(\"正\",1,inplace=True)\n",
    "labels = list(labels)"
   ]
  },
  {
   "cell_type": "code",
   "execution_count": 19,
   "metadata": {},
   "outputs": [],
   "source": [
    "texts = ''.join(map(str, sentences))\n",
    "# = re.sub(\"\\n\", \"\", line)\n"
   ]
  },
  {
   "cell_type": "code",
   "execution_count": 20,
   "metadata": {},
   "outputs": [
    {
     "data": {
      "text/plain": [
       "(-0.5, 799.5, 399.5, -0.5)"
      ]
     },
     "execution_count": 20,
     "metadata": {},
     "output_type": "execute_result"
    },
    {
     "data": {
      "image/png": "[encoded data removed]",
      "text/plain": [
       "<Figure size 432x288 with 1 Axes>"
      ]
     },
     "metadata": {
      "needs_background": "light"
     },
     "output_type": "display_data"
    }
   ],
   "source": [
    "wordcloud = WordCloud(font_path = '/System/Library/Fonts/STHeiti Light.ttc',\n",
    "            background_color=\"white\",# 设置背景颜色\n",
    "           max_words=80, # 词云显示的最大词数\n",
    "           height=400, # 图片高度\n",
    "           width=800, # 图片宽度\n",
    "           max_font_size=50).generate(texts)\n",
    "plt.imshow(wordcloud, interpolation='bilinear')\n",
    "plt.axis(\"off\")\n",
    "# The pil way (if you don't have matplotlib)\n",
    "# image = wordcloud.to_image()\n",
    "# image.show()"
   ]
  },
  {
   "cell_type": "code",
   "execution_count": 21,
   "metadata": {},
   "outputs": [],
   "source": [
    "vocab_size = 14000 #估计的词汇表大小，设置时要比真实的词汇量大，不然会产生不同单词分配了相同的索引。\n",
    "\n",
    "# #通过索引对上面句子进行编码，one_hot编码映射到[1,vocab_size]，不包括0\n",
    "# encoded_docs = [one_hot(s, vocab_size) for s in sentences]\n",
    "# # 文本编码成数字格式并padding到相同长度，这里长度设置为4，在后面补0，这也是为什么前面one-hot不会映射到0的原因。\n",
    "\n",
    "tokenizer = Tokenizer(num_words=vocab_size)\n",
    "tokenizer.fit_on_texts(sentences)\n",
    "encoded_docs = tokenizer.texts_to_sequences(sentences)\n",
    "max_length = 200\n",
    "padded_docs = pad_sequences(encoded_docs, maxlen=max_length, padding='post')"
   ]
  },
  {
   "cell_type": "code",
   "execution_count": 22,
   "metadata": {},
   "outputs": [],
   "source": [
    "#X_train, X_val, y_train, y_val = train_test_split(padded_docs,labels, test_size=0.2)\n",
    "train_size = 2000\n",
    "X_train  = padded_docs[0:train_size,:]\n",
    "X_val  = padded_docs[train_size:,:]\n",
    "y_train  = labels[0:train_size]\n",
    "y_val    = labels[train_size:]\n",
    "\n",
    "y_train = np.array(y_train)\n",
    "y_val = np.array(y_val)"
   ]
  },
  {
   "cell_type": "code",
   "execution_count": 23,
   "metadata": {},
   "outputs": [
    {
     "name": "stdout",
     "output_type": "stream",
     "text": [
      "Model: \"sequential\"\n",
      "_________________________________________________________________\n",
      "Layer (type)                 Output Shape              Param #   \n",
      "=================================================================\n",
      "embedding (Embedding)        (None, 200, 20)           280000    \n",
      "_________________________________________________________________\n",
      "bidirectional (Bidirectional (None, 30)                4320      \n",
      "_________________________________________________________________\n",
      "flatten (Flatten)            (None, 30)                0         \n",
      "_________________________________________________________________\n",
      "dense (Dense)                (None, 1)                 31        \n",
      "=================================================================\n",
      "Total params: 284,351\n",
      "Trainable params: 284,351\n",
      "Non-trainable params: 0\n",
      "_________________________________________________________________\n",
      "None\n"
     ]
    }
   ],
   "source": [
    "# define the model\n",
    "model = Sequential()\n",
    "model.add(Embedding(vocab_size, 20, input_length=max_length))  # Embedding layer\n",
    "model.add(Bidirectional(LSTM(15)))\n",
    "model.add(Flatten())\n",
    "model.add(Dense(1, activation='sigmoid',kernel_regularizer='l2'))\n",
    "model.compile(loss='binary_crossentropy',\n",
    "                     optimizer='adam', \n",
    "                     metrics=['accuracy'])\n",
    "print(model.summary())"
   ]
  },
  {
   "cell_type": "code",
   "execution_count": 24,
   "metadata": {},
   "outputs": [
    {
     "name": "stdout",
     "output_type": "stream",
     "text": [
      "Epoch 1/10\n",
      "63/63 [==============================] - 6s 57ms/step - loss: 0.6668 - accuracy: 0.7115\n",
      "Epoch 2/10\n",
      "63/63 [==============================] - 4s 56ms/step - loss: 0.5734 - accuracy: 0.7351\n",
      "Epoch 3/10\n",
      "63/63 [==============================] - 4s 59ms/step - loss: 0.3984 - accuracy: 0.8027\n",
      "Epoch 4/10\n",
      "63/63 [==============================] - 4s 62ms/step - loss: 0.3130 - accuracy: 0.9368\n",
      "Epoch 5/10\n",
      "63/63 [==============================] - 4s 61ms/step - loss: 0.2848 - accuracy: 0.9301\n",
      "Epoch 6/10\n",
      "63/63 [==============================] - 4s 62ms/step - loss: 0.2793 - accuracy: 0.9295\n",
      "Epoch 7/10\n",
      "63/63 [==============================] - 4s 60ms/step - loss: 0.2083 - accuracy: 0.9617\n",
      "Epoch 8/10\n",
      "63/63 [==============================] - 4s 59ms/step - loss: 0.1837 - accuracy: 0.9677\n",
      "Epoch 9/10\n",
      "63/63 [==============================] - 4s 58ms/step - loss: 0.1369 - accuracy: 0.9811\n",
      "Epoch 10/10\n",
      "63/63 [==============================] - 4s 60ms/step - loss: 0.1761 - accuracy: 0.9669\n"
     ]
    }
   ],
   "source": [
    "history = model.fit(X_train, y_train, epochs=10)"
   ]
  },
  {
   "cell_type": "code",
   "execution_count": 25,
   "metadata": {},
   "outputs": [
    {
     "name": "stdout",
     "output_type": "stream",
     "text": [
      "10/10 [==============================] - 1s 9ms/step - loss: 0.3738 - accuracy: 0.8793\n"
     ]
    }
   ],
   "source": [
    "score = model.evaluate(X_val, y_val, verbose=1)"
   ]
  },
  {
   "cell_type": "code",
   "execution_count": 26,
   "metadata": {},
   "outputs": [
    {
     "data": {
      "text/html": [
       "<div>\n",
       "<style scoped>\n",
       "    .dataframe tbody tr th:only-of-type {\n",
       "        vertical-align: middle;\n",
       "    }\n",
       "\n",
       "    .dataframe tbody tr th {\n",
       "        vertical-align: top;\n",
       "    }\n",
       "\n",
       "    .dataframe thead th {\n",
       "        text-align: right;\n",
       "    }\n",
       "</style>\n",
       "<table border=\"1\" class=\"dataframe\">\n",
       "  <thead>\n",
       "    <tr style=\"text-align: right;\">\n",
       "      <th></th>\n",
       "      <th>Senti</th>\n",
       "    </tr>\n",
       "    <tr>\n",
       "      <th>Y</th>\n",
       "      <th></th>\n",
       "    </tr>\n",
       "  </thead>\n",
       "  <tbody>\n",
       "    <tr>\n",
       "      <td>0</td>\n",
       "      <td>0.047582</td>\n",
       "    </tr>\n",
       "    <tr>\n",
       "      <td>1</td>\n",
       "      <td>0.854225</td>\n",
       "    </tr>\n",
       "  </tbody>\n",
       "</table>\n",
       "</div>"
      ],
      "text/plain": [
       "      Senti\n",
       "Y          \n",
       "0  0.047582\n",
       "1  0.854225"
      ]
     },
     "execution_count": 26,
     "metadata": {},
     "output_type": "execute_result"
    }
   ],
   "source": [
    "senti_train = []\n",
    "for i in X_train:\n",
    "    input = np.expand_dims(i,axis=0)\n",
    "    senti_train.append(model.predict(input))\n",
    "\n",
    "senti_train_num = []\n",
    "for i in range(len(senti_train)):\n",
    "    senti_train_num.append(senti_train[i][0][0])\n",
    "\n",
    "senti_train = pd.DataFrame(list(zip(senti_train_num, y_train)), columns =['Senti', 'Y'])\n",
    "senti_train.groupby('Y').mean()"
   ]
  },
  {
   "cell_type": "code",
   "execution_count": 27,
   "metadata": {},
   "outputs": [
    {
     "data": {
      "text/plain": [
       "<matplotlib.axes._subplots.AxesSubplot at 0x1a7e3b4d50>"
      ]
     },
     "execution_count": 27,
     "metadata": {},
     "output_type": "execute_result"
    },
    {
     "data": {
      "image/png": "[encoded data removed]",
      "text/plain": [
       "<Figure size 432x288 with 1 Axes>"
      ]
     },
     "metadata": {
      "needs_background": "light"
     },
     "output_type": "display_data"
    }
   ],
   "source": [
    "senti_train.loc[senti_train['Y']==0,'Senti'].plot.density()\n",
    "senti_train.loc[senti_train['Y']==1,'Senti'].plot.density()"
   ]
  },
  {
   "cell_type": "code",
   "execution_count": 28,
   "metadata": {},
   "outputs": [
    {
     "data": {
      "text/html": [
       "<div>\n",
       "<style scoped>\n",
       "    .dataframe tbody tr th:only-of-type {\n",
       "        vertical-align: middle;\n",
       "    }\n",
       "\n",
       "    .dataframe tbody tr th {\n",
       "        vertical-align: top;\n",
       "    }\n",
       "\n",
       "    .dataframe thead th {\n",
       "        text-align: right;\n",
       "    }\n",
       "</style>\n",
       "<table border=\"1\" class=\"dataframe\">\n",
       "  <thead>\n",
       "    <tr style=\"text-align: right;\">\n",
       "      <th></th>\n",
       "      <th>Senti</th>\n",
       "    </tr>\n",
       "    <tr>\n",
       "      <th>Y</th>\n",
       "      <th></th>\n",
       "    </tr>\n",
       "  </thead>\n",
       "  <tbody>\n",
       "    <tr>\n",
       "      <td>0</td>\n",
       "      <td>0.120193</td>\n",
       "    </tr>\n",
       "    <tr>\n",
       "      <td>1</td>\n",
       "      <td>0.725563</td>\n",
       "    </tr>\n",
       "  </tbody>\n",
       "</table>\n",
       "</div>"
      ],
      "text/plain": [
       "      Senti\n",
       "Y          \n",
       "0  0.120193\n",
       "1  0.725563"
      ]
     },
     "execution_count": 28,
     "metadata": {},
     "output_type": "execute_result"
    }
   ],
   "source": [
    "senti_val = []\n",
    "for i in X_val:\n",
    "    input = np.expand_dims(i,axis=0)\n",
    "    senti_val.append(model.predict(input))\n",
    "    \n",
    "senti_val_num = []\n",
    "for i in range(len(senti_val)):\n",
    "    senti_val_num.append(senti_val[i][0][0])\n",
    "\n",
    "senti_val = pd.DataFrame(list(zip(senti_val_num, y_val)), columns =['Senti', 'Y'])\n",
    "senti_val.groupby('Y').mean()"
   ]
  },
  {
   "cell_type": "code",
   "execution_count": 29,
   "metadata": {},
   "outputs": [
    {
     "data": {
      "text/plain": [
       "<matplotlib.axes._subplots.AxesSubplot at 0x1a771959d0>"
      ]
     },
     "execution_count": 29,
     "metadata": {},
     "output_type": "execute_result"
    },
    {
     "data": {
      "image/png": "[encoded data removed]",
      "text/plain": [
       "<Figure size 432x288 with 1 Axes>"
      ]
     },
     "metadata": {
      "needs_background": "light"
     },
     "output_type": "display_data"
    }
   ],
   "source": [
    "senti_val.loc[senti_val['Y']==0,'Senti'].plot.density()\n",
    "senti_val.loc[senti_val['Y']==1,'Senti'].plot.density()"
   ]
  },
  {
   "cell_type": "code",
   "execution_count": 30,
   "metadata": {},
   "outputs": [
    {
     "data": {
      "image/png": "[encoded data removed]",
      "text/plain": [
       "<Figure size 432x288 with 1 Axes>"
      ]
     },
     "metadata": {
      "needs_background": "light"
     },
     "output_type": "display_data"
    }
   ],
   "source": [
    "# 绘制训练 & 验证的损失值\n",
    "plt.plot(history.history['accuracy'])\n",
    "plt.title('Accuracy')\n",
    "plt.ylabel('Accuracy')\n",
    "plt.xlabel('Epoch')\n",
    "plt.legend(['Train', 'Test'], loc='upper left')\n",
    "plt.show()"
   ]
  },
  {
   "cell_type": "markdown",
   "metadata": {},
   "source": [
    "## Merging the sentiment back to original data"
   ]
  },
  {
   "cell_type": "code",
   "execution_count": 31,
   "metadata": {},
   "outputs": [],
   "source": [
    "senti = senti_train.append(senti_val)"
   ]
  },
  {
   "cell_type": "code",
   "execution_count": 32,
   "metadata": {},
   "outputs": [
    {
     "data": {
      "text/html": [
       "<div>\n",
       "<style scoped>\n",
       "    .dataframe tbody tr th:only-of-type {\n",
       "        vertical-align: middle;\n",
       "    }\n",
       "\n",
       "    .dataframe tbody tr th {\n",
       "        vertical-align: top;\n",
       "    }\n",
       "\n",
       "    .dataframe thead th {\n",
       "        text-align: right;\n",
       "    }\n",
       "</style>\n",
       "<table border=\"1\" class=\"dataframe\">\n",
       "  <thead>\n",
       "    <tr style=\"text-align: right;\">\n",
       "      <th></th>\n",
       "      <th>Senti</th>\n",
       "      <th>Y</th>\n",
       "    </tr>\n",
       "  </thead>\n",
       "  <tbody>\n",
       "    <tr>\n",
       "      <td>0</td>\n",
       "      <td>0.043686</td>\n",
       "      <td>0</td>\n",
       "    </tr>\n",
       "    <tr>\n",
       "      <td>1</td>\n",
       "      <td>0.950530</td>\n",
       "      <td>1</td>\n",
       "    </tr>\n",
       "    <tr>\n",
       "      <td>2</td>\n",
       "      <td>0.043606</td>\n",
       "      <td>0</td>\n",
       "    </tr>\n",
       "    <tr>\n",
       "      <td>3</td>\n",
       "      <td>0.947510</td>\n",
       "      <td>1</td>\n",
       "    </tr>\n",
       "    <tr>\n",
       "      <td>4</td>\n",
       "      <td>0.043621</td>\n",
       "      <td>0</td>\n",
       "    </tr>\n",
       "  </tbody>\n",
       "</table>\n",
       "</div>"
      ],
      "text/plain": [
       "      Senti  Y\n",
       "0  0.043686  0\n",
       "1  0.950530  1\n",
       "2  0.043606  0\n",
       "3  0.947510  1\n",
       "4  0.043621  0"
      ]
     },
     "execution_count": 32,
     "metadata": {},
     "output_type": "execute_result"
    }
   ],
   "source": [
    "senti.head()"
   ]
  },
  {
   "cell_type": "code",
   "execution_count": 33,
   "metadata": {},
   "outputs": [],
   "source": [
    "senti_id = df_json_sample.join(senti)[['id','Senti']]"
   ]
  },
  {
   "cell_type": "code",
   "execution_count": 34,
   "metadata": {},
   "outputs": [],
   "source": [
    "senti_id.dropna(inplace=True)"
   ]
  },
  {
   "cell_type": "code",
   "execution_count": 35,
   "metadata": {},
   "outputs": [
    {
     "data": {
      "text/html": [
       "<div>\n",
       "<style scoped>\n",
       "    .dataframe tbody tr th:only-of-type {\n",
       "        vertical-align: middle;\n",
       "    }\n",
       "\n",
       "    .dataframe tbody tr th {\n",
       "        vertical-align: top;\n",
       "    }\n",
       "\n",
       "    .dataframe thead th {\n",
       "        text-align: right;\n",
       "    }\n",
       "</style>\n",
       "<table border=\"1\" class=\"dataframe\">\n",
       "  <thead>\n",
       "    <tr style=\"text-align: right;\">\n",
       "      <th></th>\n",
       "      <th>id</th>\n",
       "      <th>Senti</th>\n",
       "    </tr>\n",
       "  </thead>\n",
       "  <tbody>\n",
       "    <tr>\n",
       "      <td>0</td>\n",
       "      <td>34</td>\n",
       "      <td>0.043686</td>\n",
       "    </tr>\n",
       "  </tbody>\n",
       "</table>\n",
       "</div>"
      ],
      "text/plain": [
       "   id     Senti\n",
       "0  34  0.043686"
      ]
     },
     "execution_count": 35,
     "metadata": {},
     "output_type": "execute_result"
    }
   ],
   "source": [
    "senti_id.head(1)"
   ]
  },
  {
   "cell_type": "code",
   "execution_count": 36,
   "metadata": {},
   "outputs": [],
   "source": [
    "senti_id_avg = senti_id.groupby('id')['Senti'].agg('mean')"
   ]
  },
  {
   "cell_type": "code",
   "execution_count": 37,
   "metadata": {},
   "outputs": [
    {
     "data": {
      "text/plain": [
       "(550, 8)"
      ]
     },
     "execution_count": 37,
     "metadata": {},
     "output_type": "execute_result"
    }
   ],
   "source": [
    "df_json_full.shape"
   ]
  },
  {
   "cell_type": "code",
   "execution_count": 38,
   "metadata": {},
   "outputs": [],
   "source": [
    "df_final = df_json_full.merge(senti_id_avg, how='inner', on='id')"
   ]
  },
  {
   "cell_type": "code",
   "execution_count": 39,
   "metadata": {},
   "outputs": [
    {
     "data": {
      "text/html": [
       "<div>\n",
       "<style scoped>\n",
       "    .dataframe tbody tr th:only-of-type {\n",
       "        vertical-align: middle;\n",
       "    }\n",
       "\n",
       "    .dataframe tbody tr th {\n",
       "        vertical-align: top;\n",
       "    }\n",
       "\n",
       "    .dataframe thead th {\n",
       "        text-align: right;\n",
       "    }\n",
       "</style>\n",
       "<table border=\"1\" class=\"dataframe\">\n",
       "  <thead>\n",
       "    <tr style=\"text-align: right;\">\n",
       "      <th></th>\n",
       "      <th>申请人</th>\n",
       "      <th>意见1</th>\n",
       "      <th>意见2</th>\n",
       "      <th>意见3</th>\n",
       "      <th>意见4</th>\n",
       "      <th>意见5</th>\n",
       "      <th>立项</th>\n",
       "      <th>id</th>\n",
       "      <th>Senti</th>\n",
       "    </tr>\n",
       "  </thead>\n",
       "  <tbody>\n",
       "    <tr>\n",
       "      <td>0</td>\n",
       "      <td>廖宝超</td>\n",
       "      <td>1&gt;具体评价意见：\\n一、请针对创新点详细评述申请项目的创新性、科学价值以及对相关领域的潜在...</td>\n",
       "      <td>2&gt;具体评价意见：\\n一、请针对创新点详细评述申请项目的创新性、科学价值以及对相关领域的潜在...</td>\n",
       "      <td>3&gt;具体评价意见：\\n一、请针对创新点详细评述申请项目的创新性、科学价值以及对相关领域的潜在...</td>\n",
       "      <td>4&gt;具体评价意见：\\n一、请针对创新点详细评述申请项目的创新性、科学价值以及对相关领域的潜在...</td>\n",
       "      <td>5&gt;具体评价意见：\\n一、请针对创新点详细评述申请项目的创新性、科学价值以及对相关领域的潜在...</td>\n",
       "      <td>0</td>\n",
       "      <td>34</td>\n",
       "      <td>0.761453</td>\n",
       "    </tr>\n",
       "  </tbody>\n",
       "</table>\n",
       "</div>"
      ],
      "text/plain": [
       "   申请人                                                意见1  \\\n",
       "0  廖宝超  1>具体评价意见：\\n一、请针对创新点详细评述申请项目的创新性、科学价值以及对相关领域的潜在...   \n",
       "\n",
       "                                                 意见2  \\\n",
       "0  2>具体评价意见：\\n一、请针对创新点详细评述申请项目的创新性、科学价值以及对相关领域的潜在...   \n",
       "\n",
       "                                                 意见3  \\\n",
       "0  3>具体评价意见：\\n一、请针对创新点详细评述申请项目的创新性、科学价值以及对相关领域的潜在...   \n",
       "\n",
       "                                                 意见4  \\\n",
       "0  4>具体评价意见：\\n一、请针对创新点详细评述申请项目的创新性、科学价值以及对相关领域的潜在...   \n",
       "\n",
       "                                                 意见5  立项  id     Senti  \n",
       "0  5>具体评价意见：\\n一、请针对创新点详细评述申请项目的创新性、科学价值以及对相关领域的潜在...   0  34  0.761453  "
      ]
     },
     "execution_count": 39,
     "metadata": {},
     "output_type": "execute_result"
    }
   ],
   "source": [
    "df_final.head(1)"
   ]
  },
  {
   "cell_type": "code",
   "execution_count": 40,
   "metadata": {},
   "outputs": [
    {
     "data": {
      "text/plain": [
       "立项\n",
       "0    0.254719\n",
       "1    0.324678\n",
       "Name: Senti, dtype: float64"
      ]
     },
     "execution_count": 40,
     "metadata": {},
     "output_type": "execute_result"
    }
   ],
   "source": [
    "df_final.groupby('立项')['Senti'].agg('mean')"
   ]
  },
  {
   "cell_type": "code",
   "execution_count": 41,
   "metadata": {},
   "outputs": [
    {
     "data": {
      "text/plain": [
       "<matplotlib.axes._subplots.AxesSubplot at 0x1a7888a8d0>"
      ]
     },
     "execution_count": 41,
     "metadata": {},
     "output_type": "execute_result"
    },
    {
     "data": {
      "image/png": "[encoded data removed]",
      "text/plain": [
       "<Figure size 432x288 with 1 Axes>"
      ]
     },
     "metadata": {
      "needs_background": "light"
     },
     "output_type": "display_data"
    }
   ],
   "source": [
    "df_final.loc[df_final['立项']==0,'Senti'].plot.density()\n",
    "df_final.loc[df_final['立项']==1,'Senti'].plot.density()"
   ]
  },
  {
   "cell_type": "code",
   "execution_count": 46,
   "metadata": {},
   "outputs": [],
   "source": [
    "rd_negative = (df_final['立项']==0) & (df_final['Senti']>=0.4) & (df_final['Senti']<=0.6)\n",
    "df_rd_neg = df_final[rd_negative]\n",
    "rd_positive = (df_final['立项']==1) & (df_final['Senti']>=0.4) & (df_final['Senti']<=0.6)\n",
    "df_rd_positive = df_final[rd_positive]"
   ]
  },
  {
   "cell_type": "code",
   "execution_count": 47,
   "metadata": {},
   "outputs": [
    {
     "data": {
      "text/plain": [
       "(37, 9)"
      ]
     },
     "execution_count": 47,
     "metadata": {},
     "output_type": "execute_result"
    }
   ],
   "source": [
    "df_rd_neg.shape"
   ]
  },
  {
   "cell_type": "code",
   "execution_count": 49,
   "metadata": {},
   "outputs": [
    {
     "data": {
      "text/plain": [
       "(26, 9)"
      ]
     },
     "execution_count": 49,
     "metadata": {},
     "output_type": "execute_result"
    }
   ],
   "source": [
    "df_rd_positive.shape"
   ]
  }
 ],
 "metadata": {
  "kernelspec": {
   "display_name": "Python 3",
   "language": "python",
   "name": "python3"
  },
  "language_info": {
   "codemirror_mode": {
    "name": "ipython",
    "version": 3
   },
   "file_extension": ".py",
   "mimetype": "text/x-python",
   "name": "python",
   "nbconvert_exporter": "python",
   "pygments_lexer": "ipython3",
   "version": "3.7.4"
  }
 },
 "nbformat": 4,
 "nbformat_minor": 2
}
