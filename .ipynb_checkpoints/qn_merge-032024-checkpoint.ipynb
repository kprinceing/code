{
 "cells": [
  {
   "cell_type": "code",
   "execution_count": 1,
   "metadata": {},
   "outputs": [],
   "source": [
    "import numpy as np\n",
    "import pandas as pd\n",
    "import os\n",
    "from pypinyin import pinyin, lazy_pinyin, Style\n",
    "import matplotlib.pyplot as plt\n",
    "import econtools.metrics as mt\n",
    "import matplotlib\n",
    "import seaborn as sns\n",
    "from matplotlib import font_manager\n",
    "\n",
    "plt.rcParams['figure.dpi'] = 200\n",
    "plt.rcParams['savefig.dpi'] = 200\n",
    "plt.rcParams['font.family'] = ['Heiti TC']"
   ]
  },
  {
   "cell_type": "markdown",
   "metadata": {},
   "source": [
    "### NSFC data"
   ]
  },
  {
   "cell_type": "code",
   "execution_count": 2,
   "metadata": {},
   "outputs": [],
   "source": [
    "qn_all = pd.read_csv(\"/Users/yansong/Nutstore Files/基金研究/data/2013--2022面青/qn_all.csv\")\n",
    "qn_all['nsfc_code'] = qn_all['申请代码'].str[0:1]\n",
    "#qn_all['nsfc_code'].value_counts()\n",
    "qn_all['立项年份'] = qn_all['年份']*qn_all['立项']\n",
    "qn_all = pd.DataFrame(qn_all.groupby(['申请人','申请部门','nsfc_code']).立项年份.max()).reset_index()"
   ]
  },
  {
   "cell_type": "code",
   "execution_count": 3,
   "metadata": {},
   "outputs": [],
   "source": [
    "def pinyin(name):\n",
    "    i = lazy_pinyin(name)\n",
    "    if len(i) == 3:\n",
    "        capitalized = [str.capitalize(i[0]),str.capitalize(i[1]+i[2])]\n",
    "    elif len(i) == 2:\n",
    "        capitalized = [str.capitalize(i[0]),str.capitalize(i[1])]\n",
    "    else:\n",
    "        #print(i)\n",
    "        capitalized = i\n",
    "    return capitalized\n",
    "def surname(name):\n",
    "    i = lazy_pinyin(name)\n",
    "    if len(i) == 3:\n",
    "        capitalized = str.capitalize(i[0])\n",
    "    elif len(i) == 2:\n",
    "        capitalized = str.capitalize(i[0])\n",
    "    else:\n",
    "        #print(i)\n",
    "        capitalized = i[0]\n",
    "    return capitalized\n",
    "def givenname(name):\n",
    "    i = lazy_pinyin(name)\n",
    "    if len(i) == 3:\n",
    "        capitalized = str.capitalize(i[1]+i[2])\n",
    "    elif len(i) == 2:\n",
    "        capitalized = str.capitalize(i[1])\n",
    "    else:\n",
    "        #print(i)\n",
    "        capitalized = i[0]\n",
    "    return capitalized"
   ]
  },
  {
   "cell_type": "code",
   "execution_count": 4,
   "metadata": {},
   "outputs": [
    {
     "data": {
      "text/html": [
       "<div>\n",
       "<style scoped>\n",
       "    .dataframe tbody tr th:only-of-type {\n",
       "        vertical-align: middle;\n",
       "    }\n",
       "\n",
       "    .dataframe tbody tr th {\n",
       "        vertical-align: top;\n",
       "    }\n",
       "\n",
       "    .dataframe thead th {\n",
       "        text-align: right;\n",
       "    }\n",
       "</style>\n",
       "<table border=\"1\" class=\"dataframe\">\n",
       "  <thead>\n",
       "    <tr style=\"text-align: right;\">\n",
       "      <th></th>\n",
       "      <th>申请人</th>\n",
       "      <th>author_name</th>\n",
       "      <th>申请部门</th>\n",
       "      <th>立项年份</th>\n",
       "    </tr>\n",
       "  </thead>\n",
       "  <tbody>\n",
       "    <tr>\n",
       "      <th>0</th>\n",
       "      <td>Bagrat Mailyan</td>\n",
       "      <td>Bagrat Mailyan Bagrat Mailyan</td>\n",
       "      <td>威海校区</td>\n",
       "      <td>2014</td>\n",
       "    </tr>\n",
       "    <tr>\n",
       "      <th>1</th>\n",
       "      <td>LIU YI</td>\n",
       "      <td>LIU YI LIU YI</td>\n",
       "      <td>国际创新转化学院</td>\n",
       "      <td>0</td>\n",
       "    </tr>\n",
       "    <tr>\n",
       "      <th>2</th>\n",
       "      <td>Munish Kumar Gupta</td>\n",
       "      <td>Munish Kumar Gupta Munish Kumar Gupta</td>\n",
       "      <td>机械工程学院</td>\n",
       "      <td>0</td>\n",
       "    </tr>\n",
       "    <tr>\n",
       "      <th>3</th>\n",
       "      <td>Najib Ahmad Muhammad</td>\n",
       "      <td>Najib Ahmad Muhammad Najib Ahmad Muhammad</td>\n",
       "      <td>材料学院</td>\n",
       "      <td>0</td>\n",
       "    </tr>\n",
       "    <tr>\n",
       "      <th>4</th>\n",
       "      <td>Shani Tiwari</td>\n",
       "      <td>Shani Tiwari Shani Tiwari</td>\n",
       "      <td>环境研究院</td>\n",
       "      <td>0</td>\n",
       "    </tr>\n",
       "  </tbody>\n",
       "</table>\n",
       "</div>"
      ],
      "text/plain": [
       "                    申请人                                author_name      申请部门  \\\n",
       "0        Bagrat Mailyan              Bagrat Mailyan Bagrat Mailyan      威海校区   \n",
       "1                LIU YI                              LIU YI LIU YI  国际创新转化学院   \n",
       "2    Munish Kumar Gupta      Munish Kumar Gupta Munish Kumar Gupta    机械工程学院   \n",
       "3  Najib Ahmad Muhammad  Najib Ahmad Muhammad Najib Ahmad Muhammad      材料学院   \n",
       "4          Shani Tiwari                  Shani Tiwari Shani Tiwari     环境研究院   \n",
       "\n",
       "   立项年份  \n",
       "0  2014  \n",
       "1     0  \n",
       "2     0  \n",
       "3     0  \n",
       "4     0  "
      ]
     },
     "execution_count": 4,
     "metadata": {},
     "output_type": "execute_result"
    }
   ],
   "source": [
    "qn_all['pinyin']= qn_all['申请人'].apply(pinyin)\n",
    "qn_all['surname'] = qn_all['申请人'].apply(surname)\n",
    "qn_all['givenname'] = qn_all['申请人'].apply(givenname)\n",
    "qn_all['author_name'] = qn_all['surname']+' '+qn_all['givenname']\n",
    "qn_nsfc = qn_all.groupby(by=['申请人','申请部门','nsfc_code','author_name'])['立项年份'].sum().reset_index()[['申请人','author_name','申请部门','立项年份']]\n",
    "qn_nsfc.head(5)"
   ]
  },
  {
   "cell_type": "code",
   "execution_count": 5,
   "metadata": {},
   "outputs": [
    {
     "data": {
      "text/plain": [
       "立项年份\n",
       "0       1058\n",
       "2022     162\n",
       "2021     147\n",
       "2019     109\n",
       "2020     106\n",
       "2016      64\n",
       "2014      60\n",
       "2013      58\n",
       "2017      56\n",
       "2018      53\n",
       "2015      47\n",
       "Name: count, dtype: int64"
      ]
     },
     "execution_count": 5,
     "metadata": {},
     "output_type": "execute_result"
    }
   ],
   "source": [
    "qn_all.立项年份.value_counts()"
   ]
  },
  {
   "cell_type": "markdown",
   "metadata": {},
   "source": [
    "### Publication data\n",
    "\n",
    "- Consolidate all publications with unique author eid\n",
    "- Consolidate all author_eids\n",
    "- Merge the two using author_eid \n",
    "- Reshape to wide format"
   ]
  },
  {
   "cell_type": "markdown",
   "metadata": {},
   "source": [
    "### 读取文章数据"
   ]
  },
  {
   "cell_type": "code",
   "execution_count": 6,
   "metadata": {},
   "outputs": [
    {
     "data": {
      "text/html": [
       "<div>\n",
       "<style scoped>\n",
       "    .dataframe tbody tr th:only-of-type {\n",
       "        vertical-align: middle;\n",
       "    }\n",
       "\n",
       "    .dataframe tbody tr th {\n",
       "        vertical-align: top;\n",
       "    }\n",
       "\n",
       "    .dataframe thead th {\n",
       "        text-align: right;\n",
       "    }\n",
       "</style>\n",
       "<table border=\"1\" class=\"dataframe\">\n",
       "  <thead>\n",
       "    <tr style=\"text-align: right;\">\n",
       "      <th></th>\n",
       "      <th>affilname</th>\n",
       "      <th>afid</th>\n",
       "      <th>author_eid</th>\n",
       "      <th>author_names</th>\n",
       "      <th>citedby_count</th>\n",
       "      <th>coverDate</th>\n",
       "      <th>doi</th>\n",
       "      <th>eid</th>\n",
       "      <th>title</th>\n",
       "      <th>school_1</th>\n",
       "    </tr>\n",
       "  </thead>\n",
       "  <tbody>\n",
       "    <tr>\n",
       "      <th>0</th>\n",
       "      <td>Shandong First Medical University &amp;amp; Shando...</td>\n",
       "      <td>60161479;60092862;60031419;60031031</td>\n",
       "      <td>55981883200</td>\n",
       "      <td>Jin, Yecheng;Gao, Xiaotong;Lu, Miaoqing;Chen, ...</td>\n",
       "      <td>0</td>\n",
       "      <td>10/10/2022</td>\n",
       "      <td>10.1093/hmg/ddac127</td>\n",
       "      <td>2-s2.0-85139803890</td>\n",
       "      <td>Loss of BAF (mSWI/SNF) chromatin-remodeling AT...</td>\n",
       "      <td>山大二院</td>\n",
       "    </tr>\n",
       "  </tbody>\n",
       "</table>\n",
       "</div>"
      ],
      "text/plain": [
       "                                           affilname  \\\n",
       "0  Shandong First Medical University &amp; Shando...   \n",
       "\n",
       "                                  afid   author_eid  \\\n",
       "0  60161479;60092862;60031419;60031031  55981883200   \n",
       "\n",
       "                                        author_names citedby_count  \\\n",
       "0  Jin, Yecheng;Gao, Xiaotong;Lu, Miaoqing;Chen, ...             0   \n",
       "\n",
       "    coverDate                  doi                 eid  \\\n",
       "0  10/10/2022  10.1093/hmg/ddac127  2-s2.0-85139803890   \n",
       "\n",
       "                                               title school_1  \n",
       "0  Loss of BAF (mSWI/SNF) chromatin-remodeling AT...     山大二院  "
      ]
     },
     "execution_count": 6,
     "metadata": {},
     "output_type": "execute_result"
    }
   ],
   "source": [
    "root_dir = \"/Users/yansong/Nutstore Files/论文发表2013-2020/scopusPub/dta\"\n",
    "authors = os.listdir(root_dir)\n",
    "os.chdir(root_dir)\n",
    "lists_pubs = []\n",
    "for author_file in authors:\n",
    "    if '.dta' in author_file:\n",
    "        author_pubs = pd.read_stata(author_file)\n",
    "        if 'school 1' in author_pubs.columns:\n",
    "            author_pubs = author_pubs[['affilname', 'afid', 'author_eid', 'author_names',\n",
    "           'citedby_count', 'coverDate', 'doi', 'eid', 'title', 'school 1']]\n",
    "            author_pubs.rename(columns={'school 1':'school_1'},inplace=True)\n",
    "            lists_pubs.append(author_pubs)\n",
    "            \n",
    "        elif 'school1' in author_pubs.columns:\n",
    "            author_pubs = author_pubs[['affilname', 'afid', 'author_eid', 'author_names',\n",
    "           'citedby_count', 'coverDate', 'doi', 'eid', 'title', 'school1']]\n",
    "            author_pubs.rename(columns={'school1':'school_1'},inplace=True)\n",
    "            lists_pubs.append(author_pubs)\n",
    "            \n",
    "        elif 'school1' in author_pubs.columns:\n",
    "            author_pubs = author_pubs[['affilname', 'afid', 'author_eid', 'author_names',\n",
    "           'citedby_count', 'coverDate', 'doi', 'eid', 'title', 'school']]\n",
    "            author_pubs.rename(columns={'school':'school_1'},inplace=True)\n",
    "            lists_pubs.append(author_pubs)\n",
    "        else:\n",
    "            print(author_file)\n",
    "qn_pubs = pd.concat(lists_pubs)    \n",
    "qn_pubs.head(1)"
   ]
  },
  {
   "cell_type": "code",
   "execution_count": 7,
   "metadata": {},
   "outputs": [
    {
     "data": {
      "text/plain": [
       "numpy.float64"
      ]
     },
     "execution_count": 7,
     "metadata": {},
     "output_type": "execute_result"
    }
   ],
   "source": [
    "qn_pubs['author_eid'] = pd.to_numeric(qn_pubs['author_eid'], errors='coerce')\n",
    "type(qn_pubs['author_eid'].iloc[0])"
   ]
  },
  {
   "cell_type": "code",
   "execution_count": 8,
   "metadata": {},
   "outputs": [
    {
     "data": {
      "text/plain": [
       "1215"
      ]
     },
     "execution_count": 8,
     "metadata": {},
     "output_type": "execute_result"
    }
   ],
   "source": [
    "len(authors)"
   ]
  },
  {
   "cell_type": "markdown",
   "metadata": {},
   "source": [
    "### 读取作者信息"
   ]
  },
  {
   "cell_type": "code",
   "execution_count": 9,
   "metadata": {},
   "outputs": [
    {
     "data": {
      "text/html": [
       "<div>\n",
       "<style scoped>\n",
       "    .dataframe tbody tr th:only-of-type {\n",
       "        vertical-align: middle;\n",
       "    }\n",
       "\n",
       "    .dataframe tbody tr th {\n",
       "        vertical-align: top;\n",
       "    }\n",
       "\n",
       "    .dataframe thead th {\n",
       "        text-align: right;\n",
       "    }\n",
       "</style>\n",
       "<table border=\"1\" class=\"dataframe\">\n",
       "  <thead>\n",
       "    <tr style=\"text-align: right;\">\n",
       "      <th></th>\n",
       "      <th>Unnamed: 0</th>\n",
       "      <th>orcid</th>\n",
       "      <th>surname</th>\n",
       "      <th>initials</th>\n",
       "      <th>givenname</th>\n",
       "      <th>affiliation</th>\n",
       "      <th>documents</th>\n",
       "      <th>affiliation_id</th>\n",
       "      <th>city</th>\n",
       "      <th>country</th>\n",
       "      <th>areas</th>\n",
       "      <th>author_eid</th>\n",
       "    </tr>\n",
       "  </thead>\n",
       "  <tbody>\n",
       "    <tr>\n",
       "      <th>0</th>\n",
       "      <td>0</td>\n",
       "      <td>NaN</td>\n",
       "      <td>Shen</td>\n",
       "      <td>Z.</td>\n",
       "      <td>Zhongjian</td>\n",
       "      <td>Shandong University</td>\n",
       "      <td>6</td>\n",
       "      <td>60031031</td>\n",
       "      <td>Jinan</td>\n",
       "      <td>China</td>\n",
       "      <td>ENVI (6); SOCI (2); AGRI (2)</td>\n",
       "      <td>57213191602</td>\n",
       "    </tr>\n",
       "  </tbody>\n",
       "</table>\n",
       "</div>"
      ],
      "text/plain": [
       "  Unnamed: 0 orcid surname initials  givenname          affiliation documents  \\\n",
       "0          0   NaN    Shen       Z.  Zhongjian  Shandong University         6   \n",
       "\n",
       "  affiliation_id   city country                         areas   author_eid  \n",
       "0       60031031  Jinan   China  ENVI (6); SOCI (2); AGRI (2)  57213191602  "
      ]
     },
     "execution_count": 9,
     "metadata": {},
     "output_type": "execute_result"
    }
   ],
   "source": [
    "root_dir = \"/Users/yansong/Nutstore Files/基金研究/data/2013--2022面青/scopus\"\n",
    "authors = os.listdir(root_dir)\n",
    "os.chdir(root_dir)\n",
    "unique_lists = []\n",
    "\n",
    "for author_file in authors:\n",
    "    if '.csv' in author_file:\n",
    "        author_pubs = pd.read_csv(author_file)\n",
    "        unique_lists.append(author_pubs)\n",
    "\n",
    "author_ids = pd.concat(unique_lists)\n",
    "author_ids['author_eid']= author_ids['eid'].str.split(\"-\").str.get(2)\n",
    "author_ids['author_eid'] = author_ids['author_eid'].astype('int64')\n",
    "author_ids.drop(columns=['eid'],inplace=True)\n",
    "author_ids.head(1)"
   ]
  },
  {
   "cell_type": "code",
   "execution_count": 10,
   "metadata": {},
   "outputs": [
    {
     "data": {
      "text/plain": [
       "5297"
      ]
     },
     "execution_count": 10,
     "metadata": {},
     "output_type": "execute_result"
    }
   ],
   "source": [
    "len(author_ids.author_eid.unique())"
   ]
  },
  {
   "cell_type": "markdown",
   "metadata": {},
   "source": [
    "### 匹配作者和文章(merge on author_eid)"
   ]
  },
  {
   "cell_type": "code",
   "execution_count": 11,
   "metadata": {},
   "outputs": [
    {
     "data": {
      "text/plain": [
       "_merge\n",
       "both          117189\n",
       "left_only         42\n",
       "right_only         0\n",
       "Name: count, dtype: int64"
      ]
     },
     "execution_count": 11,
     "metadata": {},
     "output_type": "execute_result"
    }
   ],
   "source": [
    "qn_author_pubs = qn_pubs.merge(author_ids,how='left',on='author_eid',indicator=True)\n",
    "qn_author_pubs['year'] = qn_author_pubs['coverDate'].str[-4:]\n",
    "qn_author_pubs['author_name'] = qn_author_pubs['surname']+' ' +qn_author_pubs['givenname']\n",
    "qn_author_pubs._merge.value_counts()"
   ]
  },
  {
   "cell_type": "code",
   "execution_count": 12,
   "metadata": {},
   "outputs": [],
   "source": [
    "qn_author_pubs.drop(columns=['_merge'],inplace=True,errors='ignore')\n",
    "qn_author_pubs['citations'] = pd.to_numeric(qn_author_pubs['citedby_count'], errors='coerce')\n",
    "qn_author_pubs['coauthors'] = qn_author_pubs.author_names.str.count(';')"
   ]
  },
  {
   "cell_type": "markdown",
   "metadata": {},
   "source": [
    "### 转换为 author by year data"
   ]
  },
  {
   "cell_type": "code",
   "execution_count": 13,
   "metadata": {},
   "outputs": [],
   "source": [
    "qn_author_year_pubs4 = qn_author_pubs.groupby(['author_name','school_1','year'])['author_names'].apply('/'.join).reset_index()\n",
    "qn_author_year_pubs4['unique_coauthors'] = qn_author_year_pubs4.author_names.str.count(';')\n",
    "\n",
    "#qn_author_pubs['coauthors'] = qn_author_pubs.author_names.str.count(';')\n",
    "\n",
    "qn_author_year_pubs3 = qn_author_pubs.groupby(['author_name','school_1','year'])['coauthors'].mean().reset_index()\n",
    "\n",
    "qn_author_year_pubs2 = qn_author_pubs.groupby(['author_name','school_1','year'])['citations'].sum().reset_index()\n",
    "\n",
    "qn_author_year_pubs1 = qn_author_pubs.groupby(['author_name','school_1','year'])['author_eid'].count().reset_index()\n",
    "\n",
    "qn_author_year_pubs  = qn_author_year_pubs1.merge(qn_author_year_pubs2,how='left',\n",
    "                                                  on=['author_name','school_1','year'],indicator=True)\n",
    "qn_author_year_pubs.drop(columns=['_merge'],inplace=True,errors='ignore')\n",
    "\n",
    "qn_author_year_pubs = qn_author_year_pubs.merge(qn_author_year_pubs3,how='left',\n",
    "                                                  on=['author_name','school_1','year'],indicator=True)\n",
    "qn_author_year_pubs.drop(columns=['_merge'],inplace=True,errors='ignore')\n",
    "\n",
    "qn_author_year_pubs = qn_author_year_pubs.merge(qn_author_year_pubs4,how='left',\n",
    "                                                  on=['author_name','school_1','year'],indicator=True)\n",
    "qn_author_year_pubs.drop(columns=['_merge'],inplace=True,errors='ignore')\n"
   ]
  },
  {
   "cell_type": "code",
   "execution_count": 14,
   "metadata": {},
   "outputs": [],
   "source": [
    "# pub_scatter = qn_author_year_pubs.groupby(['year']).author_eid.mean().reset_index()\n",
    "# # pub_scatter = pub_scatter.loc[4:23,:] # select between 2003 and 2022\n",
    "# pub_scatter['year'] = pd.to_numeric(pub_scatter['year'], errors='coerce')\n",
    "# pub_scatter.drop(pub_scatter.loc[pub_scatter['year']<2003].index, inplace=True)\n",
    "# pub_scatter.drop(pub_scatter.loc[pub_scatter['year']>2022].index, inplace=True)\n",
    "# matplotlib.style.use('bmh') \n",
    "# fig, ax = plt.subplots(figsize=(8,6))\n",
    "# scatter = ax.scatter(pub_scatter.year, pub_scatter.author_eid,cmap='tab20b')\n",
    "# plt.xticks([2005,2010,2015,2020])\n",
    "# plt.show()"
   ]
  },
  {
   "cell_type": "code",
   "execution_count": 15,
   "metadata": {
    "scrolled": true
   },
   "outputs": [],
   "source": [
    "# matplotlib.style.use('bmh') \n",
    "# #.hist(normed=True)\n",
    "# plt.hist(np.clip(qn_author_year_pubs.groupby(['author_name']).author_eid.mean(),0,10))"
   ]
  },
  {
   "cell_type": "markdown",
   "metadata": {},
   "source": [
    "## 合并基金与论文数据(on author_name, 申请部门)\n",
    "    ☐ 第一步: 仅使用 unique 的作者姓名的数据进行匹配\n",
    "\n",
    "    ☐ 第二步: 对剩下的重名的部分，使用姓名和院系进行匹配\n",
    "\n",
    "    ☐ 第三步: 合并第一步，和第二步所得到的数据\n",
    "\n",
    "    ☐ 检查每一步匹配的结果"
   ]
  },
  {
   "cell_type": "code",
   "execution_count": 40,
   "metadata": {},
   "outputs": [],
   "source": [
    "qn_author_year_pubs.rename(columns={'school_1':'申请部门'},inplace=True)\n",
    "qn_author_year_pubs['year'] = pd.to_numeric(qn_author_year_pubs['year'], errors='coerce')\n",
    "qn_author_year_pubs.drop(qn_author_year_pubs.loc[qn_author_year_pubs['year']<2003].index, inplace=True)\n",
    "qn_author_year_pubs.drop(qn_author_year_pubs.loc[qn_author_year_pubs['year']>2022].index, inplace=True)"
   ]
  },
  {
   "cell_type": "markdown",
   "metadata": {},
   "source": [
    "###    ☐ 第一步: 仅使用 unique 的作者姓名的数据进行匹配"
   ]
  },
  {
   "cell_type": "code",
   "execution_count": 33,
   "metadata": {},
   "outputs": [
    {
     "data": {
      "text/plain": [
       "1727"
      ]
     },
     "execution_count": 33,
     "metadata": {},
     "output_type": "execute_result"
    }
   ],
   "source": [
    "len(set(list(qn_nsfc.author_name)))"
   ]
  },
  {
   "cell_type": "code",
   "execution_count": 34,
   "metadata": {},
   "outputs": [
    {
     "data": {
      "text/html": [
       "<div>\n",
       "<style scoped>\n",
       "    .dataframe tbody tr th:only-of-type {\n",
       "        vertical-align: middle;\n",
       "    }\n",
       "\n",
       "    .dataframe tbody tr th {\n",
       "        vertical-align: top;\n",
       "    }\n",
       "\n",
       "    .dataframe thead th {\n",
       "        text-align: right;\n",
       "    }\n",
       "</style>\n",
       "<table border=\"1\" class=\"dataframe\">\n",
       "  <thead>\n",
       "    <tr style=\"text-align: right;\">\n",
       "      <th></th>\n",
       "      <th>申请人</th>\n",
       "      <th>author_name</th>\n",
       "      <th>申请部门</th>\n",
       "      <th>立项年份</th>\n",
       "    </tr>\n",
       "  </thead>\n",
       "  <tbody>\n",
       "    <tr>\n",
       "      <th>0</th>\n",
       "      <td>Bagrat Mailyan</td>\n",
       "      <td>Bagrat Mailyan Bagrat Mailyan</td>\n",
       "      <td>威海校区</td>\n",
       "      <td>2014</td>\n",
       "    </tr>\n",
       "    <tr>\n",
       "      <th>1</th>\n",
       "      <td>LIU YI</td>\n",
       "      <td>LIU YI LIU YI</td>\n",
       "      <td>国际创新转化学院</td>\n",
       "      <td>0</td>\n",
       "    </tr>\n",
       "    <tr>\n",
       "      <th>2</th>\n",
       "      <td>Munish Kumar Gupta</td>\n",
       "      <td>Munish Kumar Gupta Munish Kumar Gupta</td>\n",
       "      <td>机械工程学院</td>\n",
       "      <td>0</td>\n",
       "    </tr>\n",
       "    <tr>\n",
       "      <th>3</th>\n",
       "      <td>Najib Ahmad Muhammad</td>\n",
       "      <td>Najib Ahmad Muhammad Najib Ahmad Muhammad</td>\n",
       "      <td>材料学院</td>\n",
       "      <td>0</td>\n",
       "    </tr>\n",
       "    <tr>\n",
       "      <th>4</th>\n",
       "      <td>Shani Tiwari</td>\n",
       "      <td>Shani Tiwari Shani Tiwari</td>\n",
       "      <td>环境研究院</td>\n",
       "      <td>0</td>\n",
       "    </tr>\n",
       "    <tr>\n",
       "      <th>...</th>\n",
       "      <td>...</td>\n",
       "      <td>...</td>\n",
       "      <td>...</td>\n",
       "      <td>...</td>\n",
       "    </tr>\n",
       "    <tr>\n",
       "      <th>1915</th>\n",
       "      <td>齐楠</td>\n",
       "      <td>Qi Nan</td>\n",
       "      <td>海洋研究院</td>\n",
       "      <td>2019</td>\n",
       "    </tr>\n",
       "    <tr>\n",
       "      <th>1916</th>\n",
       "      <td>齐璐</td>\n",
       "      <td>Qi Lu</td>\n",
       "      <td>前沿交叉科学青岛研究院</td>\n",
       "      <td>2021</td>\n",
       "    </tr>\n",
       "    <tr>\n",
       "      <th>1917</th>\n",
       "      <td>齐美苓</td>\n",
       "      <td>Qi Meiling</td>\n",
       "      <td>护理与康复学院</td>\n",
       "      <td>0</td>\n",
       "    </tr>\n",
       "    <tr>\n",
       "      <th>1918</th>\n",
       "      <td>齐超</td>\n",
       "      <td>Qi Chao</td>\n",
       "      <td>威海校区</td>\n",
       "      <td>0</td>\n",
       "    </tr>\n",
       "    <tr>\n",
       "      <th>1919</th>\n",
       "      <td>龚亚</td>\n",
       "      <td>Gong Ya</td>\n",
       "      <td>威海校区</td>\n",
       "      <td>2019</td>\n",
       "    </tr>\n",
       "  </tbody>\n",
       "</table>\n",
       "<p>1727 rows × 4 columns</p>\n",
       "</div>"
      ],
      "text/plain": [
       "                       申请人                                author_name  \\\n",
       "0           Bagrat Mailyan              Bagrat Mailyan Bagrat Mailyan   \n",
       "1                   LIU YI                              LIU YI LIU YI   \n",
       "2       Munish Kumar Gupta      Munish Kumar Gupta Munish Kumar Gupta   \n",
       "3     Najib Ahmad Muhammad  Najib Ahmad Muhammad Najib Ahmad Muhammad   \n",
       "4             Shani Tiwari                  Shani Tiwari Shani Tiwari   \n",
       "...                    ...                                        ...   \n",
       "1915                    齐楠                                     Qi Nan   \n",
       "1916                    齐璐                                      Qi Lu   \n",
       "1917                   齐美苓                                 Qi Meiling   \n",
       "1918                    齐超                                    Qi Chao   \n",
       "1919                    龚亚                                    Gong Ya   \n",
       "\n",
       "             申请部门  立项年份  \n",
       "0            威海校区  2014  \n",
       "1        国际创新转化学院     0  \n",
       "2          机械工程学院     0  \n",
       "3            材料学院     0  \n",
       "4           环境研究院     0  \n",
       "...           ...   ...  \n",
       "1915        海洋研究院  2019  \n",
       "1916  前沿交叉科学青岛研究院  2021  \n",
       "1917      护理与康复学院     0  \n",
       "1918         威海校区     0  \n",
       "1919         威海校区  2019  \n",
       "\n",
       "[1727 rows x 4 columns]"
      ]
     },
     "execution_count": 34,
     "metadata": {},
     "output_type": "execute_result"
    }
   ],
   "source": [
    "qn_nsfc_no_dup = qn_nsfc.drop_duplicates('author_name')\n",
    "qn_nsfc_no_dup"
   ]
  },
  {
   "cell_type": "code",
   "execution_count": 46,
   "metadata": {},
   "outputs": [
    {
     "name": "stdout",
     "output_type": "stream",
     "text": [
      "_merge\n",
      "both          14511\n",
      "left_only       763\n",
      "right_only      589\n",
      "Name: count, dtype: int64\n",
      "(14511, 12)\n"
     ]
    },
    {
     "data": {
      "text/html": [
       "<div>\n",
       "<style scoped>\n",
       "    .dataframe tbody tr th:only-of-type {\n",
       "        vertical-align: middle;\n",
       "    }\n",
       "\n",
       "    .dataframe tbody tr th {\n",
       "        vertical-align: top;\n",
       "    }\n",
       "\n",
       "    .dataframe thead th {\n",
       "        text-align: right;\n",
       "    }\n",
       "</style>\n",
       "<table border=\"1\" class=\"dataframe\">\n",
       "  <thead>\n",
       "    <tr style=\"text-align: right;\">\n",
       "      <th></th>\n",
       "      <th>index</th>\n",
       "      <th>author_name</th>\n",
       "      <th>申请部门_x</th>\n",
       "      <th>year</th>\n",
       "      <th>author_eid</th>\n",
       "      <th>citations</th>\n",
       "      <th>coauthors</th>\n",
       "      <th>author_names</th>\n",
       "      <th>unique_coauthors</th>\n",
       "      <th>申请人</th>\n",
       "      <th>申请部门_y</th>\n",
       "      <th>立项年份</th>\n",
       "      <th>_merge</th>\n",
       "    </tr>\n",
       "  </thead>\n",
       "  <tbody>\n",
       "    <tr>\n",
       "      <th>0</th>\n",
       "      <td>0</td>\n",
       "      <td>Bai Caiquan</td>\n",
       "      <td>经济研究院</td>\n",
       "      <td>2015.0</td>\n",
       "      <td>3.0</td>\n",
       "      <td>3.0</td>\n",
       "      <td>4.0</td>\n",
       "      <td>Bai, Caiquan;He, Yiqing;Zhou, Decai;Zhang, Yi;...</td>\n",
       "      <td>12.0</td>\n",
       "      <td>白彩全</td>\n",
       "      <td>经济研究院</td>\n",
       "      <td>2022.0</td>\n",
       "      <td>both</td>\n",
       "    </tr>\n",
       "  </tbody>\n",
       "</table>\n",
       "</div>"
      ],
      "text/plain": [
       "   index  author_name 申请部门_x    year  author_eid  citations  coauthors  \\\n",
       "0      0  Bai Caiquan  经济研究院  2015.0         3.0        3.0        4.0   \n",
       "\n",
       "                                        author_names  unique_coauthors  申请人  \\\n",
       "0  Bai, Caiquan;He, Yiqing;Zhou, Decai;Zhang, Yi;...              12.0  白彩全   \n",
       "\n",
       "  申请部门_y    立项年份 _merge  \n",
       "0  经济研究院  2022.0   both  "
      ]
     },
     "execution_count": 46,
     "metadata": {},
     "output_type": "execute_result"
    }
   ],
   "source": [
    "qn_nsfc_pubs = qn_author_year_pubs.merge(qn_nsfc_no_dup,how='outer',on=['author_name'],indicator=True)\n",
    "print(qn_nsfc_pubs._merge.value_counts())\n",
    "qn_nsfc_pubs = qn_nsfc_pubs[qn_nsfc_pubs['_merge']=='both']\n",
    "print(qn_nsfc_pubs.shape)\n",
    "qn_nsfc_pubs.reset_index().head(1)"
   ]
  },
  {
   "cell_type": "code",
   "execution_count": 49,
   "metadata": {},
   "outputs": [
    {
     "data": {
      "text/plain": [
       "1138"
      ]
     },
     "execution_count": 49,
     "metadata": {},
     "output_type": "execute_result"
    }
   ],
   "source": [
    "len(set(list(qn_nsfc_pubs.author_name)))"
   ]
  },
  {
   "cell_type": "markdown",
   "metadata": {},
   "source": [
    "### Output data for regressions"
   ]
  },
  {
   "cell_type": "code",
   "execution_count": 52,
   "metadata": {},
   "outputs": [],
   "source": [
    "qn_nsfc_pubs['grant_t'] = qn_nsfc_pubs['year'].astype('int64')-qn_nsfc_pubs['立项年份']\n",
    "qn_nsfc_pubs.loc[qn_nsfc_pubs['立项年份']==0,'grant_t'] = 0\n",
    "qn_nsfc_pubs['after_grant'] = qn_nsfc_pubs['grant_t'] >0\n",
    "qn_nsfc_pubs['after_grant'] = qn_nsfc_pubs['after_grant'].astype('int64')\n",
    "\n",
    "limit = qn_nsfc_pubs['author_eid'].quantile(0.99)\n",
    "limit\n",
    "qn_nsfc_pubs = qn_nsfc_pubs[qn_nsfc_pubs['author_eid']<=limit]\n",
    "\n",
    "qn_nsfc_pubs.to_csv(\"/Users/yansong/Nutstore Files/基金研究/data/2013--2022面青/qn_reg_type1_coded.csv\")"
   ]
  },
  {
   "cell_type": "markdown",
   "metadata": {},
   "source": [
    "## 期刊分区数据\n",
    "- 先把论文发表的期刊名字匹配起来\n",
    "- 再和JCR期刊分区匹配起来\n",
    "- 再进行transform\n",
    "- 和自科数据合并\n",
    "- 输出文件，在stata内进行回归"
   ]
  },
  {
   "cell_type": "code",
   "execution_count": 44,
   "metadata": {},
   "outputs": [],
   "source": [
    "root_dir = \"/Users/yansong/Nutstore Files/基金研究/data/2013--2022面青/scopusPub_New/dta\"\n",
    "os.chdir(root_dir)\n",
    "authors = os.listdir(root_dir)\n",
    "unique_lists = []\n",
    "\n",
    "for author_file in authors:\n",
    "    if '.dta' in author_file:\n",
    "        author_pubs = pd.read_stata(author_file)\n",
    "        unique_lists.append(author_pubs)\n",
    "\n",
    "pub_names = pd.concat(unique_lists)\n",
    "pub_names = pub_names[['eid','author_eid','publicationname']]"
   ]
  },
  {
   "cell_type": "code",
   "execution_count": 45,
   "metadata": {},
   "outputs": [],
   "source": [
    "def extract_journal(journal_name):\n",
    "\n",
    "    # get the index of the separator \n",
    "    # if index = -1, return entire string\n",
    "    # if index != -1, return from index to end of string \n",
    "    sep_index = journal_name.rfind('/')+1\n",
    "    if sep_index == 0:\n",
    "        journal_eng = journal_name \n",
    "    else:\n",
    "        journal_eng = journal_name[sep_index:]\n",
    "    return journal_eng\n",
    "pub_names['journal_name'] = pub_names['publicationname'].apply(extract_journal)"
   ]
  },
  {
   "cell_type": "code",
   "execution_count": 46,
   "metadata": {},
   "outputs": [],
   "source": [
    "qn_df = qn_author_pubs.merge(pub_names,how='left',on=['eid','author_eid'],indicator=True)\n",
    "qn_df.drop(columns='_merge',inplace=True)"
   ]
  },
  {
   "cell_type": "code",
   "execution_count": 47,
   "metadata": {},
   "outputs": [],
   "source": [
    "root_dir = \"/Users/yansong/Nutstore Files/基金研究/data/2013--2022面青\"\n",
    "os.chdir(root_dir)\n",
    "JCR2022 = pd.read_stata(\"JCR2022.dta\")\n",
    "JCR2022 = JCR2022[['journal_group','j_group1','j_group2','j_group3','j_group4','journal_name']]"
   ]
  },
  {
   "cell_type": "code",
   "execution_count": 48,
   "metadata": {},
   "outputs": [],
   "source": [
    "qn_df = qn_df.merge(JCR2022,how='left',on=['journal_name'],indicator=True)"
   ]
  },
  {
   "cell_type": "code",
   "execution_count": 49,
   "metadata": {},
   "outputs": [
    {
     "data": {
      "text/plain": [
       "_merge\n",
       "left_only     89437\n",
       "both          32676\n",
       "right_only        0\n",
       "Name: count, dtype: int64"
      ]
     },
     "execution_count": 49,
     "metadata": {},
     "output_type": "execute_result"
    }
   ],
   "source": [
    "qn_df._merge.value_counts()"
   ]
  },
  {
   "cell_type": "code",
   "execution_count": 50,
   "metadata": {},
   "outputs": [],
   "source": [
    "qn_df['counter'] = 1"
   ]
  },
  {
   "cell_type": "code",
   "execution_count": 51,
   "metadata": {},
   "outputs": [],
   "source": [
    "qn_df_grouped = qn_df.groupby(['author_name','school_1','year'])[['j_group1','j_group2','j_group3','j_group4','counter']].sum().reset_index()\n"
   ]
  },
  {
   "cell_type": "code",
   "execution_count": 52,
   "metadata": {},
   "outputs": [
    {
     "data": {
      "text/html": [
       "<div>\n",
       "<style scoped>\n",
       "    .dataframe tbody tr th:only-of-type {\n",
       "        vertical-align: middle;\n",
       "    }\n",
       "\n",
       "    .dataframe tbody tr th {\n",
       "        vertical-align: top;\n",
       "    }\n",
       "\n",
       "    .dataframe thead th {\n",
       "        text-align: right;\n",
       "    }\n",
       "</style>\n",
       "<table border=\"1\" class=\"dataframe\">\n",
       "  <thead>\n",
       "    <tr style=\"text-align: right;\">\n",
       "      <th></th>\n",
       "      <th>author_name</th>\n",
       "      <th>school_1</th>\n",
       "      <th>year</th>\n",
       "      <th>j_group1</th>\n",
       "      <th>j_group2</th>\n",
       "      <th>j_group3</th>\n",
       "      <th>j_group4</th>\n",
       "      <th>counter</th>\n",
       "    </tr>\n",
       "  </thead>\n",
       "  <tbody>\n",
       "    <tr>\n",
       "      <th>0</th>\n",
       "      <td>Bai Caiquan</td>\n",
       "      <td>经济研究院</td>\n",
       "      <td>2015</td>\n",
       "      <td>0.0</td>\n",
       "      <td>0.0</td>\n",
       "      <td>0.0</td>\n",
       "      <td>0.0</td>\n",
       "      <td>3</td>\n",
       "    </tr>\n",
       "  </tbody>\n",
       "</table>\n",
       "</div>"
      ],
      "text/plain": [
       "   author_name school_1  year  j_group1  j_group2  j_group3  j_group4  counter\n",
       "0  Bai Caiquan    经济研究院  2015       0.0       0.0       0.0       0.0        3"
      ]
     },
     "execution_count": 52,
     "metadata": {},
     "output_type": "execute_result"
    }
   ],
   "source": [
    "qn_df_grouped.head(1)"
   ]
  },
  {
   "cell_type": "code",
   "execution_count": 53,
   "metadata": {},
   "outputs": [],
   "source": [
    "qn_df_grouped['year'] = pd.to_numeric(qn_df_grouped['year'], errors='coerce')\n",
    "qn_df_grouped.drop(qn_df_grouped.loc[qn_df_grouped['year']<2003].index, inplace=True)\n",
    "qn_df_grouped.drop(qn_df_grouped.loc[qn_df_grouped['year']>2022].index, inplace=True)\n",
    "qn_df_grouped.rename(columns={'school_1':'申请部门'},inplace=True)"
   ]
  },
  {
   "cell_type": "code",
   "execution_count": 54,
   "metadata": {},
   "outputs": [],
   "source": [
    "qn_nsfc_df = qn_df_grouped.merge(qn_nsfc,how='inner',on=['author_name','申请部门'],indicator=True)"
   ]
  },
  {
   "cell_type": "code",
   "execution_count": 55,
   "metadata": {},
   "outputs": [],
   "source": [
    "qn_nsfc_df.to_csv(\"/Users/yansong/Nutstore Files/基金研究/data/2013--2022面青/qn_reg_type3.csv\")"
   ]
  },
  {
   "cell_type": "markdown",
   "metadata": {},
   "source": [
    "## 描述性图"
   ]
  },
  {
   "cell_type": "code",
   "execution_count": 51,
   "metadata": {},
   "outputs": [
    {
     "name": "stderr",
     "output_type": "stream",
     "text": [
      "/var/folders/kp/gk4kvr5s0plbp5y3112cx_x00000gn/T/ipykernel_60791/3616614756.py:4: UserWarning: No data for colormapping provided via 'c'. Parameters 'cmap' will be ignored\n",
      "  scatter = ax.scatter(pub_grant_scatter.grant_t, pub_grant_scatter.author_eid,cmap='tab20b')\n"
     ]
    },
    {
     "data": {
      "image/png": "[encoded data removed]",
      "text/plain": [
       "<Figure size 1600x1200 with 1 Axes>"
      ]
     },
     "metadata": {},
     "output_type": "display_data"
    }
   ],
   "source": [
    "pub_grant_scatter = qn_nsfc_pubs.groupby(['grant_t']).author_eid.mean().reset_index()\n",
    "\n",
    "fig, ax = plt.subplots(figsize=(8,6))\n",
    "scatter = ax.scatter(pub_grant_scatter.grant_t, pub_grant_scatter.author_eid,cmap='tab20b')\n",
    "plt.xticks([-10,-5,0,5,10])\n",
    "plt.show()"
   ]
  },
  {
   "cell_type": "code",
   "execution_count": 53,
   "metadata": {},
   "outputs": [
    {
     "name": "stderr",
     "output_type": "stream",
     "text": [
      "/Library/Frameworks/Python.framework/Versions/3.11/lib/python3.11/site-packages/seaborn/_oldcore.py:1498: FutureWarning: is_categorical_dtype is deprecated and will be removed in a future version. Use isinstance(dtype, CategoricalDtype) instead\n",
      "  if pd.api.types.is_categorical_dtype(vector):\n",
      "/Library/Frameworks/Python.framework/Versions/3.11/lib/python3.11/site-packages/seaborn/_oldcore.py:1498: FutureWarning: is_categorical_dtype is deprecated and will be removed in a future version. Use isinstance(dtype, CategoricalDtype) instead\n",
      "  if pd.api.types.is_categorical_dtype(vector):\n"
     ]
    },
    {
     "data": {
      "image/png": "[encoded data removed]",
      "text/plain": [
       "<Figure size 1000x1000 with 1 Axes>"
      ]
     },
     "metadata": {},
     "output_type": "display_data"
    }
   ],
   "source": [
    "pub_grant_scatter['after_grant'] = pub_grant_scatter['grant_t'] >0 \n",
    "#sns.regplot(x=pub_grant_scatter.grant_t, y=pub_grant_scatter.author_eid)\n",
    "g = sns.lmplot(data = pub_grant_scatter, x='grant_t', y='author_eid',hue='after_grant',legend=False)\n",
    "plt.legend(title='NSFC grant', loc='upper left', labels=['before', 'after'])\n",
    "plt.xlabel('Year')\n",
    "plt.ylabel('No. of publications')\n",
    "\n",
    "plt.show(g)\n",
    "g.savefig('/Users/yansong/Nutstore Files/基金研究/graph_updated/pub_bf_af.png')"
   ]
  }
 ],
 "metadata": {
  "kernelspec": {
   "display_name": "Python 3 (ipykernel)",
   "language": "python",
   "name": "python3"
  },
  "language_info": {
   "codemirror_mode": {
    "name": "ipython",
    "version": 3
   },
   "file_extension": ".py",
   "mimetype": "text/x-python",
   "name": "python",
   "nbconvert_exporter": "python",
   "pygments_lexer": "ipython3",
   "version": "3.11.5"
  }
 },
 "nbformat": 4,
 "nbformat_minor": 4
}
