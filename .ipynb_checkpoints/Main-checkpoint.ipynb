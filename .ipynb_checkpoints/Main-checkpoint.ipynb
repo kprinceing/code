{
 "cells": [
  {
   "cell_type": "markdown",
   "metadata": {},
   "source": [
    "# Main "
   ]
  },
  {
   "cell_type": "markdown",
   "metadata": {},
   "source": [
    "## NSFC_data\n",
    "\n",
    "- 处理每年的申请数据，生成统一的DF, df_all. \n",
    "- 区分面上和青年的申请数据， 分布是 ms_all, qn_all\n",
    "- 对ms_all, qn_all里面部分缺失的申请单位进行补全\n",
    "- 分别输出面上和青年申请人姓名拼音数据。(取Unique申请人时未考虑申请单位)\n",
    "- 输出描述性统计"
   ]
  },
  {
   "cell_type": "markdown",
   "metadata": {},
   "source": [
    "## 14_20_qn"
   ]
  },
  {
   "cell_type": "markdown",
   "metadata": {},
   "source": [
    "- 使用机器学习模型处理自科申请意见"
   ]
  },
  {
   "cell_type": "markdown",
   "metadata": {},
   "source": [
    "## Scopus\n",
    "- 从青年基金申请人姓名拼音数据搜索其eid\n",
    "- 对每个申请人所对应的eid(可能有多个)在scopus里搜索其论文，输出到同名csv"
   ]
  },
  {
   "cell_type": "markdown",
   "metadata": {},
   "source": [
    "## Merge_pub_nsfc\n",
    "- 读取Scopus里生成的论文csv，记录不存在同名问题的申请人的论文整合到一个df里\n",
    "- 把上一步生成的论文df 和 申请人匹配到一起"
   ]
  },
  {
   "cell_type": "markdown",
   "metadata": {},
   "source": [
    "## qn_senti_pub"
   ]
  },
  {
   "cell_type": "markdown",
   "metadata": {},
   "source": [
    "- 回归结果"
   ]
  },
  {
   "cell_type": "code",
   "execution_count": null,
   "metadata": {},
   "outputs": [],
   "source": []
  }
 ],
 "metadata": {
  "kernelspec": {
   "display_name": "Python 3",
   "language": "python",
   "name": "python3"
  },
  "language_info": {
   "codemirror_mode": {
    "name": "ipython",
    "version": 3
   },
   "file_extension": ".py",
   "mimetype": "text/x-python",
   "name": "python",
   "nbconvert_exporter": "python",
   "pygments_lexer": "ipython3",
   "version": "3.7.4"
  }
 },
 "nbformat": 4,
 "nbformat_minor": 2
}
