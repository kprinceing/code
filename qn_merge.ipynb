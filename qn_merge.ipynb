{
 "cells": [
  {
   "cell_type": "code",
   "execution_count": 1,
   "metadata": {},
   "outputs": [],
   "source": [
    "import numpy as np\n",
    "import pandas as pd\n",
    "import os\n",
    "from pypinyin import pinyin, lazy_pinyin, Style\n",
    "import matplotlib.pyplot as plt\n",
    "import econtools.metrics as mt\n",
    "import matplotlib\n",
    "import seaborn as sns\n",
    "from matplotlib import font_manager\n",
    "\n",
    "plt.rcParams['figure.dpi'] = 200\n",
    "plt.rcParams['savefig.dpi'] = 200\n",
    "plt.rcParams['font.family'] = ['Heiti TC']"
   ]
  },
  {
   "cell_type": "markdown",
   "metadata": {},
   "source": [
    "### NSFC data"
   ]
  },
  {
   "cell_type": "code",
   "execution_count": 2,
   "metadata": {},
   "outputs": [],
   "source": [
    "qn_all = pd.read_csv(\"/Users/yansong/Nutstore Files/基金研究/data/2013--2022面青/qn_all.csv\")\n",
    "qn_all['nsfc_code'] = qn_all['申请代码'].str[0:1]\n",
    "#qn_all['nsfc_code'].value_counts()\n",
    "qn_all['立项年份'] = qn_all['年份']*qn_all['立项']\n",
    "qn_all = pd.DataFrame(qn_all.groupby(['申请人','申请部门','nsfc_code']).立项年份.max()).reset_index()"
   ]
  },
  {
   "cell_type": "code",
   "execution_count": 3,
   "metadata": {},
   "outputs": [],
   "source": [
    "def pinyin(name):\n",
    "    i = lazy_pinyin(name)\n",
    "    if len(i) == 3:\n",
    "        capitalized = [str.capitalize(i[0]),str.capitalize(i[1]+i[2])]\n",
    "    elif len(i) == 2:\n",
    "        capitalized = [str.capitalize(i[0]),str.capitalize(i[1])]\n",
    "    else:\n",
    "        #print(i)\n",
    "        capitalized = i\n",
    "    return capitalized\n",
    "def surname(name):\n",
    "    i = lazy_pinyin(name)\n",
    "    if len(i) == 3:\n",
    "        capitalized = str.capitalize(i[0])\n",
    "    elif len(i) == 2:\n",
    "        capitalized = str.capitalize(i[0])\n",
    "    else:\n",
    "        #print(i)\n",
    "        capitalized = i[0]\n",
    "    return capitalized\n",
    "def givenname(name):\n",
    "    i = lazy_pinyin(name)\n",
    "    if len(i) == 3:\n",
    "        capitalized = str.capitalize(i[1]+i[2])\n",
    "    elif len(i) == 2:\n",
    "        capitalized = str.capitalize(i[1])\n",
    "    else:\n",
    "        #print(i)\n",
    "        capitalized = i[0]\n",
    "    return capitalized"
   ]
  },
  {
   "cell_type": "code",
   "execution_count": 4,
   "metadata": {},
   "outputs": [
    {
     "data": {
      "text/html": [
       "<div>\n",
       "<style scoped>\n",
       "    .dataframe tbody tr th:only-of-type {\n",
       "        vertical-align: middle;\n",
       "    }\n",
       "\n",
       "    .dataframe tbody tr th {\n",
       "        vertical-align: top;\n",
       "    }\n",
       "\n",
       "    .dataframe thead th {\n",
       "        text-align: right;\n",
       "    }\n",
       "</style>\n",
       "<table border=\"1\" class=\"dataframe\">\n",
       "  <thead>\n",
       "    <tr style=\"text-align: right;\">\n",
       "      <th></th>\n",
       "      <th>申请人</th>\n",
       "      <th>author_name</th>\n",
       "      <th>申请部门</th>\n",
       "      <th>立项年份</th>\n",
       "    </tr>\n",
       "  </thead>\n",
       "  <tbody>\n",
       "    <tr>\n",
       "      <th>0</th>\n",
       "      <td>Bagrat Mailyan</td>\n",
       "      <td>Bagrat Mailyan Bagrat Mailyan</td>\n",
       "      <td>威海校区</td>\n",
       "      <td>2014</td>\n",
       "    </tr>\n",
       "    <tr>\n",
       "      <th>1</th>\n",
       "      <td>LIU YI</td>\n",
       "      <td>LIU YI LIU YI</td>\n",
       "      <td>国际创新转化学院</td>\n",
       "      <td>0</td>\n",
       "    </tr>\n",
       "    <tr>\n",
       "      <th>2</th>\n",
       "      <td>Munish Kumar Gupta</td>\n",
       "      <td>Munish Kumar Gupta Munish Kumar Gupta</td>\n",
       "      <td>机械工程学院</td>\n",
       "      <td>0</td>\n",
       "    </tr>\n",
       "    <tr>\n",
       "      <th>3</th>\n",
       "      <td>Najib Ahmad Muhammad</td>\n",
       "      <td>Najib Ahmad Muhammad Najib Ahmad Muhammad</td>\n",
       "      <td>材料学院</td>\n",
       "      <td>0</td>\n",
       "    </tr>\n",
       "    <tr>\n",
       "      <th>4</th>\n",
       "      <td>Shani Tiwari</td>\n",
       "      <td>Shani Tiwari Shani Tiwari</td>\n",
       "      <td>环境研究院</td>\n",
       "      <td>0</td>\n",
       "    </tr>\n",
       "  </tbody>\n",
       "</table>\n",
       "</div>"
      ],
      "text/plain": [
       "                    申请人                                author_name      申请部门  \\\n",
       "0        Bagrat Mailyan              Bagrat Mailyan Bagrat Mailyan      威海校区   \n",
       "1                LIU YI                              LIU YI LIU YI  国际创新转化学院   \n",
       "2    Munish Kumar Gupta      Munish Kumar Gupta Munish Kumar Gupta    机械工程学院   \n",
       "3  Najib Ahmad Muhammad  Najib Ahmad Muhammad Najib Ahmad Muhammad      材料学院   \n",
       "4          Shani Tiwari                  Shani Tiwari Shani Tiwari     环境研究院   \n",
       "\n",
       "   立项年份  \n",
       "0  2014  \n",
       "1     0  \n",
       "2     0  \n",
       "3     0  \n",
       "4     0  "
      ]
     },
     "execution_count": 4,
     "metadata": {},
     "output_type": "execute_result"
    }
   ],
   "source": [
    "qn_all['pinyin']= qn_all['申请人'].apply(pinyin)\n",
    "qn_all['surname'] = qn_all['申请人'].apply(surname)\n",
    "qn_all['givenname'] = qn_all['申请人'].apply(givenname)\n",
    "qn_all['author_name'] = qn_all['surname']+' '+qn_all['givenname']\n",
    "qn_nsfc = qn_all.groupby(by=['申请人','申请部门','nsfc_code','author_name'])['立项年份'].sum().reset_index()[['申请人','author_name','申请部门','立项年份']]\n",
    "qn_nsfc.head(5)"
   ]
  },
  {
   "cell_type": "code",
   "execution_count": 5,
   "metadata": {},
   "outputs": [
    {
     "data": {
      "text/plain": [
       "立项年份\n",
       "0       1058\n",
       "2022     162\n",
       "2021     147\n",
       "2019     109\n",
       "2020     106\n",
       "2016      64\n",
       "2014      60\n",
       "2013      58\n",
       "2017      56\n",
       "2018      53\n",
       "2015      47\n",
       "Name: count, dtype: int64"
      ]
     },
     "execution_count": 5,
     "metadata": {},
     "output_type": "execute_result"
    }
   ],
   "source": [
    "qn_all.立项年份.value_counts()"
   ]
  },
  {
   "cell_type": "markdown",
   "metadata": {},
   "source": [
    "### Publication data\n",
    "\n",
    "- Consolidate all publications with unique author eid\n",
    "- Consolidate all author_eids\n",
    "- Merge the two using author_eid \n",
    "- Reshape to wide format"
   ]
  },
  {
   "cell_type": "markdown",
   "metadata": {},
   "source": [
    "### 读取文章数据"
   ]
  },
  {
   "cell_type": "code",
   "execution_count": 6,
   "metadata": {},
   "outputs": [
    {
     "data": {
      "text/html": [
       "<div>\n",
       "<style scoped>\n",
       "    .dataframe tbody tr th:only-of-type {\n",
       "        vertical-align: middle;\n",
       "    }\n",
       "\n",
       "    .dataframe tbody tr th {\n",
       "        vertical-align: top;\n",
       "    }\n",
       "\n",
       "    .dataframe thead th {\n",
       "        text-align: right;\n",
       "    }\n",
       "</style>\n",
       "<table border=\"1\" class=\"dataframe\">\n",
       "  <thead>\n",
       "    <tr style=\"text-align: right;\">\n",
       "      <th></th>\n",
       "      <th>affilname</th>\n",
       "      <th>afid</th>\n",
       "      <th>author_eid</th>\n",
       "      <th>author_names</th>\n",
       "      <th>citedby_count</th>\n",
       "      <th>coverDate</th>\n",
       "      <th>doi</th>\n",
       "      <th>eid</th>\n",
       "      <th>title</th>\n",
       "      <th>school_1</th>\n",
       "    </tr>\n",
       "  </thead>\n",
       "  <tbody>\n",
       "    <tr>\n",
       "      <th>0</th>\n",
       "      <td>Shandong First Medical University &amp;amp; Shando...</td>\n",
       "      <td>60161479;60092862;60031419;60031031</td>\n",
       "      <td>55981883200</td>\n",
       "      <td>Jin, Yecheng;Gao, Xiaotong;Lu, Miaoqing;Chen, ...</td>\n",
       "      <td>0</td>\n",
       "      <td>10/10/2022</td>\n",
       "      <td>10.1093/hmg/ddac127</td>\n",
       "      <td>2-s2.0-85139803890</td>\n",
       "      <td>Loss of BAF (mSWI/SNF) chromatin-remodeling AT...</td>\n",
       "      <td>山大二院</td>\n",
       "    </tr>\n",
       "  </tbody>\n",
       "</table>\n",
       "</div>"
      ],
      "text/plain": [
       "                                           affilname  \\\n",
       "0  Shandong First Medical University &amp; Shando...   \n",
       "\n",
       "                                  afid   author_eid  \\\n",
       "0  60161479;60092862;60031419;60031031  55981883200   \n",
       "\n",
       "                                        author_names citedby_count  \\\n",
       "0  Jin, Yecheng;Gao, Xiaotong;Lu, Miaoqing;Chen, ...             0   \n",
       "\n",
       "    coverDate                  doi                 eid  \\\n",
       "0  10/10/2022  10.1093/hmg/ddac127  2-s2.0-85139803890   \n",
       "\n",
       "                                               title school_1  \n",
       "0  Loss of BAF (mSWI/SNF) chromatin-remodeling AT...     山大二院  "
      ]
     },
     "execution_count": 6,
     "metadata": {},
     "output_type": "execute_result"
    }
   ],
   "source": [
    "root_dir = \"/Users/yansong/Nutstore Files/论文发表2013-2020/scopusPub/dta\"\n",
    "authors = os.listdir(root_dir)\n",
    "os.chdir(root_dir)\n",
    "lists_pubs = []\n",
    "for author_file in authors:\n",
    "    if '.dta' in author_file:\n",
    "        author_pubs = pd.read_stata(author_file)\n",
    "        if 'school 1' in author_pubs.columns:\n",
    "            author_pubs = author_pubs[['affilname', 'afid', 'author_eid', 'author_names',\n",
    "           'citedby_count', 'coverDate', 'doi', 'eid', 'title', 'school 1']]\n",
    "            author_pubs.rename(columns={'school 1':'school_1'},inplace=True)\n",
    "            lists_pubs.append(author_pubs)\n",
    "            \n",
    "        elif 'school1' in author_pubs.columns:\n",
    "            author_pubs = author_pubs[['affilname', 'afid', 'author_eid', 'author_names',\n",
    "           'citedby_count', 'coverDate', 'doi', 'eid', 'title', 'school1']]\n",
    "            author_pubs.rename(columns={'school1':'school_1'},inplace=True)\n",
    "            lists_pubs.append(author_pubs)\n",
    "            \n",
    "        elif 'school1' in author_pubs.columns:\n",
    "            author_pubs = author_pubs[['affilname', 'afid', 'author_eid', 'author_names',\n",
    "           'citedby_count', 'coverDate', 'doi', 'eid', 'title', 'school']]\n",
    "            author_pubs.rename(columns={'school':'school_1'},inplace=True)\n",
    "            lists_pubs.append(author_pubs)\n",
    "        else:\n",
    "            print(author_file)\n",
    "qn_pubs = pd.concat(lists_pubs)    \n",
    "qn_pubs.head(1)"
   ]
  },
  {
   "cell_type": "code",
   "execution_count": 7,
   "metadata": {},
   "outputs": [
    {
     "data": {
      "text/plain": [
       "numpy.float64"
      ]
     },
     "execution_count": 7,
     "metadata": {},
     "output_type": "execute_result"
    }
   ],
   "source": [
    "qn_pubs['author_eid'] = pd.to_numeric(qn_pubs['author_eid'], errors='coerce')\n",
    "type(qn_pubs['author_eid'].iloc[0])"
   ]
  },
  {
   "cell_type": "code",
   "execution_count": 43,
   "metadata": {},
   "outputs": [
    {
     "data": {
      "text/plain": [
       "1213"
      ]
     },
     "execution_count": 43,
     "metadata": {},
     "output_type": "execute_result"
    }
   ],
   "source": [
    "len(authors)"
   ]
  },
  {
   "cell_type": "markdown",
   "metadata": {},
   "source": [
    "### 读取作者信息"
   ]
  },
  {
   "cell_type": "code",
   "execution_count": 8,
   "metadata": {},
   "outputs": [
    {
     "data": {
      "text/html": [
       "<div>\n",
       "<style scoped>\n",
       "    .dataframe tbody tr th:only-of-type {\n",
       "        vertical-align: middle;\n",
       "    }\n",
       "\n",
       "    .dataframe tbody tr th {\n",
       "        vertical-align: top;\n",
       "    }\n",
       "\n",
       "    .dataframe thead th {\n",
       "        text-align: right;\n",
       "    }\n",
       "</style>\n",
       "<table border=\"1\" class=\"dataframe\">\n",
       "  <thead>\n",
       "    <tr style=\"text-align: right;\">\n",
       "      <th></th>\n",
       "      <th>Unnamed: 0</th>\n",
       "      <th>orcid</th>\n",
       "      <th>surname</th>\n",
       "      <th>initials</th>\n",
       "      <th>givenname</th>\n",
       "      <th>affiliation</th>\n",
       "      <th>documents</th>\n",
       "      <th>affiliation_id</th>\n",
       "      <th>city</th>\n",
       "      <th>country</th>\n",
       "      <th>areas</th>\n",
       "      <th>author_eid</th>\n",
       "    </tr>\n",
       "  </thead>\n",
       "  <tbody>\n",
       "    <tr>\n",
       "      <th>0</th>\n",
       "      <td>0</td>\n",
       "      <td>NaN</td>\n",
       "      <td>Chen</td>\n",
       "      <td>Z.</td>\n",
       "      <td>Zhuo</td>\n",
       "      <td>Shandong University</td>\n",
       "      <td>21</td>\n",
       "      <td>60031031</td>\n",
       "      <td>Jinan</td>\n",
       "      <td>China</td>\n",
       "      <td>SOCI (21); ENVI (13); ENGI (8)</td>\n",
       "      <td>57192706881</td>\n",
       "    </tr>\n",
       "  </tbody>\n",
       "</table>\n",
       "</div>"
      ],
      "text/plain": [
       "  Unnamed: 0 orcid surname initials givenname          affiliation documents  \\\n",
       "0          0   NaN    Chen       Z.      Zhuo  Shandong University        21   \n",
       "\n",
       "  affiliation_id   city country                           areas   author_eid  \n",
       "0       60031031  Jinan   China  SOCI (21); ENVI (13); ENGI (8)  57192706881  "
      ]
     },
     "execution_count": 8,
     "metadata": {},
     "output_type": "execute_result"
    }
   ],
   "source": [
    "root_dir = \"/Users/yansong/Nutstore Files/基金研究/data/2013--2022面青/scopus\"\n",
    "authors = os.listdir(root_dir)\n",
    "os.chdir(root_dir)\n",
    "unique_lists = []\n",
    "\n",
    "for author_file in authors:\n",
    "    if '.csv' in author_file:\n",
    "        author_pubs = pd.read_csv(author_file)\n",
    "        unique_lists.append(author_pubs)\n",
    "\n",
    "author_ids = pd.concat(unique_lists)\n",
    "author_ids['author_eid']= author_ids['eid'].str.split(\"-\").str.get(2)\n",
    "author_ids['author_eid'] = author_ids['author_eid'].astype('int64')\n",
    "author_ids.drop(columns=['eid'],inplace=True)\n",
    "author_ids.head(1)"
   ]
  },
  {
   "cell_type": "code",
   "execution_count": 9,
   "metadata": {},
   "outputs": [
    {
     "data": {
      "text/plain": [
       "4502"
      ]
     },
     "execution_count": 9,
     "metadata": {},
     "output_type": "execute_result"
    }
   ],
   "source": [
    "len(author_ids.author_eid.unique())"
   ]
  },
  {
   "cell_type": "markdown",
   "metadata": {},
   "source": [
    "### 匹配作者和文章(merge on author_eid)"
   ]
  },
  {
   "cell_type": "code",
   "execution_count": 10,
   "metadata": {},
   "outputs": [
    {
     "data": {
      "text/plain": [
       "_merge\n",
       "both          116987\n",
       "left_only         42\n",
       "right_only         0\n",
       "Name: count, dtype: int64"
      ]
     },
     "execution_count": 10,
     "metadata": {},
     "output_type": "execute_result"
    }
   ],
   "source": [
    "qn_author_pubs = qn_pubs.merge(author_ids,how='left',on='author_eid',indicator=True)\n",
    "qn_author_pubs['year'] = qn_author_pubs['coverDate'].str[-4:]\n",
    "qn_author_pubs['author_name'] = qn_author_pubs['surname']+' ' +qn_author_pubs['givenname']\n",
    "qn_author_pubs._merge.value_counts()"
   ]
  },
  {
   "cell_type": "code",
   "execution_count": 11,
   "metadata": {},
   "outputs": [],
   "source": [
    "qn_author_pubs.drop(columns=['_merge'],inplace=True,errors='ignore')\n",
    "qn_author_pubs['citations'] = pd.to_numeric(qn_author_pubs['citedby_count'], errors='coerce')\n",
    "qn_author_pubs['coauthors'] = qn_author_pubs.author_names.str.count(';')"
   ]
  },
  {
   "cell_type": "markdown",
   "metadata": {},
   "source": [
    "### 转换为 author by year data"
   ]
  },
  {
   "cell_type": "code",
   "execution_count": 12,
   "metadata": {},
   "outputs": [],
   "source": [
    "qn_author_year_pubs4 = qn_author_pubs.groupby(['author_name','school_1','year'])['author_names'].apply('/'.join).reset_index()\n",
    "qn_author_year_pubs4['unique_coauthors'] = qn_author_year_pubs4.author_names.str.count(';')\n",
    "\n",
    "#qn_author_pubs['coauthors'] = qn_author_pubs.author_names.str.count(';')\n",
    "\n",
    "qn_author_year_pubs3 = qn_author_pubs.groupby(['author_name','school_1','year'])['coauthors'].mean().reset_index()\n",
    "\n",
    "qn_author_year_pubs2 = qn_author_pubs.groupby(['author_name','school_1','year'])['citations'].sum().reset_index()\n",
    "\n",
    "qn_author_year_pubs1 = qn_author_pubs.groupby(['author_name','school_1','year'])['author_eid'].count().reset_index()\n",
    "\n",
    "qn_author_year_pubs  = qn_author_year_pubs1.merge(qn_author_year_pubs2,how='left',\n",
    "                                                  on=['author_name','school_1','year'],indicator=True)\n",
    "qn_author_year_pubs.drop(columns=['_merge'],inplace=True,errors='ignore')\n",
    "\n",
    "qn_author_year_pubs = qn_author_year_pubs.merge(qn_author_year_pubs3,how='left',\n",
    "                                                  on=['author_name','school_1','year'],indicator=True)\n",
    "qn_author_year_pubs.drop(columns=['_merge'],inplace=True,errors='ignore')\n",
    "\n",
    "qn_author_year_pubs = qn_author_year_pubs.merge(qn_author_year_pubs4,how='left',\n",
    "                                                  on=['author_name','school_1','year'],indicator=True)\n",
    "qn_author_year_pubs.drop(columns=['_merge'],inplace=True,errors='ignore')\n"
   ]
  },
  {
   "cell_type": "code",
   "execution_count": 13,
   "metadata": {},
   "outputs": [],
   "source": [
    "# pub_scatter = qn_author_year_pubs.groupby(['year']).author_eid.mean().reset_index()\n",
    "# # pub_scatter = pub_scatter.loc[4:23,:] # select between 2003 and 2022\n",
    "# pub_scatter['year'] = pd.to_numeric(pub_scatter['year'], errors='coerce')\n",
    "# pub_scatter.drop(pub_scatter.loc[pub_scatter['year']<2003].index, inplace=True)\n",
    "# pub_scatter.drop(pub_scatter.loc[pub_scatter['year']>2022].index, inplace=True)\n",
    "# matplotlib.style.use('bmh') \n",
    "# fig, ax = plt.subplots(figsize=(8,6))\n",
    "# scatter = ax.scatter(pub_scatter.year, pub_scatter.author_eid,cmap='tab20b')\n",
    "# plt.xticks([2005,2010,2015,2020])\n",
    "# plt.show()"
   ]
  },
  {
   "cell_type": "code",
   "execution_count": 14,
   "metadata": {
    "scrolled": true
   },
   "outputs": [],
   "source": [
    "# matplotlib.style.use('bmh') \n",
    "# #.hist(normed=True)\n",
    "# plt.hist(np.clip(qn_author_year_pubs.groupby(['author_name']).author_eid.mean(),0,10))"
   ]
  },
  {
   "cell_type": "markdown",
   "metadata": {},
   "source": [
    "## 合并基金与论文数据(on author_name, 申请部门)"
   ]
  },
  {
   "cell_type": "code",
   "execution_count": 34,
   "metadata": {},
   "outputs": [],
   "source": [
    "qn_author_year_pubs.rename(columns={'school_1':'申请部门'},inplace=True)\n",
    "qn_author_year_pubs['year'] = pd.to_numeric(qn_author_year_pubs['year'], errors='coerce')\n",
    "qn_author_year_pubs.drop(qn_author_year_pubs.loc[qn_author_year_pubs['year']<2003].index, inplace=True)\n",
    "qn_author_year_pubs.drop(qn_author_year_pubs.loc[qn_author_year_pubs['year']>2022].index, inplace=True)\n",
    "\n",
    "#qn_nsfc_pubs = qn_author_year_pubs.merge(qn_nsfc,how='outer',on=['author_name','申请部门'],indicator=True)\n",
    "\n",
    "qn_nsfc_pubs = qn_author_year_pubs.merge(qn_nsfc,how='outer',on=['author_name'],indicator=True)"
   ]
  },
  {
   "cell_type": "code",
   "execution_count": 35,
   "metadata": {},
   "outputs": [
    {
     "data": {
      "text/html": [
       "<div>\n",
       "<style scoped>\n",
       "    .dataframe tbody tr th:only-of-type {\n",
       "        vertical-align: middle;\n",
       "    }\n",
       "\n",
       "    .dataframe tbody tr th {\n",
       "        vertical-align: top;\n",
       "    }\n",
       "\n",
       "    .dataframe thead th {\n",
       "        text-align: right;\n",
       "    }\n",
       "</style>\n",
       "<table border=\"1\" class=\"dataframe\">\n",
       "  <thead>\n",
       "    <tr style=\"text-align: right;\">\n",
       "      <th></th>\n",
       "      <th>author_name</th>\n",
       "      <th>申请部门</th>\n",
       "      <th>year</th>\n",
       "      <th>author_eid</th>\n",
       "      <th>citations</th>\n",
       "      <th>coauthors</th>\n",
       "      <th>author_names</th>\n",
       "      <th>unique_coauthors</th>\n",
       "    </tr>\n",
       "  </thead>\n",
       "  <tbody>\n",
       "    <tr>\n",
       "      <th>0</th>\n",
       "      <td>Bai Caiquan</td>\n",
       "      <td>经济研究院</td>\n",
       "      <td>2015</td>\n",
       "      <td>3</td>\n",
       "      <td>3.0</td>\n",
       "      <td>4.0</td>\n",
       "      <td>Bai, Caiquan;He, Yiqing;Zhou, Decai;Zhang, Yi;...</td>\n",
       "      <td>12</td>\n",
       "    </tr>\n",
       "  </tbody>\n",
       "</table>\n",
       "</div>"
      ],
      "text/plain": [
       "   author_name   申请部门  year  author_eid  citations  coauthors  \\\n",
       "0  Bai Caiquan  经济研究院  2015           3        3.0        4.0   \n",
       "\n",
       "                                        author_names  unique_coauthors  \n",
       "0  Bai, Caiquan;He, Yiqing;Zhou, Decai;Zhang, Yi;...                12  "
      ]
     },
     "execution_count": 35,
     "metadata": {},
     "output_type": "execute_result"
    }
   ],
   "source": [
    "qn_author_year_pubs.head(1)"
   ]
  },
  {
   "cell_type": "code",
   "execution_count": 36,
   "metadata": {},
   "outputs": [
    {
     "data": {
      "text/html": [
       "<div>\n",
       "<style scoped>\n",
       "    .dataframe tbody tr th:only-of-type {\n",
       "        vertical-align: middle;\n",
       "    }\n",
       "\n",
       "    .dataframe tbody tr th {\n",
       "        vertical-align: top;\n",
       "    }\n",
       "\n",
       "    .dataframe thead th {\n",
       "        text-align: right;\n",
       "    }\n",
       "</style>\n",
       "<table border=\"1\" class=\"dataframe\">\n",
       "  <thead>\n",
       "    <tr style=\"text-align: right;\">\n",
       "      <th></th>\n",
       "      <th>申请人</th>\n",
       "      <th>author_name</th>\n",
       "      <th>申请部门</th>\n",
       "      <th>立项年份</th>\n",
       "    </tr>\n",
       "  </thead>\n",
       "  <tbody>\n",
       "    <tr>\n",
       "      <th>0</th>\n",
       "      <td>Bagrat Mailyan</td>\n",
       "      <td>Bagrat Mailyan Bagrat Mailyan</td>\n",
       "      <td>威海校区</td>\n",
       "      <td>2014</td>\n",
       "    </tr>\n",
       "  </tbody>\n",
       "</table>\n",
       "</div>"
      ],
      "text/plain": [
       "              申请人                    author_name  申请部门  立项年份\n",
       "0  Bagrat Mailyan  Bagrat Mailyan Bagrat Mailyan  威海校区  2014"
      ]
     },
     "execution_count": 36,
     "metadata": {},
     "output_type": "execute_result"
    }
   ],
   "source": [
    "qn_nsfc.head(1)"
   ]
  },
  {
   "cell_type": "code",
   "execution_count": 37,
   "metadata": {},
   "outputs": [
    {
     "data": {
      "text/plain": [
       "(1920, 4)"
      ]
     },
     "execution_count": 37,
     "metadata": {},
     "output_type": "execute_result"
    }
   ],
   "source": [
    "qn_nsfc.shape"
   ]
  },
  {
   "cell_type": "code",
   "execution_count": 38,
   "metadata": {},
   "outputs": [
    {
     "data": {
      "text/plain": [
       "_merge\n",
       "both          19583\n",
       "left_only       762\n",
       "right_only      615\n",
       "Name: count, dtype: int64"
      ]
     },
     "execution_count": 38,
     "metadata": {},
     "output_type": "execute_result"
    }
   ],
   "source": [
    "qn_nsfc_pubs._merge.value_counts()"
   ]
  },
  {
   "cell_type": "code",
   "execution_count": 39,
   "metadata": {},
   "outputs": [
    {
     "data": {
      "text/html": [
       "<div>\n",
       "<style scoped>\n",
       "    .dataframe tbody tr th:only-of-type {\n",
       "        vertical-align: middle;\n",
       "    }\n",
       "\n",
       "    .dataframe tbody tr th {\n",
       "        vertical-align: top;\n",
       "    }\n",
       "\n",
       "    .dataframe thead th {\n",
       "        text-align: right;\n",
       "    }\n",
       "</style>\n",
       "<table border=\"1\" class=\"dataframe\">\n",
       "  <thead>\n",
       "    <tr style=\"text-align: right;\">\n",
       "      <th></th>\n",
       "      <th>author_name</th>\n",
       "      <th>申请部门_x</th>\n",
       "      <th>year</th>\n",
       "      <th>author_eid</th>\n",
       "      <th>citations</th>\n",
       "      <th>coauthors</th>\n",
       "      <th>author_names</th>\n",
       "      <th>unique_coauthors</th>\n",
       "      <th>申请人</th>\n",
       "      <th>申请部门_y</th>\n",
       "      <th>立项年份</th>\n",
       "      <th>_merge</th>\n",
       "    </tr>\n",
       "  </thead>\n",
       "  <tbody>\n",
       "    <tr>\n",
       "      <th>0</th>\n",
       "      <td>Bai Caiquan</td>\n",
       "      <td>经济研究院</td>\n",
       "      <td>2015.0</td>\n",
       "      <td>3.0</td>\n",
       "      <td>3.0</td>\n",
       "      <td>4.0</td>\n",
       "      <td>Bai, Caiquan;He, Yiqing;Zhou, Decai;Zhang, Yi;...</td>\n",
       "      <td>12.0</td>\n",
       "      <td>白彩全</td>\n",
       "      <td>经济研究院</td>\n",
       "      <td>2022.0</td>\n",
       "      <td>both</td>\n",
       "    </tr>\n",
       "  </tbody>\n",
       "</table>\n",
       "</div>"
      ],
      "text/plain": [
       "   author_name 申请部门_x    year  author_eid  citations  coauthors  \\\n",
       "0  Bai Caiquan  经济研究院  2015.0         3.0        3.0        4.0   \n",
       "\n",
       "                                        author_names  unique_coauthors  申请人  \\\n",
       "0  Bai, Caiquan;He, Yiqing;Zhou, Decai;Zhang, Yi;...              12.0  白彩全   \n",
       "\n",
       "  申请部门_y    立项年份 _merge  \n",
       "0  经济研究院  2022.0   both  "
      ]
     },
     "execution_count": 39,
     "metadata": {},
     "output_type": "execute_result"
    }
   ],
   "source": [
    "qn_nsfc_pubs.head(1)"
   ]
  },
  {
   "cell_type": "code",
   "execution_count": 30,
   "metadata": {},
   "outputs": [
    {
     "data": {
      "text/html": [
       "<div>\n",
       "<style scoped>\n",
       "    .dataframe tbody tr th:only-of-type {\n",
       "        vertical-align: middle;\n",
       "    }\n",
       "\n",
       "    .dataframe tbody tr th {\n",
       "        vertical-align: top;\n",
       "    }\n",
       "\n",
       "    .dataframe thead th {\n",
       "        text-align: right;\n",
       "    }\n",
       "</style>\n",
       "<table border=\"1\" class=\"dataframe\">\n",
       "  <thead>\n",
       "    <tr style=\"text-align: right;\">\n",
       "      <th></th>\n",
       "      <th>index</th>\n",
       "      <th>author_name</th>\n",
       "      <th>申请部门</th>\n",
       "      <th>year</th>\n",
       "      <th>author_eid</th>\n",
       "      <th>citations</th>\n",
       "      <th>coauthors</th>\n",
       "      <th>author_names</th>\n",
       "      <th>unique_coauthors</th>\n",
       "      <th>申请人</th>\n",
       "      <th>立项年份</th>\n",
       "      <th>_merge</th>\n",
       "    </tr>\n",
       "  </thead>\n",
       "  <tbody>\n",
       "    <tr>\n",
       "      <th>0</th>\n",
       "      <td>15606</td>\n",
       "      <td>Bagrat Mailyan Bagrat Mailyan</td>\n",
       "      <td>威海校区</td>\n",
       "      <td>NaN</td>\n",
       "      <td>NaN</td>\n",
       "      <td>NaN</td>\n",
       "      <td>NaN</td>\n",
       "      <td>NaN</td>\n",
       "      <td>NaN</td>\n",
       "      <td>Bagrat Mailyan</td>\n",
       "      <td>2014.0</td>\n",
       "      <td>right_only</td>\n",
       "    </tr>\n",
       "    <tr>\n",
       "      <th>1</th>\n",
       "      <td>15607</td>\n",
       "      <td>LIU YI LIU YI</td>\n",
       "      <td>国际创新转化学院</td>\n",
       "      <td>NaN</td>\n",
       "      <td>NaN</td>\n",
       "      <td>NaN</td>\n",
       "      <td>NaN</td>\n",
       "      <td>NaN</td>\n",
       "      <td>NaN</td>\n",
       "      <td>LIU YI</td>\n",
       "      <td>0.0</td>\n",
       "      <td>right_only</td>\n",
       "    </tr>\n",
       "    <tr>\n",
       "      <th>2</th>\n",
       "      <td>15608</td>\n",
       "      <td>Munish Kumar Gupta Munish Kumar Gupta</td>\n",
       "      <td>机械工程学院</td>\n",
       "      <td>NaN</td>\n",
       "      <td>NaN</td>\n",
       "      <td>NaN</td>\n",
       "      <td>NaN</td>\n",
       "      <td>NaN</td>\n",
       "      <td>NaN</td>\n",
       "      <td>Munish Kumar Gupta</td>\n",
       "      <td>0.0</td>\n",
       "      <td>right_only</td>\n",
       "    </tr>\n",
       "    <tr>\n",
       "      <th>3</th>\n",
       "      <td>15609</td>\n",
       "      <td>Najib Ahmad Muhammad Najib Ahmad Muhammad</td>\n",
       "      <td>材料学院</td>\n",
       "      <td>NaN</td>\n",
       "      <td>NaN</td>\n",
       "      <td>NaN</td>\n",
       "      <td>NaN</td>\n",
       "      <td>NaN</td>\n",
       "      <td>NaN</td>\n",
       "      <td>Najib Ahmad Muhammad</td>\n",
       "      <td>0.0</td>\n",
       "      <td>right_only</td>\n",
       "    </tr>\n",
       "    <tr>\n",
       "      <th>4</th>\n",
       "      <td>15610</td>\n",
       "      <td>Shani Tiwari Shani Tiwari</td>\n",
       "      <td>环境研究院</td>\n",
       "      <td>NaN</td>\n",
       "      <td>NaN</td>\n",
       "      <td>NaN</td>\n",
       "      <td>NaN</td>\n",
       "      <td>NaN</td>\n",
       "      <td>NaN</td>\n",
       "      <td>Shani Tiwari</td>\n",
       "      <td>0.0</td>\n",
       "      <td>right_only</td>\n",
       "    </tr>\n",
       "    <tr>\n",
       "      <th>5</th>\n",
       "      <td>15611</td>\n",
       "      <td>Tsona Tchinda Narcisse Tsona Tchinda Narcisse</td>\n",
       "      <td>环境研究院</td>\n",
       "      <td>NaN</td>\n",
       "      <td>NaN</td>\n",
       "      <td>NaN</td>\n",
       "      <td>NaN</td>\n",
       "      <td>NaN</td>\n",
       "      <td>NaN</td>\n",
       "      <td>Tsona Tchinda Narcisse</td>\n",
       "      <td>2017.0</td>\n",
       "      <td>right_only</td>\n",
       "    </tr>\n",
       "    <tr>\n",
       "      <th>6</th>\n",
       "      <td>15612</td>\n",
       "      <td>WU SHU YAO WU SHU YAO</td>\n",
       "      <td>人文社会科学青岛研究院</td>\n",
       "      <td>NaN</td>\n",
       "      <td>NaN</td>\n",
       "      <td>NaN</td>\n",
       "      <td>NaN</td>\n",
       "      <td>NaN</td>\n",
       "      <td>NaN</td>\n",
       "      <td>WU SHU YAO</td>\n",
       "      <td>0.0</td>\n",
       "      <td>right_only</td>\n",
       "    </tr>\n",
       "    <tr>\n",
       "      <th>7</th>\n",
       "      <td>15613</td>\n",
       "      <td>Ding Yi</td>\n",
       "      <td>威海校区</td>\n",
       "      <td>NaN</td>\n",
       "      <td>NaN</td>\n",
       "      <td>NaN</td>\n",
       "      <td>NaN</td>\n",
       "      <td>NaN</td>\n",
       "      <td>NaN</td>\n",
       "      <td>丁一</td>\n",
       "      <td>0.0</td>\n",
       "      <td>right_only</td>\n",
       "    </tr>\n",
       "    <tr>\n",
       "      <th>8</th>\n",
       "      <td>15614</td>\n",
       "      <td>Ding Yi</td>\n",
       "      <td>威海校区</td>\n",
       "      <td>NaN</td>\n",
       "      <td>NaN</td>\n",
       "      <td>NaN</td>\n",
       "      <td>NaN</td>\n",
       "      <td>NaN</td>\n",
       "      <td>NaN</td>\n",
       "      <td>丁一</td>\n",
       "      <td>0.0</td>\n",
       "      <td>right_only</td>\n",
       "    </tr>\n",
       "    <tr>\n",
       "      <th>9</th>\n",
       "      <td>15615</td>\n",
       "      <td>Ding Baoyang</td>\n",
       "      <td>卫生管理与政策研究中心</td>\n",
       "      <td>NaN</td>\n",
       "      <td>NaN</td>\n",
       "      <td>NaN</td>\n",
       "      <td>NaN</td>\n",
       "      <td>NaN</td>\n",
       "      <td>NaN</td>\n",
       "      <td>丁保扬</td>\n",
       "      <td>0.0</td>\n",
       "      <td>right_only</td>\n",
       "    </tr>\n",
       "    <tr>\n",
       "      <th>10</th>\n",
       "      <td>15616</td>\n",
       "      <td>Ding Wenlong</td>\n",
       "      <td>控制科学与工程学院</td>\n",
       "      <td>NaN</td>\n",
       "      <td>NaN</td>\n",
       "      <td>NaN</td>\n",
       "      <td>NaN</td>\n",
       "      <td>NaN</td>\n",
       "      <td>NaN</td>\n",
       "      <td>丁文龙</td>\n",
       "      <td>2022.0</td>\n",
       "      <td>right_only</td>\n",
       "    </tr>\n",
       "    <tr>\n",
       "      <th>11</th>\n",
       "      <td>15617</td>\n",
       "      <td>Ding Shuo</td>\n",
       "      <td>生命学院</td>\n",
       "      <td>NaN</td>\n",
       "      <td>NaN</td>\n",
       "      <td>NaN</td>\n",
       "      <td>NaN</td>\n",
       "      <td>NaN</td>\n",
       "      <td>NaN</td>\n",
       "      <td>丁硕</td>\n",
       "      <td>0.0</td>\n",
       "      <td>right_only</td>\n",
       "    </tr>\n",
       "    <tr>\n",
       "      <th>12</th>\n",
       "      <td>15618</td>\n",
       "      <td>Shang Guanchong</td>\n",
       "      <td>数学与交叉科学研究中心</td>\n",
       "      <td>NaN</td>\n",
       "      <td>NaN</td>\n",
       "      <td>NaN</td>\n",
       "      <td>NaN</td>\n",
       "      <td>NaN</td>\n",
       "      <td>NaN</td>\n",
       "      <td>上官冲</td>\n",
       "      <td>2021.0</td>\n",
       "      <td>right_only</td>\n",
       "    </tr>\n",
       "    <tr>\n",
       "      <th>13</th>\n",
       "      <td>15619</td>\n",
       "      <td>Cong Weiyan</td>\n",
       "      <td>威海校区</td>\n",
       "      <td>NaN</td>\n",
       "      <td>NaN</td>\n",
       "      <td>NaN</td>\n",
       "      <td>NaN</td>\n",
       "      <td>NaN</td>\n",
       "      <td>NaN</td>\n",
       "      <td>丛伟艳</td>\n",
       "      <td>0.0</td>\n",
       "      <td>right_only</td>\n",
       "    </tr>\n",
       "    <tr>\n",
       "      <th>14</th>\n",
       "      <td>15620</td>\n",
       "      <td>Yan Xiaodong</td>\n",
       "      <td>中泰证券金融研究院</td>\n",
       "      <td>NaN</td>\n",
       "      <td>NaN</td>\n",
       "      <td>NaN</td>\n",
       "      <td>NaN</td>\n",
       "      <td>NaN</td>\n",
       "      <td>NaN</td>\n",
       "      <td>严晓东</td>\n",
       "      <td>2019.0</td>\n",
       "      <td>right_only</td>\n",
       "    </tr>\n",
       "    <tr>\n",
       "      <th>15</th>\n",
       "      <td>15621</td>\n",
       "      <td>Qiao Lina</td>\n",
       "      <td>威海校区</td>\n",
       "      <td>NaN</td>\n",
       "      <td>NaN</td>\n",
       "      <td>NaN</td>\n",
       "      <td>NaN</td>\n",
       "      <td>NaN</td>\n",
       "      <td>NaN</td>\n",
       "      <td>乔丽娜</td>\n",
       "      <td>0.0</td>\n",
       "      <td>right_only</td>\n",
       "    </tr>\n",
       "    <tr>\n",
       "      <th>16</th>\n",
       "      <td>15622</td>\n",
       "      <td>Qiao Le</td>\n",
       "      <td>威海校区</td>\n",
       "      <td>NaN</td>\n",
       "      <td>NaN</td>\n",
       "      <td>NaN</td>\n",
       "      <td>NaN</td>\n",
       "      <td>NaN</td>\n",
       "      <td>NaN</td>\n",
       "      <td>乔乐</td>\n",
       "      <td>2017.0</td>\n",
       "      <td>right_only</td>\n",
       "    </tr>\n",
       "    <tr>\n",
       "      <th>17</th>\n",
       "      <td>15623</td>\n",
       "      <td>Qiao Junpeng</td>\n",
       "      <td>物理工程学院</td>\n",
       "      <td>NaN</td>\n",
       "      <td>NaN</td>\n",
       "      <td>NaN</td>\n",
       "      <td>NaN</td>\n",
       "      <td>NaN</td>\n",
       "      <td>NaN</td>\n",
       "      <td>乔俊朋</td>\n",
       "      <td>0.0</td>\n",
       "      <td>right_only</td>\n",
       "    </tr>\n",
       "    <tr>\n",
       "      <th>18</th>\n",
       "      <td>15624</td>\n",
       "      <td>Qiao Yuanbo</td>\n",
       "      <td>山东大学县域发展研究院</td>\n",
       "      <td>NaN</td>\n",
       "      <td>NaN</td>\n",
       "      <td>NaN</td>\n",
       "      <td>NaN</td>\n",
       "      <td>NaN</td>\n",
       "      <td>NaN</td>\n",
       "      <td>乔元波</td>\n",
       "      <td>0.0</td>\n",
       "      <td>right_only</td>\n",
       "    </tr>\n",
       "    <tr>\n",
       "      <th>19</th>\n",
       "      <td>15625</td>\n",
       "      <td>Qiao Sha</td>\n",
       "      <td>数学学院</td>\n",
       "      <td>NaN</td>\n",
       "      <td>NaN</td>\n",
       "      <td>NaN</td>\n",
       "      <td>NaN</td>\n",
       "      <td>NaN</td>\n",
       "      <td>NaN</td>\n",
       "      <td>乔沙</td>\n",
       "      <td>0.0</td>\n",
       "      <td>right_only</td>\n",
       "    </tr>\n",
       "  </tbody>\n",
       "</table>\n",
       "</div>"
      ],
      "text/plain": [
       "    index                                    author_name         申请部门  year  \\\n",
       "0   15606                  Bagrat Mailyan Bagrat Mailyan         威海校区   NaN   \n",
       "1   15607                                  LIU YI LIU YI     国际创新转化学院   NaN   \n",
       "2   15608          Munish Kumar Gupta Munish Kumar Gupta       机械工程学院   NaN   \n",
       "3   15609      Najib Ahmad Muhammad Najib Ahmad Muhammad         材料学院   NaN   \n",
       "4   15610                      Shani Tiwari Shani Tiwari        环境研究院   NaN   \n",
       "5   15611  Tsona Tchinda Narcisse Tsona Tchinda Narcisse        环境研究院   NaN   \n",
       "6   15612                          WU SHU YAO WU SHU YAO  人文社会科学青岛研究院   NaN   \n",
       "7   15613                                        Ding Yi         威海校区   NaN   \n",
       "8   15614                                        Ding Yi         威海校区   NaN   \n",
       "9   15615                                   Ding Baoyang  卫生管理与政策研究中心   NaN   \n",
       "10  15616                                   Ding Wenlong    控制科学与工程学院   NaN   \n",
       "11  15617                                      Ding Shuo         生命学院   NaN   \n",
       "12  15618                                Shang Guanchong  数学与交叉科学研究中心   NaN   \n",
       "13  15619                                    Cong Weiyan         威海校区   NaN   \n",
       "14  15620                                   Yan Xiaodong    中泰证券金融研究院   NaN   \n",
       "15  15621                                      Qiao Lina         威海校区   NaN   \n",
       "16  15622                                        Qiao Le         威海校区   NaN   \n",
       "17  15623                                   Qiao Junpeng       物理工程学院   NaN   \n",
       "18  15624                                    Qiao Yuanbo  山东大学县域发展研究院   NaN   \n",
       "19  15625                                       Qiao Sha         数学学院   NaN   \n",
       "\n",
       "    author_eid  citations  coauthors author_names  unique_coauthors  \\\n",
       "0          NaN        NaN        NaN          NaN               NaN   \n",
       "1          NaN        NaN        NaN          NaN               NaN   \n",
       "2          NaN        NaN        NaN          NaN               NaN   \n",
       "3          NaN        NaN        NaN          NaN               NaN   \n",
       "4          NaN        NaN        NaN          NaN               NaN   \n",
       "5          NaN        NaN        NaN          NaN               NaN   \n",
       "6          NaN        NaN        NaN          NaN               NaN   \n",
       "7          NaN        NaN        NaN          NaN               NaN   \n",
       "8          NaN        NaN        NaN          NaN               NaN   \n",
       "9          NaN        NaN        NaN          NaN               NaN   \n",
       "10         NaN        NaN        NaN          NaN               NaN   \n",
       "11         NaN        NaN        NaN          NaN               NaN   \n",
       "12         NaN        NaN        NaN          NaN               NaN   \n",
       "13         NaN        NaN        NaN          NaN               NaN   \n",
       "14         NaN        NaN        NaN          NaN               NaN   \n",
       "15         NaN        NaN        NaN          NaN               NaN   \n",
       "16         NaN        NaN        NaN          NaN               NaN   \n",
       "17         NaN        NaN        NaN          NaN               NaN   \n",
       "18         NaN        NaN        NaN          NaN               NaN   \n",
       "19         NaN        NaN        NaN          NaN               NaN   \n",
       "\n",
       "                       申请人    立项年份      _merge  \n",
       "0           Bagrat Mailyan  2014.0  right_only  \n",
       "1                   LIU YI     0.0  right_only  \n",
       "2       Munish Kumar Gupta     0.0  right_only  \n",
       "3     Najib Ahmad Muhammad     0.0  right_only  \n",
       "4             Shani Tiwari     0.0  right_only  \n",
       "5   Tsona Tchinda Narcisse  2017.0  right_only  \n",
       "6               WU SHU YAO     0.0  right_only  \n",
       "7                       丁一     0.0  right_only  \n",
       "8                       丁一     0.0  right_only  \n",
       "9                      丁保扬     0.0  right_only  \n",
       "10                     丁文龙  2022.0  right_only  \n",
       "11                      丁硕     0.0  right_only  \n",
       "12                     上官冲  2021.0  right_only  \n",
       "13                     丛伟艳     0.0  right_only  \n",
       "14                     严晓东  2019.0  right_only  \n",
       "15                     乔丽娜     0.0  right_only  \n",
       "16                      乔乐  2017.0  right_only  \n",
       "17                     乔俊朋     0.0  right_only  \n",
       "18                     乔元波     0.0  right_only  \n",
       "19                      乔沙     0.0  right_only  "
      ]
     },
     "execution_count": 30,
     "metadata": {},
     "output_type": "execute_result"
    }
   ],
   "source": [
    "qn_nsfc_pubs[qn_nsfc_pubs['_merge']=='right_only'].reset_index().head(20)"
   ]
  },
  {
   "cell_type": "code",
   "execution_count": 40,
   "metadata": {},
   "outputs": [],
   "source": [
    "\n",
    "\n",
    "qn_nsfc_pubs['grant_t'] = qn_nsfc_pubs['year'].astype('int64')-qn_nsfc_pubs['立项年份']\n",
    "qn_nsfc_pubs.loc[qn_nsfc_pubs['立项年份']==0,'grant_t'] = 0\n",
    "qn_nsfc_pubs['after_grant'] = qn_nsfc_pubs['grant_t'] >0\n",
    "qn_nsfc_pubs['after_grant'] = qn_nsfc_pubs['after_grant'].astype('int64')\n",
    "\n",
    "limit = qn_nsfc_pubs['author_eid'].quantile(0.99)\n",
    "limit\n",
    "qn_nsfc_pubs = qn_nsfc_pubs[qn_nsfc_pubs['author_eid']<=limit]"
   ]
  },
  {
   "cell_type": "code",
   "execution_count": 41,
   "metadata": {},
   "outputs": [
    {
     "name": "stderr",
     "output_type": "stream",
     "text": [
      "/var/folders/kp/gk4kvr5s0plbp5y3112cx_x00000gn/T/ipykernel_75890/3616614756.py:4: UserWarning: No data for colormapping provided via 'c'. Parameters 'cmap' will be ignored\n",
      "  scatter = ax.scatter(pub_grant_scatter.grant_t, pub_grant_scatter.author_eid,cmap='tab20b')\n"
     ]
    },
    {
     "data": {
      "image/png": "[encoded data removed]",
      "text/plain": [
       "<Figure size 1600x1200 with 1 Axes>"
      ]
     },
     "metadata": {},
     "output_type": "display_data"
    }
   ],
   "source": [
    "pub_grant_scatter = qn_nsfc_pubs.groupby(['grant_t']).author_eid.mean().reset_index()\n",
    "\n",
    "fig, ax = plt.subplots(figsize=(8,6))\n",
    "scatter = ax.scatter(pub_grant_scatter.grant_t, pub_grant_scatter.author_eid,cmap='tab20b')\n",
    "plt.xticks([-10,-5,0,5,10])\n",
    "plt.show()"
   ]
  },
  {
   "cell_type": "markdown",
   "metadata": {},
   "source": [
    "### Output data for regressions"
   ]
  },
  {
   "cell_type": "code",
   "execution_count": 57,
   "metadata": {
    "scrolled": true
   },
   "outputs": [
    {
     "name": "stderr",
     "output_type": "stream",
     "text": [
      "/Library/Frameworks/Python.framework/Versions/3.11/lib/python3.11/site-packages/seaborn/_oldcore.py:1498: FutureWarning: is_categorical_dtype is deprecated and will be removed in a future version. Use isinstance(dtype, CategoricalDtype) instead\n",
      "  if pd.api.types.is_categorical_dtype(vector):\n",
      "/Library/Frameworks/Python.framework/Versions/3.11/lib/python3.11/site-packages/seaborn/_oldcore.py:1498: FutureWarning: is_categorical_dtype is deprecated and will be removed in a future version. Use isinstance(dtype, CategoricalDtype) instead\n",
      "  if pd.api.types.is_categorical_dtype(vector):\n"
     ]
    },
    {
     "data": {
      "image/png": "[encoded data removed]",
      "text/plain": [
       "<Figure size 1000x1000 with 1 Axes>"
      ]
     },
     "metadata": {},
     "output_type": "display_data"
    }
   ],
   "source": [
    "pub_grant_scatter['after_grant'] = pub_grant_scatter['grant_t'] >0 \n",
    "#sns.regplot(x=pub_grant_scatter.grant_t, y=pub_grant_scatter.author_eid)\n",
    "g = sns.lmplot(data = pub_grant_scatter, x='grant_t', y='author_eid',hue='after_grant',legend=False)\n",
    "plt.legend(title='NSFC grant', loc='upper left', labels=['before', 'after'])\n",
    "plt.xlabel('Year')\n",
    "plt.ylabel('No. of publications')\n",
    "\n",
    "plt.show(g)\n",
    "g.savefig('/Users/yansong/Nutstore Files/基金研究/graph_updated/pub_bf_af.png')"
   ]
  },
  {
   "cell_type": "code",
   "execution_count": 43,
   "metadata": {},
   "outputs": [],
   "source": [
    "qn_nsfc_pubs.to_csv(\"/Users/yansong/Nutstore Files/基金研究/data/2013--2022面青/qn_reg_type1_coded.csv\")"
   ]
  },
  {
   "cell_type": "code",
   "execution_count": 58,
   "metadata": {},
   "outputs": [
    {
     "data": {
      "text/html": [
       "<div>\n",
       "<style scoped>\n",
       "    .dataframe tbody tr th:only-of-type {\n",
       "        vertical-align: middle;\n",
       "    }\n",
       "\n",
       "    .dataframe tbody tr th {\n",
       "        vertical-align: top;\n",
       "    }\n",
       "\n",
       "    .dataframe thead th {\n",
       "        text-align: right;\n",
       "    }\n",
       "</style>\n",
       "<table border=\"1\" class=\"dataframe\">\n",
       "  <thead>\n",
       "    <tr style=\"text-align: right;\">\n",
       "      <th></th>\n",
       "      <th>author_name</th>\n",
       "      <th>申请部门</th>\n",
       "      <th>year</th>\n",
       "      <th>author_eid</th>\n",
       "      <th>citations</th>\n",
       "      <th>coauthors</th>\n",
       "      <th>author_names</th>\n",
       "      <th>unique_coauthors</th>\n",
       "      <th>申请人</th>\n",
       "      <th>立项年份</th>\n",
       "      <th>_merge</th>\n",
       "      <th>grant_t</th>\n",
       "      <th>after_grant</th>\n",
       "    </tr>\n",
       "  </thead>\n",
       "  <tbody>\n",
       "    <tr>\n",
       "      <th>0</th>\n",
       "      <td>Bai Caiquan</td>\n",
       "      <td>经济研究院</td>\n",
       "      <td>2015</td>\n",
       "      <td>3</td>\n",
       "      <td>3.0</td>\n",
       "      <td>4.000000</td>\n",
       "      <td>Bai, Caiquan;He, Yiqing;Zhou, Decai;Zhang, Yi;...</td>\n",
       "      <td>12</td>\n",
       "      <td>白彩全</td>\n",
       "      <td>2022</td>\n",
       "      <td>both</td>\n",
       "      <td>-7</td>\n",
       "      <td>0</td>\n",
       "    </tr>\n",
       "    <tr>\n",
       "      <th>1</th>\n",
       "      <td>Bai Caiquan</td>\n",
       "      <td>经济研究院</td>\n",
       "      <td>2017</td>\n",
       "      <td>3</td>\n",
       "      <td>6.0</td>\n",
       "      <td>2.000000</td>\n",
       "      <td>Li, Zheng Tong;Bai, Cai Quan;Xiao, Wei Wei/Li,...</td>\n",
       "      <td>6</td>\n",
       "      <td>白彩全</td>\n",
       "      <td>2022</td>\n",
       "      <td>both</td>\n",
       "      <td>-5</td>\n",
       "      <td>0</td>\n",
       "    </tr>\n",
       "    <tr>\n",
       "      <th>2</th>\n",
       "      <td>Bai Caiquan</td>\n",
       "      <td>经济研究院</td>\n",
       "      <td>2019</td>\n",
       "      <td>12</td>\n",
       "      <td>333.0</td>\n",
       "      <td>2.750000</td>\n",
       "      <td>Bai, Caiquan;Gong, Yuan;Feng, Chen/Bai, Caiqua...</td>\n",
       "      <td>33</td>\n",
       "      <td>白彩全</td>\n",
       "      <td>2022</td>\n",
       "      <td>both</td>\n",
       "      <td>-3</td>\n",
       "      <td>0</td>\n",
       "    </tr>\n",
       "    <tr>\n",
       "      <th>3</th>\n",
       "      <td>Bai Caiquan</td>\n",
       "      <td>经济研究院</td>\n",
       "      <td>2020</td>\n",
       "      <td>15</td>\n",
       "      <td>993.0</td>\n",
       "      <td>3.800000</td>\n",
       "      <td>Kang, Yankun;Liang, Shuyuan;Bai, Caiquan;Feng,...</td>\n",
       "      <td>57</td>\n",
       "      <td>白彩全</td>\n",
       "      <td>2022</td>\n",
       "      <td>both</td>\n",
       "      <td>-2</td>\n",
       "      <td>0</td>\n",
       "    </tr>\n",
       "    <tr>\n",
       "      <th>4</th>\n",
       "      <td>Bai Caiquan</td>\n",
       "      <td>经济研究院</td>\n",
       "      <td>2021</td>\n",
       "      <td>18</td>\n",
       "      <td>129.0</td>\n",
       "      <td>3.333333</td>\n",
       "      <td>Feng, Chen;Shi, Beibei;Yan, Hong;Yang, Siying;...</td>\n",
       "      <td>60</td>\n",
       "      <td>白彩全</td>\n",
       "      <td>2022</td>\n",
       "      <td>both</td>\n",
       "      <td>-1</td>\n",
       "      <td>0</td>\n",
       "    </tr>\n",
       "  </tbody>\n",
       "</table>\n",
       "</div>"
      ],
      "text/plain": [
       "   author_name   申请部门  year  author_eid  citations  coauthors  \\\n",
       "0  Bai Caiquan  经济研究院  2015           3        3.0   4.000000   \n",
       "1  Bai Caiquan  经济研究院  2017           3        6.0   2.000000   \n",
       "2  Bai Caiquan  经济研究院  2019          12      333.0   2.750000   \n",
       "3  Bai Caiquan  经济研究院  2020          15      993.0   3.800000   \n",
       "4  Bai Caiquan  经济研究院  2021          18      129.0   3.333333   \n",
       "\n",
       "                                        author_names  unique_coauthors  申请人  \\\n",
       "0  Bai, Caiquan;He, Yiqing;Zhou, Decai;Zhang, Yi;...                12  白彩全   \n",
       "1  Li, Zheng Tong;Bai, Cai Quan;Xiao, Wei Wei/Li,...                 6  白彩全   \n",
       "2  Bai, Caiquan;Gong, Yuan;Feng, Chen/Bai, Caiqua...                33  白彩全   \n",
       "3  Kang, Yankun;Liang, Shuyuan;Bai, Caiquan;Feng,...                57  白彩全   \n",
       "4  Feng, Chen;Shi, Beibei;Yan, Hong;Yang, Siying;...                60  白彩全   \n",
       "\n",
       "   立项年份 _merge  grant_t  after_grant  \n",
       "0  2022   both       -7            0  \n",
       "1  2022   both       -5            0  \n",
       "2  2022   both       -3            0  \n",
       "3  2022   both       -2            0  \n",
       "4  2022   both       -1            0  "
      ]
     },
     "execution_count": 58,
     "metadata": {},
     "output_type": "execute_result"
    }
   ],
   "source": [
    "qn_nsfc_pubs.head()"
   ]
  },
  {
   "cell_type": "markdown",
   "metadata": {},
   "source": [
    "## 期刊分区数据\n",
    "- 先把论文发表的期刊名字匹配起来\n",
    "- 再和JCR期刊分区匹配起来\n",
    "- 再进行transform\n",
    "- 和自科数据合并\n",
    "- 输出文件，在stata内进行回归"
   ]
  },
  {
   "cell_type": "code",
   "execution_count": 44,
   "metadata": {},
   "outputs": [],
   "source": [
    "root_dir = \"/Users/yansong/Nutstore Files/基金研究/data/2013--2022面青/scopusPub_New/dta\"\n",
    "os.chdir(root_dir)\n",
    "authors = os.listdir(root_dir)\n",
    "unique_lists = []\n",
    "\n",
    "for author_file in authors:\n",
    "    if '.dta' in author_file:\n",
    "        author_pubs = pd.read_stata(author_file)\n",
    "        unique_lists.append(author_pubs)\n",
    "\n",
    "pub_names = pd.concat(unique_lists)\n",
    "pub_names = pub_names[['eid','author_eid','publicationname']]"
   ]
  },
  {
   "cell_type": "code",
   "execution_count": 45,
   "metadata": {},
   "outputs": [],
   "source": [
    "def extract_journal(journal_name):\n",
    "\n",
    "    # get the index of the separator \n",
    "    # if index = -1, return entire string\n",
    "    # if index != -1, return from index to end of string \n",
    "    sep_index = journal_name.rfind('/')+1\n",
    "    if sep_index == 0:\n",
    "        journal_eng = journal_name \n",
    "    else:\n",
    "        journal_eng = journal_name[sep_index:]\n",
    "    return journal_eng\n",
    "pub_names['journal_name'] = pub_names['publicationname'].apply(extract_journal)"
   ]
  },
  {
   "cell_type": "code",
   "execution_count": 46,
   "metadata": {},
   "outputs": [],
   "source": [
    "qn_df = qn_author_pubs.merge(pub_names,how='left',on=['eid','author_eid'],indicator=True)\n",
    "qn_df.drop(columns='_merge',inplace=True)"
   ]
  },
  {
   "cell_type": "code",
   "execution_count": 47,
   "metadata": {},
   "outputs": [],
   "source": [
    "root_dir = \"/Users/yansong/Nutstore Files/基金研究/data/2013--2022面青\"\n",
    "os.chdir(root_dir)\n",
    "JCR2022 = pd.read_stata(\"JCR2022.dta\")\n",
    "JCR2022 = JCR2022[['journal_group','j_group1','j_group2','j_group3','j_group4','journal_name']]"
   ]
  },
  {
   "cell_type": "code",
   "execution_count": 48,
   "metadata": {},
   "outputs": [],
   "source": [
    "qn_df = qn_df.merge(JCR2022,how='left',on=['journal_name'],indicator=True)"
   ]
  },
  {
   "cell_type": "code",
   "execution_count": 49,
   "metadata": {},
   "outputs": [
    {
     "data": {
      "text/plain": [
       "_merge\n",
       "left_only     89437\n",
       "both          32676\n",
       "right_only        0\n",
       "Name: count, dtype: int64"
      ]
     },
     "execution_count": 49,
     "metadata": {},
     "output_type": "execute_result"
    }
   ],
   "source": [
    "qn_df._merge.value_counts()"
   ]
  },
  {
   "cell_type": "code",
   "execution_count": 50,
   "metadata": {},
   "outputs": [],
   "source": [
    "qn_df['counter'] = 1"
   ]
  },
  {
   "cell_type": "code",
   "execution_count": 51,
   "metadata": {},
   "outputs": [],
   "source": [
    "qn_df_grouped = qn_df.groupby(['author_name','school_1','year'])[['j_group1','j_group2','j_group3','j_group4','counter']].sum().reset_index()\n"
   ]
  },
  {
   "cell_type": "code",
   "execution_count": 52,
   "metadata": {},
   "outputs": [
    {
     "data": {
      "text/html": [
       "<div>\n",
       "<style scoped>\n",
       "    .dataframe tbody tr th:only-of-type {\n",
       "        vertical-align: middle;\n",
       "    }\n",
       "\n",
       "    .dataframe tbody tr th {\n",
       "        vertical-align: top;\n",
       "    }\n",
       "\n",
       "    .dataframe thead th {\n",
       "        text-align: right;\n",
       "    }\n",
       "</style>\n",
       "<table border=\"1\" class=\"dataframe\">\n",
       "  <thead>\n",
       "    <tr style=\"text-align: right;\">\n",
       "      <th></th>\n",
       "      <th>author_name</th>\n",
       "      <th>school_1</th>\n",
       "      <th>year</th>\n",
       "      <th>j_group1</th>\n",
       "      <th>j_group2</th>\n",
       "      <th>j_group3</th>\n",
       "      <th>j_group4</th>\n",
       "      <th>counter</th>\n",
       "    </tr>\n",
       "  </thead>\n",
       "  <tbody>\n",
       "    <tr>\n",
       "      <th>0</th>\n",
       "      <td>Bai Caiquan</td>\n",
       "      <td>经济研究院</td>\n",
       "      <td>2015</td>\n",
       "      <td>0.0</td>\n",
       "      <td>0.0</td>\n",
       "      <td>0.0</td>\n",
       "      <td>0.0</td>\n",
       "      <td>3</td>\n",
       "    </tr>\n",
       "  </tbody>\n",
       "</table>\n",
       "</div>"
      ],
      "text/plain": [
       "   author_name school_1  year  j_group1  j_group2  j_group3  j_group4  counter\n",
       "0  Bai Caiquan    经济研究院  2015       0.0       0.0       0.0       0.0        3"
      ]
     },
     "execution_count": 52,
     "metadata": {},
     "output_type": "execute_result"
    }
   ],
   "source": [
    "qn_df_grouped.head(1)"
   ]
  },
  {
   "cell_type": "code",
   "execution_count": 53,
   "metadata": {},
   "outputs": [],
   "source": [
    "qn_df_grouped['year'] = pd.to_numeric(qn_df_grouped['year'], errors='coerce')\n",
    "qn_df_grouped.drop(qn_df_grouped.loc[qn_df_grouped['year']<2003].index, inplace=True)\n",
    "qn_df_grouped.drop(qn_df_grouped.loc[qn_df_grouped['year']>2022].index, inplace=True)\n",
    "qn_df_grouped.rename(columns={'school_1':'申请部门'},inplace=True)"
   ]
  },
  {
   "cell_type": "code",
   "execution_count": 54,
   "metadata": {},
   "outputs": [],
   "source": [
    "qn_nsfc_df = qn_df_grouped.merge(qn_nsfc,how='inner',on=['author_name','申请部门'],indicator=True)"
   ]
  },
  {
   "cell_type": "code",
   "execution_count": 55,
   "metadata": {},
   "outputs": [],
   "source": [
    "qn_nsfc_df.to_csv(\"/Users/yansong/Nutstore Files/基金研究/data/2013--2022面青/qn_reg_type3.csv\")"
   ]
  }
 ],
 "metadata": {
  "kernelspec": {
   "display_name": "Python 3 (ipykernel)",
   "language": "python",
   "name": "python3"
  },
  "language_info": {
   "codemirror_mode": {
    "name": "ipython",
    "version": 3
   },
   "file_extension": ".py",
   "mimetype": "text/x-python",
   "name": "python",
   "nbconvert_exporter": "python",
   "pygments_lexer": "ipython3",
   "version": "3.11.5"
  }
 },
 "nbformat": 4,
 "nbformat_minor": 4
}
